{
  "cells": [
    {
      "cell_type": "markdown",
      "metadata": {
        "id": "view-in-github",
        "colab_type": "text"
      },
      "source": [
        "<a href=\"https://colab.research.google.com/github/furewing/dataAnalysis/blob/main/2_%EB%8D%B0%EC%9D%B4%ED%84%B0%EB%B6%84%EC%84%9D_06_%EC%A7%80%EB%8F%84%EC%97%90%EC%8B%9C%EA%B0%81%ED%99%94_%EC%99%84%EC%84%B1.ipynb\" target=\"_parent\"><img src=\"https://colab.research.google.com/assets/colab-badge.svg\" alt=\"Open In Colab\"/></a>"
      ]
    },
    {
      "cell_type": "markdown",
      "id": "bb56a1da",
      "metadata": {
        "id": "bb56a1da"
      },
      "source": [
        "# 데이터 분석\n",
        "\n",
        "## 6. 지도를 이용한 데이터 시각화\n",
        "**(단, 지도에서 웹브라우저를 실행할 경우 VSC에서 실행)**"
      ]
    },
    {
      "cell_type": "markdown",
      "id": "a4870ebb",
      "metadata": {
        "id": "a4870ebb"
      },
      "source": [
        "----------------------------------"
      ]
    },
    {
      "cell_type": "markdown",
      "id": "b973a861",
      "metadata": {
        "id": "b973a861"
      },
      "source": [
        "## 01.지도에 표시하기"
      ]
    },
    {
      "cell_type": "markdown",
      "id": "9d18b03a-1c23-4904-9e96-c7c07782fa91",
      "metadata": {
        "jp-MarkdownHeadingCollapsed": true,
        "id": "9d18b03a-1c23-4904-9e96-c7c07782fa91"
      },
      "source": [
        "### #folium 라이브러리 소개\n",
        "* 파이썬에서 인터랙티브한 Leaflet 지도를 생성하는 데 사용되는 라이브러리\n",
        "* Leaflet은 인터랙티브한 웹 지도를 만들기 위한 오픈 소스 자바스크립트 라이브러리임\n",
        "* Leaflet을 사용하면 사용자가 지도를 확대, 축소하고 이동할 수 있는 등 다양한 상호 작용 기능을 제공할 수 있음\n",
        "* Folium을 사용하면 Leaflet JavaScript 라이브러리의 기능을 파이썬 환경에서 활용할 수 있으며, 데이터 시각화 및 지리 정보 시스템(GIS) 작업에 적합\n",
        "* **Folium의 주요 특징**\n",
        "    - 인터랙티브 지도 생성: 사용자가 지도를 확대/축소, 마커, 팝업 가능\n",
        "    - 다양한 타일 제공: OpenStreetMap, Mapbox, Stamen 등\n",
        "    - 지리 공간 데이터 시각화: GeoJSON 형식의 데이터를 지도 위에 표시하고 스타일링할 수 있음\n",
        "    - 마커 클러스터링: 지도에 많은 수의 마커를 효율적으로 관리할 수 있음"
      ]
    },
    {
      "cell_type": "markdown",
      "id": "16c85b41",
      "metadata": {
        "id": "16c85b41"
      },
      "source": [
        "### #라이브러리 설치하기\n",
        "- https://python-visualization.github.io/folium/latest/\n",
        "-"
      ]
    },
    {
      "cell_type": "code",
      "execution_count": null,
      "id": "b9f6b8e2",
      "metadata": {
        "id": "b9f6b8e2"
      },
      "outputs": [],
      "source": [
        "!pip install folium --upgrade"
      ]
    },
    {
      "cell_type": "markdown",
      "id": "50b4479b",
      "metadata": {
        "id": "50b4479b"
      },
      "source": [
        "### #라이브러리 설치 확인하기\n",
        "아래 코드를 실행한 후 오류 메시지가 없으면 성공적으로 설치된 것입니다."
      ]
    },
    {
      "cell_type": "code",
      "execution_count": null,
      "id": "527ebba5",
      "metadata": {
        "id": "527ebba5"
      },
      "outputs": [],
      "source": [
        "import folium\n",
        "\n",
        "folium.__version__"
      ]
    },
    {
      "cell_type": "markdown",
      "id": "f7881e05",
      "metadata": {
        "id": "f7881e05"
      },
      "source": [
        "### [실습] :  지도에 숭례문 위치 표시하기 : folium.Map()\n",
        "구글지도에서 찾은 숭례문의 위도 & 경도 값을 가지고 folium 지도에 마커로 표시를 해보세요."
      ]
    },
    {
      "cell_type": "markdown",
      "id": "0e6d81e9",
      "metadata": {
        "id": "0e6d81e9"
      },
      "source": [
        "- **구글맵**에서 **숭례문**의 위도/경도 좌표값 기록해 두기\n",
        "- https://www.google.com/maps ~~\n",
        "- !3d37.559984!4d126.9753071 --> **위도:37.559984** & **경도:126.9753071**"
      ]
    },
    {
      "cell_type": "code",
      "execution_count": null,
      "id": "1d957361",
      "metadata": {
        "scrolled": true,
        "id": "1d957361"
      },
      "outputs": [],
      "source": [
        "import folium\n",
        "\n",
        "# 지도 중심좌표 지정하기\n",
        "center = [37.559984, 126.9753071]  # 숭례문 위도&경도\n",
        "\n",
        "# 지도 객체 만들기\n",
        "folium.Map(location=center , zoom_start=16)"
      ]
    },
    {
      "cell_type": "markdown",
      "id": "dd961688",
      "metadata": {
        "id": "dd961688"
      },
      "source": [
        "### #지도 종류 변경하기\n",
        "Map의 tiles 옵션값을 수정하여 folium 지도의 종류 변경 가능. (주의!: 과거 무료로 사용했던 지도 종류가 제한되어 지금은 사용할 수 없는 것이 많아짐.)\n",
        "* **지도 종류 변경 방법** :  folium.Map(tiles='CartoDB Positron') **tiles 옵션을 사용한다.**\n",
        "* **지도 종류** :\n",
        "     - \"OpenStreetMap\"(기본테마)\n",
        "     - \"CartoDB Positron\"\n",
        "     - \"OpenRailwayMap\" 등\n",
        "     - https://xyzservices.readthedocs.io/en/latest/gallery.html# 에서 참고"
      ]
    },
    {
      "cell_type": "code",
      "execution_count": null,
      "id": "1d9c7ee5-baac-4493-8847-c773476bcbbe",
      "metadata": {
        "id": "1d9c7ee5-baac-4493-8847-c773476bcbbe"
      },
      "outputs": [],
      "source": [
        "# 지도 종류 확인\n",
        "help(folium.Map)"
      ]
    },
    {
      "cell_type": "code",
      "execution_count": null,
      "id": "36a6cd6e-1199-4fe2-910f-3080c292419f",
      "metadata": {
        "scrolled": true,
        "id": "36a6cd6e-1199-4fe2-910f-3080c292419f"
      },
      "outputs": [],
      "source": [
        "import folium\n",
        "\n",
        "center = [37.559984, 126.9753071]  # 숭례문 위도&경도\n",
        "\n",
        "# 지도 객체\n",
        "folium.Map(location=center,\n",
        "               zoom_start=16,\n",
        "              tiles=\"OpenRailwayMap\")"
      ]
    },
    {
      "cell_type": "markdown",
      "id": "c39a60b8-ae74-4957-a7c2-7cb916eb08c3",
      "metadata": {
        "id": "c39a60b8-ae74-4957-a7c2-7cb916eb08c3"
      },
      "source": [
        "### [실습] : 마커로 위치 표시히기 : folium.Marker()\n",
        "* 마커 아이콘 종류: home, info-sign, star, flag, bookmark 등\n",
        "* 다른 마커 종류\n",
        "    - https://fontawesome.com/icons 사이트에 있는 아이콘 적용, **prefix='fa' 옵션 함께 사용**\n",
        "    - https://getbootstrap.com/docs/3.3/components/\n",
        "* 마커 색상 :\n",
        "    - ['red', 'blue', 'green', 'purple', 'orange', 'darkred', 'lightred', 'beige', 'darkblue', 'darkgreen', 'cadetblue', 'darkpurple', 'white', 'pink', 'lightblue', 'lightgreen', 'gray', 'black', 'lightgray']"
      ]
    },
    {
      "cell_type": "code",
      "execution_count": null,
      "id": "c8e24512",
      "metadata": {
        "id": "c8e24512"
      },
      "outputs": [],
      "source": [
        "# folium.Icon 정보 확인하기\n",
        "help(folium.Icon)"
      ]
    },
    {
      "cell_type": "code",
      "execution_count": null,
      "id": "a4f58a20-c422-4a61-bc2e-7bfd48bed982",
      "metadata": {
        "scrolled": true,
        "id": "a4f58a20-c422-4a61-bc2e-7bfd48bed982"
      },
      "outputs": [],
      "source": [
        "import folium\n",
        "\n",
        "center = [37.559984, 126.9753071]  # 숭례문 위도&경도\n",
        "\n",
        "# 지도 객체\n",
        "m = folium.Map(location=center,\n",
        "               zoom_start=16)\n",
        "\n",
        "# 지도에 마커 추가하기\n",
        "folium.Marker(location = center,\n",
        "              popup = '숭례문',\n",
        "              tooltip = '우리나라 국보 1호',\n",
        "              icon=folium.Icon(color='red', icon='info-sign')\n",
        "             ).add_to(m)\n",
        "\n",
        "# 다른 곳에서 참고한 icon은 prefix='fa' 옵션을 함께 사용해야 한다.\n",
        "folium.Marker(location = center,\n",
        "              popup = '숭례문',\n",
        "              tooltip = '우리나라 국보 1호',\n",
        "              icon=folium.Icon(color='red', icon='heart', prefix='fa')\n",
        "             ).add_to(m)\n",
        "\n",
        "m"
      ]
    },
    {
      "cell_type": "markdown",
      "id": "641c4e00",
      "metadata": {
        "id": "641c4e00"
      },
      "source": [
        "### [실습] :  웹 브라우저에 지도 표시하기\n",
        "folium 지도를 browser 라이브러리를 사용하여 PC 기본 웹 브라우저로 실행시켜보세요."
      ]
    },
    {
      "cell_type": "code",
      "execution_count": null,
      "id": "f9b267a4-6b1b-4a90-ace0-f3f5a01549c4",
      "metadata": {
        "id": "f9b267a4-6b1b-4a90-ace0-f3f5a01549c4"
      },
      "outputs": [],
      "source": [
        "import webbrowser\n",
        "\n",
        "url = 'https://www.naver.com'\n",
        "\n",
        "webbrowser.get().open(url)  # 기본 브라우저에서 열기"
      ]
    },
    {
      "cell_type": "markdown",
      "id": "4e8d9db8",
      "metadata": {
        "id": "4e8d9db8"
      },
      "source": [
        "### [실습] : 특정 웹브라우저로 열기"
      ]
    },
    {
      "cell_type": "code",
      "execution_count": null,
      "id": "01b25c35",
      "metadata": {
        "id": "01b25c35"
      },
      "outputs": [],
      "source": [
        "# 특정 브라우저를 지정해서 열기\n",
        "import webbrowser\n",
        "\n",
        "url = 'https://www.naver.com'\n",
        "\n",
        "# 엣지 브라우저 실행 앱의 위치 (windows)\n",
        "# 크롬 브라우저 실행 앱의 위치 지정 (mac)\n",
        "# 크롬 브라우저 실행 앱의 위치 지정 (windows)\n",
        "# browser_path = \"C:\\Program Files (x86)\\Microsoft\\Edge\\Application\\msedge.exe\"  # 엣지 exe 위치\n",
        "# browser_path = \"open -a /Applications/Google\\ Chrome.app %s\"\n",
        "browser_path = \"C:/Program Files/Google/Chrome/Application/chrome.exe %s\"\n",
        "webbrowser.get(browser_path).open(url)"
      ]
    },
    {
      "cell_type": "markdown",
      "id": "aa4b1ff9-1970-4157-a3a6-3246eb979187",
      "metadata": {
        "id": "aa4b1ff9-1970-4157-a3a6-3246eb979187"
      },
      "source": [
        "### [실습] : folium 지도를 지도를 html파일로 저장하고 브라우저에서 열기"
      ]
    },
    {
      "cell_type": "code",
      "execution_count": null,
      "id": "84abd505",
      "metadata": {
        "id": "84abd505"
      },
      "outputs": [],
      "source": [
        "import folium\n",
        "import webbrowser\n",
        "import os\n",
        "\n",
        "# 지도 중심좌표 지정하기\n",
        "center = [37.559984, 126.9753071]  # 숭례문 위도&경도\n",
        "\n",
        "# 지도 객체 만들기\n",
        "m = folium.Map(location=center , zoom_start=16)\n",
        "\n",
        "# 지도에 마커로 표시하기\n",
        "folium.Marker(location = center,\n",
        "              popup = '<pre> 숭례문 </pre>',\n",
        "              tooltip = '우리나라 국보 1호',\n",
        "              icon=folium.Icon(color='red', icon='camera', prefix='fa')\n",
        "             ).add_to(m)\n",
        "\n",
        "\n",
        "# 지도를 웹 브라우저로 실행시키기\n",
        "#  - 지도를 html 파일로 저장히기\n",
        "#  - 브라우저에서는 html 파일의 전체 경로(fullpath)를 사용해야 오류가 없다\n",
        "file = '/data/map.html'\n",
        "file = os.getcwd().replace('\\\\',\"/\") + file  # 현재 위치 경로 가져오기\n",
        "m.save(file)                                 # 지도를 html파일로 저장하기\n",
        "\n",
        "webbrowser.get().open(file)"
      ]
    },
    {
      "cell_type": "markdown",
      "id": "074a8bcb-3611-4272-b6ec-f5caaa0d05b8",
      "metadata": {
        "id": "074a8bcb-3611-4272-b6ec-f5caaa0d05b8"
      },
      "source": [
        "### [실습] : 클릭한 위치에 마커 표시하기\n",
        "- ClickForMarker() : 클릭한 위치에 마커 표시하기\n",
        "- LatLngPopup() :  위도와 경도 표시하기"
      ]
    },
    {
      "cell_type": "code",
      "execution_count": null,
      "id": "4a97b43f-e1f0-4e5f-a9df-088b7665066c",
      "metadata": {
        "id": "4a97b43f-e1f0-4e5f-a9df-088b7665066c"
      },
      "outputs": [],
      "source": [
        "import folium\n",
        "import webbrowser\n",
        "import os\n",
        "\n",
        "# 지도 중심좌표 지정하기\n",
        "center = [37.559984, 126.9753071]  # 숭례문 위도&경도\n",
        "\n",
        "# 지도 객체 만들기\n",
        "m = folium.Map(location=center , zoom_start=16)\n",
        "\n",
        "# 지도에 마커로 표시하기\n",
        "folium.Marker(location = center,\n",
        "              popup = '<pre> 숭례문 </pre>',\n",
        "              tooltip = '우리나라 국보 1호',\n",
        "              icon=folium.Icon(color='red', icon='camera', prefix='fa')\n",
        "             ).add_to(m)\n",
        "\n",
        "\n",
        "## 클릭한 위치에 마커 추가\n",
        "m.add_child(folium.ClickForMarker(popup='클릭'))\n",
        "\n",
        "## 위도와 경도 표시하기\n",
        "# m.add_child(folium.LatLngPopup())\n",
        "\n",
        "\n",
        "# 지도를 웹 브라우저로 실행시키기\n",
        "file = '/data/map.html'\n",
        "file = os.getcwd().replace('\\\\',\"/\") + file  # 현재 위치 경로 가져오기\n",
        "m.save(file)\n",
        "webbrowser.get().open(file)"
      ]
    },
    {
      "cell_type": "markdown",
      "id": "423d69ed",
      "metadata": {
        "id": "423d69ed"
      },
      "source": [
        "### [실습] 팝업에 유튜브 영상 표시하기\n",
        "- 웹브라우저를 사용할 겨우 유튜브 링크(공유>퍼가기)를 넣을 수 있다."
      ]
    },
    {
      "cell_type": "code",
      "execution_count": null,
      "id": "36045bf2",
      "metadata": {
        "id": "36045bf2"
      },
      "outputs": [],
      "source": [
        "import folium\n",
        "import webbrowser\n",
        "\n",
        "# 지도 중심좌표 지정하기\n",
        "center = [37.559984, 126.9753071]  # 숭례문 위도&경도\n",
        "\n",
        "# 지도 객체 만들기\n",
        "m = folium.Map(location=center , zoom_start=16)\n",
        "\n",
        "# 마커에 유튜브 링크 넣기(html iframe 태그 사용)\n",
        "folium.Marker(location = center, max_width=200,\n",
        "              popup = '<iframe width=\"560\" height=\"315\" src=\"https://www.youtube.com/embed/gSWohjyQ3Bs\" title=\"YouTube video player\" frameborder=\"0\" allow=\"accelerometer; autoplay; clipboard-write; encrypted-media; gyroscope; picture-in-picture\" allowfullscreen></iframe>',\n",
        "              icon=folium.Icon(color='red', icon='video', prefix='fa')\n",
        ").add_to(m)\n",
        "\n",
        "# 지도를 웹 브라우저로 실행시키기\n",
        "#  - 지도를 html 파일로 저장히기\n",
        "#  - 브라우저에서는 html 파일의 전체 경로(fullpath)를 사용해야 오류가 없다\n",
        "file = '/data/map.html'\n",
        "file = os.getcwd().replace('\\\\',\"/\") + file # 현재 위치 경로 가져오기\n",
        "m.save(file)\n",
        "webbrowser.get().open(file)"
      ]
    },
    {
      "cell_type": "markdown",
      "id": "1bd18a72",
      "metadata": {
        "id": "1bd18a72"
      },
      "source": [
        "### [실습문제]\n",
        "다음 조건이 만족하도록 자신이 여행가고 싶은 장소(국내외)를 지도에 표시해 보세요.\n",
        "* 조건1: 각 **장소의 이름을 툴팁(tooltip)으로 표시**하기\n",
        "* 조건2: 각 장소의 **마커 아이콘 색상이 다르게 표시**하기\n",
        "* 조건3: 각 장소의 **마커 이미지가 다르게 표시**하기\n",
        "* 조건4: 각 장소의 **소개 유튜브 영상을 팝업으로 표시**하기\n",
        "* ex)\n",
        "    - 영국-내셔널 갤러리: 51.508929,-0.128299\n",
        "    - 뉴욕-브로드웨이: 40.8124199,-73.9627283\n",
        "    - 로마-트레비 분수: 41.9010333,12.4810789"
      ]
    },
    {
      "cell_type": "code",
      "execution_count": null,
      "id": "cf040a61",
      "metadata": {
        "id": "cf040a61"
      },
      "outputs": [],
      "source": [
        "buckets = {'영국-내셔널 갤러리':[ [51.508929,-0.128299], '<iframe width=\"560\" height=\"315\" src=\"https://www.youtube-nocookie.com/embed/ZUg3XbExz3k?si=5LhG5b5wGLgeErMN\" title=\"YouTube video player\" frameborder=\"0\" allow=\"accelerometer; autoplay; clipboard-write; encrypted-media; gyroscope; picture-in-picture; web-share\" referrerpolicy=\"strict-origin-when-cross-origin\" allowfullscreen></iframe>'],\n",
        "           '뉴욕-브로드웨이': [[40.8124199,-73.9627283], '<iframe width=\"560\" height=\"315\" src=\"https://www.youtube-nocookie.com/embed/0sG0AaPYuuI?si=ENUVVhCqkfVC5IzB\" title=\"YouTube video player\" frameborder=\"0\" allow=\"accelerometer; autoplay; clipboard-write; encrypted-media; gyroscope; picture-in-picture; web-share\" referrerpolicy=\"strict-origin-when-cross-origin\" allowfullscreen></iframe>'],\n",
        "           '로마-트레비 분수':[ [41.9010333,12.4810789], '<iframe width=\"560\" height=\"315\" src=\"https://www.youtube-nocookie.com/embed/rxQZLk__jS4?si=x2Zmlt9JoDDE4csa\" title=\"YouTube video player\" frameborder=\"0\" allow=\"accelerometer; autoplay; clipboard-write; encrypted-media; gyroscope; picture-in-picture; web-share\" referrerpolicy=\"strict-origin-when-cross-origin\" allowfullscreen></iframe>'],\n",
        "           '페루-마추피추' : [[-13.1631412, -72.5449629], '<iframe width=\"560\" height=\"315\" src=\"https://www.youtube-nocookie.com/embed/jkHmgJNx_hU?si=SCSxZXPu41vEQ8NO\" title=\"YouTube video player\" frameborder=\"0\" allow=\"accelerometer; autoplay; clipboard-write; encrypted-media; gyroscope; picture-in-picture; web-share\" referrerpolicy=\"strict-origin-when-cross-origin\" allowfullscreen></iframe>'],\n",
        "           '탄자니아-잔지바르섬': [[-6.2642807, 39.4450378], '<iframe width=\"560\" height=\"315\" src=\"https://www.youtube-nocookie.com/embed/32KGPj1EWk8?si=D-J2mrRw3rNbqd0h\" title=\"YouTube video player\" frameborder=\"0\" allow=\"accelerometer; autoplay; clipboard-write; encrypted-media; gyroscope; picture-in-picture; web-share\" referrerpolicy=\"strict-origin-when-cross-origin\" allowfullscreen></iframe>']\n",
        "          }\n",
        "icons  = ['star','cloud','info-sign','camera','glyphicon glyphicon-thumbs-up']\n",
        "colors = ['red', 'purple', 'blue', 'green','black']\n",
        "\n",
        "\n",
        "# 지도 객체 만들기\n",
        "m = folium.Map(location= [41.9010333, 12.4810789],\n",
        "               zoom_start=2,\n",
        "               tiles=\"cartodbpositron\")\n",
        "\n",
        "\n",
        "# 지도에 마커 표시하기 : for 반복문을 이용할 수 있다.\n",
        "idx = 0\n",
        "for key, value in buckets.items():\n",
        "    folium.Marker(location= value[0],\n",
        "        tooltip=key,\n",
        "        popup=value[1],\n",
        "        icon=folium.Icon(icon=icons[idx],\n",
        "        color=colors[idx], icon_color='white'),\n",
        "    ).add_to(m)\n",
        "    idx += 1\n",
        "\n",
        "\n",
        "file = '/data/map_mytravel.html'\n",
        "file = os.getcwd().replace('\\\\',\"/\") + file # 현재 위치 경로 가져오기\n",
        "m.save(file)\n",
        "webbrowser.get().open(file)"
      ]
    },
    {
      "cell_type": "markdown",
      "id": "0c27fce1-c111-4a2f-a435-e71243a3fc3d",
      "metadata": {
        "id": "0c27fce1-c111-4a2f-a435-e71243a3fc3d"
      },
      "source": [
        "### [실습] 지도에 원 반경 표시하기 : folium.Circle(), folium.CircleMarker()\n",
        "- folium.Circle()\n",
        "- folium.CircleMarker() : 지도 크기 변경에 영향을 받지 않고 원이 유지된다."
      ]
    },
    {
      "cell_type": "code",
      "execution_count": null,
      "id": "24090a3d-b142-453f-ab28-1cb558eb1ca5",
      "metadata": {
        "scrolled": true,
        "id": "24090a3d-b142-453f-ab28-1cb558eb1ca5"
      },
      "outputs": [],
      "source": [
        "import folium\n",
        "import webbrowser\n",
        "\n",
        "# 지도 중심좌표 지정하기\n",
        "center = [37.559984, 126.9753071]  # 숭례문 위도&경도\n",
        "\n",
        "# 지도 객체 만들기\n",
        "m = folium.Map(location=center , zoom_start=15)\n",
        "\n",
        "folium.Marker(location = center,\n",
        "              popup = '<pre> 숭례문 </pre>',\n",
        "              tooltip = '우리나라 국보 1호',\n",
        "              icon=folium.Icon(color='red', icon='camera', prefix='fa')\n",
        "             ).add_to(m)\n",
        "\n",
        "folium.Marker(location = [37.555946, 126.972317],\n",
        "              popup = '<pre> 서울역 </pre>',\n",
        "              tooltip = '서울역',\n",
        "              icon=folium.Icon(color='black', icon='fa-solid fa-users', prefix='fa-solid')\n",
        "             ).add_to(m)\n",
        "\n",
        "\n",
        "folium.Circle(location = center,\n",
        "              radius=200,\n",
        "              color='#eb9e34',\n",
        "              fill_color='red',\n",
        "              popup='Circle',\n",
        "              tooltip='숭례문 관광지'\n",
        "            ).add_to(m)\n",
        "\n",
        "folium.CircleMarker(\n",
        "    [37.555946, 126.972317],\n",
        "    radius=100,\n",
        "    color='green',\n",
        "    fill_color='green',\n",
        "    popup='Circle',\n",
        "    tooltip='서울역세권'\n",
        ").add_to(m)\n",
        "\n",
        "m"
      ]
    },
    {
      "cell_type": "markdown",
      "id": "0f9577d8",
      "metadata": {
        "id": "0f9577d8"
      },
      "source": [
        "### [실습] : 파일 읽어와 위치정보를 마커로 지도에 표시하기\n",
        "**자신이 속한 시도의 중학교와 고등학교 지도에 마커로 표시하기**"
      ]
    },
    {
      "cell_type": "code",
      "execution_count": null,
      "id": "3bac6f5c",
      "metadata": {
        "id": "3bac6f5c"
      },
      "outputs": [],
      "source": [
        "import pandas as pd\n",
        "import folium\n",
        "import webbrowser\n",
        "\n",
        "'''\n",
        " 파일 가져와 Pandas 데이터로 만들기\n",
        " - 전국 초중고 위치 정보 가져오기\n",
        " - 자신이 속한 시도의 중학교와 고등학교 정보 가져오기\n",
        "'''\n",
        "file = './data/전국초중등학교위치표준데이터.csv'\n",
        "df = pd.read_csv(file, encoding = 'cp949')\n",
        "df = df.query(\" 소재지지번주소.str.contains('서울특별시') and 학교급구분 in ('중학교', '고등학교') \")\n",
        "print(f'자신이 속한 시도의 중학교와 고등학교 개수: {len(df)}')\n",
        "df.head(2)\n",
        "\n",
        "'''\n",
        " 지도 객체 만들어 마커로 표시하기\n",
        " - 자신이 속한 시도의 중학교와 고등학교 위치 마커로 표시하기\n",
        " - 중학교와 고등학교 마커 아이콘 다르게 구분하기\n",
        "'''\n",
        "center = [37.549328, 126.8513969]   # 강서여성인력개발센터\n",
        "m = folium.Map(location=center,\n",
        "               zoom_start=14)\n",
        "\n",
        "folium.Marker(location = center,\n",
        "              popup = '<pre> 강서여성인력개발센터 </pre>',\n",
        "              tooltip = '강서여성인력개발센터',\n",
        "              icon=folium.Icon(color='pink', icon='heart', prefix='fa')\n",
        "             ).add_to(m)\n",
        "\n",
        "folium.CircleMarker(\n",
        "    [37.549328, 126.8513969],\n",
        "    radius=200,\n",
        "    color='yellow',\n",
        "    fill_color='yellow',\n",
        "    popup='Circle',\n",
        "    tooltip='강서여성인력개발센터 근처'\n",
        ").add_to(m)\n",
        "\n",
        "\n",
        "for idx in df.index:  # DataFrame 한 행씩 읽어오기\n",
        "    if df.loc[idx,'학교급구분'] == '중학교':\n",
        "        v_iconcolor = 'green'\n",
        "    else:\n",
        "        v_iconcolor = 'blue'\n",
        "\n",
        "    # 지도에 마커 추가하기\n",
        "    folium.Marker(location= [df.loc[idx,'위도'], df.loc[idx,'경도']],\n",
        "            popup=df.loc[idx,'학교명'],\n",
        "            icon=folium.Icon(icon='fa-solid fa-user',\n",
        "                color=v_iconcolor, icon_color='white', prefix='fa-solid'),\n",
        "    ).add_to(m)\n",
        "\n",
        "\n",
        "\n",
        "# html 파일 저장하고 열기\n",
        "file = '/data/map_school.html'\n",
        "file = os.getcwd().replace('\\\\',\"/\") + file # 현재 위치 경로 가져오기\n",
        "m.save(file)\n",
        "webbrowser.get().open(file)"
      ]
    },
    {
      "cell_type": "markdown",
      "id": "ba0e4b3e-c4d5-4823-a0f6-a06dbde16b77",
      "metadata": {
        "id": "ba0e4b3e-c4d5-4823-a0f6-a06dbde16b77"
      },
      "source": [
        "### [실습] : 마커 클러스터로 표시하기 : MarkerCluster()\n",
        "앞에서 표시한 **마커를 클러스터로 표시**하기\n",
        "- 참고 : https://python-visualization.github.io/folium/latest/user_guide/plugins/marker_cluster.html"
      ]
    },
    {
      "cell_type": "code",
      "execution_count": null,
      "id": "aeebfaf4-0f3c-45af-9e8e-75ce32fa03d6",
      "metadata": {
        "id": "aeebfaf4-0f3c-45af-9e8e-75ce32fa03d6",
        "outputId": "c7ca53db-9a53-4be8-c99b-4c0f068d1d92"
      },
      "outputs": [
        {
          "ename": "FileNotFoundError",
          "evalue": "[Errno 2] No such file or directory: './data/전국초중등학교위치표준데이터.csv'",
          "output_type": "error",
          "traceback": [
            "\u001b[1;31m---------------------------------------------------------------------------\u001b[0m",
            "\u001b[1;31mFileNotFoundError\u001b[0m                         Traceback (most recent call last)",
            "Cell \u001b[1;32mIn[5], line 8\u001b[0m\n\u001b[0;32m      5\u001b[0m \u001b[38;5;28;01mfrom\u001b[39;00m \u001b[38;5;21;01mfolium\u001b[39;00m\u001b[38;5;21;01m.\u001b[39;00m\u001b[38;5;21;01mplugins\u001b[39;00m \u001b[38;5;28;01mimport\u001b[39;00m MarkerCluster\n\u001b[0;32m      7\u001b[0m file \u001b[38;5;241m=\u001b[39m \u001b[38;5;124m'\u001b[39m\u001b[38;5;124m./data/전국초중등학교위치표준데이터.csv\u001b[39m\u001b[38;5;124m'\u001b[39m  \n\u001b[1;32m----> 8\u001b[0m df \u001b[38;5;241m=\u001b[39m \u001b[43mpd\u001b[49m\u001b[38;5;241;43m.\u001b[39;49m\u001b[43mread_csv\u001b[49m\u001b[43m(\u001b[49m\u001b[43mfile\u001b[49m\u001b[43m,\u001b[49m\u001b[43m \u001b[49m\u001b[43mencoding\u001b[49m\u001b[43m \u001b[49m\u001b[38;5;241;43m=\u001b[39;49m\u001b[43m \u001b[49m\u001b[38;5;124;43m'\u001b[39;49m\u001b[38;5;124;43mcp949\u001b[39;49m\u001b[38;5;124;43m'\u001b[39;49m\u001b[43m)\u001b[49m\n\u001b[0;32m      9\u001b[0m df \u001b[38;5;241m=\u001b[39m df\u001b[38;5;241m.\u001b[39mquery(\u001b[38;5;124m\"\u001b[39m\u001b[38;5;124m 소재지지번주소.str.contains(\u001b[39m\u001b[38;5;124m'\u001b[39m\u001b[38;5;124m서울특별시\u001b[39m\u001b[38;5;124m'\u001b[39m\u001b[38;5;124m) and 학교급구분 in (\u001b[39m\u001b[38;5;124m'\u001b[39m\u001b[38;5;124m중학교\u001b[39m\u001b[38;5;124m'\u001b[39m\u001b[38;5;124m, \u001b[39m\u001b[38;5;124m'\u001b[39m\u001b[38;5;124m고등학교\u001b[39m\u001b[38;5;124m'\u001b[39m\u001b[38;5;124m) \u001b[39m\u001b[38;5;124m\"\u001b[39m)\n\u001b[0;32m     10\u001b[0m \u001b[38;5;28mprint\u001b[39m(\u001b[38;5;124mf\u001b[39m\u001b[38;5;124m'\u001b[39m\u001b[38;5;124m자신이 속한 시도의 중학교와 고등학교 개수: \u001b[39m\u001b[38;5;132;01m{\u001b[39;00m\u001b[38;5;28mlen\u001b[39m(df)\u001b[38;5;132;01m}\u001b[39;00m\u001b[38;5;124m'\u001b[39m)\n",
            "File \u001b[1;32mc:\\python\\Python312\\Lib\\site-packages\\pandas\\io\\parsers\\readers.py:1026\u001b[0m, in \u001b[0;36mread_csv\u001b[1;34m(filepath_or_buffer, sep, delimiter, header, names, index_col, usecols, dtype, engine, converters, true_values, false_values, skipinitialspace, skiprows, skipfooter, nrows, na_values, keep_default_na, na_filter, verbose, skip_blank_lines, parse_dates, infer_datetime_format, keep_date_col, date_parser, date_format, dayfirst, cache_dates, iterator, chunksize, compression, thousands, decimal, lineterminator, quotechar, quoting, doublequote, escapechar, comment, encoding, encoding_errors, dialect, on_bad_lines, delim_whitespace, low_memory, memory_map, float_precision, storage_options, dtype_backend)\u001b[0m\n\u001b[0;32m   1013\u001b[0m kwds_defaults \u001b[38;5;241m=\u001b[39m _refine_defaults_read(\n\u001b[0;32m   1014\u001b[0m     dialect,\n\u001b[0;32m   1015\u001b[0m     delimiter,\n\u001b[1;32m   (...)\u001b[0m\n\u001b[0;32m   1022\u001b[0m     dtype_backend\u001b[38;5;241m=\u001b[39mdtype_backend,\n\u001b[0;32m   1023\u001b[0m )\n\u001b[0;32m   1024\u001b[0m kwds\u001b[38;5;241m.\u001b[39mupdate(kwds_defaults)\n\u001b[1;32m-> 1026\u001b[0m \u001b[38;5;28;01mreturn\u001b[39;00m \u001b[43m_read\u001b[49m\u001b[43m(\u001b[49m\u001b[43mfilepath_or_buffer\u001b[49m\u001b[43m,\u001b[49m\u001b[43m \u001b[49m\u001b[43mkwds\u001b[49m\u001b[43m)\u001b[49m\n",
            "File \u001b[1;32mc:\\python\\Python312\\Lib\\site-packages\\pandas\\io\\parsers\\readers.py:620\u001b[0m, in \u001b[0;36m_read\u001b[1;34m(filepath_or_buffer, kwds)\u001b[0m\n\u001b[0;32m    617\u001b[0m _validate_names(kwds\u001b[38;5;241m.\u001b[39mget(\u001b[38;5;124m\"\u001b[39m\u001b[38;5;124mnames\u001b[39m\u001b[38;5;124m\"\u001b[39m, \u001b[38;5;28;01mNone\u001b[39;00m))\n\u001b[0;32m    619\u001b[0m \u001b[38;5;66;03m# Create the parser.\u001b[39;00m\n\u001b[1;32m--> 620\u001b[0m parser \u001b[38;5;241m=\u001b[39m \u001b[43mTextFileReader\u001b[49m\u001b[43m(\u001b[49m\u001b[43mfilepath_or_buffer\u001b[49m\u001b[43m,\u001b[49m\u001b[43m \u001b[49m\u001b[38;5;241;43m*\u001b[39;49m\u001b[38;5;241;43m*\u001b[39;49m\u001b[43mkwds\u001b[49m\u001b[43m)\u001b[49m\n\u001b[0;32m    622\u001b[0m \u001b[38;5;28;01mif\u001b[39;00m chunksize \u001b[38;5;129;01mor\u001b[39;00m iterator:\n\u001b[0;32m    623\u001b[0m     \u001b[38;5;28;01mreturn\u001b[39;00m parser\n",
            "File \u001b[1;32mc:\\python\\Python312\\Lib\\site-packages\\pandas\\io\\parsers\\readers.py:1620\u001b[0m, in \u001b[0;36mTextFileReader.__init__\u001b[1;34m(self, f, engine, **kwds)\u001b[0m\n\u001b[0;32m   1617\u001b[0m     \u001b[38;5;28mself\u001b[39m\u001b[38;5;241m.\u001b[39moptions[\u001b[38;5;124m\"\u001b[39m\u001b[38;5;124mhas_index_names\u001b[39m\u001b[38;5;124m\"\u001b[39m] \u001b[38;5;241m=\u001b[39m kwds[\u001b[38;5;124m\"\u001b[39m\u001b[38;5;124mhas_index_names\u001b[39m\u001b[38;5;124m\"\u001b[39m]\n\u001b[0;32m   1619\u001b[0m \u001b[38;5;28mself\u001b[39m\u001b[38;5;241m.\u001b[39mhandles: IOHandles \u001b[38;5;241m|\u001b[39m \u001b[38;5;28;01mNone\u001b[39;00m \u001b[38;5;241m=\u001b[39m \u001b[38;5;28;01mNone\u001b[39;00m\n\u001b[1;32m-> 1620\u001b[0m \u001b[38;5;28mself\u001b[39m\u001b[38;5;241m.\u001b[39m_engine \u001b[38;5;241m=\u001b[39m \u001b[38;5;28;43mself\u001b[39;49m\u001b[38;5;241;43m.\u001b[39;49m\u001b[43m_make_engine\u001b[49m\u001b[43m(\u001b[49m\u001b[43mf\u001b[49m\u001b[43m,\u001b[49m\u001b[43m \u001b[49m\u001b[38;5;28;43mself\u001b[39;49m\u001b[38;5;241;43m.\u001b[39;49m\u001b[43mengine\u001b[49m\u001b[43m)\u001b[49m\n",
            "File \u001b[1;32mc:\\python\\Python312\\Lib\\site-packages\\pandas\\io\\parsers\\readers.py:1880\u001b[0m, in \u001b[0;36mTextFileReader._make_engine\u001b[1;34m(self, f, engine)\u001b[0m\n\u001b[0;32m   1878\u001b[0m     \u001b[38;5;28;01mif\u001b[39;00m \u001b[38;5;124m\"\u001b[39m\u001b[38;5;124mb\u001b[39m\u001b[38;5;124m\"\u001b[39m \u001b[38;5;129;01mnot\u001b[39;00m \u001b[38;5;129;01min\u001b[39;00m mode:\n\u001b[0;32m   1879\u001b[0m         mode \u001b[38;5;241m+\u001b[39m\u001b[38;5;241m=\u001b[39m \u001b[38;5;124m\"\u001b[39m\u001b[38;5;124mb\u001b[39m\u001b[38;5;124m\"\u001b[39m\n\u001b[1;32m-> 1880\u001b[0m \u001b[38;5;28mself\u001b[39m\u001b[38;5;241m.\u001b[39mhandles \u001b[38;5;241m=\u001b[39m \u001b[43mget_handle\u001b[49m\u001b[43m(\u001b[49m\n\u001b[0;32m   1881\u001b[0m \u001b[43m    \u001b[49m\u001b[43mf\u001b[49m\u001b[43m,\u001b[49m\n\u001b[0;32m   1882\u001b[0m \u001b[43m    \u001b[49m\u001b[43mmode\u001b[49m\u001b[43m,\u001b[49m\n\u001b[0;32m   1883\u001b[0m \u001b[43m    \u001b[49m\u001b[43mencoding\u001b[49m\u001b[38;5;241;43m=\u001b[39;49m\u001b[38;5;28;43mself\u001b[39;49m\u001b[38;5;241;43m.\u001b[39;49m\u001b[43moptions\u001b[49m\u001b[38;5;241;43m.\u001b[39;49m\u001b[43mget\u001b[49m\u001b[43m(\u001b[49m\u001b[38;5;124;43m\"\u001b[39;49m\u001b[38;5;124;43mencoding\u001b[39;49m\u001b[38;5;124;43m\"\u001b[39;49m\u001b[43m,\u001b[49m\u001b[43m \u001b[49m\u001b[38;5;28;43;01mNone\u001b[39;49;00m\u001b[43m)\u001b[49m\u001b[43m,\u001b[49m\n\u001b[0;32m   1884\u001b[0m \u001b[43m    \u001b[49m\u001b[43mcompression\u001b[49m\u001b[38;5;241;43m=\u001b[39;49m\u001b[38;5;28;43mself\u001b[39;49m\u001b[38;5;241;43m.\u001b[39;49m\u001b[43moptions\u001b[49m\u001b[38;5;241;43m.\u001b[39;49m\u001b[43mget\u001b[49m\u001b[43m(\u001b[49m\u001b[38;5;124;43m\"\u001b[39;49m\u001b[38;5;124;43mcompression\u001b[39;49m\u001b[38;5;124;43m\"\u001b[39;49m\u001b[43m,\u001b[49m\u001b[43m \u001b[49m\u001b[38;5;28;43;01mNone\u001b[39;49;00m\u001b[43m)\u001b[49m\u001b[43m,\u001b[49m\n\u001b[0;32m   1885\u001b[0m \u001b[43m    \u001b[49m\u001b[43mmemory_map\u001b[49m\u001b[38;5;241;43m=\u001b[39;49m\u001b[38;5;28;43mself\u001b[39;49m\u001b[38;5;241;43m.\u001b[39;49m\u001b[43moptions\u001b[49m\u001b[38;5;241;43m.\u001b[39;49m\u001b[43mget\u001b[49m\u001b[43m(\u001b[49m\u001b[38;5;124;43m\"\u001b[39;49m\u001b[38;5;124;43mmemory_map\u001b[39;49m\u001b[38;5;124;43m\"\u001b[39;49m\u001b[43m,\u001b[49m\u001b[43m \u001b[49m\u001b[38;5;28;43;01mFalse\u001b[39;49;00m\u001b[43m)\u001b[49m\u001b[43m,\u001b[49m\n\u001b[0;32m   1886\u001b[0m \u001b[43m    \u001b[49m\u001b[43mis_text\u001b[49m\u001b[38;5;241;43m=\u001b[39;49m\u001b[43mis_text\u001b[49m\u001b[43m,\u001b[49m\n\u001b[0;32m   1887\u001b[0m \u001b[43m    \u001b[49m\u001b[43merrors\u001b[49m\u001b[38;5;241;43m=\u001b[39;49m\u001b[38;5;28;43mself\u001b[39;49m\u001b[38;5;241;43m.\u001b[39;49m\u001b[43moptions\u001b[49m\u001b[38;5;241;43m.\u001b[39;49m\u001b[43mget\u001b[49m\u001b[43m(\u001b[49m\u001b[38;5;124;43m\"\u001b[39;49m\u001b[38;5;124;43mencoding_errors\u001b[39;49m\u001b[38;5;124;43m\"\u001b[39;49m\u001b[43m,\u001b[49m\u001b[43m \u001b[49m\u001b[38;5;124;43m\"\u001b[39;49m\u001b[38;5;124;43mstrict\u001b[39;49m\u001b[38;5;124;43m\"\u001b[39;49m\u001b[43m)\u001b[49m\u001b[43m,\u001b[49m\n\u001b[0;32m   1888\u001b[0m \u001b[43m    \u001b[49m\u001b[43mstorage_options\u001b[49m\u001b[38;5;241;43m=\u001b[39;49m\u001b[38;5;28;43mself\u001b[39;49m\u001b[38;5;241;43m.\u001b[39;49m\u001b[43moptions\u001b[49m\u001b[38;5;241;43m.\u001b[39;49m\u001b[43mget\u001b[49m\u001b[43m(\u001b[49m\u001b[38;5;124;43m\"\u001b[39;49m\u001b[38;5;124;43mstorage_options\u001b[39;49m\u001b[38;5;124;43m\"\u001b[39;49m\u001b[43m,\u001b[49m\u001b[43m \u001b[49m\u001b[38;5;28;43;01mNone\u001b[39;49;00m\u001b[43m)\u001b[49m\u001b[43m,\u001b[49m\n\u001b[0;32m   1889\u001b[0m \u001b[43m\u001b[49m\u001b[43m)\u001b[49m\n\u001b[0;32m   1890\u001b[0m \u001b[38;5;28;01massert\u001b[39;00m \u001b[38;5;28mself\u001b[39m\u001b[38;5;241m.\u001b[39mhandles \u001b[38;5;129;01mis\u001b[39;00m \u001b[38;5;129;01mnot\u001b[39;00m \u001b[38;5;28;01mNone\u001b[39;00m\n\u001b[0;32m   1891\u001b[0m f \u001b[38;5;241m=\u001b[39m \u001b[38;5;28mself\u001b[39m\u001b[38;5;241m.\u001b[39mhandles\u001b[38;5;241m.\u001b[39mhandle\n",
            "File \u001b[1;32mc:\\python\\Python312\\Lib\\site-packages\\pandas\\io\\common.py:873\u001b[0m, in \u001b[0;36mget_handle\u001b[1;34m(path_or_buf, mode, encoding, compression, memory_map, is_text, errors, storage_options)\u001b[0m\n\u001b[0;32m    868\u001b[0m \u001b[38;5;28;01melif\u001b[39;00m \u001b[38;5;28misinstance\u001b[39m(handle, \u001b[38;5;28mstr\u001b[39m):\n\u001b[0;32m    869\u001b[0m     \u001b[38;5;66;03m# Check whether the filename is to be opened in binary mode.\u001b[39;00m\n\u001b[0;32m    870\u001b[0m     \u001b[38;5;66;03m# Binary mode does not support 'encoding' and 'newline'.\u001b[39;00m\n\u001b[0;32m    871\u001b[0m     \u001b[38;5;28;01mif\u001b[39;00m ioargs\u001b[38;5;241m.\u001b[39mencoding \u001b[38;5;129;01mand\u001b[39;00m \u001b[38;5;124m\"\u001b[39m\u001b[38;5;124mb\u001b[39m\u001b[38;5;124m\"\u001b[39m \u001b[38;5;129;01mnot\u001b[39;00m \u001b[38;5;129;01min\u001b[39;00m ioargs\u001b[38;5;241m.\u001b[39mmode:\n\u001b[0;32m    872\u001b[0m         \u001b[38;5;66;03m# Encoding\u001b[39;00m\n\u001b[1;32m--> 873\u001b[0m         handle \u001b[38;5;241m=\u001b[39m \u001b[38;5;28;43mopen\u001b[39;49m\u001b[43m(\u001b[49m\n\u001b[0;32m    874\u001b[0m \u001b[43m            \u001b[49m\u001b[43mhandle\u001b[49m\u001b[43m,\u001b[49m\n\u001b[0;32m    875\u001b[0m \u001b[43m            \u001b[49m\u001b[43mioargs\u001b[49m\u001b[38;5;241;43m.\u001b[39;49m\u001b[43mmode\u001b[49m\u001b[43m,\u001b[49m\n\u001b[0;32m    876\u001b[0m \u001b[43m            \u001b[49m\u001b[43mencoding\u001b[49m\u001b[38;5;241;43m=\u001b[39;49m\u001b[43mioargs\u001b[49m\u001b[38;5;241;43m.\u001b[39;49m\u001b[43mencoding\u001b[49m\u001b[43m,\u001b[49m\n\u001b[0;32m    877\u001b[0m \u001b[43m            \u001b[49m\u001b[43merrors\u001b[49m\u001b[38;5;241;43m=\u001b[39;49m\u001b[43merrors\u001b[49m\u001b[43m,\u001b[49m\n\u001b[0;32m    878\u001b[0m \u001b[43m            \u001b[49m\u001b[43mnewline\u001b[49m\u001b[38;5;241;43m=\u001b[39;49m\u001b[38;5;124;43m\"\u001b[39;49m\u001b[38;5;124;43m\"\u001b[39;49m\u001b[43m,\u001b[49m\n\u001b[0;32m    879\u001b[0m \u001b[43m        \u001b[49m\u001b[43m)\u001b[49m\n\u001b[0;32m    880\u001b[0m     \u001b[38;5;28;01melse\u001b[39;00m:\n\u001b[0;32m    881\u001b[0m         \u001b[38;5;66;03m# Binary mode\u001b[39;00m\n\u001b[0;32m    882\u001b[0m         handle \u001b[38;5;241m=\u001b[39m \u001b[38;5;28mopen\u001b[39m(handle, ioargs\u001b[38;5;241m.\u001b[39mmode)\n",
            "\u001b[1;31mFileNotFoundError\u001b[0m: [Errno 2] No such file or directory: './data/전국초중등학교위치표준데이터.csv'"
          ]
        }
      ],
      "source": [
        "import pandas as pd\n",
        "import folium\n",
        "import webbrowser\n",
        "import os\n",
        "from folium.plugins import MarkerCluster\n",
        "\n",
        "file = './data/geo/전국초중등학교위치표준데이터.csv'\n",
        "df = pd.read_csv(file, encoding = 'cp949')\n",
        "df = df.query(\" 소재지지번주소.str.contains('서울특별시') and 학교급구분 in ('중학교', '고등학교') \")\n",
        "print(f'자신이 속한 시도의 중학교와 고등학교 개수: {len(df)}')\n",
        "\n",
        "\n",
        "center = [37.549328, 126.8513969]   # 강서여성인력개발센터\n",
        "m = folium.Map(location=center,\n",
        "               zoom_start=14)\n",
        "\n",
        "folium.Marker(location = center,\n",
        "              popup = '<pre> 강서여성인력개발센터 </pre>',\n",
        "              tooltip = '강서여성인력개발센터',\n",
        "              icon=folium.Icon(color='pink', icon='heart', prefix='fa')\n",
        "             ).add_to(m)\n",
        "\n",
        "folium.CircleMarker(\n",
        "    [37.549328, 126.8513969],\n",
        "    radius=200,\n",
        "    color='yellow',\n",
        "    fill_color='yellow',\n",
        "    popup='Circle',\n",
        "    tooltip='강서여성인력개발센터 근처'\n",
        ").add_to(m)\n",
        "\n",
        "\n",
        "'''\n",
        "마커 클러스터 객체 만들기\n",
        "'''\n",
        "marker_cluster = MarkerCluster().add_to(m)\n",
        "\n",
        "# 마커 클러스터 추가하기\n",
        "for idx in df.index:  # DataFrame 한 행씩 읽어오기\n",
        "    if df.loc[idx,'학교급구분'] == '중학교':\n",
        "        v_iconcolor = 'green'\n",
        "    else:\n",
        "        v_iconcolor = 'blue'\n",
        "\n",
        "    # 지도에 마커 추가하기\n",
        "    folium.Marker(location= [df.loc[idx,'위도'], df.loc[idx,'경도']],\n",
        "            popup=df.loc[idx,'학교명'],\n",
        "            icon=folium.Icon(icon='fa-solid fa-user',\n",
        "                color=v_iconcolor, icon_color='white', prefix='fa-solid'),\n",
        "    ).add_to(marker_cluster)\n",
        "\n",
        "\n",
        "\n",
        "\n",
        "# html 파일 저장하고 열기\n",
        "file = '/data/map_school_cluster.html'\n",
        "file = os.getcwd().replace('\\\\',\"/\") + file # 현재 위치 경로 가져오기\n",
        "m.save(file)\n",
        "webbrowser.get().open(file)"
      ]
    },
    {
      "cell_type": "markdown",
      "id": "ddb2c0a5-3cc6-4fe5-af15-c89b817bb02c",
      "metadata": {
        "id": "ddb2c0a5-3cc6-4fe5-af15-c89b817bb02c"
      },
      "source": [
        "### [실습문제] : CCTV위치 지도에 표시하기\n",
        "* 공공데이터 다운로드 : **서울시 안심이 CCTV연계 현황**\n",
        "    - 위치: 공공데이터포털(서울특별시_(안심이) CCTV 설치 현황)->서울 열린데이터 광장\n",
        "    - 서울 열린데이터 광장: https://data.seoul.go.kr/dataList/OA-20923/S/1/datasetView.do\n",
        "    - 서울시 안심이 CCTV 연계 현황.csv\n",
        "* **미션1 : 자신의 집 주소 근처에 위치한 CCTV를 지도에 마커로 표시하기**\n",
        "* **미션2 : 미션1을 마커 클러스터로 표시히가**"
      ]
    },
    {
      "cell_type": "code",
      "execution_count": null,
      "id": "444d5e5f-9167-43bf-90ad-d9646bfe2729",
      "metadata": {
        "id": "444d5e5f-9167-43bf-90ad-d9646bfe2729",
        "outputId": "9d3b3be5-55be-49d5-f8c7-115de8d68e28"
      },
      "outputs": [
        {
          "name": "stdout",
          "output_type": "stream",
          "text": [
            "강서구 & 까치산로 근처 CCTV 개수: 43\n"
          ]
        },
        {
          "data": {
            "text/plain": [
              "True"
            ]
          },
          "execution_count": 6,
          "metadata": {},
          "output_type": "execute_result"
        }
      ],
      "source": [
        "import pandas as pd\n",
        "import folium\n",
        "import webbrowser\n",
        "import os\n",
        "from folium.plugins import MarkerCluster\n",
        "\n",
        "file = './data/geo/서울시 안심이 CCTV 연계 현황.csv'\n",
        "df = pd.read_csv(file, encoding = 'cp949')\n",
        "df = df.query(\" 자치구.str.contains('강서구') and `안심 주소`.str.contains('까치산로') \")   #컬럼 이름에 공백이 있으면 `로 묶어준다.\n",
        "print(f'강서구 & 까치산로 근처 CCTV 개수: {len(df)}')\n",
        "df.head(2)\n",
        "\n",
        "center = [37.549328, 126.8513969] # 강서여성인력개발센터\n",
        "m = folium.Map(location=center,\n",
        "               zoom_start=16)\n",
        "\n",
        "folium.Marker(location = center,\n",
        "              popup = '<pre> 강서여성인력개발센터 </pre>',\n",
        "              tooltip = '강서여성인력개발센터',\n",
        "              icon=folium.Icon(color='pink', icon='heart', prefix='fa')\n",
        "             ).add_to(m)\n",
        "\n",
        "folium.CircleMarker(\n",
        "    [37.549328, 126.8513969],\n",
        "    radius=200,\n",
        "    color='yellow',\n",
        "    fill_color='yellow',\n",
        "    popup='Circle',\n",
        "    tooltip='강서여성인력개발센터 근처'\n",
        ").add_to(m)\n",
        "\n",
        "\n",
        "# 마커 클러스터 추가하기\n",
        "marker_cluster = MarkerCluster().add_to(m)\n",
        "for idx in df.index:\n",
        "    if df.loc[idx,'안심 주소']:\n",
        "        cctv_no = df.loc[idx,'안심 주소'].split('_')[0]\n",
        "\n",
        "    # 지도에 마커 추가하기\n",
        "    folium.Marker(location= [df.loc[idx,'위도'], df.loc[idx,'경도']],\n",
        "            popup=cctv_no,\n",
        "            icon=folium.Icon(icon='video',\n",
        "                color='red', icon_color='white', prefix='fa'),\n",
        "    ).add_to(marker_cluster)\n",
        "\n",
        "# html 파일 저장하고 열기\n",
        "file = '/data/map_cctv_cluster.html'\n",
        "file = os.getcwd().replace('\\\\',\"/\") + file # 현재 위치 경로 가져오기\n",
        "m.save(file)\n",
        "webbrowser.get().open(file)"
      ]
    },
    {
      "cell_type": "markdown",
      "id": "99676470",
      "metadata": {
        "id": "99676470"
      },
      "source": [
        "-------------------------"
      ]
    },
    {
      "cell_type": "markdown",
      "id": "5679f7f3",
      "metadata": {
        "id": "5679f7f3"
      },
      "source": [
        "## 02.지도에 의미 있는 데이터 분포 표현하기"
      ]
    },
    {
      "cell_type": "markdown",
      "id": "588917f0",
      "metadata": {
        "id": "588917f0"
      },
      "source": [
        "### 지도에 데이터 분포 표시하는 방법\n",
        "* folium 지도에 행정구역 경계를 표시하기 위해서는 우선 행정구역의 경계 위치 좌표 값이 표시된  geoJson 데이터가 필요함\n",
        "* 대한민국 행정구역 경계 geoJson 파일\n",
        "    - 파일 다운로드: https://github.com/southkorea/southkorea-maps  > /kostat/2018/json/\n",
        "    - http://www.gisdeveloper.co.kr/?p=2332\n",
        "    - 다운로드된 파일 위치 : **C:\\python\\dataAnalysis\\data\\geo\\** <br>\n",
        "    - skorea-provinces-geo.json  (시/도 경계 )\n",
        "    - skorea-municipalities-geo.json  (시/군/구 경계)\n",
        "    - skorea-submunicipalities-geo.json  (읍/면/동 경계)"
      ]
    },
    {
      "cell_type": "markdown",
      "id": "c8423973",
      "metadata": {
        "id": "c8423973"
      },
      "source": [
        "### [실습] : 우리나라 행정구역 경계 지도에 표시하기 : folium.GeoJson()"
      ]
    },
    {
      "cell_type": "code",
      "execution_count": null,
      "id": "639e5cb1",
      "metadata": {
        "id": "639e5cb1",
        "outputId": "a54e58c9-9330-4ae9-afc2-bda98c707b00"
      },
      "outputs": [
        {
          "data": {
            "text/plain": [
              "True"
            ]
          },
          "execution_count": 11,
          "metadata": {},
          "output_type": "execute_result"
        }
      ],
      "source": [
        "import folium\n",
        "import json\n",
        "import webbrowser\n",
        "\n",
        "# 1.GeoJson 파일 불러오기\n",
        "file = './data/geo/skorea-provinces-geo.json'         # 대한민국 시도 경계 정보\n",
        "file = './data/geo/skorea-municipalities-geo.json'    # 대한민국 시군구 경계 정보\n",
        "file = './data/geo/skorea-submunicipalities-geo.json' # 대한민국 읍면동 경계 정보\n",
        "file = './data/geo/HangJeongDong_ver20230701.geojson' # 대한민국 행정동\n",
        "file = './data/geo/hangjeongdong_서울특별시.geojson'  # 서울특별시 행정동\n",
        "data = open(file, 'r', encoding='utf-8').read()        # 파일 열어서 읽어오기\n",
        "geo_data = json.loads(data)                            # json 형태로 불러오기\n",
        "\n",
        "\n",
        "# 2.지도에 GeoJson 정보를 표현하기\n",
        "m = folium.Map(location=[37.559984, 126.9753071],\n",
        "               zoom_start=7)\n",
        "\n",
        "folium.GeoJson(geo_data,          # GeoJson 정보를 담고 있는 변수이름\n",
        "               name='json_data'\n",
        "    ).add_to(m)\n",
        "\n",
        "\n",
        "# html 파일 저장하고 열기\n",
        "file = '/data/map_region.html'\n",
        "file = os.getcwd().replace('\\\\',\"/\") + file # 현재 위치 경로 가져오기\n",
        "m.save(file)\n",
        "webbrowser.get().open(file)"
      ]
    },
    {
      "cell_type": "markdown",
      "id": "e2c9e0ad",
      "metadata": {
        "id": "e2c9e0ad"
      },
      "source": [
        "### [실습] : 지역별 분포 데이터 만들기 : folium.Choropleth()\n",
        "지역별 구씨 현황 데이터를 지도 영역 데이터와 연결하여 색칠을 통해 데이터 분포 시각화하기\n",
        "- 지역별 구씨 현황: family_name_goo.csv(앞에서 생성한 파일)\n",
        "- 지도 영역 데이터: skorea-provinces-geo.json"
      ]
    },
    {
      "cell_type": "code",
      "execution_count": null,
      "id": "54d45013",
      "metadata": {
        "id": "54d45013",
        "outputId": "a92bdd34-c608-4743-8ed3-cdc5d1995e22"
      },
      "outputs": [
        {
          "ename": "FileNotFoundError",
          "evalue": "[Errno 2] No such file or directory: './data/family_name_goo.csv'",
          "output_type": "error",
          "traceback": [
            "\u001b[1;31m---------------------------------------------------------------------------\u001b[0m",
            "\u001b[1;31mFileNotFoundError\u001b[0m                         Traceback (most recent call last)",
            "Cell \u001b[1;32mIn[12], line 8\u001b[0m\n\u001b[0;32m      6\u001b[0m \u001b[38;5;66;03m# 1.지역별 구씨 정보 가져오기\u001b[39;00m\n\u001b[0;32m      7\u001b[0m file \u001b[38;5;241m=\u001b[39m \u001b[38;5;124m'\u001b[39m\u001b[38;5;124m./data/family_name_goo.csv\u001b[39m\u001b[38;5;124m'\u001b[39m\n\u001b[1;32m----> 8\u001b[0m df \u001b[38;5;241m=\u001b[39m \u001b[43mpd\u001b[49m\u001b[38;5;241;43m.\u001b[39;49m\u001b[43mread_csv\u001b[49m\u001b[43m(\u001b[49m\u001b[43mfile\u001b[49m\u001b[43m,\u001b[49m\u001b[43m \u001b[49m\u001b[43mencoding\u001b[49m\u001b[43m \u001b[49m\u001b[38;5;241;43m=\u001b[39;49m\u001b[43m \u001b[49m\u001b[38;5;124;43m'\u001b[39;49m\u001b[38;5;124;43mcp949\u001b[39;49m\u001b[38;5;124;43m'\u001b[39;49m\u001b[43m)\u001b[49m\n\u001b[0;32m      9\u001b[0m df\u001b[38;5;241m.\u001b[39mhead()\n\u001b[0;32m     12\u001b[0m \u001b[38;5;66;03m# 2.GeoJson 파일 불러오기 \u001b[39;00m\n",
            "File \u001b[1;32mc:\\python\\Python312\\Lib\\site-packages\\pandas\\io\\parsers\\readers.py:1026\u001b[0m, in \u001b[0;36mread_csv\u001b[1;34m(filepath_or_buffer, sep, delimiter, header, names, index_col, usecols, dtype, engine, converters, true_values, false_values, skipinitialspace, skiprows, skipfooter, nrows, na_values, keep_default_na, na_filter, verbose, skip_blank_lines, parse_dates, infer_datetime_format, keep_date_col, date_parser, date_format, dayfirst, cache_dates, iterator, chunksize, compression, thousands, decimal, lineterminator, quotechar, quoting, doublequote, escapechar, comment, encoding, encoding_errors, dialect, on_bad_lines, delim_whitespace, low_memory, memory_map, float_precision, storage_options, dtype_backend)\u001b[0m\n\u001b[0;32m   1013\u001b[0m kwds_defaults \u001b[38;5;241m=\u001b[39m _refine_defaults_read(\n\u001b[0;32m   1014\u001b[0m     dialect,\n\u001b[0;32m   1015\u001b[0m     delimiter,\n\u001b[1;32m   (...)\u001b[0m\n\u001b[0;32m   1022\u001b[0m     dtype_backend\u001b[38;5;241m=\u001b[39mdtype_backend,\n\u001b[0;32m   1023\u001b[0m )\n\u001b[0;32m   1024\u001b[0m kwds\u001b[38;5;241m.\u001b[39mupdate(kwds_defaults)\n\u001b[1;32m-> 1026\u001b[0m \u001b[38;5;28;01mreturn\u001b[39;00m \u001b[43m_read\u001b[49m\u001b[43m(\u001b[49m\u001b[43mfilepath_or_buffer\u001b[49m\u001b[43m,\u001b[49m\u001b[43m \u001b[49m\u001b[43mkwds\u001b[49m\u001b[43m)\u001b[49m\n",
            "File \u001b[1;32mc:\\python\\Python312\\Lib\\site-packages\\pandas\\io\\parsers\\readers.py:620\u001b[0m, in \u001b[0;36m_read\u001b[1;34m(filepath_or_buffer, kwds)\u001b[0m\n\u001b[0;32m    617\u001b[0m _validate_names(kwds\u001b[38;5;241m.\u001b[39mget(\u001b[38;5;124m\"\u001b[39m\u001b[38;5;124mnames\u001b[39m\u001b[38;5;124m\"\u001b[39m, \u001b[38;5;28;01mNone\u001b[39;00m))\n\u001b[0;32m    619\u001b[0m \u001b[38;5;66;03m# Create the parser.\u001b[39;00m\n\u001b[1;32m--> 620\u001b[0m parser \u001b[38;5;241m=\u001b[39m \u001b[43mTextFileReader\u001b[49m\u001b[43m(\u001b[49m\u001b[43mfilepath_or_buffer\u001b[49m\u001b[43m,\u001b[49m\u001b[43m \u001b[49m\u001b[38;5;241;43m*\u001b[39;49m\u001b[38;5;241;43m*\u001b[39;49m\u001b[43mkwds\u001b[49m\u001b[43m)\u001b[49m\n\u001b[0;32m    622\u001b[0m \u001b[38;5;28;01mif\u001b[39;00m chunksize \u001b[38;5;129;01mor\u001b[39;00m iterator:\n\u001b[0;32m    623\u001b[0m     \u001b[38;5;28;01mreturn\u001b[39;00m parser\n",
            "File \u001b[1;32mc:\\python\\Python312\\Lib\\site-packages\\pandas\\io\\parsers\\readers.py:1620\u001b[0m, in \u001b[0;36mTextFileReader.__init__\u001b[1;34m(self, f, engine, **kwds)\u001b[0m\n\u001b[0;32m   1617\u001b[0m     \u001b[38;5;28mself\u001b[39m\u001b[38;5;241m.\u001b[39moptions[\u001b[38;5;124m\"\u001b[39m\u001b[38;5;124mhas_index_names\u001b[39m\u001b[38;5;124m\"\u001b[39m] \u001b[38;5;241m=\u001b[39m kwds[\u001b[38;5;124m\"\u001b[39m\u001b[38;5;124mhas_index_names\u001b[39m\u001b[38;5;124m\"\u001b[39m]\n\u001b[0;32m   1619\u001b[0m \u001b[38;5;28mself\u001b[39m\u001b[38;5;241m.\u001b[39mhandles: IOHandles \u001b[38;5;241m|\u001b[39m \u001b[38;5;28;01mNone\u001b[39;00m \u001b[38;5;241m=\u001b[39m \u001b[38;5;28;01mNone\u001b[39;00m\n\u001b[1;32m-> 1620\u001b[0m \u001b[38;5;28mself\u001b[39m\u001b[38;5;241m.\u001b[39m_engine \u001b[38;5;241m=\u001b[39m \u001b[38;5;28;43mself\u001b[39;49m\u001b[38;5;241;43m.\u001b[39;49m\u001b[43m_make_engine\u001b[49m\u001b[43m(\u001b[49m\u001b[43mf\u001b[49m\u001b[43m,\u001b[49m\u001b[43m \u001b[49m\u001b[38;5;28;43mself\u001b[39;49m\u001b[38;5;241;43m.\u001b[39;49m\u001b[43mengine\u001b[49m\u001b[43m)\u001b[49m\n",
            "File \u001b[1;32mc:\\python\\Python312\\Lib\\site-packages\\pandas\\io\\parsers\\readers.py:1880\u001b[0m, in \u001b[0;36mTextFileReader._make_engine\u001b[1;34m(self, f, engine)\u001b[0m\n\u001b[0;32m   1878\u001b[0m     \u001b[38;5;28;01mif\u001b[39;00m \u001b[38;5;124m\"\u001b[39m\u001b[38;5;124mb\u001b[39m\u001b[38;5;124m\"\u001b[39m \u001b[38;5;129;01mnot\u001b[39;00m \u001b[38;5;129;01min\u001b[39;00m mode:\n\u001b[0;32m   1879\u001b[0m         mode \u001b[38;5;241m+\u001b[39m\u001b[38;5;241m=\u001b[39m \u001b[38;5;124m\"\u001b[39m\u001b[38;5;124mb\u001b[39m\u001b[38;5;124m\"\u001b[39m\n\u001b[1;32m-> 1880\u001b[0m \u001b[38;5;28mself\u001b[39m\u001b[38;5;241m.\u001b[39mhandles \u001b[38;5;241m=\u001b[39m \u001b[43mget_handle\u001b[49m\u001b[43m(\u001b[49m\n\u001b[0;32m   1881\u001b[0m \u001b[43m    \u001b[49m\u001b[43mf\u001b[49m\u001b[43m,\u001b[49m\n\u001b[0;32m   1882\u001b[0m \u001b[43m    \u001b[49m\u001b[43mmode\u001b[49m\u001b[43m,\u001b[49m\n\u001b[0;32m   1883\u001b[0m \u001b[43m    \u001b[49m\u001b[43mencoding\u001b[49m\u001b[38;5;241;43m=\u001b[39;49m\u001b[38;5;28;43mself\u001b[39;49m\u001b[38;5;241;43m.\u001b[39;49m\u001b[43moptions\u001b[49m\u001b[38;5;241;43m.\u001b[39;49m\u001b[43mget\u001b[49m\u001b[43m(\u001b[49m\u001b[38;5;124;43m\"\u001b[39;49m\u001b[38;5;124;43mencoding\u001b[39;49m\u001b[38;5;124;43m\"\u001b[39;49m\u001b[43m,\u001b[49m\u001b[43m \u001b[49m\u001b[38;5;28;43;01mNone\u001b[39;49;00m\u001b[43m)\u001b[49m\u001b[43m,\u001b[49m\n\u001b[0;32m   1884\u001b[0m \u001b[43m    \u001b[49m\u001b[43mcompression\u001b[49m\u001b[38;5;241;43m=\u001b[39;49m\u001b[38;5;28;43mself\u001b[39;49m\u001b[38;5;241;43m.\u001b[39;49m\u001b[43moptions\u001b[49m\u001b[38;5;241;43m.\u001b[39;49m\u001b[43mget\u001b[49m\u001b[43m(\u001b[49m\u001b[38;5;124;43m\"\u001b[39;49m\u001b[38;5;124;43mcompression\u001b[39;49m\u001b[38;5;124;43m\"\u001b[39;49m\u001b[43m,\u001b[49m\u001b[43m \u001b[49m\u001b[38;5;28;43;01mNone\u001b[39;49;00m\u001b[43m)\u001b[49m\u001b[43m,\u001b[49m\n\u001b[0;32m   1885\u001b[0m \u001b[43m    \u001b[49m\u001b[43mmemory_map\u001b[49m\u001b[38;5;241;43m=\u001b[39;49m\u001b[38;5;28;43mself\u001b[39;49m\u001b[38;5;241;43m.\u001b[39;49m\u001b[43moptions\u001b[49m\u001b[38;5;241;43m.\u001b[39;49m\u001b[43mget\u001b[49m\u001b[43m(\u001b[49m\u001b[38;5;124;43m\"\u001b[39;49m\u001b[38;5;124;43mmemory_map\u001b[39;49m\u001b[38;5;124;43m\"\u001b[39;49m\u001b[43m,\u001b[49m\u001b[43m \u001b[49m\u001b[38;5;28;43;01mFalse\u001b[39;49;00m\u001b[43m)\u001b[49m\u001b[43m,\u001b[49m\n\u001b[0;32m   1886\u001b[0m \u001b[43m    \u001b[49m\u001b[43mis_text\u001b[49m\u001b[38;5;241;43m=\u001b[39;49m\u001b[43mis_text\u001b[49m\u001b[43m,\u001b[49m\n\u001b[0;32m   1887\u001b[0m \u001b[43m    \u001b[49m\u001b[43merrors\u001b[49m\u001b[38;5;241;43m=\u001b[39;49m\u001b[38;5;28;43mself\u001b[39;49m\u001b[38;5;241;43m.\u001b[39;49m\u001b[43moptions\u001b[49m\u001b[38;5;241;43m.\u001b[39;49m\u001b[43mget\u001b[49m\u001b[43m(\u001b[49m\u001b[38;5;124;43m\"\u001b[39;49m\u001b[38;5;124;43mencoding_errors\u001b[39;49m\u001b[38;5;124;43m\"\u001b[39;49m\u001b[43m,\u001b[49m\u001b[43m \u001b[49m\u001b[38;5;124;43m\"\u001b[39;49m\u001b[38;5;124;43mstrict\u001b[39;49m\u001b[38;5;124;43m\"\u001b[39;49m\u001b[43m)\u001b[49m\u001b[43m,\u001b[49m\n\u001b[0;32m   1888\u001b[0m \u001b[43m    \u001b[49m\u001b[43mstorage_options\u001b[49m\u001b[38;5;241;43m=\u001b[39;49m\u001b[38;5;28;43mself\u001b[39;49m\u001b[38;5;241;43m.\u001b[39;49m\u001b[43moptions\u001b[49m\u001b[38;5;241;43m.\u001b[39;49m\u001b[43mget\u001b[49m\u001b[43m(\u001b[49m\u001b[38;5;124;43m\"\u001b[39;49m\u001b[38;5;124;43mstorage_options\u001b[39;49m\u001b[38;5;124;43m\"\u001b[39;49m\u001b[43m,\u001b[49m\u001b[43m \u001b[49m\u001b[38;5;28;43;01mNone\u001b[39;49;00m\u001b[43m)\u001b[49m\u001b[43m,\u001b[49m\n\u001b[0;32m   1889\u001b[0m \u001b[43m\u001b[49m\u001b[43m)\u001b[49m\n\u001b[0;32m   1890\u001b[0m \u001b[38;5;28;01massert\u001b[39;00m \u001b[38;5;28mself\u001b[39m\u001b[38;5;241m.\u001b[39mhandles \u001b[38;5;129;01mis\u001b[39;00m \u001b[38;5;129;01mnot\u001b[39;00m \u001b[38;5;28;01mNone\u001b[39;00m\n\u001b[0;32m   1891\u001b[0m f \u001b[38;5;241m=\u001b[39m \u001b[38;5;28mself\u001b[39m\u001b[38;5;241m.\u001b[39mhandles\u001b[38;5;241m.\u001b[39mhandle\n",
            "File \u001b[1;32mc:\\python\\Python312\\Lib\\site-packages\\pandas\\io\\common.py:873\u001b[0m, in \u001b[0;36mget_handle\u001b[1;34m(path_or_buf, mode, encoding, compression, memory_map, is_text, errors, storage_options)\u001b[0m\n\u001b[0;32m    868\u001b[0m \u001b[38;5;28;01melif\u001b[39;00m \u001b[38;5;28misinstance\u001b[39m(handle, \u001b[38;5;28mstr\u001b[39m):\n\u001b[0;32m    869\u001b[0m     \u001b[38;5;66;03m# Check whether the filename is to be opened in binary mode.\u001b[39;00m\n\u001b[0;32m    870\u001b[0m     \u001b[38;5;66;03m# Binary mode does not support 'encoding' and 'newline'.\u001b[39;00m\n\u001b[0;32m    871\u001b[0m     \u001b[38;5;28;01mif\u001b[39;00m ioargs\u001b[38;5;241m.\u001b[39mencoding \u001b[38;5;129;01mand\u001b[39;00m \u001b[38;5;124m\"\u001b[39m\u001b[38;5;124mb\u001b[39m\u001b[38;5;124m\"\u001b[39m \u001b[38;5;129;01mnot\u001b[39;00m \u001b[38;5;129;01min\u001b[39;00m ioargs\u001b[38;5;241m.\u001b[39mmode:\n\u001b[0;32m    872\u001b[0m         \u001b[38;5;66;03m# Encoding\u001b[39;00m\n\u001b[1;32m--> 873\u001b[0m         handle \u001b[38;5;241m=\u001b[39m \u001b[38;5;28;43mopen\u001b[39;49m\u001b[43m(\u001b[49m\n\u001b[0;32m    874\u001b[0m \u001b[43m            \u001b[49m\u001b[43mhandle\u001b[49m\u001b[43m,\u001b[49m\n\u001b[0;32m    875\u001b[0m \u001b[43m            \u001b[49m\u001b[43mioargs\u001b[49m\u001b[38;5;241;43m.\u001b[39;49m\u001b[43mmode\u001b[49m\u001b[43m,\u001b[49m\n\u001b[0;32m    876\u001b[0m \u001b[43m            \u001b[49m\u001b[43mencoding\u001b[49m\u001b[38;5;241;43m=\u001b[39;49m\u001b[43mioargs\u001b[49m\u001b[38;5;241;43m.\u001b[39;49m\u001b[43mencoding\u001b[49m\u001b[43m,\u001b[49m\n\u001b[0;32m    877\u001b[0m \u001b[43m            \u001b[49m\u001b[43merrors\u001b[49m\u001b[38;5;241;43m=\u001b[39;49m\u001b[43merrors\u001b[49m\u001b[43m,\u001b[49m\n\u001b[0;32m    878\u001b[0m \u001b[43m            \u001b[49m\u001b[43mnewline\u001b[49m\u001b[38;5;241;43m=\u001b[39;49m\u001b[38;5;124;43m\"\u001b[39;49m\u001b[38;5;124;43m\"\u001b[39;49m\u001b[43m,\u001b[49m\n\u001b[0;32m    879\u001b[0m \u001b[43m        \u001b[49m\u001b[43m)\u001b[49m\n\u001b[0;32m    880\u001b[0m     \u001b[38;5;28;01melse\u001b[39;00m:\n\u001b[0;32m    881\u001b[0m         \u001b[38;5;66;03m# Binary mode\u001b[39;00m\n\u001b[0;32m    882\u001b[0m         handle \u001b[38;5;241m=\u001b[39m \u001b[38;5;28mopen\u001b[39m(handle, ioargs\u001b[38;5;241m.\u001b[39mmode)\n",
            "\u001b[1;31mFileNotFoundError\u001b[0m: [Errno 2] No such file or directory: './data/family_name_goo.csv'"
          ]
        }
      ],
      "source": [
        "import pandas as pd\n",
        "import folium\n",
        "import json\n",
        "import webbrowser\n",
        "\n",
        "# 1.지역별 구씨 정보 가져오기\n",
        "file = './data/family_name_goo.csv'\n",
        "df = pd.read_csv(file, encoding = 'cp949')\n",
        "df.head()\n",
        "\n",
        "\n",
        "# 2.GeoJson 파일 불러오기\n",
        "file = './data/geo/skorea-provinces-geo.json'          # 대한민국 시도\n",
        "data = open(file, 'r', encoding='utf-8').read()\n",
        "geo_data = json.loads(data)\n",
        "geo_data\n",
        "\n",
        "\n",
        "# 3.지도에 분포 표시하기\n",
        "m = folium.Map(location=[37.566345, 126.977893], zoom_start=7, tiles=\"OpenStreetMap\")\n",
        "\n",
        "# 4.지도 경계별 색상 칠하기\n",
        "folium.Choropleth(\n",
        "    geo_data=geo_data,\n",
        "    name='json_data',\n",
        "    data=df,\n",
        "    columns=('지역', '인구'),\n",
        "    key_on='feature.properties.name',\n",
        "    fill_color='YlOrRd',  # viridis\n",
        "    legend_name='인구',\n",
        ").add_to(m)\n",
        "\n",
        "# 5.데이터 분포 지도를 출력한다.\n",
        "file = '/data/map_family_name_goo.html'\n",
        "file = os.getcwd().replace('\\\\',\"/\") + file # 현재 위치 경로 가져오기\n",
        "m.save(file)\n",
        "webbrowser.get().open(file)"
      ]
    },
    {
      "cell_type": "markdown",
      "id": "b79c62c6-c264-4ca4-88f3-c8a08ae2b7cd",
      "metadata": {
        "id": "b79c62c6-c264-4ca4-88f3-c8a08ae2b7cd"
      },
      "source": [
        "-------------------"
      ]
    },
    {
      "cell_type": "markdown",
      "id": "fbc32bb1",
      "metadata": {
        "id": "fbc32bb1"
      },
      "source": [
        "### [실습문제] : 서울특별시 행정구역별 의미 있는 색상 칠하기\n",
        "- 참고 : https://github.com/raqoon886/Local_HangJeongDong\n",
        "- 행정구역 데이터 : skorea-provinces-geo.json\n",
        "- 행정구역별 인구 데이터 : 행정구역별-인구현황.csv\n",
        "- 행정구역별 인구 데이터 조회 및 다운로드 : https://jumin.mois.go.kr/ 에서 2022년 데이터 검색"
      ]
    },
    {
      "cell_type": "markdown",
      "id": "1ee077bb-837a-431d-9c47-44b6c5398e02",
      "metadata": {
        "id": "1ee077bb-837a-431d-9c47-44b6c5398e02"
      },
      "source": [
        "#### 1. 서울특별시 인구 데이터 전처리하기\n",
        "- 전처리 대상 : 202403_202403_주민등록인구및세대현황_월간.csv\n",
        "- 전처리 작업 : 행정구역, 전체인구, 남자인구, 여자인구 데이터만 추출하기"
      ]
    },
    {
      "cell_type": "code",
      "execution_count": null,
      "id": "86ac3a9c-6e03-48b9-a18e-8b5f58080c6c",
      "metadata": {
        "scrolled": true,
        "id": "86ac3a9c-6e03-48b9-a18e-8b5f58080c6c",
        "outputId": "37079b5d-d217-44ea-d6c7-d4273317539c"
      },
      "outputs": [
        {
          "data": {
            "text/html": [
              "<div>\n",
              "<style scoped>\n",
              "    .dataframe tbody tr th:only-of-type {\n",
              "        vertical-align: middle;\n",
              "    }\n",
              "\n",
              "    .dataframe tbody tr th {\n",
              "        vertical-align: top;\n",
              "    }\n",
              "\n",
              "    .dataframe thead th {\n",
              "        text-align: right;\n",
              "    }\n",
              "</style>\n",
              "<table border=\"1\" class=\"dataframe\">\n",
              "  <thead>\n",
              "    <tr style=\"text-align: right;\">\n",
              "      <th></th>\n",
              "      <th>행정구역</th>\n",
              "      <th>2024년03월_총인구수</th>\n",
              "      <th>2024년03월_세대수</th>\n",
              "      <th>2024년03월_세대당 인구</th>\n",
              "      <th>2024년03월_남자 인구수</th>\n",
              "      <th>2024년03월_여자 인구수</th>\n",
              "      <th>2024년03월_남여 비율</th>\n",
              "    </tr>\n",
              "  </thead>\n",
              "  <tbody>\n",
              "    <tr>\n",
              "      <th>0</th>\n",
              "      <td>서울특별시  (1100000000)</td>\n",
              "      <td>9,384,739</td>\n",
              "      <td>4,485,819</td>\n",
              "      <td>2.09</td>\n",
              "      <td>4,536,128</td>\n",
              "      <td>4,848,611</td>\n",
              "      <td>0.94</td>\n",
              "    </tr>\n",
              "    <tr>\n",
              "      <th>1</th>\n",
              "      <td>서울특별시 서울특별시 종로구 (1111000000)</td>\n",
              "      <td>139,498</td>\n",
              "      <td>72,404</td>\n",
              "      <td>1.93</td>\n",
              "      <td>67,228</td>\n",
              "      <td>72,270</td>\n",
              "      <td>0.93</td>\n",
              "    </tr>\n",
              "    <tr>\n",
              "      <th>2</th>\n",
              "      <td>서울특별시 서울특별시 중구 (1114000000)</td>\n",
              "      <td>121,602</td>\n",
              "      <td>65,132</td>\n",
              "      <td>1.87</td>\n",
              "      <td>58,767</td>\n",
              "      <td>62,835</td>\n",
              "      <td>0.94</td>\n",
              "    </tr>\n",
              "    <tr>\n",
              "      <th>3</th>\n",
              "      <td>서울특별시 서울특별시 용산구 (1117000000)</td>\n",
              "      <td>209,849</td>\n",
              "      <td>106,272</td>\n",
              "      <td>1.97</td>\n",
              "      <td>100,488</td>\n",
              "      <td>109,361</td>\n",
              "      <td>0.92</td>\n",
              "    </tr>\n",
              "    <tr>\n",
              "      <th>4</th>\n",
              "      <td>서울특별시 서울특별시 성동구 (1120000000)</td>\n",
              "      <td>276,964</td>\n",
              "      <td>133,374</td>\n",
              "      <td>2.08</td>\n",
              "      <td>134,232</td>\n",
              "      <td>142,732</td>\n",
              "      <td>0.94</td>\n",
              "    </tr>\n",
              "  </tbody>\n",
              "</table>\n",
              "</div>"
            ],
            "text/plain": [
              "                           행정구역 2024년03월_총인구수 2024년03월_세대수  2024년03월_세대당 인구  \\\n",
              "0           서울특별시  (1100000000)     9,384,739    4,485,819             2.09   \n",
              "1  서울특별시 서울특별시 종로구 (1111000000)       139,498       72,404             1.93   \n",
              "2   서울특별시 서울특별시 중구 (1114000000)       121,602       65,132             1.87   \n",
              "3  서울특별시 서울특별시 용산구 (1117000000)       209,849      106,272             1.97   \n",
              "4  서울특별시 서울특별시 성동구 (1120000000)       276,964      133,374             2.08   \n",
              "\n",
              "  2024년03월_남자 인구수 2024년03월_여자 인구수  2024년03월_남여 비율  \n",
              "0       4,536,128       4,848,611            0.94  \n",
              "1          67,228          72,270            0.93  \n",
              "2          58,767          62,835            0.94  \n",
              "3         100,488         109,361            0.92  \n",
              "4         134,232         142,732            0.94  "
            ]
          },
          "execution_count": 13,
          "metadata": {},
          "output_type": "execute_result"
        }
      ],
      "source": [
        "# 1. 서울특별시 인구 데이터 가져오기\n",
        "import pandas as pd\n",
        "import json\n",
        "import folium\n",
        "import webbrowser\n",
        "\n",
        "file = './data/geo/202403_202403_주민등록인구및세대현황_월간.csv'\n",
        "df = pd.read_csv(file, encoding = 'cp949')\n",
        "df.head()"
      ]
    },
    {
      "cell_type": "code",
      "execution_count": null,
      "id": "fffa6511-0b56-4e23-866f-6fe3960cd27f",
      "metadata": {
        "id": "fffa6511-0b56-4e23-866f-6fe3960cd27f",
        "outputId": "89136e4a-f35d-4914-8e6b-02ddc552def0"
      },
      "outputs": [
        {
          "data": {
            "text/html": [
              "<div>\n",
              "<style scoped>\n",
              "    .dataframe tbody tr th:only-of-type {\n",
              "        vertical-align: middle;\n",
              "    }\n",
              "\n",
              "    .dataframe tbody tr th {\n",
              "        vertical-align: top;\n",
              "    }\n",
              "\n",
              "    .dataframe thead th {\n",
              "        text-align: right;\n",
              "    }\n",
              "</style>\n",
              "<table border=\"1\" class=\"dataframe\">\n",
              "  <thead>\n",
              "    <tr style=\"text-align: right;\">\n",
              "      <th></th>\n",
              "      <th>행정구역</th>\n",
              "      <th>total</th>\n",
              "      <th>남자인구</th>\n",
              "      <th>여자인구</th>\n",
              "    </tr>\n",
              "  </thead>\n",
              "  <tbody>\n",
              "    <tr>\n",
              "      <th>0</th>\n",
              "      <td>서울특별시  (1100000000)</td>\n",
              "      <td>9,384,739</td>\n",
              "      <td>4,536,128</td>\n",
              "      <td>4,848,611</td>\n",
              "    </tr>\n",
              "    <tr>\n",
              "      <th>1</th>\n",
              "      <td>서울특별시 서울특별시 종로구 (1111000000)</td>\n",
              "      <td>139,498</td>\n",
              "      <td>67,228</td>\n",
              "      <td>72,270</td>\n",
              "    </tr>\n",
              "  </tbody>\n",
              "</table>\n",
              "</div>"
            ],
            "text/plain": [
              "                           행정구역      total       남자인구       여자인구\n",
              "0           서울특별시  (1100000000)  9,384,739  4,536,128  4,848,611\n",
              "1  서울특별시 서울특별시 종로구 (1111000000)    139,498     67,228     72,270"
            ]
          },
          "execution_count": 14,
          "metadata": {},
          "output_type": "execute_result"
        }
      ],
      "source": [
        "# 필요한 컬럼만 추출해서 새로운 DataFrame으로 지정하기 : ['행정구역','', '남자인구', '여자인구']\n",
        "df_t = df[ ['행정구역','2024년03월_총인구수','2024년03월_남자 인구수','2024년03월_여자 인구수']]\n",
        "df_t.columns = ['행정구역','total', '남자인구', '여자인구']\n",
        "df_t.head(2)"
      ]
    },
    {
      "cell_type": "code",
      "execution_count": null,
      "id": "ecea1c10-8d78-4578-ad3f-711aa26eb7db",
      "metadata": {
        "scrolled": true,
        "id": "ecea1c10-8d78-4578-ad3f-711aa26eb7db",
        "outputId": "1387e160-51d7-4809-dcb0-ba9a1e8a6606"
      },
      "outputs": [
        {
          "name": "stderr",
          "output_type": "stream",
          "text": [
            "C:\\Users\\501-12\\AppData\\Local\\Temp\\ipykernel_9492\\607581864.py:2: SettingWithCopyWarning: \n",
            "A value is trying to be set on a copy of a slice from a DataFrame\n",
            "\n",
            "See the caveats in the documentation: https://pandas.pydata.org/pandas-docs/stable/user_guide/indexing.html#returning-a-view-versus-a-copy\n",
            "  df_t.drop(0, axis=0, inplace=True)\n"
          ]
        },
        {
          "data": {
            "text/html": [
              "<div>\n",
              "<style scoped>\n",
              "    .dataframe tbody tr th:only-of-type {\n",
              "        vertical-align: middle;\n",
              "    }\n",
              "\n",
              "    .dataframe tbody tr th {\n",
              "        vertical-align: top;\n",
              "    }\n",
              "\n",
              "    .dataframe thead th {\n",
              "        text-align: right;\n",
              "    }\n",
              "</style>\n",
              "<table border=\"1\" class=\"dataframe\">\n",
              "  <thead>\n",
              "    <tr style=\"text-align: right;\">\n",
              "      <th></th>\n",
              "      <th>행정구역</th>\n",
              "      <th>total</th>\n",
              "      <th>남자인구</th>\n",
              "      <th>여자인구</th>\n",
              "    </tr>\n",
              "  </thead>\n",
              "  <tbody>\n",
              "    <tr>\n",
              "      <th>1</th>\n",
              "      <td>서울특별시 서울특별시 종로구 (1111000000)</td>\n",
              "      <td>139,498</td>\n",
              "      <td>67,228</td>\n",
              "      <td>72,270</td>\n",
              "    </tr>\n",
              "    <tr>\n",
              "      <th>2</th>\n",
              "      <td>서울특별시 서울특별시 중구 (1114000000)</td>\n",
              "      <td>121,602</td>\n",
              "      <td>58,767</td>\n",
              "      <td>62,835</td>\n",
              "    </tr>\n",
              "  </tbody>\n",
              "</table>\n",
              "</div>"
            ],
            "text/plain": [
              "                           행정구역    total    남자인구    여자인구\n",
              "1  서울특별시 서울특별시 종로구 (1111000000)  139,498  67,228  72,270\n",
              "2   서울특별시 서울특별시 중구 (1114000000)  121,602  58,767  62,835"
            ]
          },
          "execution_count": 15,
          "metadata": {},
          "output_type": "execute_result"
        }
      ],
      "source": [
        "# 첫 번째 row 삭제하기\n",
        "df_t.drop(0, axis=0, inplace=True)\n",
        "df_t.head(2)"
      ]
    },
    {
      "cell_type": "code",
      "execution_count": null,
      "id": "c3c9212e-adb1-4db3-88c4-8f035fb4795b",
      "metadata": {
        "scrolled": true,
        "id": "c3c9212e-adb1-4db3-88c4-8f035fb4795b",
        "outputId": "050b1da7-6396-4b20-9f88-ec2a762cf02e"
      },
      "outputs": [
        {
          "data": {
            "text/html": [
              "<div>\n",
              "<style scoped>\n",
              "    .dataframe tbody tr th:only-of-type {\n",
              "        vertical-align: middle;\n",
              "    }\n",
              "\n",
              "    .dataframe tbody tr th {\n",
              "        vertical-align: top;\n",
              "    }\n",
              "\n",
              "    .dataframe thead th {\n",
              "        text-align: right;\n",
              "    }\n",
              "</style>\n",
              "<table border=\"1\" class=\"dataframe\">\n",
              "  <thead>\n",
              "    <tr style=\"text-align: right;\">\n",
              "      <th></th>\n",
              "      <th>행정구역</th>\n",
              "      <th>sido</th>\n",
              "      <th>시군구</th>\n",
              "      <th>total</th>\n",
              "      <th>남자인구</th>\n",
              "      <th>여자인구</th>\n",
              "    </tr>\n",
              "  </thead>\n",
              "  <tbody>\n",
              "    <tr>\n",
              "      <th>1</th>\n",
              "      <td>서울특별시 서울특별시 종로구 (1111000000)</td>\n",
              "      <td>서울특별시</td>\n",
              "      <td>종로구</td>\n",
              "      <td>139,498</td>\n",
              "      <td>67,228</td>\n",
              "      <td>72,270</td>\n",
              "    </tr>\n",
              "    <tr>\n",
              "      <th>2</th>\n",
              "      <td>서울특별시 서울특별시 중구 (1114000000)</td>\n",
              "      <td>서울특별시</td>\n",
              "      <td>중구</td>\n",
              "      <td>121,602</td>\n",
              "      <td>58,767</td>\n",
              "      <td>62,835</td>\n",
              "    </tr>\n",
              "    <tr>\n",
              "      <th>3</th>\n",
              "      <td>서울특별시 서울특별시 용산구 (1117000000)</td>\n",
              "      <td>서울특별시</td>\n",
              "      <td>용산구</td>\n",
              "      <td>209,849</td>\n",
              "      <td>100,488</td>\n",
              "      <td>109,361</td>\n",
              "    </tr>\n",
              "    <tr>\n",
              "      <th>4</th>\n",
              "      <td>서울특별시 서울특별시 성동구 (1120000000)</td>\n",
              "      <td>서울특별시</td>\n",
              "      <td>성동구</td>\n",
              "      <td>276,964</td>\n",
              "      <td>134,232</td>\n",
              "      <td>142,732</td>\n",
              "    </tr>\n",
              "    <tr>\n",
              "      <th>5</th>\n",
              "      <td>서울특별시 서울특별시 광진구 (1121500000)</td>\n",
              "      <td>서울특별시</td>\n",
              "      <td>광진구</td>\n",
              "      <td>335,105</td>\n",
              "      <td>160,888</td>\n",
              "      <td>174,217</td>\n",
              "    </tr>\n",
              "  </tbody>\n",
              "</table>\n",
              "</div>"
            ],
            "text/plain": [
              "                           행정구역   sido  시군구    total     남자인구     여자인구\n",
              "1  서울특별시 서울특별시 종로구 (1111000000)  서울특별시  종로구  139,498   67,228   72,270\n",
              "2   서울특별시 서울특별시 중구 (1114000000)  서울특별시   중구  121,602   58,767   62,835\n",
              "3  서울특별시 서울특별시 용산구 (1117000000)  서울특별시  용산구  209,849  100,488  109,361\n",
              "4  서울특별시 서울특별시 성동구 (1120000000)  서울특별시  성동구  276,964  134,232  142,732\n",
              "5  서울특별시 서울특별시 광진구 (1121500000)  서울특별시  광진구  335,105  160,888  174,217"
            ]
          },
          "execution_count": 16,
          "metadata": {},
          "output_type": "execute_result"
        }
      ],
      "source": [
        "# 행정구역 시, 군 분리하기\n",
        "df_t.insert(1, 'sido', df_t['행정구역'].str.split(' ').str[0]) # 인덱스 1 위치에 추가\n",
        "df_t.insert(2, '시군구', df_t['행정구역'].str.split(' ').str[2]) # 인덱스 2 위치에 추가\n",
        "df_t.head()"
      ]
    },
    {
      "cell_type": "code",
      "execution_count": null,
      "id": "fcdb05e7-83ea-42d1-b123-cb3af5269b30",
      "metadata": {
        "scrolled": true,
        "id": "fcdb05e7-83ea-42d1-b123-cb3af5269b30",
        "outputId": "e7bd450e-e85e-4554-8995-40ab23e888cd"
      },
      "outputs": [
        {
          "name": "stderr",
          "output_type": "stream",
          "text": [
            "C:\\Users\\501-12\\AppData\\Local\\Temp\\ipykernel_9492\\677443701.py:2: SettingWithCopyWarning: \n",
            "A value is trying to be set on a copy of a slice from a DataFrame.\n",
            "Try using .loc[row_indexer,col_indexer] = value instead\n",
            "\n",
            "See the caveats in the documentation: https://pandas.pydata.org/pandas-docs/stable/user_guide/indexing.html#returning-a-view-versus-a-copy\n",
            "  df_t['total'] = df_t['total'].str.replace(',','').apply('int64')\n",
            "C:\\Users\\501-12\\AppData\\Local\\Temp\\ipykernel_9492\\677443701.py:3: SettingWithCopyWarning: \n",
            "A value is trying to be set on a copy of a slice from a DataFrame.\n",
            "Try using .loc[row_indexer,col_indexer] = value instead\n",
            "\n",
            "See the caveats in the documentation: https://pandas.pydata.org/pandas-docs/stable/user_guide/indexing.html#returning-a-view-versus-a-copy\n",
            "  df_t['남자인구'] = df_t['남자인구'].str.replace(',','').apply('int64')\n",
            "C:\\Users\\501-12\\AppData\\Local\\Temp\\ipykernel_9492\\677443701.py:4: SettingWithCopyWarning: \n",
            "A value is trying to be set on a copy of a slice from a DataFrame.\n",
            "Try using .loc[row_indexer,col_indexer] = value instead\n",
            "\n",
            "See the caveats in the documentation: https://pandas.pydata.org/pandas-docs/stable/user_guide/indexing.html#returning-a-view-versus-a-copy\n",
            "  df_t['여자인구'] = df_t['여자인구'].str.replace(',','').apply('int64')\n"
          ]
        },
        {
          "data": {
            "text/html": [
              "<div>\n",
              "<style scoped>\n",
              "    .dataframe tbody tr th:only-of-type {\n",
              "        vertical-align: middle;\n",
              "    }\n",
              "\n",
              "    .dataframe tbody tr th {\n",
              "        vertical-align: top;\n",
              "    }\n",
              "\n",
              "    .dataframe thead th {\n",
              "        text-align: right;\n",
              "    }\n",
              "</style>\n",
              "<table border=\"1\" class=\"dataframe\">\n",
              "  <thead>\n",
              "    <tr style=\"text-align: right;\">\n",
              "      <th></th>\n",
              "      <th>행정구역</th>\n",
              "      <th>sido</th>\n",
              "      <th>시군구</th>\n",
              "      <th>total</th>\n",
              "      <th>남자인구</th>\n",
              "      <th>여자인구</th>\n",
              "    </tr>\n",
              "  </thead>\n",
              "  <tbody>\n",
              "    <tr>\n",
              "      <th>1</th>\n",
              "      <td>서울특별시 서울특별시 종로구 (1111000000)</td>\n",
              "      <td>서울특별시</td>\n",
              "      <td>종로구</td>\n",
              "      <td>139498</td>\n",
              "      <td>67228</td>\n",
              "      <td>72270</td>\n",
              "    </tr>\n",
              "    <tr>\n",
              "      <th>2</th>\n",
              "      <td>서울특별시 서울특별시 중구 (1114000000)</td>\n",
              "      <td>서울특별시</td>\n",
              "      <td>중구</td>\n",
              "      <td>121602</td>\n",
              "      <td>58767</td>\n",
              "      <td>62835</td>\n",
              "    </tr>\n",
              "    <tr>\n",
              "      <th>3</th>\n",
              "      <td>서울특별시 서울특별시 용산구 (1117000000)</td>\n",
              "      <td>서울특별시</td>\n",
              "      <td>용산구</td>\n",
              "      <td>209849</td>\n",
              "      <td>100488</td>\n",
              "      <td>109361</td>\n",
              "    </tr>\n",
              "    <tr>\n",
              "      <th>4</th>\n",
              "      <td>서울특별시 서울특별시 성동구 (1120000000)</td>\n",
              "      <td>서울특별시</td>\n",
              "      <td>성동구</td>\n",
              "      <td>276964</td>\n",
              "      <td>134232</td>\n",
              "      <td>142732</td>\n",
              "    </tr>\n",
              "    <tr>\n",
              "      <th>5</th>\n",
              "      <td>서울특별시 서울특별시 광진구 (1121500000)</td>\n",
              "      <td>서울특별시</td>\n",
              "      <td>광진구</td>\n",
              "      <td>335105</td>\n",
              "      <td>160888</td>\n",
              "      <td>174217</td>\n",
              "    </tr>\n",
              "  </tbody>\n",
              "</table>\n",
              "</div>"
            ],
            "text/plain": [
              "                           행정구역   sido  시군구   total    남자인구    여자인구\n",
              "1  서울특별시 서울특별시 종로구 (1111000000)  서울특별시  종로구  139498   67228   72270\n",
              "2   서울특별시 서울특별시 중구 (1114000000)  서울특별시   중구  121602   58767   62835\n",
              "3  서울특별시 서울특별시 용산구 (1117000000)  서울특별시  용산구  209849  100488  109361\n",
              "4  서울특별시 서울특별시 성동구 (1120000000)  서울특별시  성동구  276964  134232  142732\n",
              "5  서울특별시 서울특별시 광진구 (1121500000)  서울특별시  광진구  335105  160888  174217"
            ]
          },
          "execution_count": 17,
          "metadata": {},
          "output_type": "execute_result"
        }
      ],
      "source": [
        "# 문자열 --> 숫자로 변환하기\n",
        "df_t['total'] = df_t['total'].str.replace(',','').apply('int64')\n",
        "df_t['남자인구'] = df_t['남자인구'].str.replace(',','').apply('int64')\n",
        "df_t['여자인구'] = df_t['여자인구'].str.replace(',','').apply('int64')\n",
        "df_t.head()"
      ]
    },
    {
      "cell_type": "code",
      "execution_count": null,
      "id": "2cfbb0ee-62da-4022-8267-6d197edaf5da",
      "metadata": {
        "id": "2cfbb0ee-62da-4022-8267-6d197edaf5da",
        "outputId": "c3b09cec-f106-4591-9d8f-bd642852a3af"
      },
      "outputs": [
        {
          "data": {
            "text/plain": [
              "['강남구',\n",
              " '강동구',\n",
              " '강북구',\n",
              " '강서구',\n",
              " '관악구',\n",
              " '광진구',\n",
              " '구로구',\n",
              " '금천구',\n",
              " '노원구',\n",
              " '도봉구',\n",
              " '동대문구',\n",
              " '동작구',\n",
              " '마포구',\n",
              " '서대문구',\n",
              " '서초구',\n",
              " '성동구',\n",
              " '성북구',\n",
              " '송파구',\n",
              " '양천구',\n",
              " '영등포구',\n",
              " '용산구',\n",
              " '은평구',\n",
              " '종로구',\n",
              " '중구',\n",
              " '중랑구']"
            ]
          },
          "execution_count": 18,
          "metadata": {},
          "output_type": "execute_result"
        }
      ],
      "source": [
        "# 2.GeoJson 파일 불러오기\n",
        "# 방법1\n",
        "geo_data = 'https://raw.githubusercontent.com/southkorea/seoul-maps/master/kostat/2013/json/seoul_municipalities_geo_simple.json'\n",
        "\n",
        "#방법2\n",
        "file = './data/geo/seoul_geo_simple.json'         # 서울특별시 시군구\n",
        "data = open(file, 'r', encoding='utf-8').read()\n",
        "geo_data = json.loads(data)\n",
        "len(geo_data['features'])\n",
        "tmp = []\n",
        "for idx in range(len(geo_data['features'])):\n",
        "    tmp.append(geo_data['features'][idx]['properties']['name'])\n",
        "tmp.sort()\n",
        "tmp"
      ]
    },
    {
      "cell_type": "code",
      "execution_count": null,
      "id": "9af7dca6-74e6-44e6-9698-c935ee77df02",
      "metadata": {
        "id": "9af7dca6-74e6-44e6-9698-c935ee77df02",
        "outputId": "b2d4f700-5282-4da9-ec42-ec9e9a2a9732"
      },
      "outputs": [
        {
          "data": {
            "text/plain": [
              "True"
            ]
          },
          "execution_count": 19,
          "metadata": {},
          "output_type": "execute_result"
        }
      ],
      "source": [
        "# 3.지도에 분포 표시하기\n",
        "m = folium.Map(location=[37.566345, 126.977893], zoom_start=11, tiles=\"OpenStreetMap\")\n",
        "\n",
        "# 4.지도 경계별 색상 칠하기\n",
        "folium.Choropleth(\n",
        "    geo_data=geo_data,\n",
        "    name='인구수',\n",
        "    data=df_t,\n",
        "    columns=('시군구', 'total'),\n",
        "    key_on='feature.properties.name',\n",
        "    fill_color='BuPu',  # viridis\n",
        "    legend_name='total',\n",
        "    line_weight=2,\n",
        "    highlight=True\n",
        ").add_to(m)\n",
        "\n",
        "# 5.데이터 분포 지도를 출력한다.\n",
        "file = '/data/map_seoul_person.html'\n",
        "file = os.getcwd().replace('\\\\',\"/\") + file # 현재 위치 경로 가져오기\n",
        "m.save(file)\n",
        "webbrowser.get().open(file)"
      ]
    },
    {
      "cell_type": "markdown",
      "id": "01972598",
      "metadata": {
        "id": "01972598"
      },
      "source": [
        "-----------------------------------------"
      ]
    },
    {
      "cell_type": "markdown",
      "id": "84cfc183",
      "metadata": {
        "id": "84cfc183"
      },
      "source": [
        "THE END"
      ]
    }
  ],
  "metadata": {
    "kernelspec": {
      "display_name": "Python 3 (ipykernel)",
      "language": "python",
      "name": "python3"
    },
    "language_info": {
      "codemirror_mode": {
        "name": "ipython",
        "version": 3
      },
      "file_extension": ".py",
      "mimetype": "text/x-python",
      "name": "python",
      "nbconvert_exporter": "python",
      "pygments_lexer": "ipython3",
      "version": "3.12.2"
    },
    "vscode": {
      "interpreter": {
        "hash": "b41e41bff03a930185ac2cbea60ce521f7c8c2f5401ceb5c30214081f77ab4f5"
      }
    },
    "colab": {
      "provenance": [],
      "include_colab_link": true
    }
  },
  "nbformat": 4,
  "nbformat_minor": 5
}