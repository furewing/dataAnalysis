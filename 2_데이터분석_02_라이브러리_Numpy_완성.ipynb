{
  "cells": [
    {
      "cell_type": "markdown",
      "metadata": {
        "id": "view-in-github",
        "colab_type": "text"
      },
      "source": [
        "<a href=\"https://colab.research.google.com/github/furewing/dataAnalysis/blob/main/2_%EB%8D%B0%EC%9D%B4%ED%84%B0%EB%B6%84%EC%84%9D_02_%EB%9D%BC%EC%9D%B4%EB%B8%8C%EB%9F%AC%EB%A6%AC_Numpy_%EC%99%84%EC%84%B1.ipynb\" target=\"_parent\"><img src=\"https://colab.research.google.com/assets/colab-badge.svg\" alt=\"Open In Colab\"/></a>"
      ]
    },
    {
      "cell_type": "markdown",
      "id": "6c983c03",
      "metadata": {
        "id": "6c983c03"
      },
      "source": [
        "# Numpy\n",
        "교재: 데이터 과학을 위한 파이썬 머신러닝(Chapter03)"
      ]
    },
    {
      "cell_type": "markdown",
      "id": "9476178e",
      "metadata": {
        "id": "9476178e"
      },
      "source": [
        "- <a href=\"#03.1넘파이란\">03.1 넘파이란</a>\n",
        "- <a href=\"#03.2넘파이배열객체다루기\">03.2 넘파이 배열 객체 다루기</a>\n",
        "- <a href=\"#03.3넘파이배열연산\">03.3 넘파이 배열 연산</a>\n",
        "- <a href=\"#03.4비교연산과데이터추출\">03.4 비교 연산과 데이터 추출</a>"
      ]
    },
    {
      "cell_type": "markdown",
      "id": "330e9146",
      "metadata": {
        "id": "330e9146"
      },
      "source": [
        "---------------"
      ]
    },
    {
      "cell_type": "markdown",
      "id": "07cd7ca1",
      "metadata": {
        "id": "07cd7ca1"
      },
      "source": [
        "### 라이브러리 설치"
      ]
    },
    {
      "cell_type": "code",
      "execution_count": null,
      "id": "10194609",
      "metadata": {
        "id": "10194609"
      },
      "outputs": [],
      "source": [
        "!pip install numpy"
      ]
    },
    {
      "cell_type": "code",
      "execution_count": 1,
      "id": "13fe60b5",
      "metadata": {
        "scrolled": true,
        "colab": {
          "base_uri": "https://localhost:8080/"
        },
        "id": "13fe60b5",
        "outputId": "0dc47507-bc42-4b98-9a7d-93aadb7b3ca2"
      },
      "outputs": [
        {
          "output_type": "stream",
          "name": "stdout",
          "text": [
            "numpy version : 1.25.2\n"
          ]
        }
      ],
      "source": [
        "import numpy as np\n",
        "print(f'numpy version : {np.__version__}')"
      ]
    },
    {
      "cell_type": "markdown",
      "id": "455016db",
      "metadata": {
        "id": "455016db"
      },
      "source": [
        "------------------------------"
      ]
    },
    {
      "cell_type": "markdown",
      "id": "dd312d9d",
      "metadata": {
        "id": "dd312d9d"
      },
      "source": [
        "## <a name=\"03.1넘파이란\">03.1 넘파이란</a>"
      ]
    },
    {
      "cell_type": "markdown",
      "id": "96230a28",
      "metadata": {
        "id": "96230a28"
      },
      "source": [
        "- https://numpy.org/\n",
        "- 파이썬의 고성능 과학 계산용 라이브러리\n",
        "- 벡터나 행렬 같은 선형대수의 표현법을 코드로 처리\n",
        "- 사실상의 표준 라이브러리\n",
        "- 다차원 리스트나 크기가 큰 데이터 처리에 유리"
      ]
    },
    {
      "cell_type": "markdown",
      "id": "d3df7631",
      "metadata": {
        "id": "d3df7631"
      },
      "source": [
        "### [예제] 선형대수의 표현법을 코드로 처리\n",
        "$2x_1 + 2x_2 + x_3 = 9$ <br>\n",
        "$2x_1 - x_2 + 2x_3 = 6$ <br>\n",
        "$x_1 - x_2 + 2x_3 = 5$ <br>"
      ]
    },
    {
      "cell_type": "markdown",
      "id": "ed88770b",
      "metadata": {
        "id": "ed88770b"
      },
      "source": [
        "### 특수 행렬\n",
        "- numpy 행렬을 위한 참고 정보\n",
        "\n",
        "|구분 |영문설명| numpy.함수명()|\n",
        "|:---|:---|:---|\n",
        "|대각행렬|Diagonal matrix | np.diag(x) |\n",
        "|내적(행렬 곱)|Dot Product, Inner product| np.dot(a,b) , a @ b|\n",
        "|대각합|Trace | np.trace(x)|\n",
        "|행렬식|Matrix Deteminant  | np.linalg.det(x) |\n",
        "|역행렬|Inverse of a matrix  | np.linalg.inv(x) |\n",
        "|고유값, 고유벡터 |Eigenvalue, Eigenvector  | w, v = np.linalg.eig(x) |\n",
        "|특이값 분해 |Singular value Decomposition  |u,s,vh = np.linalg.svd(A) |\n",
        "|연립방정식 해 풀기 |Solve a linear matrix equation  | np.linalg.slove(a, b) |\n",
        "|최소자승 해 풀기 |Compute the Least-squares solution  | m, c = np.linalg.lstsq(A,y,rcond=None)[0] |"
      ]
    },
    {
      "cell_type": "code",
      "execution_count": null,
      "id": "845eeafc",
      "metadata": {
        "id": "845eeafc"
      },
      "outputs": [],
      "source": [
        "arr1 = np.array([[2,2,1],\n",
        "                 [2,-1,2],\n",
        "                 [1,-1,2]])\n",
        "arr2 = np.array([[9],[6],[5]])\n",
        "print(f'선형연립방정식 결과:\\n{np.linalg.solve(arr1, arr2)}')"
      ]
    },
    {
      "cell_type": "code",
      "execution_count": 2,
      "id": "4212456a",
      "metadata": {
        "colab": {
          "base_uri": "https://localhost:8080/"
        },
        "id": "4212456a",
        "outputId": "dbd41fda-6cf5-451b-e835-c4fef2fe79bd"
      },
      "outputs": [
        {
          "output_type": "stream",
          "name": "stdout",
          "text": [
            "Matrix : Matrix([[2, 2, 1, 9], [2, -1, 2, 6], [1, -1, 2, 5]]) \n",
            "The Row echelon form of matrix M and the pivot columns : (Matrix([\n",
            "[1, 0, 0, 1],\n",
            "[0, 1, 0, 2],\n",
            "[0, 0, 1, 3]]), (0, 1, 2))\n"
          ]
        }
      ],
      "source": [
        "# sympy를 이용한 선형연립방정식 해 구하기\n",
        "from sympy import *\n",
        "\n",
        "M = Matrix([[2,2,1,9],\n",
        "            [2,-1,2,6],\n",
        "            [1,-1,2,5]])\n",
        "print(\"Matrix : {} \".format(M))\n",
        "\n",
        "# Use sympy.rref() method\n",
        "M_rref = M.rref()\n",
        "\n",
        "print(\"The Row echelon form of matrix M and the pivot columns : {}\".format(M_rref))"
      ]
    },
    {
      "cell_type": "markdown",
      "id": "2a511617",
      "metadata": {
        "id": "2a511617"
      },
      "source": [
        "### [예제] 사실상의 표준 라이브러리 (다른 라이브러리의 기본 라이브러리)"
      ]
    },
    {
      "cell_type": "code",
      "execution_count": null,
      "id": "3320b84c",
      "metadata": {
        "id": "3320b84c"
      },
      "outputs": [],
      "source": [
        "# 영상처리 & 컴퓨터 비전 라이브러리\n",
        "!pip install opencv-python"
      ]
    },
    {
      "cell_type": "code",
      "execution_count": null,
      "id": "3f96a631",
      "metadata": {
        "id": "3f96a631"
      },
      "outputs": [],
      "source": [
        "import sys\n",
        "import cv2\n",
        "\n",
        "image = cv2.imread('./cat.jpg')\n",
        "if image is None:\n",
        "    print('Image load failed!')\n",
        "    sys.exit()\n",
        "\n",
        "# print(image)\n",
        "print(type(image))\n",
        "print(image.dtype)\n",
        "\n",
        "# cv2_imshow(image)   # 코랩에서 이미지 확인하는 경우\n",
        "cv2.namedWindow('image')\n",
        "#cv2.imshow(\"image\", image)\n",
        "cv2_imshow(image)\n",
        "cv2.waitKey()\n",
        "cv2.destroyAllWindows()\n"
      ]
    },
    {
      "cell_type": "code",
      "execution_count": null,
      "id": "b2814eaa",
      "metadata": {
        "id": "b2814eaa"
      },
      "outputs": [],
      "source": [
        "# 머신러닝 라이브러리\n",
        "!pip install scikit-learn"
      ]
    },
    {
      "cell_type": "code",
      "execution_count": null,
      "id": "d07ee974",
      "metadata": {
        "id": "d07ee974"
      },
      "outputs": [],
      "source": [
        "from sklearn.datasets import load_iris\n",
        "\n",
        "iris = load_iris()\n",
        "\n",
        "iris"
      ]
    },
    {
      "cell_type": "markdown",
      "id": "200f47c8",
      "metadata": {
        "id": "200f47c8"
      },
      "source": [
        "### [예제] 다차원 리스트나 크기가 큰 데이터 처리에 유리\n",
        "loop 프로그래밍 없이 전체 배열에 대해서 표준 수학 함수를 매우 빠른 속도로 수행할 수 있습"
      ]
    },
    {
      "cell_type": "code",
      "execution_count": 2,
      "id": "e6a323f6",
      "metadata": {
        "colab": {
          "base_uri": "https://localhost:8080/"
        },
        "id": "e6a323f6",
        "outputId": "7439b735-c190-4421-900b-2c62ee2e498e"
      },
      "outputs": [
        {
          "output_type": "stream",
          "name": "stdout",
          "text": [
            "[ 0  1  2  3  4  5  6  7  8  9 10 11 12 13 14 15]\n",
            "[[ 0  1  2  3]\n",
            " [ 4  5  6  7]\n",
            " [ 8  9 10 11]\n",
            " [12 13 14 15]]\n",
            "[[[ 0  1]\n",
            "  [ 2  3]]\n",
            "\n",
            " [[ 4  5]\n",
            "  [ 6  7]]\n",
            "\n",
            " [[ 8  9]\n",
            "  [10 11]]\n",
            "\n",
            " [[12 13]\n",
            "  [14 15]]]\n"
          ]
        }
      ],
      "source": [
        "import numpy as np\n",
        "\n",
        "arr = np.arange(16)\n",
        "print(arr)\n",
        "arr1 = arr.reshape(4, -1)   # 2차원\n",
        "print(arr1)\n",
        "arr2 = arr.reshape(4, 2, 2) # 3차원 (면,행,렬)\n",
        "print(arr2)"
      ]
    },
    {
      "cell_type": "code",
      "execution_count": null,
      "id": "0bb4f438",
      "metadata": {
        "id": "0bb4f438"
      },
      "outputs": [],
      "source": [
        "import sys\n",
        "import numpy as np\n",
        "import cv2\n",
        "\n",
        "src = cv2.imread('./image/cat.jpg', cv2.IMREAD_GRAYSCALE)\n",
        "\n",
        "if src is None:\n",
        "    print('Image load failed!')\n",
        "    sys.exit()\n",
        "\n",
        "# 마스크처리: 부드럽게\n",
        "mask = np.array([[1/9,1/9,1/9],\n",
        "                [1/9,1/9,1/9],\n",
        "                [1/9,1/9,1/9]])\n",
        "# mask = np.ones((3,3), dtype=np.float64)/ 9.\n",
        "\n",
        "# 마스크처리: 날카롭게\n",
        "# mask = np.array([[0,-1,0],\n",
        "#                 [-1,4,-1],\n",
        "#                 [0,-1,0]])\n",
        "\n",
        "# 마스크 적용\n",
        "dst = cv2.filter2D(src, -1, mask)\n",
        "\n",
        "cv2.imshow('src', src)\n",
        "cv2.imshow('dst', dst)\n",
        "cv2.waitKey()  # 키가 눌려질때까지 기다리기\n",
        "cv2.destroyAllWindows()"
      ]
    },
    {
      "cell_type": "markdown",
      "id": "a326a44e",
      "metadata": {
        "id": "a326a44e"
      },
      "source": [
        "-----------------"
      ]
    },
    {
      "cell_type": "markdown",
      "id": "7c78c97e",
      "metadata": {
        "id": "7c78c97e"
      },
      "source": [
        "## <a name=\"03.2넘파이배열객체다루기\">03.2 넘파이 배열 객체 다루기</a>"
      ]
    },
    {
      "cell_type": "markdown",
      "id": "1867211e",
      "metadata": {
        "id": "1867211e"
      },
      "source": [
        "### 1. 넘파이 배열과 텐서"
      ]
    },
    {
      "cell_type": "code",
      "execution_count": 4,
      "id": "bb2fde31",
      "metadata": {
        "colab": {
          "base_uri": "https://localhost:8080/",
          "height": 955
        },
        "id": "bb2fde31",
        "outputId": "897ab951-66b4-45d0-db7d-cf3370617e4d"
      },
      "outputs": [
        {
          "output_type": "execute_result",
          "data": {
            "text/html": [
              "<img src=\"https://codetorial.net/tensorflow/_images/basics_of_tensor_01.png\"/>"
            ],
            "text/plain": [
              "<IPython.core.display.Image object>"
            ]
          },
          "metadata": {},
          "execution_count": 4
        }
      ],
      "source": [
        "from IPython.display import Image\n",
        "Image(url='https://codetorial.net/tensorflow/_images/basics_of_tensor_01.png') # 웹 파일"
      ]
    },
    {
      "cell_type": "markdown",
      "id": "196a3b11",
      "metadata": {
        "id": "196a3b11"
      },
      "source": [
        "### 2. 배열의 메모리 구조\n",
        "- https://numpy.org/doc/stable/reference/arrays.html\n",
        "- np.array 함수 사용하여 배열 생성\n",
        "- 배열의 모든 구성 요소에 값이 존재해야 함\n",
        "- 하나의 데이터 타입만 사용\n",
        "- 각 값 메모리 크기가 동일\n",
        "- 검색이나 연산 속도가 리스트에 비해 훨씬 빠름"
      ]
    },
    {
      "cell_type": "markdown",
      "id": "667377d6",
      "metadata": {
        "id": "667377d6"
      },
      "source": [
        "### 3. 배열의 생성 : np.array, dtype"
      ]
    },
    {
      "cell_type": "code",
      "execution_count": 3,
      "id": "459ed64c",
      "metadata": {
        "scrolled": false,
        "colab": {
          "base_uri": "https://localhost:8080/"
        },
        "id": "459ed64c",
        "outputId": "336b6c39-184d-4f72-88a1-d7b8546deccf"
      },
      "outputs": [
        {
          "output_type": "stream",
          "name": "stdout",
          "text": [
            "arr = [[[1 2 3 4]\n",
            "  [1 2 3 4]]\n",
            "\n",
            " [[1 2 3 4]\n",
            "  [1 2 3 4]]]\n",
            "type = <class 'numpy.ndarray'>\n",
            "dtype = int64\n",
            "shape = (2, 2, 4)\n",
            "dimension = 3\n",
            "strides = (64, 32, 8)\n"
          ]
        }
      ],
      "source": [
        "# np.array : 다차원 배열 생성\n",
        "arr = np.array([1,2,3,4])               # 1차원 배열 정의\n",
        "arr = np.array([[1,2,3,4],[1,2,3,4]])   # 2차원 배열 정의\n",
        "arr = np.array([[[1,2,3,4],[1,2,3,4]],[[1,2,3,4],[1,2,3,4]]])   # 3차원 배열 정의\n",
        "\n",
        "print(f'arr = {arr}')              # 배열\n",
        "print(f'type = {type(arr)}')       # 배열 타입\n",
        "print(f'dtype = {arr.dtype}')      # 배열 데이터 타입\n",
        "print(f'shape = {arr.shape}')      # 배열 구조\n",
        "print(f'dimension = {arr.ndim}')   # 차원\n",
        "print(f'strides = {arr.strides}')  # 각 dimensions를 건너가는데 몇 bytes나 뛰어넘어야 하는지에 대한 정보"
      ]
    },
    {
      "cell_type": "code",
      "execution_count": 5,
      "id": "13e7bf1d",
      "metadata": {
        "colab": {
          "base_uri": "https://localhost:8080/"
        },
        "id": "13e7bf1d",
        "outputId": "66299556-0195-440c-aa34-ffbcd7888e54"
      },
      "outputs": [
        {
          "output_type": "execute_result",
          "data": {
            "text/plain": [
              "finfo(resolution=1e-15, min=-1.7976931348623157e+308, max=1.7976931348623157e+308, dtype=float64)"
            ]
          },
          "metadata": {},
          "execution_count": 5
        }
      ],
      "source": [
        "# dtype : 데이터 타입 확인\n",
        "arr = np.array([1,2,3.5,4])\n",
        "arr = np.array([1,2,3.5,4], float)\n",
        "arr = np.array([1,2,3.5,4], dtype=np.float64)\n",
        "arr.itemsize  # itemsize로 넘파이 배열에서 각 요소가 차지하는 바이트(byte) 확인\n",
        "np.finfo('float64')        # float64 타입이 사용할 수 있는 값 범위 확인\n",
        "# np.f\\iinfo('float64')    # int종류 타입이 사용할 수 있는 값 범위 확인"
      ]
    },
    {
      "cell_type": "markdown",
      "id": "e2ee2bac",
      "metadata": {
        "id": "e2ee2bac"
      },
      "source": [
        "### 4. 배열의 구조 다루기 : reshape, flatten"
      ]
    },
    {
      "cell_type": "code",
      "execution_count": 6,
      "id": "902dd250",
      "metadata": {
        "colab": {
          "base_uri": "https://localhost:8080/"
        },
        "id": "902dd250",
        "outputId": "4965aaf6-983d-4e00-d31a-2e31554985dc"
      },
      "outputs": [
        {
          "output_type": "execute_result",
          "data": {
            "text/plain": [
              "(2, 4)"
            ]
          },
          "metadata": {},
          "execution_count": 6
        }
      ],
      "source": [
        "arr = np.array([[1,2,5,8],[1,2,5,8]])\n",
        "arr.shape"
      ]
    },
    {
      "cell_type": "code",
      "execution_count": null,
      "id": "ee7e0071",
      "metadata": {
        "id": "ee7e0071"
      },
      "outputs": [],
      "source": [
        "arr.reshape(4,2)\n",
        "arr.reshape(2,-1)"
      ]
    },
    {
      "cell_type": "code",
      "execution_count": 7,
      "id": "841587db",
      "metadata": {
        "colab": {
          "base_uri": "https://localhost:8080/"
        },
        "id": "841587db",
        "outputId": "7b2e3962-8a51-4f28-db4c-24e10db640f8"
      },
      "outputs": [
        {
          "output_type": "execute_result",
          "data": {
            "text/plain": [
              "array([[0, 1],\n",
              "       [2, 3],\n",
              "       [4, 5],\n",
              "       [6, 7]])"
            ]
          },
          "metadata": {},
          "execution_count": 7
        }
      ],
      "source": [
        "arr = np.array(range(8)).reshape(4,2)\n",
        "arr"
      ]
    },
    {
      "cell_type": "code",
      "execution_count": 8,
      "id": "3db5570e",
      "metadata": {
        "colab": {
          "base_uri": "https://localhost:8080/"
        },
        "id": "3db5570e",
        "outputId": "137020ee-5d1d-4dc9-b826-60d347a6afed"
      },
      "outputs": [
        {
          "output_type": "execute_result",
          "data": {
            "text/plain": [
              "array([0, 1, 2, 3, 4, 5, 6, 7])"
            ]
          },
          "metadata": {},
          "execution_count": 8
        }
      ],
      "source": [
        "arr.flatten()"
      ]
    },
    {
      "cell_type": "markdown",
      "id": "226e3d61",
      "metadata": {
        "id": "226e3d61"
      },
      "source": [
        "### 5. 인덱싱과 슬라이싱"
      ]
    },
    {
      "cell_type": "code",
      "execution_count": 9,
      "id": "9849fde4",
      "metadata": {
        "colab": {
          "base_uri": "https://localhost:8080/"
        },
        "id": "9849fde4",
        "outputId": "7ec4615e-52ed-41a0-ea8b-8a43720f12ec"
      },
      "outputs": [
        {
          "output_type": "execute_result",
          "data": {
            "text/plain": [
              "1"
            ]
          },
          "metadata": {},
          "execution_count": 9
        }
      ],
      "source": [
        "arr = np.array([[[1,2,3,4],[5,6,7,8]],[[9,10,11,12],[13,14,15,16]]])\n",
        "arr[0][0][0]  # 면(층),행,열"
      ]
    },
    {
      "cell_type": "code",
      "execution_count": 10,
      "id": "11c29590",
      "metadata": {
        "colab": {
          "base_uri": "https://localhost:8080/"
        },
        "id": "11c29590",
        "outputId": "a353f286-b00a-4164-f9f6-d813faf44e92"
      },
      "outputs": [
        {
          "output_type": "execute_result",
          "data": {
            "text/plain": [
              "array([[[ 1,  2,  3,  4],\n",
              "        [ 5,  6,  7,  8]],\n",
              "\n",
              "       [[ 9, 10, 11, 12],\n",
              "        [13, 14, 15, 16]]])"
            ]
          },
          "metadata": {},
          "execution_count": 10
        }
      ],
      "source": [
        "arr[::, ::, ::]# 면(층),행,열 (:: -> start:end:step)\n",
        "arr[:, :, :]"
      ]
    },
    {
      "cell_type": "code",
      "execution_count": null,
      "id": "87e084b2",
      "metadata": {
        "id": "87e084b2"
      },
      "outputs": [],
      "source": [
        "arr[1:, 1:, 2:4]# 면(층),행,열"
      ]
    },
    {
      "cell_type": "markdown",
      "id": "8a5e4ff3",
      "metadata": {
        "id": "8a5e4ff3"
      },
      "source": [
        "### 6.배열 생성 함수"
      ]
    },
    {
      "cell_type": "code",
      "execution_count": 11,
      "id": "3e76db91",
      "metadata": {
        "scrolled": false,
        "colab": {
          "base_uri": "https://localhost:8080/"
        },
        "id": "3e76db91",
        "outputId": "e4a05508-2edb-4470-8aab-39981211cd9e"
      },
      "outputs": [
        {
          "output_type": "stream",
          "name": "stdout",
          "text": [
            "np.arange(10)      : [0 1 2 3 4 5 6 7 8 9]\n",
            "np.arange(-5,5)    : [-5 -4 -3 -2 -1  0  1  2  3  4]\n",
            "np.arange(0,5,0.5) : [0.  0.5 1.  1.5 2.  2.5 3.  3.5 4.  4.5]\n"
          ]
        }
      ],
      "source": [
        "# arange()\n",
        "print(f'np.arange(10)      : {np.arange(10)}')\n",
        "print(f'np.arange(-5,5)    : {np.arange(-5,5)}')\n",
        "print(f'np.arange(0,5,0.5) : {np.arange(0,5,0.5)}')"
      ]
    },
    {
      "cell_type": "code",
      "execution_count": null,
      "id": "d3472e96",
      "metadata": {
        "scrolled": true,
        "id": "d3472e96"
      },
      "outputs": [],
      "source": [
        "a, b = 3, 4\n",
        "print('%d + %d = %d' % (a,b,a+b))\n",
        "print(f'{a} + {b} = {a+b}')"
      ]
    },
    {
      "cell_type": "code",
      "execution_count": null,
      "id": "65e6ed55",
      "metadata": {
        "id": "65e6ed55"
      },
      "outputs": [],
      "source": [
        "arr\n",
        "# np.ones(arr)"
      ]
    },
    {
      "cell_type": "code",
      "execution_count": 12,
      "id": "e61c34ea",
      "metadata": {
        "colab": {
          "base_uri": "https://localhost:8080/"
        },
        "id": "e61c34ea",
        "outputId": "b00451a1-ecae-4c98-b8a6-b3a3d5deb6f7"
      },
      "outputs": [
        {
          "output_type": "stream",
          "name": "stdout",
          "text": [
            "np.ones(shape=(2,4),dtype=np.float32) :\n",
            "[[1. 1. 1. 1.]\n",
            " [1. 1. 1. 1.]]\n",
            "np.zeros(shape=(2,4),dtype=np.float32) :\n",
            "[[0. 0. 0. 0.]\n",
            " [0. 0. 0. 0.]]\n",
            "np.empty(shape=(2,4),dtype=np.float32) :\n",
            "[[0. 0. 0. 0.]\n",
            " [0. 0. 0. 0.]]\n"
          ]
        }
      ],
      "source": [
        "# ones, zeros, empty\n",
        "print(f'np.ones(shape=(2,4),dtype=np.float32) :\\n{np.ones(shape=(2,4), dtype=np.float32)}')\n",
        "print(f'np.zeros(shape=(2,4),dtype=np.float32) :\\n{np.zeros(shape=(2,4), dtype=np.float32)}')\n",
        "print(f'np.empty(shape=(2,4),dtype=np.float32) :\\n{np.empty(shape=(2,4), dtype=np.float32)}')"
      ]
    },
    {
      "cell_type": "code",
      "execution_count": 13,
      "id": "2b071763",
      "metadata": {
        "colab": {
          "base_uri": "https://localhost:8080/"
        },
        "id": "2b071763",
        "outputId": "2814344f-f834-4f27-bb7d-602b57cfca01"
      },
      "outputs": [
        {
          "output_type": "stream",
          "name": "stdout",
          "text": [
            "[[ 0  1  2  3]\n",
            " [ 4  5  6  7]\n",
            " [ 8  9 10 11]]\n"
          ]
        },
        {
          "output_type": "execute_result",
          "data": {
            "text/plain": [
              "array([[0, 0, 0, 0],\n",
              "       [0, 0, 0, 0],\n",
              "       [0, 0, 0, 0]])"
            ]
          },
          "metadata": {},
          "execution_count": 13
        }
      ],
      "source": [
        "# ones_like, zeros_like, empty_like : 구조만 동일하게\n",
        "arr = np.arange(12).reshape(3,4)\n",
        "print(arr)\n",
        "np.ones_like(arr)\n",
        "np.zeros_like(arr)\n",
        "np.empty_like(arr)"
      ]
    },
    {
      "cell_type": "code",
      "execution_count": 14,
      "id": "eab93f22",
      "metadata": {
        "colab": {
          "base_uri": "https://localhost:8080/"
        },
        "id": "eab93f22",
        "outputId": "ea3989b6-cd64-487d-ab34-022ef694c578"
      },
      "outputs": [
        {
          "output_type": "execute_result",
          "data": {
            "text/plain": [
              "array([[0., 0., 1., 0., 0.],\n",
              "       [0., 0., 0., 1., 0.],\n",
              "       [0., 0., 0., 0., 1.]])"
            ]
          },
          "metadata": {},
          "execution_count": 14
        }
      ],
      "source": [
        "# identity, eye, diag\n",
        "np.identity(n=3, dtype=int)    # 매개변수 n으로 n×n 단위행렬 생성\n",
        "np.eye(N=3, M=5, k=2)          # 행(N), 열(M), 열인덱스시작(k) 지정하여 단위행렬 생성"
      ]
    },
    {
      "cell_type": "code",
      "execution_count": 15,
      "id": "99a54fcc",
      "metadata": {
        "colab": {
          "base_uri": "https://localhost:8080/"
        },
        "id": "99a54fcc",
        "outputId": "a8ac808b-3fb2-46b7-f646-aaf460adb1e5"
      },
      "outputs": [
        {
          "output_type": "execute_result",
          "data": {
            "text/plain": [
              "array([1, 5])"
            ]
          },
          "metadata": {},
          "execution_count": 15
        }
      ],
      "source": [
        "# diag : 행렬의 대각성분 값을 추출\n",
        "arr = np.arange(9).reshape(3,3)\n",
        "np.diag(arr)\n",
        "np.diag(arr, k=1)\n"
      ]
    },
    {
      "cell_type": "markdown",
      "id": "458b5ee9",
      "metadata": {
        "id": "458b5ee9"
      },
      "source": [
        "### 7. 통계 분석 함수"
      ]
    },
    {
      "cell_type": "code",
      "execution_count": 16,
      "id": "1bece9f8",
      "metadata": {
        "colab": {
          "base_uri": "https://localhost:8080/"
        },
        "id": "1bece9f8",
        "outputId": "f98edcca-c370-4e5f-a7c4-37aee0727754"
      },
      "outputs": [
        {
          "output_type": "execute_result",
          "data": {
            "text/plain": [
              "array([ 1.11043837,  2.02445189,  1.22695821, -0.85032802,  0.59926447,\n",
              "        0.50102754,  2.51052674,  1.87434657, -2.7305903 , -1.27780291])"
            ]
          },
          "metadata": {},
          "execution_count": 16
        }
      ],
      "source": [
        "# normal 함수 : 정규분포 함수\n",
        "np.random.normal(0, 2, 10)   # (평균값, 분산, 데이터개수)"
      ]
    },
    {
      "cell_type": "code",
      "execution_count": 17,
      "id": "b1a9ecc5",
      "metadata": {
        "colab": {
          "base_uri": "https://localhost:8080/"
        },
        "id": "b1a9ecc5",
        "outputId": "8b0195ad-da62-4d20-9c82-7087a9f8fa09"
      },
      "outputs": [
        {
          "output_type": "stream",
          "name": "stdout",
          "text": [
            "평균     : 4.8076923076923075\n",
            "중앙강   : 5.0\n",
            "최소     : -24\n",
            "최대     : 23\n",
            "분산     : 115.23224852071006\n",
            "표준편차 : 10.734628476137871\n",
            "최소값인덱스 : 20\n",
            "최대값인덱스 : 3\n",
            "3사분위수    : 10.0\n",
            "도수분포 구간 : [-24.  -14.6  -5.2   4.2  13.6  23. ]\n",
            "도수분포 도수 : [1 4 7 8 6]\n"
          ]
        }
      ],
      "source": [
        "# mean, min, max, var, std, argmax, argmin\n",
        "arr = np.array([18,5,10,23,19,-8,10,0,0,5,2,15,8,2,5,4,15,-1,4,-7,-24,7,9,-6,23,-13])\n",
        "print(f'평균     : {np.mean(arr)}')\n",
        "print(f'중앙강   : {np.median(arr)}')\n",
        "print(f'최소     : {np.min(arr)}')\n",
        "print(f'최대     : {np.max(arr)}')\n",
        "print(f'분산     : {np.var(arr)}')\n",
        "print(f'표준편차 : {np.std(arr)}')\n",
        "print(f'최소값인덱스 : {np.argmin(arr)}')\n",
        "print(f'최대값인덱스 : {np.argmax(arr)}')\n",
        "print(f'3사분위수    : {np.percentile(arr, 75)}')\n",
        "\n",
        "hist, bins = np.histogram(arr, bins=5)  # 히스토그램\n",
        "print(f'도수분포 구간 : {bins}')\n",
        "print(f'도수분포 도수 : {hist}')"
      ]
    },
    {
      "cell_type": "code",
      "execution_count": 18,
      "id": "92ccb3c2",
      "metadata": {
        "scrolled": true,
        "colab": {
          "base_uri": "https://localhost:8080/",
          "height": 430
        },
        "id": "92ccb3c2",
        "outputId": "c2edc317-b8fa-4c66-983a-594f2583e185"
      },
      "outputs": [
        {
          "output_type": "display_data",
          "data": {
            "text/plain": [
              "<Figure size 640x480 with 1 Axes>"
            ],
            "image/png": "[encoded data removed]"
          },
          "metadata": {}
        }
      ],
      "source": [
        "import matplotlib.pyplot as plt\n",
        "\n",
        "plt.hist(arr, bins, edgecolor='w')\n",
        "plt.show()"
      ]
    },
    {
      "cell_type": "markdown",
      "id": "6fe3cfd5",
      "metadata": {
        "id": "6fe3cfd5"
      },
      "source": [
        "-----------------"
      ]
    },
    {
      "cell_type": "markdown",
      "id": "89e3c211",
      "metadata": {
        "id": "89e3c211"
      },
      "source": [
        "## <a name=\"03.3넘파이배열연산\">03.3 넘파이 배열 연산</a>"
      ]
    },
    {
      "cell_type": "markdown",
      "id": "c9b6dbce",
      "metadata": {
        "id": "c9b6dbce"
      },
      "source": [
        "### 1. 연산 함수\n",
        "- 배열 내부 연산을 지원하는 함수\n",
        "- 축(axis) : 배열의 랭크가 증가할 때마다 새로운 축이 추가되어 차원 증가"
      ]
    },
    {
      "cell_type": "code",
      "execution_count": 19,
      "id": "90a7f6f3",
      "metadata": {
        "colab": {
          "base_uri": "https://localhost:8080/"
        },
        "id": "90a7f6f3",
        "outputId": "444fd33a-8980-459d-88aa-b0e8c84c3b8c"
      },
      "outputs": [
        {
          "output_type": "execute_result",
          "data": {
            "text/plain": [
              "array([[10, 26, 42],\n",
              "       [10, 26, 42],\n",
              "       [10, 26, 42]])"
            ]
          },
          "metadata": {},
          "execution_count": 19
        }
      ],
      "source": [
        "# sum : 지정된 축 기준 요소 합\n",
        "np.arange(1, 11).sum()\n",
        "np.arange(1,13).reshape(3,4).sum(axis=0)  # 행기준 - 열별 합산\n",
        "np.arange(1,13).reshape(3,4).sum(axis=1)  # 열기준 - 행별 합산\n",
        "\n",
        "arr = np.arange(1, 13).reshape(3, 4)\n",
        "arr_tensor = np.array([arr,arr,arr])\n",
        "arr_tensor.sum(axis=0)       # 층기준 - 면의 동일위치요소 합산\n",
        "arr_tensor.sum(axis=1)       # 행기준 - 열별 합산\n",
        "arr_tensor.sum(axis=2)       # 열기준 - 행별 합산"
      ]
    },
    {
      "cell_type": "code",
      "execution_count": 20,
      "id": "f3eea3c4",
      "metadata": {
        "colab": {
          "base_uri": "https://localhost:8080/"
        },
        "id": "f3eea3c4",
        "outputId": "4753fff5-d3c2-4149-b689-ca9d6ebcff18"
      },
      "outputs": [
        {
          "output_type": "execute_result",
          "data": {
            "text/plain": [
              "array([[1.        , 1.41421356, 1.73205081, 2.        ],\n",
              "       [2.23606798, 2.44948974, 2.64575131, 2.82842712],\n",
              "       [3.        , 3.16227766, 3.31662479, 3.46410162]])"
            ]
          },
          "metadata": {},
          "execution_count": 20
        }
      ],
      "source": [
        "# mean , sqrt\n",
        "np.arange(1,13).reshape(3,4).mean(axis=0)    # 행기준 - 열별 평균\n",
        "np.arange(1,13).reshape(3,4).mean(axis=1)    # 열기준 - 행별 평균\n",
        "np.sqrt(np.arange(1,13).reshape(3,4))        # 열기준 - 행별 제곱근"
      ]
    },
    {
      "cell_type": "markdown",
      "id": "e517aaaf",
      "metadata": {
        "id": "e517aaaf"
      },
      "source": [
        "### 2. 연결 함수\n",
        "두 객체 간의 결합을 지원하는 함수"
      ]
    },
    {
      "cell_type": "code",
      "execution_count": 21,
      "id": "7139fa39",
      "metadata": {
        "colab": {
          "base_uri": "https://localhost:8080/"
        },
        "id": "7139fa39",
        "outputId": "1f3d4240-c816-4f00-a8db-50dab9e22e9e"
      },
      "outputs": [
        {
          "output_type": "execute_result",
          "data": {
            "text/plain": [
              "array([[1, 2, 3],\n",
              "       [4, 5, 6]])"
            ]
          },
          "metadata": {},
          "execution_count": 21
        }
      ],
      "source": [
        "# vstack, hstack\n",
        "v1 = np.array([1, 2, 3])\n",
        "v2 = np.array([4, 5, 6])\n",
        "np.vstack((v1, v2))         # 배열을 수직으로 붙여 하나의 행렬을 생성\n",
        "np.hstack((v1, v2))         # 배열을 수평으로 붙여 하나의 행렬을 생성\n",
        "\n",
        "# concatenate : 축을 고려하여 두 개의 배열을 결합\n",
        "# - 생성될 배열 차원 = 소스 배열의 차원이 같아야 함\n",
        "v1 = np.array([[1, 2, 3]])\n",
        "v2 = np.array([[4, 5, 6]])\n",
        "np.concatenate((v1,v2), axis=0)"
      ]
    },
    {
      "cell_type": "markdown",
      "id": "987b46ea",
      "metadata": {
        "id": "987b46ea"
      },
      "source": [
        "### 3. 사칙연산 함수\n",
        "- 행렬과 행렬, 벡터와 백터 간 사칙연산이 가능\n",
        "- 두 배열의 구조가 동일할 경우 같은 인덱스 요소들끼리 연산"
      ]
    },
    {
      "cell_type": "code",
      "execution_count": 23,
      "id": "1a8f3959",
      "metadata": {
        "colab": {
          "base_uri": "https://localhost:8080/"
        },
        "id": "1a8f3959",
        "outputId": "a0957430-1591-4bea-f788-d474b5894246"
      },
      "outputs": [
        {
          "output_type": "stream",
          "name": "stdout",
          "text": [
            "matrix addition     :\n",
            " [[3 3]\n",
            " [3 3]]\n",
            "\n",
            "matrix subtraction  :\n",
            " [[-1 -1]\n",
            " [-1 -1]]\n",
            "\n",
            "matrix multipication:\n",
            " [[2 2]\n",
            " [2 2]]\n",
            "\n",
            "matrix division     :\n",
            " [[0.5 0.5]\n",
            " [0.5 0.5]]\n",
            "\n"
          ]
        }
      ],
      "source": [
        "# 사친연산\n",
        "arr1 = np.array([[1,1],\n",
        "                 [1,1]])\n",
        "arr2 = np.array([[2,2],\n",
        "                 [2,2]])\n",
        "print(f'matrix addition     :\\n {arr1 + arr2}\\n')\n",
        "print(f'matrix subtraction  :\\n {arr1 - arr2}\\n')\n",
        "print(f'matrix multipication:\\n {arr1 * arr2}\\n')\n",
        "print(f'matrix division     :\\n {arr1 / arr2}\\n')"
      ]
    },
    {
      "cell_type": "code",
      "execution_count": 22,
      "id": "78de57ba",
      "metadata": {
        "scrolled": true,
        "colab": {
          "base_uri": "https://localhost:8080/"
        },
        "id": "78de57ba",
        "outputId": "cadc6620-97ca-4113-a2c0-359f71dd4e41"
      },
      "outputs": [
        {
          "output_type": "stream",
          "name": "stdout",
          "text": [
            "arr1 :\n",
            "[[1 2 3]\n",
            " [4 5 6]]\n",
            "arr2 :\n",
            "[[1 2]\n",
            " [3 4]\n",
            " [5 6]]\n",
            "arr1 @ arr2 :\n",
            "[[22 28]\n",
            " [49 64]]\n",
            "arr1 @ arr2 :\n",
            "[[22 28]\n",
            " [49 64]]\n"
          ]
        }
      ],
      "source": [
        "# dot 함수 : 벡터의 내적 연산\n",
        "arr1 = np.arange(1, 7).reshape(2,3)\n",
        "arr2 = np.arange(1, 7).reshape(3,2)\n",
        "print(f'arr1 :\\n{arr1}')\n",
        "print(f'arr2 :\\n{arr2}')\n",
        "print(f'arr1 @ arr2 :\\n{arr1.dot(arr2)}')\n",
        "print(f'arr1 @ arr2 :\\n{np.dot(arr1, arr2)}')"
      ]
    },
    {
      "cell_type": "markdown",
      "id": "0ffa59ac",
      "metadata": {
        "id": "0ffa59ac"
      },
      "source": [
        "- **브로드캐스팅 연산(broadcasting operations)** <br>\n",
        "하나의 행렬과 스칼라 값들 간의 연산이나 행렬과 벡터 간의 연산"
      ]
    },
    {
      "cell_type": "code",
      "execution_count": null,
      "id": "a4ca9e41",
      "metadata": {
        "id": "a4ca9e41"
      },
      "outputs": [],
      "source": [
        "# 브로드캐스팅 연산\n",
        "arr = np.arange(1, 10).reshape(3,3)\n",
        "print(arr + 10)\n",
        "print(arr - 10)\n",
        "arr * 10\n",
        "arr // 10\n",
        "arr ** 2"
      ]
    },
    {
      "cell_type": "code",
      "execution_count": null,
      "id": "02b48308",
      "metadata": {
        "id": "02b48308"
      },
      "outputs": [],
      "source": [
        "arr = np.arange(1, 13).reshape(4,3)\n",
        "v   = np.arange(10 , 40 , 10)\n",
        "arr + v"
      ]
    },
    {
      "cell_type": "markdown",
      "id": "b6197470",
      "metadata": {
        "id": "b6197470"
      },
      "source": [
        "-----------------"
      ]
    },
    {
      "cell_type": "markdown",
      "id": "1719e385",
      "metadata": {
        "id": "1719e385"
      },
      "source": [
        "## <a name=\"03.4비교연산과데이터추출\">03.4 비교 연산과 데이터 추출</a>"
      ]
    },
    {
      "cell_type": "markdown",
      "id": "b3f465c3",
      "metadata": {
        "id": "b3f465c3"
      },
      "source": [
        "### 1. 비교 연산\n",
        "연산 결과는 항상 불린형(boolean type)을 가진 배열로 추출"
      ]
    },
    {
      "cell_type": "code",
      "execution_count": 25,
      "id": "c46f8e21",
      "metadata": {
        "colab": {
          "base_uri": "https://localhost:8080/"
        },
        "id": "c46f8e21",
        "outputId": "85114e06-4a48-4bd2-9599-aa5ac02a881d"
      },
      "outputs": [
        {
          "output_type": "execute_result",
          "data": {
            "text/plain": [
              "array([ True, False, False,  True,  True,  True])"
            ]
          },
          "metadata": {},
          "execution_count": 25
        }
      ],
      "source": [
        "# 브로드캐스팅 비교 연산(하나의 스칼라 값과 벡터 간의 비교 연산은 벡터 내 전체 요소에 적용))\n",
        "arr = np.array([4, 3, 2, 6, 8, 5])\n",
        "arr > 3"
      ]
    },
    {
      "cell_type": "code",
      "execution_count": null,
      "id": "46b781f1",
      "metadata": {
        "id": "46b781f1"
      },
      "outputs": [],
      "source": [
        "# 요소별 비교 연산(두 개의 배열 간 배열의 구조(shape)가 동일한 경우)\n",
        "# - 동일 위치 요소들끼리 비교 연산\n",
        "arr1 = np.array([1, 3, 0])\n",
        "arr2 = np.array([2, 1, 7])\n",
        "arr1 > arr2"
      ]
    },
    {
      "cell_type": "markdown",
      "id": "7a09765e",
      "metadata": {
        "id": "7a09765e"
      },
      "source": [
        "### 2. 비교 연산 함수"
      ]
    },
    {
      "cell_type": "code",
      "execution_count": 24,
      "id": "668d3cf7",
      "metadata": {
        "colab": {
          "base_uri": "https://localhost:8080/"
        },
        "id": "668d3cf7",
        "outputId": "854edadc-3a5a-47b2-b76f-598147f6814d"
      },
      "outputs": [
        {
          "output_type": "execute_result",
          "data": {
            "text/plain": [
              "True"
            ]
          },
          "metadata": {},
          "execution_count": 24
        }
      ],
      "source": [
        "# all, any\n",
        "arr = np.array([4, 3, 2, 6, 8, 5])\n",
        "(arr > 3).all()      # 조건이 모두 참이어야 참\n",
        "(arr > 3).any()      # 참이 되는 조건이 하나라도 있으면 참"
      ]
    },
    {
      "cell_type": "code",
      "execution_count": 26,
      "id": "8685af60",
      "metadata": {
        "colab": {
          "base_uri": "https://localhost:8080/"
        },
        "id": "8685af60",
        "outputId": "5c70597c-0ee5-439d-8d4e-396bb4dbecd0"
      },
      "outputs": [
        {
          "output_type": "execute_result",
          "data": {
            "text/plain": [
              "array([20, 20, 20, 10, 10, 20])"
            ]
          },
          "metadata": {},
          "execution_count": 26
        }
      ],
      "source": [
        "# 인덱스 반환 함수\n",
        "arr = np.array([4, 3, 2, 6, 8, 5])\n",
        "np.where(arr > 5)           # 참이 되는 요소의 인덱스 반환\n",
        "np.where(arr > 5, 10, 20)   # 참이면 요소를 10, 거짓이면 20으로 변환하여 반환"
      ]
    },
    {
      "cell_type": "code",
      "execution_count": 28,
      "id": "d565f37a",
      "metadata": {
        "colab": {
          "base_uri": "https://localhost:8080/"
        },
        "id": "d565f37a",
        "outputId": "51eeca2e-82d6-482a-88ac-ac0ff0d5c9f3"
      },
      "outputs": [
        {
          "output_type": "execute_result",
          "data": {
            "text/plain": [
              "2"
            ]
          },
          "metadata": {},
          "execution_count": 28
        }
      ],
      "source": [
        "# 정렬된 값의 인덱스를 반환해주는 함수\n",
        "# argsort, argmax, argmin\n",
        "arr = np.array([4, 3, 2, 6, 8, 5])\n",
        "np.argsort(arr)            # 배열 내 값들을 작은 순서대로 인덱스를 반환\n",
        "np.argmax(arr)             # 배열 내 값들 중 가장 큰 값의 인덱스를 반환\n",
        "np.argmin(arr)             # 배열 내 값들 중 가장 작은 값의 인덱스를 반환"
      ]
    },
    {
      "cell_type": "markdown",
      "id": "7fbc474c",
      "metadata": {
        "id": "7fbc474c"
      },
      "source": [
        "### 3. 인덱스를 활용한 데이터 추출\n",
        "- 불린 인덱스(boolean index) : 배열에 있는 값들을 반환할 특정 조건을 불린형의 배열에 넣어서 추출\n",
        "- 팬시 인덱스(fancy index) : 정수형 배열의 값을 사용하여 해당 정수의 인덱스에 위치한 값을 반환"
      ]
    },
    {
      "cell_type": "code",
      "execution_count": 29,
      "id": "014c25db",
      "metadata": {
        "colab": {
          "base_uri": "https://localhost:8080/"
        },
        "id": "014c25db",
        "outputId": "11ea6491-9e9b-46a0-dc7e-98cdfb68d47b"
      },
      "outputs": [
        {
          "output_type": "stream",
          "name": "stdout",
          "text": [
            "arr > 3      : [ True False False  True  True  True]\n",
            "arr[arr > 3] : [4 6 8 5]\n"
          ]
        }
      ],
      "source": [
        "# 불린 인덱스(boolean index)\n",
        "arr = np.array([4, 3, 2, 6, 8, 5])\n",
        "print(f'arr > 3      : {arr > 3}')\n",
        "print(f'arr[arr > 3] : {arr[arr > 3]}')"
      ]
    },
    {
      "cell_type": "code",
      "execution_count": 30,
      "id": "3a950261",
      "metadata": {
        "colab": {
          "base_uri": "https://localhost:8080/"
        },
        "id": "3a950261",
        "outputId": "98bee47e-f1f6-4671-dc73-4c49bc2c8e24"
      },
      "outputs": [
        {
          "output_type": "execute_result",
          "data": {
            "text/plain": [
              "array([3, 2, 4, 2, 2, 2])"
            ]
          },
          "metadata": {},
          "execution_count": 30
        }
      ],
      "source": [
        "# 팬시 인덱스(fancy index)\n",
        "arr = np.array([4, 3, 2, 6, 8, 5])\n",
        "cond = np.array([1, 2, 0, 2, 2, 2])   # 값이 인덱스로 사용된다.\n",
        "arr[cond]                              # arr배열에서 cond 배열값을 인덱스로 갖는 요소 추출하기\n",
        "# arr.take(cond)"
      ]
    },
    {
      "cell_type": "markdown",
      "id": "70d0ed11",
      "metadata": {
        "id": "70d0ed11"
      },
      "source": [
        "--------------"
      ]
    },
    {
      "cell_type": "markdown",
      "id": "56d22a62",
      "metadata": {
        "id": "56d22a62"
      },
      "source": [
        "THE END"
      ]
    }
  ],
  "metadata": {
    "kernelspec": {
      "display_name": "Python 3 (ipykernel)",
      "language": "python",
      "name": "python3"
    },
    "language_info": {
      "codemirror_mode": {
        "name": "ipython",
        "version": 3
      },
      "file_extension": ".py",
      "mimetype": "text/x-python",
      "name": "python",
      "nbconvert_exporter": "python",
      "pygments_lexer": "ipython3",
      "version": "3.12.1"
    },
    "colab": {
      "provenance": [],
      "include_colab_link": true
    }
  },
  "nbformat": 4,
  "nbformat_minor": 5
}