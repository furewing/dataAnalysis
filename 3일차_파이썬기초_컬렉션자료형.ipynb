{
  "nbformat": 4,
  "nbformat_minor": 0,
  "metadata": {
    "colab": {
      "provenance": [],
      "toc_visible": true,
      "authorship_tag": "ABX9TyMdDKEtyF9jTe6hcOcdZlhe",
      "include_colab_link": true
    },
    "kernelspec": {
      "name": "python3",
      "display_name": "Python 3"
    },
    "language_info": {
      "name": "python"
    }
  },
  "cells": [
    {
      "cell_type": "markdown",
      "metadata": {
        "id": "view-in-github",
        "colab_type": "text"
      },
      "source": [
        "<a href=\"https://colab.research.google.com/github/furewing/dataAnalysis/blob/main/3%EC%9D%BC%EC%B0%A8_%ED%8C%8C%EC%9D%B4%EC%8D%AC%EA%B8%B0%EC%B4%88_%EC%BB%AC%EB%A0%89%EC%85%98%EC%9E%90%EB%A3%8C%ED%98%95.ipynb\" target=\"_parent\"><img src=\"https://colab.research.google.com/assets/colab-badge.svg\" alt=\"Open In Colab\"/></a>"
      ]
    },
    {
      "cell_type": "markdown",
      "source": [
        "# 3. 컬렉션 자료형"
      ],
      "metadata": {
        "id": "SV4YiBRVTVpa"
      }
    },
    {
      "cell_type": "markdown",
      "source": [
        "## 3-1.리스트"
      ],
      "metadata": {
        "id": "fp-uQIIvTZaq"
      }
    },
    {
      "cell_type": "markdown",
      "source": [
        "### 리스트 생성"
      ],
      "metadata": {
        "id": "Tk8zqQkjTyJ4"
      }
    },
    {
      "cell_type": "code",
      "execution_count": 3,
      "metadata": {
        "colab": {
          "base_uri": "https://localhost:8080/"
        },
        "id": "jlbpG3JAMamy",
        "outputId": "276c2a0f-adda-4985-fc6b-a693c8b6a0ca"
      },
      "outputs": [
        {
          "output_type": "stream",
          "name": "stdout",
          "text": [
            "<class 'list'>\n",
            "[]\n"
          ]
        }
      ],
      "source": [
        "# 빈 리스트 생성\n",
        "a = []\n",
        "a = list()\n",
        "print(type(a))\n",
        "print(a)"
      ]
    },
    {
      "cell_type": "code",
      "source": [
        "# 초기 데이터 넣고 리스트 생성\n",
        "import math\n",
        "\n",
        "a = [1,2,3,4,5]\n",
        "print(a)\n",
        "a = [1, 'apple', 3, 3.14, math.pi, max(10,20,30)]\n",
        "b = [1, 2, a, ['사과','딸기'], {'k':'kkk'}]\n",
        "print(a)\n",
        "print(b)\n"
      ],
      "metadata": {
        "colab": {
          "base_uri": "https://localhost:8080/"
        },
        "id": "amoBd9YyTeQb",
        "outputId": "6f669b58-1186-4356-a81c-c1c53c863722"
      },
      "execution_count": 5,
      "outputs": [
        {
          "output_type": "stream",
          "name": "stdout",
          "text": [
            "[1, 2, 3, 4, 5]\n",
            "[1, 'apple', 3, 3.14, 3.141592653589793, 30]\n",
            "[1, 2, [1, 'apple', 3, 3.14, 3.141592653589793, 30], ['사과', '딸기'], {'k': 'kkk'}]\n"
          ]
        }
      ]
    },
    {
      "cell_type": "code",
      "source": [
        "numlist = []\n",
        "for num in range(1,21,2):\n",
        "  numlist.append(num)\n",
        "print(numlist)"
      ],
      "metadata": {
        "colab": {
          "base_uri": "https://localhost:8080/"
        },
        "id": "UvVM1DO1VNpa",
        "outputId": "ecfc7993-a44b-4af8-8be2-722948aaa0dc"
      },
      "execution_count": 6,
      "outputs": [
        {
          "output_type": "stream",
          "name": "stdout",
          "text": [
            "[1, 3, 5, 7, 9, 11, 13, 15, 17, 19]\n"
          ]
        }
      ]
    },
    {
      "cell_type": "code",
      "source": [
        "print(b)\n",
        "for i in b: #for 반복문, b란 이름의 리스트 안에 있는 요소를 하나씩 출력하는 코드\n",
        "  print(i)\n"
      ],
      "metadata": {
        "colab": {
          "base_uri": "https://localhost:8080/"
        },
        "id": "iao4UnROVjLu",
        "outputId": "2a987e87-939e-4a7e-d19d-9de28376ac1e"
      },
      "execution_count": 8,
      "outputs": [
        {
          "output_type": "stream",
          "name": "stdout",
          "text": [
            "[1, 2, [1, 'apple', 3, 3.14, 3.141592653589793, 30], ['사과', '딸기'], {'k': 'kkk'}]\n",
            "1\n",
            "2\n",
            "[1, 'apple', 3, 3.14, 3.141592653589793, 30]\n",
            "['사과', '딸기']\n",
            "{'k': 'kkk'}\n"
          ]
        }
      ]
    },
    {
      "cell_type": "markdown",
      "source": [
        "### 리스트 요소에 접근하기"
      ],
      "metadata": {
        "id": "7tDg99IZVikn"
      }
    },
    {
      "cell_type": "code",
      "source": [
        "colors = ['red', 'green', 'blue', 'black', 'white']\n",
        "print(colors[0])\n",
        "print(colors[2:4])  # 끝 번호는 포함 안됨\n",
        "print(colors[::-1]) # 거꾸로 정렬\n",
        "\n",
        "for color in colors:\n",
        "  print(f\"나는 '{color}'을 가장 좋아합니다.\")"
      ],
      "metadata": {
        "colab": {
          "base_uri": "https://localhost:8080/"
        },
        "id": "KQQL8IYPXXTx",
        "outputId": "05614e41-eaa5-489c-80c2-da573526c035"
      },
      "execution_count": 13,
      "outputs": [
        {
          "output_type": "stream",
          "name": "stdout",
          "text": [
            "red\n",
            "['blue', 'black']\n",
            "['white', 'black', 'blue', 'green', 'red']\n",
            "나는 'red'을 가장 좋아합니다.\n",
            "나는 'green'을 가장 좋아합니다.\n",
            "나는 'blue'을 가장 좋아합니다.\n",
            "나는 'black'을 가장 좋아합니다.\n",
            "나는 'white'을 가장 좋아합니다.\n"
          ]
        }
      ]
    },
    {
      "cell_type": "markdown",
      "source": [
        "### 리스트에 요소 추가하기"
      ],
      "metadata": {
        "id": "cOUHrxR9YnzG"
      }
    },
    {
      "cell_type": "code",
      "source": [
        "print(colors)\n",
        "# 인덱스 2 위치에 'pink' 넣기\n",
        "colors.insert(2, 'pink')\n",
        "print(colors)\n",
        "\n",
        "# 맨 뒤에 추가하기\n",
        "colors.append('gray')\n",
        "print(colors)"
      ],
      "metadata": {
        "colab": {
          "base_uri": "https://localhost:8080/"
        },
        "id": "Lf-21DFMX_WB",
        "outputId": "16d11d94-24f2-4b93-8039-de30d44cd0cb"
      },
      "execution_count": 15,
      "outputs": [
        {
          "output_type": "stream",
          "name": "stdout",
          "text": [
            "['red', 'green', 'pink', 'blue', 'black', 'white']\n",
            "['red', 'green', 'pink', 'pink', 'blue', 'black', 'white']\n",
            "['red', 'green', 'pink', 'pink', 'blue', 'black', 'white', 'gray']\n"
          ]
        }
      ]
    },
    {
      "cell_type": "markdown",
      "source": [
        "### 리스트 특정 위치의 요소값 변경"
      ],
      "metadata": {
        "id": "sYaMmhiKZf5y"
      }
    },
    {
      "cell_type": "code",
      "source": [
        "colors[3] = 'sky'\n",
        "print(colors)\n",
        "colors[1:3] = 'sky blue' # 값이 이상하게 들어간다.인덱스 개수가 다르면 대체가 안되고 없어짐\n",
        "print(colors)\n",
        "colors[1:3] = ['sky','blue'] # 들어갈 갯수만큼\n",
        "print(colors)"
      ],
      "metadata": {
        "colab": {
          "base_uri": "https://localhost:8080/"
        },
        "id": "Re0jXa3kZk3M",
        "outputId": "a2e368cd-4aea-4d48-a0e7-768dab203d78"
      },
      "execution_count": 18,
      "outputs": [
        {
          "output_type": "stream",
          "name": "stdout",
          "text": [
            "['red', 's', 'k', 'sky', ' ', 'b', 'l', 'u', 'e', 'sky', 'blue', 'black', 'white', 'gray']\n",
            "['red', 's', 'k', 'y', ' ', 'b', 'l', 'u', 'e', 'sky', ' ', 'b', 'l', 'u', 'e', 'sky', 'blue', 'black', 'white', 'gray']\n",
            "['red', 'sky', 'blue', 'y', ' ', 'b', 'l', 'u', 'e', 'sky', ' ', 'b', 'l', 'u', 'e', 'sky', 'blue', 'black', 'white', 'gray']\n"
          ]
        }
      ]
    },
    {
      "cell_type": "markdown",
      "source": [
        "### 리스트 요소 삭제하기"
      ],
      "metadata": {
        "id": "9tCyTB7XbaJi"
      }
    },
    {
      "cell_type": "code",
      "source": [],
      "metadata": {
        "id": "kZONO8UMb3aT"
      },
      "execution_count": null,
      "outputs": []
    },
    {
      "cell_type": "code",
      "source": [
        "colors = ['red', 'green', 'blue', 'black', 'blue', 'white', 'blue']\n",
        "# 맨 뒤에 있는 것 삭제(pop():꺼내기)\n",
        "colors.pop()\n",
        "print(colors)\n",
        "\n",
        "#요소값과 일치하는 것 삭제\n",
        "colors.remove('blue')\n",
        "print(colors)\n",
        "\n",
        "# 전체 요소 삭제\n",
        "colors.clear()\n",
        "print(colors)\n"
      ],
      "metadata": {
        "colab": {
          "base_uri": "https://localhost:8080/"
        },
        "id": "xCE0SKKrbZA0",
        "outputId": "a1c0486f-fcc4-4e70-e5b3-4fca480bc8c0"
      },
      "execution_count": 26,
      "outputs": [
        {
          "output_type": "stream",
          "name": "stdout",
          "text": [
            "['red', 'green', 'blue', 'black', 'blue', 'white']\n",
            "['red', 'green', 'black', 'blue', 'white']\n",
            "[]\n"
          ]
        }
      ]
    },
    {
      "cell_type": "markdown",
      "source": [
        "### 리스트 자체 삭제"
      ],
      "metadata": {
        "id": "SJRQDZhqcwOI"
      }
    },
    {
      "cell_type": "code",
      "source": [
        "del(colors)\n",
        "print(colors)"
      ],
      "metadata": {
        "colab": {
          "base_uri": "https://localhost:8080/",
          "height": 165
        },
        "id": "2vxE1R1Vcowm",
        "outputId": "aec547cb-2853-4e48-e940-b123c9a333d2"
      },
      "execution_count": 25,
      "outputs": [
        {
          "output_type": "error",
          "ename": "NameError",
          "evalue": "name 'colors' is not defined",
          "traceback": [
            "\u001b[0;31m---------------------------------------------------------------------------\u001b[0m",
            "\u001b[0;31mNameError\u001b[0m                                 Traceback (most recent call last)",
            "\u001b[0;32m<ipython-input-25-90ee9471d91d>\u001b[0m in \u001b[0;36m<cell line: 1>\u001b[0;34m()\u001b[0m\n\u001b[0;32m----> 1\u001b[0;31m \u001b[0;32mdel\u001b[0m\u001b[0;34m(\u001b[0m\u001b[0mcolors\u001b[0m\u001b[0;34m)\u001b[0m\u001b[0;34m\u001b[0m\u001b[0;34m\u001b[0m\u001b[0m\n\u001b[0m\u001b[1;32m      2\u001b[0m \u001b[0mprint\u001b[0m\u001b[0;34m(\u001b[0m\u001b[0mcolors\u001b[0m\u001b[0;34m)\u001b[0m\u001b[0;34m\u001b[0m\u001b[0;34m\u001b[0m\u001b[0m\n",
            "\u001b[0;31mNameError\u001b[0m: name 'colors' is not defined"
          ]
        }
      ]
    },
    {
      "cell_type": "markdown",
      "source": [
        "### 2차원/3차원... 리스트 요소 접근"
      ],
      "metadata": {
        "id": "QJSGUD2qcXAb"
      }
    },
    {
      "cell_type": "code",
      "source": [
        "animals = ['사자', '호랑이', '곰',\n",
        "          ['고양이', '강아지', ['돌고래', '범고래'], '햄스터'] ]\n",
        "\n",
        "print(animals)\n",
        "print(animals[1])\n",
        "print(animals[3])\n",
        "print(animals[3][1])\n",
        "print(animals[3][2][1])\n"
      ],
      "metadata": {
        "colab": {
          "base_uri": "https://localhost:8080/"
        },
        "id": "bRoBWLzQdA4y",
        "outputId": "6a317729-6558-4faa-e764-bee7a4b862f3"
      },
      "execution_count": 33,
      "outputs": [
        {
          "output_type": "stream",
          "name": "stdout",
          "text": [
            "['사자', '호랑이', '곰', ['고양이', '강아지', ['돌고래', '범고래'], '햄스터']]\n",
            "호랑이\n",
            "['고양이', '강아지', ['돌고래', '범고래'], '햄스터']\n",
            "강아지\n",
            "범고래\n",
            "4\n"
          ]
        }
      ]
    },
    {
      "cell_type": "markdown",
      "source": [
        "### 리스트 길이(요소의 개수)"
      ],
      "metadata": {
        "id": "NvvOnuXMfY3n"
      }
    },
    {
      "cell_type": "code",
      "source": [
        "print(animals)\n",
        "print(len(animals))\n",
        "print(len(animals[3]))\n",
        "print(len(animals[3][2]))"
      ],
      "metadata": {
        "colab": {
          "base_uri": "https://localhost:8080/"
        },
        "id": "wRaEGCMBfYLf",
        "outputId": "4afa30af-f45a-4e84-8f5f-e7e663e1b346"
      },
      "execution_count": 36,
      "outputs": [
        {
          "output_type": "stream",
          "name": "stdout",
          "text": [
            "['사자', '호랑이', '곰', ['고양이', '강아지', ['돌고래', '범고래'], '햄스터']]\n",
            "4\n",
            "4\n",
            "2\n"
          ]
        }
      ]
    },
    {
      "cell_type": "markdown",
      "source": [
        "### 리스트 함수"
      ],
      "metadata": {
        "id": "-A2pOiuFgDVK"
      }
    },
    {
      "cell_type": "code",
      "source": [
        "colors = ['red', 'green', 'blue', 'black', 'white', 'blue']\n",
        "# 순차 정렬\n",
        "print(colors)\n",
        "colors.sort()\n",
        "print(colors)\n",
        "# 역순 정렬\n",
        "colors.reverse()\n",
        "print(colors)\n",
        "\n",
        "# 리스트의 특정 요소 위치 찾기\n",
        "print(colors.index('blue'))\n",
        "print(colors.index('blue')) # 여러개 있을 경우 맨 앞의 인덱스 출력\n",
        "\n",
        "# 요소 값 개수 세기\n",
        "print(colors.count('blue'))\n",
        "\n",
        "# 리스트의 항목을 정렬해서 새로운 리스트에 대입한다.\n",
        "new = sorted(colors)\n",
        "print(new)"
      ],
      "metadata": {
        "colab": {
          "base_uri": "https://localhost:8080/"
        },
        "id": "aH2zl8_TgGJh",
        "outputId": "c8ca2e1f-a677-4a91-92cd-2386fdb5f641"
      },
      "execution_count": 42,
      "outputs": [
        {
          "output_type": "stream",
          "name": "stdout",
          "text": [
            "['red', 'green', 'blue', 'black', 'white', 'blue']\n",
            "['black', 'blue', 'blue', 'green', 'red', 'white']\n",
            "['white', 'red', 'green', 'blue', 'blue', 'black']\n",
            "3\n",
            "3\n",
            "2\n"
          ]
        }
      ]
    },
    {
      "cell_type": "code",
      "source": [
        "colors = ['red', 'green', 'blue', 'black', 'white', 'blue']\n",
        "print(colors)\n",
        "newColors = ['빨강', '파랑', '노랑']\n",
        "print(newColors)\n",
        "colors.extend(newColors)\n",
        "print(colors)\n",
        "\n"
      ],
      "metadata": {
        "colab": {
          "base_uri": "https://localhost:8080/"
        },
        "id": "FT9mC18TiBF9",
        "outputId": "dd43c9ad-afe9-4c56-b6ab-fa5f64de870e"
      },
      "execution_count": 44,
      "outputs": [
        {
          "output_type": "stream",
          "name": "stdout",
          "text": [
            "['red', 'green', 'blue', 'black', 'white', 'blue']\n",
            "['빨강', '파랑', '노랑']\n",
            "['red', 'green', 'blue', 'black', 'white', 'blue', '빨강', '파랑', '노랑']\n",
            "['red', 'green', 'blue', 'black', 'white', 'blue', '빨강', '파랑', '노랑']\n"
          ]
        }
      ]
    },
    {
      "cell_type": "code",
      "source": [
        "colors = ['red', 'green', 'blue', 'black', 'white', 'blue']\n",
        "newColors = ['빨강', '파랑', '노랑']\n",
        "colors += newColors\n",
        "print(colors)"
      ],
      "metadata": {
        "colab": {
          "base_uri": "https://localhost:8080/"
        },
        "id": "C3-Euxf4jEP5",
        "outputId": "bb77371c-40d6-4189-a651-012bad03e1b6"
      },
      "execution_count": 45,
      "outputs": [
        {
          "output_type": "stream",
          "name": "stdout",
          "text": [
            "['red', 'green', 'blue', 'black', 'white', 'blue', '빨강', '파랑', '노랑']\n"
          ]
        }
      ]
    },
    {
      "cell_type": "markdown",
      "source": [
        "## 3-2. 딕셔너리(Dictionary)"
      ],
      "metadata": {
        "id": "Wc1hPP_NnkP4"
      }
    },
    {
      "cell_type": "markdown",
      "source": [
        "### 딕셔너리 자료 생성"
      ],
      "metadata": {
        "id": "9Ocpssv3tQfM"
      }
    },
    {
      "cell_type": "code",
      "source": [
        "dic = dict()  # 빈 딕셔너리 생성\n",
        "dic = {}      # 빈 딕셔너리 생성\n",
        "print(type(dic))\n"
      ],
      "metadata": {
        "colab": {
          "base_uri": "https://localhost:8080/"
        },
        "id": "cJ0cehQ3nq6Q",
        "outputId": "060d7cd0-f21c-40a6-f929-c6bfe3949c30"
      },
      "execution_count": 47,
      "outputs": [
        {
          "output_type": "stream",
          "name": "stdout",
          "text": [
            "<class 'dict'>\n"
          ]
        }
      ]
    },
    {
      "cell_type": "code",
      "source": [
        "# 딕셔너리는 Key:Value 구조\n",
        "members = {1:'이승철', 2:'박정현', 'bts':['진','RM','뷔','지민'] }\n",
        "print(members)\n",
        "print(members[2]) # 2는 key이다.\n",
        "print(members['bts'])\n",
        "print(members['bts'][1])\n",
        "print(len(members))"
      ],
      "metadata": {
        "colab": {
          "base_uri": "https://localhost:8080/"
        },
        "id": "aIdXRmvytqXl",
        "outputId": "02539f8f-0f06-4373-981c-56590c767660"
      },
      "execution_count": 53,
      "outputs": [
        {
          "output_type": "stream",
          "name": "stdout",
          "text": [
            "{1: '이승철', 2: '박정현', 'bts': ['진', 'RM', '뷔', '지민']}\n",
            "박정현\n",
            "['진', 'RM', '뷔', '지민']\n",
            "RM\n",
            "3\n"
          ]
        }
      ]
    },
    {
      "cell_type": "markdown",
      "source": [
        "### 딕셔너리에서 Value에 접근하기\n",
        "-Key를 통해서 Value에 접근할 수 있다."
      ],
      "metadata": {
        "id": "_hm6BA-8v0p8"
      }
    },
    {
      "cell_type": "code",
      "source": [
        "members = {1:'이승철', 2:'박정현', 'bts':['진','RM','뷔','지민'] }\n",
        "for key in members:\n",
        "  print(f\"Key->{key}, Value->{members[key]}\")"
      ],
      "metadata": {
        "colab": {
          "base_uri": "https://localhost:8080/"
        },
        "id": "uMTw6Hg6vJY-",
        "outputId": "6f1f167f-1f06-4b07-ba8e-1755bfe54a06"
      },
      "execution_count": 57,
      "outputs": [
        {
          "output_type": "stream",
          "name": "stdout",
          "text": [
            "Key->1, Value->이승철\n",
            "Key->2, Value->박정현\n",
            "Key->bts, Value->['진', 'RM', '뷔', '지민']\n"
          ]
        }
      ]
    },
    {
      "cell_type": "markdown",
      "source": [
        "### 딕셔너리에서 자주 사용하는 함수"
      ],
      "metadata": {
        "id": "Fpn93YsctP4_"
      }
    },
    {
      "cell_type": "code",
      "source": [
        "members = {1:'이승철', 2:'박정현', 'bts':['진','RM','뷔','지민'] }\n",
        "print( members.keys() )   # Key만 모아둔 것\n",
        "print( members.values() ) # Value만 모아둔 것\n",
        "print( members.items() ) # Key와 Value를 쌍으로 모아둔 것(key, value)"
      ],
      "metadata": {
        "colab": {
          "base_uri": "https://localhost:8080/"
        },
        "id": "gbzp2PtQwLD2",
        "outputId": "3cb6d587-2231-43d4-d37c-7f270dd1b414"
      },
      "execution_count": 59,
      "outputs": [
        {
          "output_type": "stream",
          "name": "stdout",
          "text": [
            "dict_keys([1, 2, 'bts'])\n",
            "dict_values(['이승철', '박정현', ['진', 'RM', '뷔', '지민']])\n",
            "dict_items([(1, '이승철'), (2, '박정현'), ('bts', ['진', 'RM', '뷔', '지민'])])\n"
          ]
        }
      ]
    },
    {
      "cell_type": "code",
      "source": [
        "# 셋 다 동일한 방법\n",
        "members = {1:'이승철', 2:'박정현', 'bts':['진','RM','뷔','지민'] }\n",
        "for key,value in members.items():\n",
        "  print(key, value)\n",
        "for key in members.keys():\n",
        "  print(key, members[key])\n",
        "for key in members:\n",
        "  print(key, members[key])"
      ],
      "metadata": {
        "colab": {
          "base_uri": "https://localhost:8080/"
        },
        "id": "TzvssnAAwuDG",
        "outputId": "7509f37e-866a-4bbd-da73-fe655045b4bc"
      },
      "execution_count": 62,
      "outputs": [
        {
          "output_type": "stream",
          "name": "stdout",
          "text": [
            "1 이승철\n",
            "2 박정현\n",
            "bts ['진', 'RM', '뷔', '지민']\n",
            "1 이승철\n",
            "2 박정현\n",
            "bts ['진', 'RM', '뷔', '지민']\n",
            "1 이승철\n",
            "2 박정현\n",
            "bts ['진', 'RM', '뷔', '지민']\n"
          ]
        }
      ]
    },
    {
      "cell_type": "markdown",
      "source": [
        "### 딕셔너리에 요소 추가/수정/삭제"
      ],
      "metadata": {
        "id": "qBieV3xGx5i1"
      }
    },
    {
      "cell_type": "code",
      "source": [
        "members = {1:'이승철', 2:'박정현', 'bts':['진','RM','뷔','지민'] }\n",
        "print(members)\n",
        "# 요소 추가\n",
        "members[3] = 'NCT Dream'\n",
        "members['소속사'] = ['하이브', 'SM']\n",
        "print(members)\n",
        "\n",
        "# 요소 수정\n",
        "members[1] = '세븐틴'\n",
        "print(members)\n",
        "\n",
        "# 요소 삭제\n",
        "del(members['소속사'])\n",
        "print(members)\n",
        "\n",
        "# 딕셔너리 삭제\n",
        "del(members)\n",
        "print(members)\n"
      ],
      "metadata": {
        "id": "TcOFKUHex42R"
      },
      "execution_count": null,
      "outputs": []
    },
    {
      "cell_type": "markdown",
      "source": [
        "## 3-3.튜플(Tuple)"
      ],
      "metadata": {
        "id": "6PxUH-rtzZaF"
      }
    },
    {
      "cell_type": "markdown",
      "source": [
        "### 튜플 정의  \n",
        "• 튜플은리스트이 형태와 거의 유사한 데이터 구조\n",
        "• 튜플에서 리스트의 대괄호([ ]) 대신 소괄호(( ))를사용한다.\n",
        "• 튜플에서는 요소들의 수정과 추가가 불가하다.\n",
        "• 튜플은 소괄호 ()를 생략 가능, 항목이 하나인 튜플은 뒤에 쉼표(,) 붙임"
      ],
      "metadata": {
        "id": "b15g6Y5azeiV"
      }
    },
    {
      "cell_type": "markdown",
      "source": [
        "### 튜플 생성"
      ],
      "metadata": {
        "id": "b8PVrYNxz1pG"
      }
    },
    {
      "cell_type": "code",
      "source": [
        "tup = tuple()    # 빈 튜플 생성\n",
        "tup = ()         # 빈 튜플 생성\n",
        "print(type(tup))\n",
        "\n",
        "a = [1,2,3,4]\n",
        "print(a)\n",
        "print(tuple(a))   # 리스트를 튜플로 변환\n"
      ],
      "metadata": {
        "colab": {
          "base_uri": "https://localhost:8080/"
        },
        "id": "2wJa9FO1z7Nn",
        "outputId": "1a8a8e5b-8b62-4149-e591-4ab9798a4a4a"
      },
      "execution_count": 70,
      "outputs": [
        {
          "output_type": "stream",
          "name": "stdout",
          "text": [
            "<class 'tuple'>\n",
            "[1, 2, 3, 4]\n",
            "(1, 2, 3, 4)\n"
          ]
        }
      ]
    },
    {
      "cell_type": "code",
      "source": [
        "tup = ('사과')    # 괄호는 묶음의 의미로 해석\n",
        "print(type(tup))\n",
        "tup = ('사과',)   # 튜플에서 요소가 하나일 때는 반드시 맨 뒤에 쉼표(,) 추가\n",
        "print(type(tup))\n"
      ],
      "metadata": {
        "colab": {
          "base_uri": "https://localhost:8080/"
        },
        "id": "brBJq_bi0gO3",
        "outputId": "63ca76aa-f48d-437b-dd7f-58c49448a942"
      },
      "execution_count": 72,
      "outputs": [
        {
          "output_type": "stream",
          "name": "stdout",
          "text": [
            "<class 'str'>\n",
            "<class 'tuple'>\n"
          ]
        }
      ]
    },
    {
      "cell_type": "code",
      "source": [
        "help(list) # 자료형에 대한 도움말"
      ],
      "metadata": {
        "id": "ClwsmR9i1E5-"
      },
      "execution_count": null,
      "outputs": []
    },
    {
      "cell_type": "markdown",
      "source": [
        "### 튜플은 변수를 정의할 때/함수의 파라미터의 정의에 사용"
      ],
      "metadata": {
        "id": "5fkchQ482Cu9"
      }
    },
    {
      "cell_type": "code",
      "source": [
        "a, b = 100, 200\n",
        "a, b = 100, [1,2,3]\n",
        "print(a)\n",
        "print(b)\n"
      ],
      "metadata": {
        "colab": {
          "base_uri": "https://localhost:8080/"
        },
        "id": "ZgG-tpwQ2Qho",
        "outputId": "f9b1779f-5daf-4ede-eb2c-b103a3a493d9"
      },
      "execution_count": 75,
      "outputs": [
        {
          "output_type": "stream",
          "name": "stdout",
          "text": [
            "100\n",
            "[1, 2, 3]\n"
          ]
        }
      ]
    },
    {
      "cell_type": "code",
      "source": [
        "def nSum(a, b): #parameter\n",
        "  return a + b\n",
        "\n",
        "nSum(100, 200)   #argument"
      ],
      "metadata": {
        "colab": {
          "base_uri": "https://localhost:8080/"
        },
        "id": "uuIpuKBH2lEL",
        "outputId": "c72253bc-72b0-43e4-bd96-c41389441f80"
      },
      "execution_count": 76,
      "outputs": [
        {
          "output_type": "execute_result",
          "data": {
            "text/plain": [
              "300"
            ]
          },
          "metadata": {},
          "execution_count": 76
        }
      ]
    },
    {
      "cell_type": "markdown",
      "source": [
        "## 3-4. 집합(Set)"
      ],
      "metadata": {
        "id": "Otcaoq-Q3JnU"
      }
    },
    {
      "cell_type": "markdown",
      "source": [
        "### 집합 정의\n",
        "- 집합 자료는 키만 모아 놓은 딕셔너리의 특수한 형태\n",
        "- 딕셔너리의 키는 중복되면 안 되므로 세트에 들어 있는 값은 항상 유일\n",
        "- 세트를 생성하려면 딕셔너리처럼 중괄호 { } 사용하지만 : 없이 값을 입력\n",
        "- ** 중복된 키는 자동으로 하나만 남음**"
      ],
      "metadata": {
        "id": "AwjwLWVw5Var"
      }
    },
    {
      "cell_type": "markdown",
      "source": [
        "### 집합 생성"
      ],
      "metadata": {
        "id": "2C8EuQwT5tZq"
      }
    },
    {
      "cell_type": "code",
      "source": [
        "a = set()  # 빈 집합 생성\n",
        "print( type(a) )\n",
        "\n",
        "a = {1,2,3,4,2,2,4}  # unique한 데이터만 남는다.\n",
        "print(a)\n"
      ],
      "metadata": {
        "colab": {
          "base_uri": "https://localhost:8080/"
        },
        "id": "r8C6Z22u5Yl8",
        "outputId": "7cd5a0a8-15eb-4452-fa53-5b6018b2fe4b"
      },
      "execution_count": 78,
      "outputs": [
        {
          "output_type": "stream",
          "name": "stdout",
          "text": [
            "<class 'set'>\n",
            "{1, 2, 3, 4}\n"
          ]
        }
      ]
    },
    {
      "cell_type": "markdown",
      "source": [
        "### 집합은 중복된 데이터는 배제한다.\n",
        "- unique한 데이터만 남는다.\n",
        "- 순서가 없다"
      ],
      "metadata": {
        "id": "84XDlZJt5t3y"
      }
    },
    {
      "cell_type": "code",
      "source": [
        "a = [1,2,3,4,5,6,7,2,2,3,5,6,7,5,2]\n",
        "print(a)\n",
        "a = list(set(a))\n",
        "print(a)\n",
        "\n"
      ],
      "metadata": {
        "colab": {
          "base_uri": "https://localhost:8080/"
        },
        "id": "sk7Y65ZJ64X_",
        "outputId": "97ac22c4-ca52-4c99-a772-a9e0301fb0e9"
      },
      "execution_count": 79,
      "outputs": [
        {
          "output_type": "stream",
          "name": "stdout",
          "text": [
            "[1, 2, 3, 4, 5, 6, 7, 2, 2, 3, 5, 6, 7, 5, 2]\n",
            "[1, 2, 3, 4, 5, 6, 7]\n"
          ]
        }
      ]
    },
    {
      "cell_type": "markdown",
      "source": [
        "### 집합에 요소 추가/삭제"
      ],
      "metadata": {
        "id": "tL6KgziR5s42"
      }
    },
    {
      "cell_type": "code",
      "source": [
        "S = {1,2,3,'a','b'}\n",
        "print(S)\n",
        "\n",
        "# 요소 1개 추가\n",
        "S.add(4)\n",
        "print(S)\n",
        "\n",
        "# 요소 여러개 추가\n",
        "S.update(['c','d', 5])\n",
        "print(S)\n",
        "S.update('apple')\n",
        "print(S)\n",
        "\n",
        "# 요소 1개 삭제\n",
        "S.discard('a')\n",
        "print(S)\n",
        "S.discard('apple')\n",
        "print(S)\n",
        "#S.discard([]'p','l']) # -> 오류 발생\n",
        "#print(S)\n",
        "\n",
        "# 특정 요소 삭제 (원소가 없으면 오류)\n",
        "S.remove(1)\n",
        "print(S)\n",
        "\n",
        "# 임의의 요소 삭제\n",
        "S.pop()\n",
        "print(S)\n"
      ],
      "metadata": {
        "colab": {
          "base_uri": "https://localhost:8080/"
        },
        "id": "Xsz8U27a7hvc",
        "outputId": "47346e69-1709-4e19-9cf8-8d003842bbf6"
      },
      "execution_count": 89,
      "outputs": [
        {
          "output_type": "stream",
          "name": "stdout",
          "text": [
            "{'b', 1, 2, 3, 'a'}\n",
            "{'b', 1, 2, 3, 4, 'a'}\n",
            "{1, 2, 3, 4, 5, 'c', 'd', 'b', 'a'}\n",
            "{1, 2, 3, 4, 5, 'l', 'p', 'c', 'e', 'd', 'b', 'a'}\n",
            "{1, 2, 3, 4, 5, 'l', 'p', 'c', 'e', 'd', 'b'}\n",
            "{1, 2, 3, 4, 5, 'l', 'p', 'c', 'e', 'd', 'b'}\n",
            "{2, 3, 4, 5, 'l', 'p', 'c', 'e', 'd', 'b'}\n",
            "{3, 4, 5, 'l', 'p', 'c', 'e', 'd', 'b'}\n"
          ]
        }
      ]
    },
    {
      "cell_type": "code",
      "source": [
        "# 집합 전체 삭제\n",
        "del(S)\n",
        "print(S)"
      ],
      "metadata": {
        "id": "eNcb0peb-Ds2"
      },
      "execution_count": null,
      "outputs": []
    },
    {
      "cell_type": "markdown",
      "source": [
        "### 교집합/합집합/차집합"
      ],
      "metadata": {
        "id": "t3zQrvBk-kHj"
      }
    },
    {
      "cell_type": "code",
      "source": [
        "S1 = {1,2,3,4,5}\n",
        "S2 = {3,4,5,6,7}\n",
        "print('S1 = ', S1)\n",
        "print('S2 = ', S2)\n",
        "# 교집합\n",
        "print(f'교집합(S1&S2) = {S1 & S2}' )\n",
        "print(S1.intersection(S2))\n",
        "# 합집합\n",
        "print(f'합집합(S1|S2) = {S1 | S2}' )\n",
        "print(S1.union(S2))\n",
        "# 차집합\n",
        "print( S1 - S2 )\n",
        "print(S1.difference(S2))\n",
        "print( S2 - S1 )\n",
        "print(S2.difference(S1))\n"
      ],
      "metadata": {
        "colab": {
          "base_uri": "https://localhost:8080/"
        },
        "id": "_hCn_v5N-pYe",
        "outputId": "461f8fc8-acc8-46f0-a255-70cbc7bc7aef"
      },
      "execution_count": 94,
      "outputs": [
        {
          "output_type": "stream",
          "name": "stdout",
          "text": [
            "S1 =  {1, 2, 3, 4, 5}\n",
            "S2 =  {3, 4, 5, 6, 7}\n",
            "교집합(S1&S2) = {3, 4, 5}\n",
            "{3, 4, 5}\n",
            "합집합(S1|S2) = {1, 2, 3, 4, 5, 6, 7}\n",
            "{1, 2, 3, 4, 5, 6, 7}\n",
            "{1, 2}\n",
            "{1, 2}\n",
            "{6, 7}\n",
            "{6, 7}\n"
          ]
        }
      ]
    },
    {
      "cell_type": "code",
      "source": [
        "# A.intersection_update(B,C) -> 계산 결과를 A로 update\n",
        "S1 = {1,2,3,4,5}\n",
        "S2 = {3,4,5,6,7}\n",
        "S1.intersection_update(S2)\n",
        "print(S1)\n"
      ],
      "metadata": {
        "colab": {
          "base_uri": "https://localhost:8080/"
        },
        "id": "lu7vDDz5Ahl1",
        "outputId": "bd32df5d-d4ab-4fd1-d084-dc01a3fc8889"
      },
      "execution_count": 99,
      "outputs": [
        {
          "output_type": "stream",
          "name": "stdout",
          "text": [
            "{3, 4, 5}\n"
          ]
        }
      ]
    },
    {
      "cell_type": "code",
      "source": [
        "# 세 개 이상 집합에서 사용\n",
        "# A.intersection_update(B,C) -> 계산 결과를 A로 update\n",
        "S1 = {1,2,3,4,5}\n",
        "S2 = {3,4,5,6,7}\n",
        "S3 = {5,6,7}\n",
        "S1.intersection_update(S2,S3)\n",
        "print(S1)\n"
      ],
      "metadata": {
        "colab": {
          "base_uri": "https://localhost:8080/"
        },
        "id": "rmuJWq0XBl39",
        "outputId": "36f12cb9-5efa-44b5-e7eb-5d20f45eeb83"
      },
      "execution_count": 100,
      "outputs": [
        {
          "output_type": "stream",
          "name": "stdout",
          "text": [
            "{5}\n"
          ]
        }
      ]
    }
  ]
}