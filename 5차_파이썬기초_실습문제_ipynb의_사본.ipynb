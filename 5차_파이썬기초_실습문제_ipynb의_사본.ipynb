{
  "nbformat": 4,
  "nbformat_minor": 0,
  "metadata": {
    "colab": {
      "provenance": [],
      "authorship_tag": "ABX9TyNiC7FbPhtnqDazRcrmfVk+",
      "include_colab_link": true
    },
    "kernelspec": {
      "name": "python3",
      "display_name": "Python 3"
    },
    "language_info": {
      "name": "python"
    }
  },
  "cells": [
    {
      "cell_type": "markdown",
      "metadata": {
        "id": "view-in-github",
        "colab_type": "text"
      },
      "source": [
        "<a href=\"https://colab.research.google.com/github/furewing/dataAnalysis/blob/main/5%EC%B0%A8_%ED%8C%8C%EC%9D%B4%EC%8D%AC%EA%B8%B0%EC%B4%88_%EC%8B%A4%EC%8A%B5%EB%AC%B8%EC%A0%9C_ipynb%EC%9D%98_%EC%82%AC%EB%B3%B8.ipynb\" target=\"_parent\"><img src=\"https://colab.research.google.com/assets/colab-badge.svg\" alt=\"Open In Colab\"/></a>"
      ]
    },
    {
      "cell_type": "code",
      "execution_count": null,
      "metadata": {
        "id": "IpqUucmFezzI"
      },
      "outputs": [],
      "source": []
    },
    {
      "cell_type": "markdown",
      "source": [
        "# [제어문 실습문제]"
      ],
      "metadata": {
        "id": "byGfSa2cKSfT"
      }
    },
    {
      "cell_type": "markdown",
      "source": [],
      "metadata": {
        "id": "SYYSMoLBK9cb"
      }
    },
    {
      "cell_type": "markdown",
      "source": [
        "### [문제0] 1000만원을 년 이자율 7%로 저금했을 경우 2000만원이 되는데 몇 년이 걸리는지 계산하는 프로그램을 만들어 보세요"
      ],
      "metadata": {
        "id": "vtzpJpehKs6r"
      }
    },
    {
      "cell_type": "code",
      "source": [
        "seed, target = 1000, 2000\n",
        "balance, interest = 1000, 0.07\n",
        "year = 0\n",
        "while balance <= target:\n",
        "  balance = balance + balance*interest\n",
        "  year += 1\n",
        "print(f'{seed}만원이 {target}만원이 되기 위해 {year} 년이 걸립니다.')"
      ],
      "metadata": {
        "id": "ljYln5pQLCMq",
        "outputId": "b13abe77-55aa-45c5-f01c-078f36206054",
        "colab": {
          "base_uri": "https://localhost:8080/"
        }
      },
      "execution_count": null,
      "outputs": [
        {
          "output_type": "stream",
          "name": "stdout",
          "text": [
            "1000만원이 2000만원이 되기 위해 11 년이 걸립니다.\n"
          ]
        }
      ]
    },
    {
      "cell_type": "markdown",
      "source": [
        "## [문제1]반복문을 사용해 1부터 1000까지의 자연수 중 3의 배수의 합을 구해 보자"
      ],
      "metadata": {
        "id": "GiuyFB0Q4zDA"
      }
    },
    {
      "cell_type": "markdown",
      "source": [
        "### for문"
      ],
      "metadata": {
        "id": "WGn-xQX56ZM2"
      }
    },
    {
      "cell_type": "code",
      "source": [
        "tot = 0\n",
        "for i in range(1, 1001):\n",
        "  if (i % 3 == 0):\n",
        "    tot += i\n",
        "\n",
        "print(f'1부터 1000까지의 자연수 중 3의 배수의 합 = ', tot)\n"
      ],
      "metadata": {
        "colab": {
          "base_uri": "https://localhost:8080/"
        },
        "id": "Ddgj6bCe45iI",
        "outputId": "a309ca4e-0639-4f47-d2a4-9b70b4c96988"
      },
      "execution_count": null,
      "outputs": [
        {
          "output_type": "stream",
          "name": "stdout",
          "text": [
            "1부터 1000까지의 자연수 중 3의 배수의 합 =  166833\n"
          ]
        }
      ]
    },
    {
      "cell_type": "markdown",
      "source": [
        "### while문"
      ],
      "metadata": {
        "id": "My--vlSV6dwL"
      }
    },
    {
      "cell_type": "code",
      "source": [
        "tot = 0\n",
        "i = 0\n",
        "while i < 1000:\n",
        "  i += 1\n",
        "  if (i % 3 == 0):\n",
        "    tot += i\n",
        "\n",
        "print(f'1부터 1000까지의 자연수 중 3의 배수의 합 = ', tot)\n"
      ],
      "metadata": {
        "id": "MIgLcdD56glw",
        "outputId": "7be0039b-b32c-4df2-a302-46c4628f77f8",
        "colab": {
          "base_uri": "https://localhost:8080/"
        }
      },
      "execution_count": null,
      "outputs": [
        {
          "output_type": "stream",
          "name": "stdout",
          "text": [
            "1부터 1000까지의 자연수 중 3의 배수의 합 =  166833\n"
          ]
        }
      ]
    },
    {
      "cell_type": "markdown",
      "source": [
        "### 리스트 컴프리헨션 이용하기"
      ],
      "metadata": {
        "id": "rOUgNuTx6g3d"
      }
    },
    {
      "cell_type": "code",
      "source": [
        "sum([i for i in range(1,1001) if i%3==0 ])"
      ],
      "metadata": {
        "colab": {
          "base_uri": "https://localhost:8080/"
        },
        "id": "IPoS_YFs65Lo",
        "outputId": "21d43a26-a0df-4641-b9a3-4f5463302a27"
      },
      "execution_count": null,
      "outputs": [
        {
          "output_type": "execute_result",
          "data": {
            "text/plain": [
              "166833"
            ]
          },
          "metadata": {},
          "execution_count": 4
        }
      ]
    },
    {
      "cell_type": "markdown",
      "source": [
        "### [문제2]사용자가 숫자를 입력하면 별 모양을 입력한 숫자의 두 배만큼 출력하는 프로그램을 만드세요. 예를 들어 5915를 입력하면 각 행에 10, 18, 2, 10 개의 별을 출력해 보세요.\n"
      ],
      "metadata": {
        "id": "sL3i2Grt6ia2"
      }
    },
    {
      "cell_type": "code",
      "source": [
        "#방법1\n",
        "star_list = list(input('숫자를 여러개 입력하세요: '))\n",
        "for s in star_list:\n",
        "  for i in range(0,int(s)*2):\n",
        "    print('*',end='')\n",
        "  print('')\n",
        "\n"
      ],
      "metadata": {
        "colab": {
          "base_uri": "https://localhost:8080/"
        },
        "id": "Vd1dzWCkG1HB",
        "outputId": "e2c40daf-4f21-4d90-bb95-2086e0508539"
      },
      "execution_count": null,
      "outputs": [
        {
          "output_type": "stream",
          "name": "stdout",
          "text": [
            "숫자를 입력하세요: 1234\n",
            "**\n",
            "****\n",
            "******\n",
            "********\n"
          ]
        }
      ]
    },
    {
      "cell_type": "code",
      "source": [
        "#방법2\n",
        "num = list(input('숫자를 여러개 입력하세요: '))\n",
        "for star in num:\n",
        "  print('⚝'*int(star)*2)\n",
        "\n"
      ],
      "metadata": {
        "colab": {
          "base_uri": "https://localhost:8080/"
        },
        "id": "eQlI17O6JnhX",
        "outputId": "0aa20963-f8c0-4a7e-e46a-54b4837b9461"
      },
      "execution_count": null,
      "outputs": [
        {
          "output_type": "stream",
          "name": "stdout",
          "text": [
            "숫자를 여러개 입력하세요: 23\n",
            "⚝⚝⚝⚝\n",
            "⚝⚝⚝⚝⚝⚝\n"
          ]
        }
      ]
    },
    {
      "cell_type": "markdown",
      "source": [
        "### [실습문제3]아래와 같이 구구단을 출력해 보세요."
      ],
      "metadata": {
        "id": "EpINp-6tO2-B"
      }
    },
    {
      "cell_type": "code",
      "source": [
        "# 방법1 : 세로출력\n",
        "\n",
        "for i in range(2,10):\n",
        "  print(f'---{i}단---')\n",
        "  for j in range(1,10):\n",
        "    print(f'{i}*{j}={i*j}')\n"
      ],
      "metadata": {
        "colab": {
          "base_uri": "https://localhost:8080/"
        },
        "id": "-ZuNi2IMO7zf",
        "outputId": "22e6c8d5-fd61-4cb5-f2b0-1e5b3779d4da"
      },
      "execution_count": null,
      "outputs": [
        {
          "output_type": "stream",
          "name": "stdout",
          "text": [
            "---2단---\n",
            "2*1=2\n",
            "2*2=4\n",
            "2*3=6\n",
            "2*4=8\n",
            "2*5=10\n",
            "2*6=12\n",
            "2*7=14\n",
            "2*8=16\n",
            "2*9=18\n",
            "---3단---\n",
            "3*1=3\n",
            "3*2=6\n",
            "3*3=9\n",
            "3*4=12\n",
            "3*5=15\n",
            "3*6=18\n",
            "3*7=21\n",
            "3*8=24\n",
            "3*9=27\n",
            "---4단---\n",
            "4*1=4\n",
            "4*2=8\n",
            "4*3=12\n",
            "4*4=16\n",
            "4*5=20\n",
            "4*6=24\n",
            "4*7=28\n",
            "4*8=32\n",
            "4*9=36\n",
            "---5단---\n",
            "5*1=5\n",
            "5*2=10\n",
            "5*3=15\n",
            "5*4=20\n",
            "5*5=25\n",
            "5*6=30\n",
            "5*7=35\n",
            "5*8=40\n",
            "5*9=45\n",
            "---6단---\n",
            "6*1=6\n",
            "6*2=12\n",
            "6*3=18\n",
            "6*4=24\n",
            "6*5=30\n",
            "6*6=36\n",
            "6*7=42\n",
            "6*8=48\n",
            "6*9=54\n",
            "---7단---\n",
            "7*1=7\n",
            "7*2=14\n",
            "7*3=21\n",
            "7*4=28\n",
            "7*5=35\n",
            "7*6=42\n",
            "7*7=49\n",
            "7*8=56\n",
            "7*9=63\n",
            "---8단---\n",
            "8*1=8\n",
            "8*2=16\n",
            "8*3=24\n",
            "8*4=32\n",
            "8*5=40\n",
            "8*6=48\n",
            "8*7=56\n",
            "8*8=64\n",
            "8*9=72\n",
            "---9단---\n",
            "9*1=9\n",
            "9*2=18\n",
            "9*3=27\n",
            "9*4=36\n",
            "9*5=45\n",
            "9*6=54\n",
            "9*7=63\n",
            "9*8=72\n",
            "9*9=81\n"
          ]
        }
      ]
    },
    {
      "cell_type": "code",
      "source": [
        "# 방법1 : 가로출력\n",
        "for i in range(0,10):\n",
        "  for j in range(2,10):\n",
        "    if i == 0:\n",
        "      print(f'-{j}단--', end=' ')\n",
        "    else:\n",
        "      print(f'{j}*{i}={j*i:2d}',end=' ')\n",
        "  print()\n"
      ],
      "metadata": {
        "colab": {
          "base_uri": "https://localhost:8080/"
        },
        "id": "mQ_oeW5PPgfc",
        "outputId": "a358fc4d-19dd-4a17-8c35-bccc6565192a"
      },
      "execution_count": null,
      "outputs": [
        {
          "output_type": "stream",
          "name": "stdout",
          "text": [
            "-2단-- -3단-- -4단-- -5단-- -6단-- -7단-- -8단-- -9단-- \n",
            "2*1= 2 3*1= 3 4*1= 4 5*1= 5 6*1= 6 7*1= 7 8*1= 8 9*1= 9 \n",
            "2*2= 4 3*2= 6 4*2= 8 5*2=10 6*2=12 7*2=14 8*2=16 9*2=18 \n",
            "2*3= 6 3*3= 9 4*3=12 5*3=15 6*3=18 7*3=21 8*3=24 9*3=27 \n",
            "2*4= 8 3*4=12 4*4=16 5*4=20 6*4=24 7*4=28 8*4=32 9*4=36 \n",
            "2*5=10 3*5=15 4*5=20 5*5=25 6*5=30 7*5=35 8*5=40 9*5=45 \n",
            "2*6=12 3*6=18 4*6=24 5*6=30 6*6=36 7*6=42 8*6=48 9*6=54 \n",
            "2*7=14 3*7=21 4*7=28 5*7=35 6*7=42 7*7=49 8*7=56 9*7=63 \n",
            "2*8=16 3*8=24 4*8=32 5*8=40 6*8=48 7*8=56 8*8=64 9*8=72 \n",
            "2*9=18 3*9=27 4*9=36 5*9=45 6*9=54 7*9=63 8*9=72 9*9=81 \n"
          ]
        }
      ]
    },
    {
      "cell_type": "code",
      "source": [
        "for i in range(1, 10):\n",
        "    for j in range(2, 10):\n",
        "        print(f\"{j} x {i} = {j*i:2d}\", end=\" \")\n",
        "    print()\n"
      ],
      "metadata": {
        "id": "8yv2GWPUYjDL"
      },
      "execution_count": null,
      "outputs": []
    },
    {
      "cell_type": "markdown",
      "source": [
        "### [실습문제4] 공이 튕긴 횟수 구하기 (공을 일정 높이에서 떨어뜨리면, 원래 높이의 1/2만큼 튀어 오릅니다. 이를 반복하다가 높이가 0.00001m보다 낮으면 튀어 오르지 않습니다. while문을 이용하여 공이 튀어 오르는 총 횟수를 구하는 프로그램을 만들어 보세요.)"
      ],
      "metadata": {
        "id": "IlNs-bDjYxMX"
      }
    },
    {
      "cell_type": "code",
      "source": [
        "height = float(input('공의 높이를 입력하세요(meter): '))\n",
        "cnt = 0\n",
        "while height >= 0.00001:\n",
        "  cnt += 1\n",
        "  height /= 2\n",
        "\n",
        "print(f'공이 튕긴 횟수는 총 {cnt}번 입니다.')\n"
      ],
      "metadata": {
        "id": "kdRBw8m4Y2RW",
        "colab": {
          "base_uri": "https://localhost:8080/"
        },
        "outputId": "cad51483-9792-4394-c126-3ec18be0e0db"
      },
      "execution_count": null,
      "outputs": [
        {
          "output_type": "stream",
          "name": "stdout",
          "text": [
            "공의 높이를 입력하세요(meter): 30\n",
            "공의 튕긴 횟수는 총 22번 입니다.\n"
          ]
        }
      ]
    },
    {
      "cell_type": "markdown",
      "source": [
        "### [실습문제5]도둑잡기 게임 만들기\n",
        "- 경찰에 쫓기던 범인이 3개의 방 중에 한 곳에 숨어버렸습니다.\n",
        "- 범인은 방문을 열 때마다 무작위로 3개의 방 중 하나의 방으로 이동합니다.\n",
        "- 3개의 방 중 하나의 방을 선택했을 때 범인이 있다면 100점, 없을 때 -10점을 부여하고 범인을 잡으면 게임을 종료하는 프로그램을 만들어 보세요\n",
        "-무한반복\n",
        "- ① 무작위로 범인 방 배치\n",
        "- ② 사용자로부터 방 번호 입력 받기\n",
        "- ③ 사용자가 입력한 방 번호와 범인이 있는 방 비교\n",
        "- ④ 범인을 찾으면 “범인 체포“라는 메시지와 점수 출력 후 프로그램 종료\n",
        "- ⑤ 범인을 찾지 못하면 “범인을 찾지 못했다“라는 메시지와 점수 출력 후 다시 게임 시"
      ],
      "metadata": {
        "id": "8Eaio24CovJB"
      }
    },
    {
      "cell_type": "code",
      "source": [
        "import random\n",
        "\n",
        "score = 0\n",
        "\n",
        "while True:\n",
        "  h_room = random.randint(1, 3)\n",
        "  s_room = int(input('범인의 방 번호를 입력하세요(1~3): '))\n",
        "  if h_room == s_room:\n",
        "    score += 100\n",
        "    print(f'범인 체포(최종 점수:{score})')\n",
        "    break\n",
        "  else:\n",
        "    score -= 10\n",
        "    print('범인을 찾지 못했습니다.')\n",
        "\n"
      ],
      "metadata": {
        "colab": {
          "base_uri": "https://localhost:8080/"
        },
        "id": "u58-CQHhoN5b",
        "outputId": "f593f9bb-00cb-4081-eb42-efa72270da63"
      },
      "execution_count": null,
      "outputs": [
        {
          "output_type": "stream",
          "name": "stdout",
          "text": [
            "범인의 방 번호를 입력하세요(1~3): 2\n",
            "범인을 찾지 못했습니다.\n",
            "범인의 방 번호를 입력하세요(1~3): 3\n",
            "범인을 찾지 못했습니다.\n",
            "범인의 방 번호를 입력하세요(1~3): 2\n",
            "범인을 찾지 못했습니다.\n",
            "범인의 방 번호를 입력하세요(1~3): 1\n",
            "범인을 찾지 못했습니다.\n",
            "범인의 방 번호를 입력하세요(1~3): 2\n",
            "범인을 찾지 못했습니다.\n",
            "범인의 방 번호를 입력하세요(1~3): 2\n",
            "범인 체포(최종 점수:50)\n"
          ]
        }
      ]
    },
    {
      "cell_type": "markdown",
      "source": [
        "### [실습문제6]커피 자동주문 프로그램 만들기\n",
        "- 앞에서 만들어 본 커피 자동주문 머신 프로그램을 while문을 이용하여 돈을 모두 지불할 때까지 돈을 입력 받도록 프로그램 기능을 수정해 보세요.\n",
        "- 친구들과 현금 커피 자동주문 머신 앞에서 아메리카노 2잔과 카페라테 2잔 카푸치노 1잔을 주문하였다.\n",
        "- 아메리카노 한잔에 2500원이고, 카페라테는 한잔에 3000원, 카푸치노는 한잔에 3000원이다.\n",
        "- 커피 종류와 잔 수를 결정한 후 현금 15000원을 투입하고 잔돈을 1000원 받았다\n"
      ],
      "metadata": {
        "id": "DhkDPRrMspM6"
      }
    },
    {
      "cell_type": "code",
      "source": [
        "menu = ''' [커피 자동주문 머신 메뉴] ------------------------------\n",
        "-아메리카노는 2500원\n",
        "-카레라떼는 3000원\n",
        "-카푸치노는 3000원 입니다.\n",
        "원하시는 커피종류와 잔수를 입력하세요.\n",
        "------------------------------ '''\n",
        "print(menu)\n",
        "coffee1 = int(input('아메리카노 몇잔? '))\n",
        "coffee2 = int(input('카페라떼 몇잔? '))\n",
        "coffee3 = int(input('카푸치노 몇잔? '))\n",
        "total = coffee1*2500 + coffee2*3000 + coffee3*3000\n",
        "print(f'지불할 총 금액은 {total}원 입니다.')\n",
        "while True:\n",
        "  print('-'*40)\n",
        "  pay = int(input('돈을 넣어주세요: '))\n",
        "  total -= pay\n",
        "  if total <= 0:\n",
        "    print(f'거스름돈은 {abs(total)}원 입니다.')\n",
        "    break\n",
        "  else:\n",
        "    print(f'입력한 금액이 부족합니다. {abs(total)}원을 더 넣어주세요.')\n",
        "print('-'*40)\n",
        "print('커피 맛있게 드세요~~~')\n"
      ],
      "metadata": {
        "colab": {
          "base_uri": "https://localhost:8080/"
        },
        "id": "g4QBzLiGrwCB",
        "outputId": "9546d24e-baed-456e-b22c-041010702be3"
      },
      "execution_count": null,
      "outputs": [
        {
          "output_type": "stream",
          "name": "stdout",
          "text": [
            " [커피 자동주문 머신 메뉴] ------------------------------\n",
            "-아메리카노는 2500원\n",
            "-카레라떼는 3000원\n",
            "-카푸치노는 3000원 입니다. \n",
            "원하시는 커피종류와 잔수를 입력하세요. \n",
            "------------------------------ \n",
            "아메리카노 몇잔? 1\n",
            "카페라떼 몇잔? 1\n",
            "카푸치노 몇잔? 1\n",
            "지불할 총 금액은 8500원 입니다.\n",
            "----------------------------------------\n",
            "돈을 넣어주세요: 10000\n",
            "거스름돈은 1500원 입니다.\n",
            "----------------------------------------\n",
            "커피 맛있게 드세요~~~\n"
          ]
        }
      ]
    },
    {
      "cell_type": "markdown",
      "source": [
        "### [실습문제7] 아래 조건을 만족하는 <무인 호텔 관리 프로그램>을 작성해 주세요.\n",
        "- 실습문제\n",
        "- < 무인 호텔 관리 프로그램 >\n",
        "- 1) 방 개수를 입력 받는다.\n",
        "- 2) 방 개수와 같은 길이의 리스트를 생성한다.\n",
        "- 5 개 → [0,0,0,0,0]\n",
        "- 3 개 → [0,0,0]\n",
        "- 3) 사용자 메뉴를 메시지로 보여주고 메뉴를 선택 받는다.\n",
        "- < 메뉴 >\n",
        "- 1. 체크인\n",
        "- 2. 체크아웃\n",
        "- 3. 현황 보기\n",
        "- 0. 종료하기\n",
        "- 4) 사용자가 메뉴에서 0을 입력할 때까지 (1~3) 과정을 진행한다.\n"
      ],
      "metadata": {
        "id": "zcn9OMjMx2h7"
      }
    },
    {
      "cell_type": "code",
      "source": [
        "rooms = []\n",
        "select_menu = '''< 메뉴 >\n",
        "1. 체크인\n",
        "2. 체크아웃\n",
        "3. 현황 보기\n",
        "0. 종료하기'''\n",
        "\n",
        "print('< 무인 호텔 관리 프로그램>')\n",
        "room = int(input('방의 개수를 입력하세요: '))\n",
        "for _ in range(room):\n",
        "  rooms.append(0)\n",
        "# --> rooms = [0 for _ in range(room)]\n",
        "\n",
        "while True:\n",
        "  print('-'*30)\n",
        "  print(select_menu)\n",
        "  select = int(input('--> 선택: '))\n",
        "  if select == 1:\n",
        "    check = int(input(f'체크인 하실 호수(1~{len(rooms)}): '))-1\n",
        "    if rooms[check] != 1:\n",
        "      rooms[check] = 1\n",
        "      print('입실 완료!!!')\n",
        "    else:\n",
        "      print('입실 중인 방은 체크인 하실 수 없습니다.')\n",
        "  elif select == 2:\n",
        "    check = int(input('체크아웃 하실 호수: '))-1\n",
        "    if rooms[check] == 1:\n",
        "      rooms[check] = 0\n",
        "      print('퇴실 완료!!!')\n",
        "    else:\n",
        "      print('빈방은 체크아웃 하실 수 없습니다..')\n",
        "  elif select == 3:\n",
        "    print('---- 객실 현황 ----')\n",
        "    for i in range(room):\n",
        "      print(f'{i+1}번방 입실중') if rooms[i] == 1 else print(f'{i+1}번 방 - 빈 방')\n",
        "  elif select == 0:\n",
        "    break\n",
        "  else:\n",
        "    print('잘못된 입력입니다')\n",
        "    continue\n"
      ],
      "metadata": {
        "colab": {
          "base_uri": "https://localhost:8080/"
        },
        "id": "kcateR9ayCVX",
        "outputId": "7c48edfd-9218-43cf-8268-a0af3084d338"
      },
      "execution_count": null,
      "outputs": [
        {
          "name": "stdout",
          "output_type": "stream",
          "text": [
            "< 무인 호텔 관리 프로그램>\n",
            "방의 개수를 입력하세요: 5\n",
            "------------------------------\n",
            "< 메뉴 >\n",
            "1. 체크인\n",
            "2. 체크아웃\n",
            "3. 현황 보기\n",
            "0. 종료하기\n",
            "--> 선택: 1\n",
            "체크인 하실 호수(1~5): 1\n",
            "입실 완료!!!\n",
            "------------------------------\n",
            "< 메뉴 >\n",
            "1. 체크인\n",
            "2. 체크아웃\n",
            "3. 현황 보기\n",
            "0. 종료하기\n",
            "--> 선택: 2\n",
            "체크아웃 하실 호수: 1\n",
            "퇴실 완료!!!\n",
            "------------------------------\n",
            "< 메뉴 >\n",
            "1. 체크인\n",
            "2. 체크아웃\n",
            "3. 현황 보기\n",
            "0. 종료하기\n",
            "--> 선택: 0\n"
          ]
        }
      ]
    }
  ]
}