{
  "nbformat": 4,
  "nbformat_minor": 0,
  "metadata": {
    "colab": {
      "provenance": [],
      "authorship_tag": "ABX9TyOC1yeueeARN7fWrYXcG2jJ",
      "include_colab_link": true
    },
    "kernelspec": {
      "name": "python3",
      "display_name": "Python 3"
    },
    "language_info": {
      "name": "python"
    }
  },
  "cells": [
    {
      "cell_type": "markdown",
      "metadata": {
        "id": "view-in-github",
        "colab_type": "text"
      },
      "source": [
        "<a href=\"https://colab.research.google.com/github/furewing/dataAnalysis/blob/main/7%EC%9D%BC%EC%B0%A8_%ED%8C%8C%EC%9D%B4%EC%8D%AC%EA%B8%B0%EC%B4%88_%ED%8C%8C%EC%9D%BC_%EC%9E%85%EC%B6%9C%EB%A0%A5_ipynb%EC%9D%98_%EC%82%AC%EB%B3%B8.ipynb\" target=\"_parent\"><img src=\"https://colab.research.google.com/assets/colab-badge.svg\" alt=\"Open In Colab\"/></a>"
      ]
    },
    {
      "cell_type": "markdown",
      "source": [
        "# 6. 파일 입출력"
      ],
      "metadata": {
        "id": "JGkAgv2Dmdjn"
      }
    },
    {
      "cell_type": "markdown",
      "source": [
        "## 6-1.TXT"
      ],
      "metadata": {
        "id": "RUnoTo5gmhTC"
      }
    },
    {
      "cell_type": "markdown",
      "source": [
        "### 파일 입출력"
      ],
      "metadata": {
        "id": "AyPb_wdkmvCy"
      }
    },
    {
      "cell_type": "code",
      "execution_count": null,
      "metadata": {
        "id": "CdqR_qI5jwUz"
      },
      "outputs": [],
      "source": [
        "#파일 쓰기\n",
        "f = open(\"./새파일.txt\", 'w')\n",
        "for i in range(1,12):\n",
        "  data = \"%d 번째 줄입니다.\\n\" % i\n",
        "  f.write(data)\n",
        "f.close()"
      ]
    },
    {
      "cell_type": "code",
      "source": [],
      "metadata": {
        "id": "ko9LO2RcxizJ"
      },
      "execution_count": null,
      "outputs": []
    },
    {
      "cell_type": "code",
      "source": [
        "#파일 읽기(readline)\n",
        "f = open(\"./새파일.txt\", 'r')\n",
        "while True:\n",
        "  line = f.readline()\n",
        "  if not line:\n",
        "    break\n",
        "  print(line.strip()) # \\n 제거\n",
        "f.close()"
      ],
      "metadata": {
        "colab": {
          "base_uri": "https://localhost:8080/"
        },
        "id": "DiPauQEXnb7i",
        "outputId": "5595f3b1-bce9-4a36-c69f-6b77976ed5fc"
      },
      "execution_count": null,
      "outputs": [
        {
          "output_type": "stream",
          "name": "stdout",
          "text": [
            "1 번째 줄입니다.\n",
            "2 번째 줄입니다.\n",
            "3 번째 줄입니다.\n",
            "4 번째 줄입니다.\n",
            "5 번째 줄입니다.\n",
            "6 번째 줄입니다.\n",
            "7 번째 줄입니다.\n",
            "8 번째 줄입니다.\n",
            "9 번째 줄입니다.\n",
            "10 번째 줄입니다.\n",
            "11 번째 줄입니다.\n"
          ]
        }
      ]
    },
    {
      "cell_type": "code",
      "source": [
        "#파일 읽기(readlines)\n",
        "f = open(\"./새파일.txt\", 'r')\n",
        "lines = f.readlines()\n",
        "#print(lines) # -> ['1 번째 줄입니다.\\n', '2 번째 줄입니다.\\n', '3 번째 줄입니다.\\n', '4 번째 줄입니다.\\n', '5 번째 줄입니다.\\n', '6 번째 줄입니다.\\n', '7 번째 줄입니다.\\n', '8 번째 줄입니다.\\n', '9 번째 줄입니다.\\n', '10 번째 줄입니다.\\n', '11 번째 줄입니다.\\n']\n",
        "for line in lines:\n",
        "  print(line.strip())\n",
        "f.close()"
      ],
      "metadata": {
        "colab": {
          "base_uri": "https://localhost:8080/"
        },
        "id": "gVeuUSfpo5_g",
        "outputId": "e283cdf5-4058-4d36-9718-58130336b156"
      },
      "execution_count": null,
      "outputs": [
        {
          "output_type": "stream",
          "name": "stdout",
          "text": [
            "['1 번째 줄입니다.\\n', '2 번째 줄입니다.\\n', '3 번째 줄입니다.\\n', '4 번째 줄입니다.\\n', '5 번째 줄입니다.\\n', '6 번째 줄입니다.\\n', '7 번째 줄입니다.\\n', '8 번째 줄입니다.\\n', '9 번째 줄입니다.\\n', '10 번째 줄입니다.\\n', '11 번째 줄입니다.\\n']\n",
            "1 번째 줄입니다.\n",
            "2 번째 줄입니다.\n",
            "3 번째 줄입니다.\n",
            "4 번째 줄입니다.\n",
            "5 번째 줄입니다.\n",
            "6 번째 줄입니다.\n",
            "7 번째 줄입니다.\n",
            "8 번째 줄입니다.\n",
            "9 번째 줄입니다.\n",
            "10 번째 줄입니다.\n",
            "11 번째 줄입니다.\n"
          ]
        }
      ]
    },
    {
      "cell_type": "code",
      "source": [
        "#파일 읽기(read)\n",
        "f = open(\"./새파일.txt\", 'r')\n",
        "data = f.read()\n",
        "print(data)\n",
        "f.close()"
      ],
      "metadata": {
        "colab": {
          "base_uri": "https://localhost:8080/"
        },
        "id": "Kzmyl7MMpJ4i",
        "outputId": "a7ece4e0-d4b4-4113-850a-0d7e353fdc1e"
      },
      "execution_count": null,
      "outputs": [
        {
          "output_type": "stream",
          "name": "stdout",
          "text": [
            "1 번째 줄입니다.\n",
            "2 번째 줄입니다.\n",
            "3 번째 줄입니다.\n",
            "4 번째 줄입니다.\n",
            "5 번째 줄입니다.\n",
            "6 번째 줄입니다.\n",
            "7 번째 줄입니다.\n",
            "8 번째 줄입니다.\n",
            "9 번째 줄입니다.\n",
            "10 번째 줄입니다.\n",
            "11 번째 줄입니다.\n",
            "\n"
          ]
        }
      ]
    },
    {
      "cell_type": "markdown",
      "source": [
        "### with 문 사용하기\n",
        "- with 문\n",
        "- with문 블록 범위를 벗어나면 자동으로 파일 객체 닫기 처리가 됨\n"
      ],
      "metadata": {
        "id": "w3ltu6rrrYUm"
      }
    },
    {
      "cell_type": "code",
      "source": [
        "# f.close()를 사용하지 않아도 with문 블록 범위를 벗어나면 자동으로 파일 객체가 닫혀진다.\n",
        "with open(\"./test.txt\", 'w') as f:\n",
        "  f.write(\"사랑해요, 파이썬!\")"
      ],
      "metadata": {
        "id": "xLXDtiHorUk-"
      },
      "execution_count": null,
      "outputs": []
    },
    {
      "cell_type": "code",
      "source": [
        "#with 문 파일 쓰기\n",
        "with open(\"./test.txt\", 'w') as f:\n",
        "  for i in range(1,11):\n",
        "    data = \"%d 번째 줄입니다.\\n\" % i\n",
        "    f.write(data)"
      ],
      "metadata": {
        "id": "9FfS5P8NsAwF"
      },
      "execution_count": null,
      "outputs": []
    },
    {
      "cell_type": "code",
      "source": [
        "#with 문 파일 쓰기\n",
        "with open(\"./test.txt\", 'r+') as f:\n",
        "  data = f.read()\n",
        "  print(data)\n",
        "  data = data.replace(\"줄\", \"사람\")\n",
        "  print(data)\n",
        "  f.write(data)\n",
        "  print(\"end\")\n"
      ],
      "metadata": {
        "colab": {
          "base_uri": "https://localhost:8080/"
        },
        "id": "V-uzk51dsM18",
        "outputId": "39eeb70a-f86d-403d-d57c-2cacb652f267"
      },
      "execution_count": null,
      "outputs": [
        {
          "output_type": "stream",
          "name": "stdout",
          "text": [
            "1 번째 줄입니다.\n",
            "2 번째 줄입니다.\n",
            "3 번째 줄입니다.\n",
            "4 번째 줄입니다.\n",
            "5 번째 줄입니다.\n",
            "6 번째 줄입니다.\n",
            "7 번째 줄입니다.\n",
            "8 번째 줄입니다.\n",
            "9 번째 줄입니다.\n",
            "10 번째 줄입니다.\n",
            "\n",
            "1 번째 사람입니다.\n",
            "2 번째 사람입니다.\n",
            "3 번째 사람입니다.\n",
            "4 번째 사람입니다.\n",
            "5 번째 사람입니다.\n",
            "6 번째 사람입니다.\n",
            "7 번째 사람입니다.\n",
            "8 번째 사람입니다.\n",
            "9 번째 사람입니다.\n",
            "10 번째 사람입니다.\n",
            "\n",
            "end\n"
          ]
        }
      ]
    },
    {
      "cell_type": "markdown",
      "source": [
        "### os 모듈: 디렉터리 & 파일 관련 함수"
      ],
      "metadata": {
        "id": "wuCeulmdmut7"
      }
    },
    {
      "cell_type": "code",
      "source": [
        "import os\n",
        "\n",
        "os.chdir('/content')\n",
        "print(f\"현재위치: {os.getcwd()}\")\n",
        "print(f\"현재위치 파일/폴더 목록: {os.listdir()}\")\n"
      ],
      "metadata": {
        "colab": {
          "base_uri": "https://localhost:8080/"
        },
        "id": "dncpztt_ssJ4",
        "outputId": "c427bfb3-c316-444b-d245-87c9f4d0e4b8"
      },
      "execution_count": null,
      "outputs": [
        {
          "output_type": "stream",
          "name": "stdout",
          "text": [
            "현재위치: /content\n",
            "현재위치 파일/폴더 목록: ['.config', 'test.txt', '새파일.txt', 'sample_data']\n",
            "현재위치 파일/폴더 목록: ['.config', 'test.txt', '새파일.txt', 'sample_data']\n"
          ]
        }
      ]
    },
    {
      "cell_type": "code",
      "source": [
        "os.chdir('../')"
      ],
      "metadata": {
        "id": "Keplm4aCuIaO"
      },
      "execution_count": null,
      "outputs": []
    },
    {
      "cell_type": "markdown",
      "source": [
        "### os.remove() : 파일 삭제"
      ],
      "metadata": {
        "id": "4laiiZLQugJN"
      }
    },
    {
      "cell_type": "code",
      "source": [
        "import os\n",
        "\n",
        "file = \"./새파일.txt\"\n",
        "if os.path.isfile(file):\n",
        "  os.remove(file)\n",
        "  print(f\"'{file}' 파일이 삭제되었습니다.\")\n",
        "else:\n",
        "  print(f\"'{file}' 파일이 존재하지 않습니다.\")\n"
      ],
      "metadata": {
        "colab": {
          "base_uri": "https://localhost:8080/"
        },
        "id": "m8ja5s5_udUW",
        "outputId": "f6b956e7-0064-4daf-a71e-ebb7b44b7c61"
      },
      "execution_count": null,
      "outputs": [
        {
          "output_type": "stream",
          "name": "stdout",
          "text": [
            "./새파일.txt 파일이 존재하지 않습니다.\n"
          ]
        }
      ]
    },
    {
      "cell_type": "code",
      "source": [
        "# sample.txt 신규 생성하고, 생성한 파일에 1~100사이의 임의의 정수를 10개를 출력하세요.\n",
        "import random\n",
        "\n",
        "f = open('./sample.txt', 'w')\n",
        "mlist = random.sample(range(1,100), 10)\n",
        "f.write(str(mlist))\n",
        "f.close()"
      ],
      "metadata": {
        "id": "a-WanmvWv1zd"
      },
      "execution_count": null,
      "outputs": []
    },
    {
      "cell_type": "code",
      "source": [
        "# sample.txt 신규 생성하고, 생성한 파일에 1~100사이의 임의의 정수를 10개를 출력하세요.\n",
        "import random\n",
        "\n",
        "f = open('./sample.txt', 'w')\n",
        "for _ in range(10):\n",
        "  n = str(random.randint(1,100))\n",
        "  f.write(n+'\\n') # 문자열 사용 가능\n",
        "f.close()\n",
        "\n",
        "f = open('./sample.txt', 'r')\n",
        "print(f.read())\n",
        "f.close()"
      ],
      "metadata": {
        "colab": {
          "base_uri": "https://localhost:8080/"
        },
        "id": "sObdhMqYxM-l",
        "outputId": "b11cec33-59a4-48d4-b2f4-933b1f267d6f"
      },
      "execution_count": null,
      "outputs": [
        {
          "output_type": "stream",
          "name": "stdout",
          "text": [
            "83\n",
            "24\n",
            "36\n",
            "19\n",
            "23\n",
            "85\n",
            "36\n",
            "76\n",
            "31\n",
            "43\n",
            "\n"
          ]
        }
      ]
    },
    {
      "cell_type": "markdown",
      "source": [
        "## 파일 입출력 실습문제"
      ],
      "metadata": {
        "id": "nD6d4AJAmros"
      }
    },
    {
      "cell_type": "code",
      "source": [
        "#파일 읽기(readlines)\n",
        "f = open(\"./sample.txt\", 'r')\n",
        "data = [int(line) for line in f.readlines()]\n",
        "hap = sum(data)\n",
        "\n",
        "print(f'총합은 {hap}입니다.')\n",
        "print(f'평균은 {hap/len(data)}입니다.')\n",
        "f.close()"
      ],
      "metadata": {
        "colab": {
          "base_uri": "https://localhost:8080/"
        },
        "id": "Fqu-OwKAy-MY",
        "outputId": "d0b5c712-d139-47c9-f5de-349751f7b355"
      },
      "execution_count": null,
      "outputs": [
        {
          "output_type": "stream",
          "name": "stdout",
          "text": [
            "총합은 456입니다.\n",
            "평균은 45.6입니다.\n"
          ]
        }
      ]
    },
    {
      "cell_type": "code",
      "source": [
        "#파일 읽기(readlines)\n",
        "with open(\"./sample.txt\", 'r') as f:\n",
        "  data = [ int(line) for line in f.readlines() ]\n",
        "  hap = sum(data)\n",
        "  avg = hap / len(data)\n",
        "  content =f'{data}\\n의 총합은 {hap}입니다.\\n 평균은 {avg}입니다.'\n",
        "  print(content)\n",
        "\n",
        "with open(\"./result.txt\", 'w') as f:\n",
        "  f.write(content)"
      ],
      "metadata": {
        "colab": {
          "base_uri": "https://localhost:8080/"
        },
        "id": "FE1iBOE20MF3",
        "outputId": "b4759920-f00f-4bda-fd2c-967be7ea83e8"
      },
      "execution_count": null,
      "outputs": [
        {
          "output_type": "stream",
          "name": "stdout",
          "text": [
            "[83, 24, 36, 19, 23, 85, 36, 76, 31, 43]\n",
            "의 총합은 456입니다.\n",
            " 평균은 45.6입니다.\n"
          ]
        }
      ]
    },
    {
      "cell_type": "markdown",
      "source": [
        "### (article.txt)파일을 읽어 딕셔너리 key에 해당하는 단어를 value값으로 대체 하여 (result2.txt) 파일에 출력하세요."
      ],
      "metadata": {
        "id": "nuBpk4l-ribU"
      }
    },
    {
      "cell_type": "code",
      "source": [
        "dicText = {\n",
        "'13':'20',\n",
        "'토트넘':'맨체스터유나이티드',\n",
        "'해리 케인':'박지성',\n",
        "'손흥민':'이승우'\n",
        "}\n",
        "\n",
        "with open(\"./article.txt\", 'r') as f:\n",
        "  article_text = f.read()\n",
        "\n",
        "# for word in article_text.split():\n",
        "#     if word in dicText:\n",
        "#         article_text = article_text.replace(word, dicText[word])\n",
        "\n",
        "for key, value in dicText.items():\n",
        "    article_text = article_text.replace(key, value)\n",
        "\n",
        "with open('./result2.txt', 'w') as file:\n",
        "    file.write(article_text)\n",
        "\n"
      ],
      "metadata": {
        "id": "-bNgVKnNrefM"
      },
      "execution_count": null,
      "outputs": []
    },
    {
      "cell_type": "markdown",
      "source": [
        "### 아래 조건을 만족하도록 팀 구성 프로그램을 만들어 보세요.\n",
        "- ① (members.txt)파일에 있는 수강생 데이터를 읽은 후 리스트로 만들고\n",
        "- ② 리스트를 섞은 후\n",
        "- ③ 팀당 4명의 수강생 만들어 { 팀명: [수강생] } 딕셔너리 형태로 만들고\n",
        "- ④ 화면과 (teams.txt) 파일로 출력하세요\n",
        "- ⑤ 팀명은 서로 연관성 있는 이름(과일, 야채, 동물 등)으로 구성된 리스트에서 임의로 부여되도록 한다."
      ],
      "metadata": {
        "id": "uwzZdI1VNZUU"
      }
    },
    {
      "cell_type": "code",
      "source": [
        "import random\n",
        "\n",
        "with open('./members.txt', 'r') as f:\n",
        "  members = [line.strip().split(',')[1] for line in f]\n",
        "\n",
        "random.shuffle(members)\n",
        "\n",
        "team_names = ['Apple', 'Banana', 'Cherry', 'Mango', 'Broccoli', 'Carrot', 'Spinach', 'Tomato', 'Lion', 'Elephant', 'Giraffe', 'Panda']\n",
        "teams = {}\n",
        "\n",
        "for i in range(0, len(members), 4):\n",
        "  team_name = random.choice(team_names)\n",
        "  team_names.remove(team_name)\n",
        "  teams[team_name] = members[i:i+4]\n",
        "\n",
        "print(f'팀원수: {len(members)}')\n",
        "print(f'팀개수: {len(teams)}')\n",
        "print(teams)\n",
        "\n",
        "print('Teams:')\n",
        "for team_name, members in teams.items():\n",
        "    #join 함수는 매개변수로 들어온 리스트에 있는 요소 하나하나를 합쳐서 하나의 문자열로 바꾸어 반환하는 함수\n",
        "    print(f'{team_name}: {\", \".join(members)}')\n",
        "\n",
        "with open('./teams.txt', 'w') as f:\n",
        "  for team_name, members in teams.items():\n",
        "    f.write(f'{team_name}: {\", \".join(members)}\\n')\n",
        "\n"
      ],
      "metadata": {
        "id": "B-FwcB6qNiic",
        "outputId": "19c15681-2999-42f5-8819-7a6b7e67fd83",
        "colab": {
          "base_uri": "https://localhost:8080/"
        }
      },
      "execution_count": null,
      "outputs": [
        {
          "output_type": "stream",
          "name": "stdout",
          "text": [
            "팀원수: 39\n",
            "팀개수: 10\n",
            "{'Apple': ['최준희', '박성미', '권지선', '이미경'], 'Elephant': ['김미영', '황수산나', '오현주', '이숙미'], 'Tomato': ['이수진', '김선형', '김현아', '이정'], 'Carrot': ['김혜정', '윤노숙', '고정미', '임은희'], 'Banana': ['박지영', '전현주', '유지연', '서남미'], 'Broccoli': ['전유진', '박효미', '권명숙', '박지연'], 'Mango': ['송인경', '한진희', '임미숙', '최원희'], 'Panda': ['윤영순', '천윤희', '이주현', '유지은'], 'Spinach': ['정재순', '박윤경', '조현정', '인선미'], 'Cherry': ['안지영', '전혜진', '최민지']}\n",
            "Teams:\n",
            "Apple: 최준희, 박성미, 권지선, 이미경\n",
            "Elephant: 김미영, 황수산나, 오현주, 이숙미\n",
            "Tomato: 이수진, 김선형, 김현아, 이정\n",
            "Carrot: 김혜정, 윤노숙, 고정미, 임은희\n",
            "Banana: 박지영, 전현주, 유지연, 서남미\n",
            "Broccoli: 전유진, 박효미, 권명숙, 박지연\n",
            "Mango: 송인경, 한진희, 임미숙, 최원희\n",
            "Panda: 윤영순, 천윤희, 이주현, 유지은\n",
            "Spinach: 정재순, 박윤경, 조현정, 인선미\n",
            "Cherry: 안지영, 전혜진, 최민지\n"
          ]
        }
      ]
    },
    {
      "cell_type": "code",
      "source": [
        "import random\n",
        "\n",
        "# 1. 파일 열고 회원 목록 읽기\n",
        "with open('./members.txt', 'r') as f:\n",
        "  members = [ member.strip() for member in f.readlines() ]\n",
        "\n",
        "# 2. 리스트 섞기\n",
        "for i in range(5):\n",
        "  random.shuffle(members)\n",
        "  #print(f'리스트를 {i+1}번 섞었습니다.')\n",
        "\n",
        "f = open('./teams.txt', 'w')\n",
        "\n",
        "# 3. 팀별로 배정하기\n",
        "teams_dic, tmp = dict(), list()  # 팀:회원 저장 딕셔너리, 임시 저장 리스트\n",
        "member_cnt, team_cnt = 4, 0\n",
        "\n",
        "for idx, member in enumerate(members):\n",
        "  if idx>0 and idx % member_cnt == 0:\n",
        "    f.write(f'{team_cnt+1}팀: {tmp}\\n') #파일 출력\n",
        "    print(f'{team_cnt+1}팀: {tmp}')     #화면 출력\n",
        "    teams_dic[f'{team_cnt+1}팀'] = tmp\n",
        "    team_cnt += 1\n",
        "    tmp = []\n",
        "  tmp.append(member)\n",
        "if tmp:\n",
        "  teams_dic[f'{team_cnt+1}팀'] = tmp\n",
        "  print(f'{team_cnt+1}팀: {tmp}')\n",
        "  f.write(f'{team_cnt+1}팀: {tmp}')\n",
        "\n",
        "f.close()\n"
      ],
      "metadata": {
        "colab": {
          "base_uri": "https://localhost:8080/"
        },
        "id": "oiu06CCfnSOO",
        "outputId": "adfb9e75-f807-43d0-cb79-dc7930d20f21"
      },
      "execution_count": 4,
      "outputs": [
        {
          "output_type": "stream",
          "name": "stdout",
          "text": [
            "1팀: ['31,조현정', '15,오현주', '38,정재순', '30,전혜진']\n",
            "2팀: ['4,김선형', '27,임은희', '12,서남미', '28,전유진']\n",
            "3팀: ['33,최민지', '20,이미경', '17,유지은', '37,황수산나']\n",
            "4팀: ['10,박지영', '23,이정', '26,임미숙', '13,송인경']\n",
            "5팀: ['22,이숙미', '14,안지영', '6,김혜정', '29,전현주']\n",
            "6팀: ['16,유지연', '34,최원희', '8,박윤경', '25,인선미']\n",
            "7팀: ['21,이수진', '35,최준희', '9,박지연', '39,권명숙']\n",
            "8팀: ['7,박성미', '11,박효미', '36,한진희', '32,천윤희']\n",
            "9팀: ['18,윤노숙', '1,고정미', '19,윤영순', '2,권지선']\n",
            "10팀: ['3,김미영', '24,이주현', '5,김현아']\n"
          ]
        }
      ]
    },
    {
      "cell_type": "code",
      "source": [
        "import pandas as pd\n",
        "df = pd.read_csv(\"./members.txt\", encoding='utf-8')\n",
        "df"
      ],
      "metadata": {
        "colab": {
          "base_uri": "https://localhost:8080/",
          "height": 1000
        },
        "id": "zRvCnOa8n7us",
        "outputId": "9025f922-bd9c-47a9-d17d-4f7e61c033c5"
      },
      "execution_count": null,
      "outputs": [
        {
          "output_type": "execute_result",
          "data": {
            "text/plain": [
              "     1   고정미\n",
              "0    2   권지선\n",
              "1    3   김미영\n",
              "2    4   김선형\n",
              "3    5   김현아\n",
              "4    6   김혜정\n",
              "5    7   박성미\n",
              "6    8   박윤경\n",
              "7    9   박지연\n",
              "8   10   박지영\n",
              "9   11   박효미\n",
              "10  12   서남미\n",
              "11  13   송인경\n",
              "12  14   안지영\n",
              "13  15   오현주\n",
              "14  16   유지연\n",
              "15  17   유지은\n",
              "16  18   윤노숙\n",
              "17  19   윤영순\n",
              "18  20   이미경\n",
              "19  21   이수진\n",
              "20  22   이숙미\n",
              "21  23    이정\n",
              "22  24   이주현\n",
              "23  25   인선미\n",
              "24  26   임미숙\n",
              "25  27   임은희\n",
              "26  28   전유진\n",
              "27  29   전현주\n",
              "28  30   전혜진\n",
              "29  31   조현정\n",
              "30  32   천윤희\n",
              "31  33   최민지\n",
              "32  34   최원희\n",
              "33  35   최준희\n",
              "34  36   한진희\n",
              "35  37  황수산나\n",
              "36  38   정재순\n",
              "37  39   권명숙"
            ],
            "text/html": [
              "\n",
              "  <div id=\"df-22475103-d396-4d6f-a91d-28e12cc7415e\" class=\"colab-df-container\">\n",
              "    <div>\n",
              "<style scoped>\n",
              "    .dataframe tbody tr th:only-of-type {\n",
              "        vertical-align: middle;\n",
              "    }\n",
              "\n",
              "    .dataframe tbody tr th {\n",
              "        vertical-align: top;\n",
              "    }\n",
              "\n",
              "    .dataframe thead th {\n",
              "        text-align: right;\n",
              "    }\n",
              "</style>\n",
              "<table border=\"1\" class=\"dataframe\">\n",
              "  <thead>\n",
              "    <tr style=\"text-align: right;\">\n",
              "      <th></th>\n",
              "      <th>1</th>\n",
              "      <th>고정미</th>\n",
              "    </tr>\n",
              "  </thead>\n",
              "  <tbody>\n",
              "    <tr>\n",
              "      <th>0</th>\n",
              "      <td>2</td>\n",
              "      <td>권지선</td>\n",
              "    </tr>\n",
              "    <tr>\n",
              "      <th>1</th>\n",
              "      <td>3</td>\n",
              "      <td>김미영</td>\n",
              "    </tr>\n",
              "    <tr>\n",
              "      <th>2</th>\n",
              "      <td>4</td>\n",
              "      <td>김선형</td>\n",
              "    </tr>\n",
              "    <tr>\n",
              "      <th>3</th>\n",
              "      <td>5</td>\n",
              "      <td>김현아</td>\n",
              "    </tr>\n",
              "    <tr>\n",
              "      <th>4</th>\n",
              "      <td>6</td>\n",
              "      <td>김혜정</td>\n",
              "    </tr>\n",
              "    <tr>\n",
              "      <th>5</th>\n",
              "      <td>7</td>\n",
              "      <td>박성미</td>\n",
              "    </tr>\n",
              "    <tr>\n",
              "      <th>6</th>\n",
              "      <td>8</td>\n",
              "      <td>박윤경</td>\n",
              "    </tr>\n",
              "    <tr>\n",
              "      <th>7</th>\n",
              "      <td>9</td>\n",
              "      <td>박지연</td>\n",
              "    </tr>\n",
              "    <tr>\n",
              "      <th>8</th>\n",
              "      <td>10</td>\n",
              "      <td>박지영</td>\n",
              "    </tr>\n",
              "    <tr>\n",
              "      <th>9</th>\n",
              "      <td>11</td>\n",
              "      <td>박효미</td>\n",
              "    </tr>\n",
              "    <tr>\n",
              "      <th>10</th>\n",
              "      <td>12</td>\n",
              "      <td>서남미</td>\n",
              "    </tr>\n",
              "    <tr>\n",
              "      <th>11</th>\n",
              "      <td>13</td>\n",
              "      <td>송인경</td>\n",
              "    </tr>\n",
              "    <tr>\n",
              "      <th>12</th>\n",
              "      <td>14</td>\n",
              "      <td>안지영</td>\n",
              "    </tr>\n",
              "    <tr>\n",
              "      <th>13</th>\n",
              "      <td>15</td>\n",
              "      <td>오현주</td>\n",
              "    </tr>\n",
              "    <tr>\n",
              "      <th>14</th>\n",
              "      <td>16</td>\n",
              "      <td>유지연</td>\n",
              "    </tr>\n",
              "    <tr>\n",
              "      <th>15</th>\n",
              "      <td>17</td>\n",
              "      <td>유지은</td>\n",
              "    </tr>\n",
              "    <tr>\n",
              "      <th>16</th>\n",
              "      <td>18</td>\n",
              "      <td>윤노숙</td>\n",
              "    </tr>\n",
              "    <tr>\n",
              "      <th>17</th>\n",
              "      <td>19</td>\n",
              "      <td>윤영순</td>\n",
              "    </tr>\n",
              "    <tr>\n",
              "      <th>18</th>\n",
              "      <td>20</td>\n",
              "      <td>이미경</td>\n",
              "    </tr>\n",
              "    <tr>\n",
              "      <th>19</th>\n",
              "      <td>21</td>\n",
              "      <td>이수진</td>\n",
              "    </tr>\n",
              "    <tr>\n",
              "      <th>20</th>\n",
              "      <td>22</td>\n",
              "      <td>이숙미</td>\n",
              "    </tr>\n",
              "    <tr>\n",
              "      <th>21</th>\n",
              "      <td>23</td>\n",
              "      <td>이정</td>\n",
              "    </tr>\n",
              "    <tr>\n",
              "      <th>22</th>\n",
              "      <td>24</td>\n",
              "      <td>이주현</td>\n",
              "    </tr>\n",
              "    <tr>\n",
              "      <th>23</th>\n",
              "      <td>25</td>\n",
              "      <td>인선미</td>\n",
              "    </tr>\n",
              "    <tr>\n",
              "      <th>24</th>\n",
              "      <td>26</td>\n",
              "      <td>임미숙</td>\n",
              "    </tr>\n",
              "    <tr>\n",
              "      <th>25</th>\n",
              "      <td>27</td>\n",
              "      <td>임은희</td>\n",
              "    </tr>\n",
              "    <tr>\n",
              "      <th>26</th>\n",
              "      <td>28</td>\n",
              "      <td>전유진</td>\n",
              "    </tr>\n",
              "    <tr>\n",
              "      <th>27</th>\n",
              "      <td>29</td>\n",
              "      <td>전현주</td>\n",
              "    </tr>\n",
              "    <tr>\n",
              "      <th>28</th>\n",
              "      <td>30</td>\n",
              "      <td>전혜진</td>\n",
              "    </tr>\n",
              "    <tr>\n",
              "      <th>29</th>\n",
              "      <td>31</td>\n",
              "      <td>조현정</td>\n",
              "    </tr>\n",
              "    <tr>\n",
              "      <th>30</th>\n",
              "      <td>32</td>\n",
              "      <td>천윤희</td>\n",
              "    </tr>\n",
              "    <tr>\n",
              "      <th>31</th>\n",
              "      <td>33</td>\n",
              "      <td>최민지</td>\n",
              "    </tr>\n",
              "    <tr>\n",
              "      <th>32</th>\n",
              "      <td>34</td>\n",
              "      <td>최원희</td>\n",
              "    </tr>\n",
              "    <tr>\n",
              "      <th>33</th>\n",
              "      <td>35</td>\n",
              "      <td>최준희</td>\n",
              "    </tr>\n",
              "    <tr>\n",
              "      <th>34</th>\n",
              "      <td>36</td>\n",
              "      <td>한진희</td>\n",
              "    </tr>\n",
              "    <tr>\n",
              "      <th>35</th>\n",
              "      <td>37</td>\n",
              "      <td>황수산나</td>\n",
              "    </tr>\n",
              "    <tr>\n",
              "      <th>36</th>\n",
              "      <td>38</td>\n",
              "      <td>정재순</td>\n",
              "    </tr>\n",
              "    <tr>\n",
              "      <th>37</th>\n",
              "      <td>39</td>\n",
              "      <td>권명숙</td>\n",
              "    </tr>\n",
              "  </tbody>\n",
              "</table>\n",
              "</div>\n",
              "    <div class=\"colab-df-buttons\">\n",
              "\n",
              "  <div class=\"colab-df-container\">\n",
              "    <button class=\"colab-df-convert\" onclick=\"convertToInteractive('df-22475103-d396-4d6f-a91d-28e12cc7415e')\"\n",
              "            title=\"Convert this dataframe to an interactive table.\"\n",
              "            style=\"display:none;\">\n",
              "\n",
              "  <svg xmlns=\"http://www.w3.org/2000/svg\" height=\"24px\" viewBox=\"0 -960 960 960\">\n",
              "    <path d=\"M120-120v-720h720v720H120Zm60-500h600v-160H180v160Zm220 220h160v-160H400v160Zm0 220h160v-160H400v160ZM180-400h160v-160H180v160Zm440 0h160v-160H620v160ZM180-180h160v-160H180v160Zm440 0h160v-160H620v160Z\"/>\n",
              "  </svg>\n",
              "    </button>\n",
              "\n",
              "  <style>\n",
              "    .colab-df-container {\n",
              "      display:flex;\n",
              "      gap: 12px;\n",
              "    }\n",
              "\n",
              "    .colab-df-convert {\n",
              "      background-color: #E8F0FE;\n",
              "      border: none;\n",
              "      border-radius: 50%;\n",
              "      cursor: pointer;\n",
              "      display: none;\n",
              "      fill: #1967D2;\n",
              "      height: 32px;\n",
              "      padding: 0 0 0 0;\n",
              "      width: 32px;\n",
              "    }\n",
              "\n",
              "    .colab-df-convert:hover {\n",
              "      background-color: #E2EBFA;\n",
              "      box-shadow: 0px 1px 2px rgba(60, 64, 67, 0.3), 0px 1px 3px 1px rgba(60, 64, 67, 0.15);\n",
              "      fill: #174EA6;\n",
              "    }\n",
              "\n",
              "    .colab-df-buttons div {\n",
              "      margin-bottom: 4px;\n",
              "    }\n",
              "\n",
              "    [theme=dark] .colab-df-convert {\n",
              "      background-color: #3B4455;\n",
              "      fill: #D2E3FC;\n",
              "    }\n",
              "\n",
              "    [theme=dark] .colab-df-convert:hover {\n",
              "      background-color: #434B5C;\n",
              "      box-shadow: 0px 1px 3px 1px rgba(0, 0, 0, 0.15);\n",
              "      filter: drop-shadow(0px 1px 2px rgba(0, 0, 0, 0.3));\n",
              "      fill: #FFFFFF;\n",
              "    }\n",
              "  </style>\n",
              "\n",
              "    <script>\n",
              "      const buttonEl =\n",
              "        document.querySelector('#df-22475103-d396-4d6f-a91d-28e12cc7415e button.colab-df-convert');\n",
              "      buttonEl.style.display =\n",
              "        google.colab.kernel.accessAllowed ? 'block' : 'none';\n",
              "\n",
              "      async function convertToInteractive(key) {\n",
              "        const element = document.querySelector('#df-22475103-d396-4d6f-a91d-28e12cc7415e');\n",
              "        const dataTable =\n",
              "          await google.colab.kernel.invokeFunction('convertToInteractive',\n",
              "                                                    [key], {});\n",
              "        if (!dataTable) return;\n",
              "\n",
              "        const docLinkHtml = 'Like what you see? Visit the ' +\n",
              "          '<a target=\"_blank\" href=https://colab.research.google.com/notebooks/data_table.ipynb>data table notebook</a>'\n",
              "          + ' to learn more about interactive tables.';\n",
              "        element.innerHTML = '';\n",
              "        dataTable['output_type'] = 'display_data';\n",
              "        await google.colab.output.renderOutput(dataTable, element);\n",
              "        const docLink = document.createElement('div');\n",
              "        docLink.innerHTML = docLinkHtml;\n",
              "        element.appendChild(docLink);\n",
              "      }\n",
              "    </script>\n",
              "  </div>\n",
              "\n",
              "\n",
              "<div id=\"df-1f55a2ec-5cde-4a6e-b150-74e1ff40d82e\">\n",
              "  <button class=\"colab-df-quickchart\" onclick=\"quickchart('df-1f55a2ec-5cde-4a6e-b150-74e1ff40d82e')\"\n",
              "            title=\"Suggest charts\"\n",
              "            style=\"display:none;\">\n",
              "\n",
              "<svg xmlns=\"http://www.w3.org/2000/svg\" height=\"24px\"viewBox=\"0 0 24 24\"\n",
              "     width=\"24px\">\n",
              "    <g>\n",
              "        <path d=\"M19 3H5c-1.1 0-2 .9-2 2v14c0 1.1.9 2 2 2h14c1.1 0 2-.9 2-2V5c0-1.1-.9-2-2-2zM9 17H7v-7h2v7zm4 0h-2V7h2v10zm4 0h-2v-4h2v4z\"/>\n",
              "    </g>\n",
              "</svg>\n",
              "  </button>\n",
              "\n",
              "<style>\n",
              "  .colab-df-quickchart {\n",
              "      --bg-color: #E8F0FE;\n",
              "      --fill-color: #1967D2;\n",
              "      --hover-bg-color: #E2EBFA;\n",
              "      --hover-fill-color: #174EA6;\n",
              "      --disabled-fill-color: #AAA;\n",
              "      --disabled-bg-color: #DDD;\n",
              "  }\n",
              "\n",
              "  [theme=dark] .colab-df-quickchart {\n",
              "      --bg-color: #3B4455;\n",
              "      --fill-color: #D2E3FC;\n",
              "      --hover-bg-color: #434B5C;\n",
              "      --hover-fill-color: #FFFFFF;\n",
              "      --disabled-bg-color: #3B4455;\n",
              "      --disabled-fill-color: #666;\n",
              "  }\n",
              "\n",
              "  .colab-df-quickchart {\n",
              "    background-color: var(--bg-color);\n",
              "    border: none;\n",
              "    border-radius: 50%;\n",
              "    cursor: pointer;\n",
              "    display: none;\n",
              "    fill: var(--fill-color);\n",
              "    height: 32px;\n",
              "    padding: 0;\n",
              "    width: 32px;\n",
              "  }\n",
              "\n",
              "  .colab-df-quickchart:hover {\n",
              "    background-color: var(--hover-bg-color);\n",
              "    box-shadow: 0 1px 2px rgba(60, 64, 67, 0.3), 0 1px 3px 1px rgba(60, 64, 67, 0.15);\n",
              "    fill: var(--button-hover-fill-color);\n",
              "  }\n",
              "\n",
              "  .colab-df-quickchart-complete:disabled,\n",
              "  .colab-df-quickchart-complete:disabled:hover {\n",
              "    background-color: var(--disabled-bg-color);\n",
              "    fill: var(--disabled-fill-color);\n",
              "    box-shadow: none;\n",
              "  }\n",
              "\n",
              "  .colab-df-spinner {\n",
              "    border: 2px solid var(--fill-color);\n",
              "    border-color: transparent;\n",
              "    border-bottom-color: var(--fill-color);\n",
              "    animation:\n",
              "      spin 1s steps(1) infinite;\n",
              "  }\n",
              "\n",
              "  @keyframes spin {\n",
              "    0% {\n",
              "      border-color: transparent;\n",
              "      border-bottom-color: var(--fill-color);\n",
              "      border-left-color: var(--fill-color);\n",
              "    }\n",
              "    20% {\n",
              "      border-color: transparent;\n",
              "      border-left-color: var(--fill-color);\n",
              "      border-top-color: var(--fill-color);\n",
              "    }\n",
              "    30% {\n",
              "      border-color: transparent;\n",
              "      border-left-color: var(--fill-color);\n",
              "      border-top-color: var(--fill-color);\n",
              "      border-right-color: var(--fill-color);\n",
              "    }\n",
              "    40% {\n",
              "      border-color: transparent;\n",
              "      border-right-color: var(--fill-color);\n",
              "      border-top-color: var(--fill-color);\n",
              "    }\n",
              "    60% {\n",
              "      border-color: transparent;\n",
              "      border-right-color: var(--fill-color);\n",
              "    }\n",
              "    80% {\n",
              "      border-color: transparent;\n",
              "      border-right-color: var(--fill-color);\n",
              "      border-bottom-color: var(--fill-color);\n",
              "    }\n",
              "    90% {\n",
              "      border-color: transparent;\n",
              "      border-bottom-color: var(--fill-color);\n",
              "    }\n",
              "  }\n",
              "</style>\n",
              "\n",
              "  <script>\n",
              "    async function quickchart(key) {\n",
              "      const quickchartButtonEl =\n",
              "        document.querySelector('#' + key + ' button');\n",
              "      quickchartButtonEl.disabled = true;  // To prevent multiple clicks.\n",
              "      quickchartButtonEl.classList.add('colab-df-spinner');\n",
              "      try {\n",
              "        const charts = await google.colab.kernel.invokeFunction(\n",
              "            'suggestCharts', [key], {});\n",
              "      } catch (error) {\n",
              "        console.error('Error during call to suggestCharts:', error);\n",
              "      }\n",
              "      quickchartButtonEl.classList.remove('colab-df-spinner');\n",
              "      quickchartButtonEl.classList.add('colab-df-quickchart-complete');\n",
              "    }\n",
              "    (() => {\n",
              "      let quickchartButtonEl =\n",
              "        document.querySelector('#df-1f55a2ec-5cde-4a6e-b150-74e1ff40d82e button');\n",
              "      quickchartButtonEl.style.display =\n",
              "        google.colab.kernel.accessAllowed ? 'block' : 'none';\n",
              "    })();\n",
              "  </script>\n",
              "</div>\n",
              "\n",
              "  <div id=\"id_36e85643-5fee-4825-90b2-fcd7af2fbe01\">\n",
              "    <style>\n",
              "      .colab-df-generate {\n",
              "        background-color: #E8F0FE;\n",
              "        border: none;\n",
              "        border-radius: 50%;\n",
              "        cursor: pointer;\n",
              "        display: none;\n",
              "        fill: #1967D2;\n",
              "        height: 32px;\n",
              "        padding: 0 0 0 0;\n",
              "        width: 32px;\n",
              "      }\n",
              "\n",
              "      .colab-df-generate:hover {\n",
              "        background-color: #E2EBFA;\n",
              "        box-shadow: 0px 1px 2px rgba(60, 64, 67, 0.3), 0px 1px 3px 1px rgba(60, 64, 67, 0.15);\n",
              "        fill: #174EA6;\n",
              "      }\n",
              "\n",
              "      [theme=dark] .colab-df-generate {\n",
              "        background-color: #3B4455;\n",
              "        fill: #D2E3FC;\n",
              "      }\n",
              "\n",
              "      [theme=dark] .colab-df-generate:hover {\n",
              "        background-color: #434B5C;\n",
              "        box-shadow: 0px 1px 3px 1px rgba(0, 0, 0, 0.15);\n",
              "        filter: drop-shadow(0px 1px 2px rgba(0, 0, 0, 0.3));\n",
              "        fill: #FFFFFF;\n",
              "      }\n",
              "    </style>\n",
              "    <button class=\"colab-df-generate\" onclick=\"generateWithVariable('df')\"\n",
              "            title=\"Generate code using this dataframe.\"\n",
              "            style=\"display:none;\">\n",
              "\n",
              "  <svg xmlns=\"http://www.w3.org/2000/svg\" height=\"24px\"viewBox=\"0 0 24 24\"\n",
              "       width=\"24px\">\n",
              "    <path d=\"M7,19H8.4L18.45,9,17,7.55,7,17.6ZM5,21V16.75L18.45,3.32a2,2,0,0,1,2.83,0l1.4,1.43a1.91,1.91,0,0,1,.58,1.4,1.91,1.91,0,0,1-.58,1.4L9.25,21ZM18.45,9,17,7.55Zm-12,3A5.31,5.31,0,0,0,4.9,8.1,5.31,5.31,0,0,0,1,6.5,5.31,5.31,0,0,0,4.9,4.9,5.31,5.31,0,0,0,6.5,1,5.31,5.31,0,0,0,8.1,4.9,5.31,5.31,0,0,0,12,6.5,5.46,5.46,0,0,0,6.5,12Z\"/>\n",
              "  </svg>\n",
              "    </button>\n",
              "    <script>\n",
              "      (() => {\n",
              "      const buttonEl =\n",
              "        document.querySelector('#id_36e85643-5fee-4825-90b2-fcd7af2fbe01 button.colab-df-generate');\n",
              "      buttonEl.style.display =\n",
              "        google.colab.kernel.accessAllowed ? 'block' : 'none';\n",
              "\n",
              "      buttonEl.onclick = () => {\n",
              "        google.colab.notebook.generateWithVariable('df');\n",
              "      }\n",
              "      })();\n",
              "    </script>\n",
              "  </div>\n",
              "\n",
              "    </div>\n",
              "  </div>\n"
            ],
            "application/vnd.google.colaboratory.intrinsic+json": {
              "type": "dataframe",
              "variable_name": "df",
              "summary": "{\n  \"name\": \"df\",\n  \"rows\": 38,\n  \"fields\": [\n    {\n      \"column\": \"1\",\n      \"properties\": {\n        \"dtype\": \"number\",\n        \"std\": 11,\n        \"min\": 2,\n        \"max\": 39,\n        \"num_unique_values\": 38,\n        \"samples\": [\n          35,\n          38,\n          6\n        ],\n        \"semantic_type\": \"\",\n        \"description\": \"\"\n      }\n    },\n    {\n      \"column\": \"\\uace0\\uc815\\ubbf8\",\n      \"properties\": {\n        \"dtype\": \"string\",\n        \"num_unique_values\": 38,\n        \"samples\": [\n          \"\\ucd5c\\uc900\\ud76c\",\n          \"\\uc815\\uc7ac\\uc21c\",\n          \"\\uae40\\ud61c\\uc815\"\n        ],\n        \"semantic_type\": \"\",\n        \"description\": \"\"\n      }\n    }\n  ]\n}"
            }
          },
          "metadata": {},
          "execution_count": 8
        }
      ]
    },
    {
      "cell_type": "markdown",
      "source": [
        "### (\"data/hamlet.txt“)파일을 읽어 단어의 빈도수를 나타내는 프로그램을 만들고 빈도수 상위 10개의 단어와 빈도수를 튜플 형태로 출력하세요"
      ],
      "metadata": {
        "id": "BYMwSfzDNiFP"
      }
    },
    {
      "cell_type": "code",
      "source": [
        "nulls = ['.', '?', ',', '!', '-']\n",
        "\n",
        "with open('./hamlet.txt', 'r') as f:\n",
        "  text = f.read()\n",
        "  #for i in nulls:\n",
        "  #  text = text.replace(i, '')  # 단어의 '.', '?', ',', '!', '-' 삭제\n",
        "  text = text.lower()  # 소문자로 변환\n",
        "\n",
        "word_count = {}\n",
        "\n",
        "for word in text.split():\n",
        "  if word not in word_count:\n",
        "    word_count[word] = 1\n",
        "  else:\n",
        "    word_count[word] += 1\n",
        "\n",
        "print(word_count.items())\n",
        "\n",
        "# sorted(정렬할 데이터, key 파라미터, reverse 파라미터)\n",
        "top_words = sorted(word_count.items(), key=lambda x: x[1], reverse=True)[:10]\n",
        "\n",
        "print(top_words)\n"
      ],
      "metadata": {
        "id": "pfUvJ7BwUTIs",
        "outputId": "0dee34da-6243-4294-af18-b191dea65a15",
        "colab": {
          "base_uri": "https://localhost:8080/"
        }
      },
      "execution_count": null,
      "outputs": [
        {
          "output_type": "stream",
          "name": "stdout",
          "text": [
            "dict_items([('the', 1083), ('tragedy', 1), ('of', 670), ('hamlet,', 28), ('prince', 2), ('denmark', 10), ('by', 111), ('william', 1), ('shakespeare', 1), ('dramatis', 1), ('personae', 1), ('claudius,', 2), ('king', 43), ('denmark.', 7), ('marcellus,', 4), ('officer.', 3), ('son', 11), ('to', 727), ('former,', 1), ('and', 939), ('nephew', 3), ('present', 4), ('king.', 119), ('polonius,', 6), ('lord', 16), ('chamberlain.', 1), ('horatio,', 15), ('friend', 4), ('hamlet.', 25), ('laertes,', 16), ('polonius.', 14), ('voltemand,', 4), ('courtier.', 7), ('cornelius,', 2), ('rosencrantz,', 6), ('guildenstern,', 5), ('osric,', 4), ('a', 540), ('gentleman,', 2), ('priest.', 3), ('bernardo,', 2), ('francisco,', 2), ('soldier', 2), ('reynaldo,', 2), ('servant', 2), ('players.', 7), ('two', 23), ('clowns,', 2), ('gravediggers.', 1), ('fortinbras,', 6), ('norway.', 1), ('norwegian', 1), ('captain.', 1), ('english', 2), ('ambassadors.', 3), ('getrude,', 1), ('queen', 18), ('denmark,', 3), ('mother', 14), ('ophelia,', 12), ('daughter', 8), ('ghost', 9), (\"hamlet's\", 9), ('father.', 8), ('lords,', 2), ('ladies,', 1), ('officers,', 1), ('soldiers,', 3), ('sailors,', 2), ('messengers,', 2), ('attendants.', 2), ('scene.-', 1), ('elsinore.', 21), ('act', 12), ('i.', 9), ('scene', 23), ('platform', 3), ('before', 17), ('castle.', 15), ('enter', 69), ('sentinels-[first,]', 1), ('[who', 2), ('paces', 1), ('up', 29), ('down', 14), ('at', 87), ('his', 302), ('post;', 1), ('then]', 3), ('approaches', 1), ('him].', 2), ('ber.', 19), (\"who's\", 1), ('there.?', 1), ('fran.', 8), ('nay,', 22), ('answer', 8), ('me.', 35), ('stand', 12), ('unfold', 2), ('yourself.', 4), ('long', 12), ('live', 13), ('king!', 2), ('bernardo?', 1), ('he.', 2), ('you', 433), ('come', 54), ('most', 82), ('carefully', 1), ('upon', 53), ('your', 242), ('hour.', 1), (\"'tis\", 71), ('now', 54), ('struck', 4), ('twelve.', 2), ('get', 9), ('thee', 35), ('bed,', 2), ('francisco.', 1), ('for', 231), ('this', 253), ('relief', 1), ('much', 45), ('thanks.', 2), ('bitter', 2), ('cold,', 2), ('i', 523), ('am', 54), ('sick', 4), ('heart.', 4), ('have', 176), ('had', 44), ('quiet', 4), ('guard?', 1), ('not', 274), ('mouse', 1), ('stirring.', 1), ('well,', 21), ('good', 97), ('night.', 7), ('if', 111), ('do', 131), ('meet', 5), ('horatio', 8), ('rivals', 1), ('my', 519), ('watch,', 6), ('bid', 6), ('them', 43), ('make', 53), ('haste.', 2), ('marcellus.', 4), ('think', 39), ('hear', 23), ('them.', 16), ('stand,', 2), ('ho!', 7), ('who', 33), ('is', 327), ('there?', 2), ('hor.', 108), ('friends', 7), ('ground.', 4), ('mar.', 31), ('liegemen', 1), ('dane.', 4), ('give', 58), ('o,', 59), ('farewell,', 4), ('honest', 6), ('soldier.', 1), ('hath', 63), (\"reliev'd\", 1), ('you?', 13), ('bernardo', 2), ('place.', 2), ('exit.', 17), ('holla,', 1), ('bernardo!', 1), ('say-', 2), ('what,', 16), ('there', 52), ('?', 2), ('piece', 6), ('him.', 32), ('welcome,', 7), ('horatio.', 11), ('has', 12), ('thing', 13), (\"appear'd\", 3), ('again', 9), ('to-night?', 2), ('seen', 17), ('nothing.', 5), ('says', 7), ('but', 254), ('our', 120), ('fantasy,', 1), ('will', 151), ('let', 95), ('belief', 1), ('take', 36), ('hold', 26), ('him', 121), ('touching', 3), ('dreaded', 1), ('sight,', 3), ('twice', 4), ('us.', 6), ('therefore', 14), ('entreated', 1), ('along,', 1), ('with', 267), ('us', 46), ('watch', 7), ('minutes', 1), ('night,', 13), ('that,', 26), ('apparition', 2), ('come,', 34), ('he', 200), ('may', 66), ('approve', 2), ('eyes', 11), ('speak', 42), ('it.', 34), ('tush,', 2), (\"'twill\", 4), ('appear.', 1), ('sit', 8), ('awhile,', 5), ('once', 12), ('assail', 1), ('ears,', 2), ('that', 343), ('are', 128), ('so', 139), ('fortified', 1), ('against', 23), ('story,', 1), ('what', 190), ('we', 136), ('nights', 3), ('seen.', 2), ('down,', 6), ('this.', 7), ('last', 11), ('night', 13), ('all,', 7), ('when', 55), ('yond', 1), ('same', 10), ('star', 4), (\"that's\", 16), ('westward', 1), ('from', 94), ('pole', 2), ('made', 28), ('course', 4), (\"t'\", 6), ('illume', 1), ('part', 19), ('heaven', 22), ('where', 50), ('it', 327), ('burns,', 2), ('marcellus', 1), ('myself,', 3), ('bell', 2), ('then', 39), ('beating', 2), ('one-', 2), ('ghost.', 20), ('peace!', 3), ('break', 7), ('off!', 1), ('look', 32), ('comes', 19), ('again!', 4), ('in', 420), ('figure,', 1), ('like', 74), ('dead.', 5), ('thou', 97), ('art', 14), ('scholar;', 1), ('it,', 38), ('looks', 4), ('king?', 5), ('mark', 10), ('like.', 4), ('harrows', 1), ('me', 144), ('fear', 13), ('wonder.', 1), ('would', 75), ('be', 204), ('spoke', 2), ('to.', 2), ('question', 11), (\"usurp'st\", 1), ('time', 34), ('together', 9), ('fair', 14), ('warlike', 5), ('form', 12), ('which', 57), ('majesty', 10), ('buried', 5), ('did', 59), ('sometimes', 3), ('march?', 1), ('charge', 4), ('speak!', 5), ('offended.', 3), ('see,', 4), ('stalks', 1), ('away!', 6), ('stay!', 1), ('speak,', 6), ('exit', 10), ('gone', 4), ('answer.', 2), ('how', 87), ('now,', 28), ('horatio?', 2), ('tremble', 2), ('pale.', 2), ('something', 13), ('more', 74), ('than', 50), ('fantasy?', 1), (\"on't?\", 2), ('god,', 6), ('might', 29), ('believe', 18), ('without', 16), ('sensible', 1), ('true', 13), ('avouch', 1), ('mine', 23), ('own', 36), ('eyes.', 3), ('as', 214), ('thyself.', 2), ('such', 54), ('was', 76), ('very', 64), ('armour', 2), ('on', 108), (\"th'\", 71), ('ambitious', 2), ('norway', 2), ('combated.', 1), (\"frown'd\", 1), ('when,', 1), ('an', 56), ('angry', 1), ('parle,', 1), ('smote', 1), ('sledded', 1), ('polacks', 1), ('ice.', 1), ('strange.', 2), ('thus', 31), ('before,', 3), ('jump', 2), ('dead', 17), ('hour,', 2), ('martial', 1), ('stalk', 1), ('watch.', 1), ('particular', 7), ('thought', 8), ('work', 6), ('know', 57), ('not;', 2), ('but,', 18), ('gross', 3), ('scope', 2), ('opinion,', 1), ('bodes', 1), ('some', 53), ('strange', 4), ('eruption', 1), ('state.', 3), ('tell', 40), ('knows,', 2), ('why', 31), ('strict', 2), ('observant', 1), ('nightly', 1), ('toils', 1), ('subject', 2), ('land,', 4), ('daily', 1), ('cast', 6), ('brazen', 1), ('cannon', 4), ('foreign', 1), ('mart', 1), ('implements', 1), ('war;', 1), ('impress', 1), ('shipwrights,', 1), ('whose', 32), ('sore', 3), ('task', 1), ('does', 25), ('divide', 2), ('sunday', 1), ('week.', 1), ('toward,', 1), ('sweaty', 1), ('haste', 9), ('doth', 28), ('joint-labourer', 1), ('day?', 2), (\"is't\", 11), ('can', 32), ('inform', 2), ('me?', 10), ('least,', 1), ('whisper', 2), ('goes', 11), ('so.', 19), ('king,', 20), ('image', 3), ('even', 21), ('us,', 15), ('was,', 4), ('know,', 12), ('fortinbras', 4), ('norway,', 9), ('thereto', 1), (\"prick'd\", 1), ('emulate', 1), ('pride,', 1), (\"dar'd\", 1), ('combat;', 1), ('valiant', 2), ('hamlet', 28), ('(for', 3), ('side', 1), ('known', 5), ('world', 17), (\"esteem'd\", 1), ('him)', 1), ('slay', 1), ('fortinbras;', 2), ('who,', 7), (\"seal'd\", 3), ('compact,', 1), ('well', 32), ('ratified', 1), ('law', 3), ('heraldry,', 1), ('forfeit,', 1), ('life,', 12), ('all', 95), ('those', 21), ('lands', 4), ('stood', 4), (\"seiz'd\", 1), ('of,', 1), ('conqueror;', 1), ('moiety', 1), ('competent', 1), ('gaged', 1), ('king;', 2), (\"return'd\", 3), ('inheritance', 1), ('been', 27), ('vanquisher,', 1), ('as,', 2), ('comart', 1), ('carriage', 1), ('article', 1), (\"design'd,\", 1), ('fell', 8), ('sir,', 40), ('young', 17), ('unimproved', 1), ('mettle', 1), ('hot', 5), ('full,', 2), ('skirts', 1), ('here', 37), ('there,', 7), (\"shark'd\", 1), ('list', 3), ('lawless', 2), ('resolutes,', 1), ('food', 1), ('diet,', 1), ('enterprise', 1), ('stomach', 1), (\"in't;\", 1), ('no', 106), ('other,', 4), ('appear', 2), ('unto', 8), ('state,', 5), ('recover', 3), ('strong', 3), ('hand', 13), ('terms', 3), ('compulsatory,', 1), ('foresaid', 1), ('father', 26), ('lost;', 2), ('this,', 19), ('main', 3), ('motive', 4), ('preparations,', 1), ('source', 2), ('chief', 3), ('head', 18), ('post-haste', 1), ('romage', 1), ('land.', 1), ('other', 11), (\"e'en\", 11), ('sort', 3), ('portentous', 1), ('figure', 2), ('armed', 2), ('through', 9), ('these', 44), ('wars.', 1), ('mote', 1), ('trouble', 2), (\"mind's\", 2), ('eye.', 3), ('high', 3), ('palmy', 1), ('state', 6), ('rome,', 1), ('little', 15), ('ere', 12), ('mightiest', 1), ('julius', 2), ('fell,', 1), ('graves', 2), ('tenantless,', 1), ('sheeted', 1), ('squeak', 1), ('gibber', 1), ('roman', 2), ('streets;', 1), ('stars', 2), ('trains', 1), ('fire,', 4), ('dews', 1), ('blood,', 5), ('disasters', 1), ('sun;', 1), ('moist', 1), ('influence', 1), (\"neptune's\", 2), ('empire', 2), ('stands', 3), ('almost', 10), ('doomsday', 2), ('eclipse.', 1), ('precurse', 1), ('fierce', 1), ('events,', 1), ('harbingers', 1), ('preceding', 1), ('still', 13), ('fates', 2), ('prologue', 3), ('omen', 1), ('coming', 5), ('on,', 6), ('earth', 14), ('demonstrated', 1), ('climature', 1), ('countrymen.', 1), ('again.', 8), ('soft!', 7), ('behold!', 1), ('lo,', 2), (\"i'll\", 56), ('cross', 1), ('though', 23), ('blast', 2), ('me.-', 1), ('stay', 8), ('illusion!', 1), ('spreads', 1), ('arms.', 3), ('hast', 15), ('any', 12), ('sound,', 2), ('or', 114), ('use', 15), ('voice,', 4), ('done,', 7), ('ease,', 3), ('and,', 20), ('race', 1), ('me,', 30), ('privy', 1), ('thy', 86), (\"country's\", 1), ('fate,', 1), ('happily', 2), ('foreknowing', 1), ('avoid,', 1), ('uphoarded', 1), ('life', 13), ('extorted', 1), ('treasure', 4), ('womb', 1), ('which,', 5), ('they', 98), ('say,', 13), ('spirits', 4), ('oft', 11), ('walk', 8), ('death),', 1), ('cock', 3), ('crows.', 1), ('it!', 6), ('stay,', 3), ('speak!-', 1), ('stop', 4), ('marcellus!', 1), ('shall', 108), ('strike', 1), ('partisan?', 1), ('do,', 12), ('stand.', 1), ('here!', 2), ('gone!', 2), ('wrong,', 2), ('being', 11), ('majestical,', 1), ('offer', 2), ('show', 20), ('violence;', 2), ('air,', 5), ('invulnerable,', 1), ('vain', 1), ('blows', 2), ('malicious', 2), ('mockery.', 1), ('about', 15), ('crew.', 1), ('started,', 1), ('guilty', 4), ('fearful', 1), ('summons.', 1), ('heard', 10), ('cock,', 2), ('trumpet', 4), ('morn,', 2), ('lofty', 1), ('shrill-sounding', 1), ('throat', 3), ('awake', 1), ('god', 19), ('day;', 1), ('warning,', 1), ('whether', 6), ('sea', 4), ('extravagant', 1), ('erring', 1), ('spirit', 7), ('hies', 1), ('confine;', 1), ('truth', 4), ('herein', 3), ('object', 1), ('probation.', 1), ('faded', 1), ('crowing', 1), ('cock.', 1), ('say', 33), ('ever,', 1), (\"'gainst\", 4), ('season', 5), ('wherein', 8), (\"saviour's\", 1), ('birth', 1), ('celebrated,', 1), ('bird', 1), ('dawning', 1), ('singeth', 1), ('long;', 1), ('then,', 13), ('dare', 5), ('stir', 4), ('abroad,', 1), ('wholesome,', 1), ('planets', 1), ('strike,', 1), ('fairy', 1), ('takes,', 2), ('nor', 37), ('witch', 1), ('power', 7), ('charm,', 1), (\"hallow'd\", 1), ('gracious', 4), ('time.', 6), ('look,', 4), ('russet', 1), ('mantle', 1), ('clad,', 1), ('walks', 2), (\"o'er\", 14), ('dew', 2), ('yon', 1), ('eastward', 1), ('hill.', 1), ('up;', 3), ('advice', 1), ('impart', 4), ('to-night', 3), ('hamlet;', 2), ('for,', 5), ('spirit,', 3), ('dumb', 4), ('consent', 2), ('acquaint', 1), ('needful', 1), ('loves,', 2), ('fitting', 1), ('duty?', 1), (\"let's\", 10), (\"do't,\", 3), ('pray;', 1), ('morning', 4), ('find', 17), ('conveniently.', 1), ('exeunt.', 12), ('ii.', 6), ('room', 12), ('flourish.', 4), ('[enter', 4), ('gertrude', 1), ('queen,', 16), ('laertes', 9), ('sister', 3), ('[voltemand,', 1), ('cornelius,]', 1), ('lords', 3), ('attendant.', 2), ('yet', 38), ('dear', 28), (\"brother's\", 7), ('death', 15), ('memory', 7), ('green,', 1), ('befitted', 1), ('bear', 14), ('hearts', 1), ('grief,', 3), ('whole', 7), ('kingdom', 3), ('contracted', 1), ('one', 34), ('brow', 1), ('woe,', 2), ('far', 10), ('discretion', 2), ('fought', 1), ('nature', 16), ('wisest', 3), ('sorrow', 4), ('remembrance', 2), ('ourselves.', 2), ('sometime', 3), ('sister,', 4), ('imperial', 1), ('jointress', 1), ('we,', 1), (\"'twere\", 9), ('defeated', 1), ('joy,', 2), ('auspicious,', 1), ('dropping', 1), ('eye,', 6), ('mirth', 1), ('funeral,', 1), ('dirge', 1), ('marriage,', 2), ('equal', 2), ('scale', 2), ('weighing', 1), ('delight', 3), ('dole,', 1), ('taken', 3), ('wife;', 3), (\"barr'd\", 1), ('better', 11), ('wisdoms,', 1), ('freely', 2), ('affair', 2), ('along.', 1), ('follows,', 1), ('holding', 1), ('weak', 2), ('supposal', 1), ('worth,', 2), ('thinking', 4), ('late', 5), ('disjoint', 1), ('out', 44), ('frame,', 3), ('colleagued', 1), ('dream', 4), ('advantage,', 1), (\"fail'd\", 1), ('pester', 1), ('message', 1), ('importing', 3), ('surrender', 1), ('lost', 5), ('father,', 6), ('bands', 1), ('law,', 1), ('brother.', 4), ('ourself', 2), ('meeting.', 1), ('business', 8), ('is:', 1), ('writ', 5), ('uncle', 4), ('impotent', 1), ('bedrid,', 1), ('scarcely', 2), ('hears', 3), (\"nephew's\", 2), ('purpose,', 4), ('suppress', 2), ('further', 9), ('gait', 2), ('herein,', 1), ('levies,', 1), ('lists,', 1), ('full', 9), ('proportions', 1), ('subject;', 1), ('dispatch', 1), ('you,', 55), ('bearers', 2), ('greeting', 1), ('old', 19), ('giving', 3), ('personal', 1), ('dilated', 1), ('articles', 1), ('allow.', 1), ('[gives', 2), ('paper.]', 2), ('commend', 4), ('duty.', 2), ('cor.,', 1), ('volt.', 2), ('things,', 1), ('doubt', 8), ('heartily', 1), ('farewell.', 10), ('exeunt', 19), ('voltemand', 1), ('cornelius.', 2), (\"what's\", 11), ('news', 7), ('told', 5), ('suit.', 1), (\"is't,\", 5), ('laertes?', 6), ('cannot', 25), ('reason', 10), ('dane', 1), ('lose', 6), ('voice.', 2), ('wouldst', 6), ('beg,', 1), ('offer,', 1), ('asking?', 1), ('native', 4), ('heart,', 8), ('instrumental', 1), ('mouth,', 4), ('throne', 1), ('have,', 3), ('laer.', 62), ('dread', 5), ('lord,', 83), ('leave', 21), ('favour', 3), ('return', 3), ('france;', 2), ('whence', 1), ('willingly', 2), ('came', 9), ('duty', 10), ('coronation,', 1), ('must', 60), ('confess,', 1), ('thoughts', 14), ('wishes', 1), ('bend', 3), ('toward', 5), ('france', 3), ('bow', 2), ('pardon.', 1), (\"father's\", 18), ('leave?', 2), ('polonius?', 3), ('pol.', 86), ('hath,', 2), ('wrung', 1), ('slow', 3), ('laboursome', 1), ('petition,', 1), ('hard', 4), ('consent.', 1), ('beseech', 7), ('go.', 6), ('laertes.', 7), ('thine,', 2), ('best', 9), ('graces', 1), ('spend', 1), ('will!', 2), ('cousin', 3), ('son-', 1), ('ham.', 358), ('[aside]', 12), ('kin,', 1), ('less', 6), ('kind!', 1), ('clouds', 2), ('hang', 3), ('so,', 19), ('lord.', 65), ('too', 35), (\"i'\", 23), ('sun.', 2), ('queen.', 80), ('nighted', 1), ('colour', 2), ('off,', 3), ('thine', 9), ('eye', 4), ('ever', 10), ('vailed', 1), ('lids', 1), ('seek', 9), ('noble', 17), ('dust.', 1), (\"know'st\", 2), ('common.', 2), ('lives', 4), ('die,', 2), ('passing', 3), ('eternity.', 1), ('ay,', 36), ('madam,', 9), ('be,', 9), ('seems', 4), ('thee?', 4), ('seems,', 1), ('is.', 4), (\"'seems.'\", 1), ('alone', 6), ('inky', 1), ('cloak,', 1), ('mother,', 11), ('customary', 1), ('suits', 2), ('solemn', 3), ('black,', 3), ('windy', 1), ('suspiration', 1), (\"forc'd\", 2), ('breath,', 3), ('no,', 29), ('fruitful', 1), ('river', 1), ('dejected', 1), ('havior', 1), ('visage,', 2), ('forms,', 2), ('moods,', 1), ('shapes', 3), (\"'that\", 1), ('denote', 1), ('truly.', 1), ('indeed', 12), ('seem,', 1), ('actions', 2), ('man', 33), ('play;', 2), ('within', 13), ('passeth', 1), ('show-', 1), ('trappings', 1), ('woe.', 1), ('sweet', 20), ('commendable', 1), ('nature,', 8), ('mourning', 1), ('duties', 1), ('father;', 7), ('lost,', 2), ('his,', 1), ('survivor', 1), ('bound', 4), ('filial', 1), ('obligation', 2), ('term', 2), ('obsequious', 1), ('sorrow.', 1), ('persever', 1), ('obstinate', 1), ('condolement', 1), ('impious', 1), ('stubbornness.', 1), ('unmanly', 1), ('grief;', 2), ('shows', 8), ('incorrect', 1), ('heaven,', 13), ('heart', 11), ('unfortified,', 1), ('mind', 8), ('impatient,', 1), ('understanding', 3), ('simple', 1), (\"unschool'd;\", 1), ('common', 5), ('vulgar', 1), ('sense,', 2), ('should', 55), ('peevish', 1), ('opposition', 2), ('heart?', 1), ('fie!', 2), ('fault', 4), ('dead,', 4), ('absurd,', 1), ('theme', 2), ('fathers,', 2), ('cried,', 1), ('first', 12), ('corse', 2), ('till', 20), ('died', 2), ('to-day,', 1), (\"'this\", 2), (\"so.'\", 1), ('pray', 25), ('throw', 5), ('unprevailing', 1), ('note', 5), ('immediate', 2), ('throne,', 1), ('nobility', 1), ('love', 39), ('dearest', 2), ('bears', 2), ('you.', 36), ('intent', 1), ('going', 2), ('back', 6), ('school', 1), ('wittenberg,', 2), ('retrograde', 1), ('desire;', 1), ('remain', 2), ('cheer', 3), ('comfort', 1), ('chiefest', 1), ('courtier,', 2), ('cousin,', 1), ('son.', 2), ('her', 76), ('prayers,', 2), ('go', 50), ('wittenberg.', 1), ('obey', 4), ('madam.', 1), ('why,', 31), ('loving', 3), ('reply.', 2), ('come.', 8), ('gentle', 5), (\"unforc'd\", 1), ('accord', 1), ('sits', 3), ('smiling', 2), ('heart;', 3), ('grace', 9), ('whereof,', 1), ('jocund', 1), ('health', 4), ('drinks', 2), ('to-day', 1), ('great', 24), ('tell,', 1), (\"king's\", 7), ('rouse', 1), ('bruit', 1), ('again,', 7), ('respeaking', 1), ('earthly', 1), ('thunder.', 1), ('away.', 5), ('o', 50), ('solid', 1), ('flesh', 4), ('melt,', 1), ('thaw,', 1), ('resolve', 1), ('itself', 22), ('into', 27), ('dew!', 1), ('everlasting', 1), (\"fix'd\", 3), ('canon', 1), ('self-slaughter!', 1), ('god!', 5), ('weary,', 1), ('stale,', 1), ('flat,', 1), ('unprofitable', 1), ('seem', 9), ('uses', 3), ('world!', 2), ('fie', 3), (\"on't!\", 4), ('ah,', 3), ('unweeded', 1), ('garden', 2), ('grows', 4), ('seed;', 1), ('things', 9), ('rank', 5), ('possess', 1), ('merely.', 1), ('this!', 3), ('months', 3), ('dead!', 2), ('much,', 3), ('two.', 2), ('excellent', 9), ('hyperion', 1), ('satyr;', 1), ('beteem', 1), ('winds', 3), ('visit', 5), ('face', 6), ('roughly.', 1), ('earth!', 2), ('remember?', 1), ('she', 44), ('increase', 1), ('appetite', 1), ('grown', 4), ('fed', 2), ('on;', 2), ('yet,', 4), ('month-', 1), ('frailty,', 1), ('name', 8), ('woman!-', 1), ('month,', 3), ('shoes', 1), ('were', 27), ('followed', 2), ('poor', 20), ('body', 11), ('niobe,', 1), ('tears-', 1), ('she,', 3), ('(o', 2), ('beast', 2), ('wants', 2), ('discourse', 4), (\"mourn'd\", 1), ('longer)', 1), ('married', 2), ('uncle;', 1), ('brother,', 2), ('hercules.', 1), ('salt', 3), ('unrighteous', 1), ('tears', 6), ('left', 2), ('flushing', 1), ('galled', 1), ('eyes,', 6), ('married.', 1), ('wicked', 6), ('speed,', 1), ('post', 1), ('dexterity', 1), ('incestuous', 2), ('sheets!', 1), ('not,', 17), ('good.', 7), ('tongue!', 1), ('bernardo.', 1), ('hail', 1), ('lordship!', 1), ('glad', 4), ('see', 31), ('well.', 17), ('horatio!-', 1), ('forget', 3), ('myself.', 2), ('same,', 1), ('ever.', 2), ('friend-', 1), ('change', 3), ('marcellus?', 1), ('lord!', 13), ('you.-', 3), ('[to', 7), ('bernardo]', 1), ('even,', 2), ('sir.-', 1), ('faith,', 12), ('wittenberg?', 1), ('truant', 1), ('disposition,', 1), ('enemy', 1), ('ear', 10), ('violence', 2), ('truster', 1), ('report', 5), ('truant.', 1), ('elsinore?', 2), (\"we'll\", 13), ('teach', 4), ('drink', 6), ('deep', 4), ('depart.', 1), ('funeral.', 1), ('prithee', 4), ('mock', 4), ('fellow', 7), ('student.', 1), (\"mother's\", 6), ('wedding.', 1), ('indeed,', 12), ('upon.', 1), ('thrift,', 3), ('horatio!', 5), ('funeral', 2), (\"bak'd\", 2), ('meats', 1), ('coldly', 2), ('furnish', 1), ('forth', 4), ('marriage', 3), ('tables.', 1), ('met', 1), ('foe', 1), ('day,', 6), ('father-', 1), ('methinks', 4), ('where,', 2), ('lord?', 31), ('saw', 11), ('once.', 5), ('goodly', 3), ('man,', 10), ('all.', 11), ('yesternight.', 1), ('saw?', 1), ('who?', 2), ('father?', 3), ('admiration', 1), ('while', 10), ('attent', 1), ('ear,', 3), ('deliver', 1), ('witness', 2), ('gentlemen,', 6), ('marvel', 1), (\"god's\", 3), ('hear!', 1), ('gentlemen', 3), ('(marcellus', 1), ('bernardo)', 1), ('their', 57), ('vast', 1), ('middle', 2), (\"encount'red.\", 1), ('point', 5), ('exactly,', 1), ('cap-a-pe,', 1), ('appears', 1), ('march', 2), ('stately', 1), ('thrice', 4), (\"walk'd\", 1), (\"oppress'd\", 1), ('fear-surprised', 1), (\"truncheon's\", 1), ('length;', 1), ('whilst', 3), (\"distill'd\", 1), ('jelly', 1), ('fear,', 3), ('dreadful', 3), ('secrecy', 2), ('did,', 4), ('third', 2), ('kept', 4), ('watch;', 1), (\"deliver'd,\", 1), ('both', 24), ('time,', 4), ('thing,', 2), ('each', 11), ('word', 6), ('good,', 2), ('comes.', 3), ('knew', 5), ('hands', 6), ('this?', 12), (\"watch'd.\", 1), ('it?', 5), ('did;', 1), ('none.', 3), ('methought', 4), ('lifted', 1), ('address', 1), ('motion,', 2), ('speak;', 2), ('crew', 1), ('loud,', 1), ('sound', 4), ('shrunk', 1), ('away', 10), (\"vanish'd\", 1), ('sight.', 1), ('live,', 1), (\"honour'd\", 4), ('true;', 2), ('sirs.', 2), ('troubles', 1), ('[mar.', 1), ('ber.]', 1), (\"arm'd,\", 2), ('both.', 8), ('top', 6), ('toe?', 1), ('foot.', 1), ('face?', 2), ('yes,', 5), ('wore', 1), ('beaver', 1), ('up.', 3), (\"look'd\", 4), ('frowningly.', 1), ('countenance', 3), ('anger.', 1), ('pale', 6), ('red?', 1), ('constantly.', 1), ('there.', 8), (\"amaz'd\", 1), ('like,', 2), (\"stay'd\", 3), ('long?', 2), ('moderate', 1), ('hundred.', 1), ('longer,', 1), ('longer.', 1), (\"saw't.\", 1), ('beard', 5), ('grizzled-', 1), ('no?', 2), ('sable', 2), (\"silver'd.\", 1), ('to-night.', 3), ('perchance', 4), (\"warr'nt\", 1), ('will.', 8), ('assume', 4), ('person,', 1), ('hell', 4), ('gape', 1), ('peace.', 3), ('hitherto', 2), (\"conceal'd\", 1), ('tenable', 1), ('silence', 4), ('still;', 2), ('whatsoever', 1), ('else', 12), ('hap', 1), ('to-night,', 2), ('tongue.', 4), ('requite', 2), ('loves.', 2), ('fare', 6), ('platform,', 1), (\"'twixt\", 2), ('eleven', 1), ('twelve,', 1), ('honour.', 3), ('[all', 2), ('hamlet].', 1), ('spirit-', 1), ('arms?', 2), ('foul', 9), ('play.', 18), ('come!', 7), ('still,', 4), ('soul.', 1), ('deeds', 1), ('rise,', 1), (\"o'erwhelm\", 1), ('them,', 8), (\"men's\", 3), ('iii.', 4), ('house', 4), ('ophelia.', 5), ('necessaries', 1), (\"embark'd.\", 1), ('benefit', 1), ('convoy', 1), ('assistant,', 1), ('sleep,', 2), ('oph.', 58), ('that?', 7), ('trifling', 1), ('favour,', 1), ('fashion,', 2), ('toy', 2), ('blood;', 1), ('violet', 1), ('youth', 12), ('primy', 1), ('forward,', 1), ('permanent-', 1), ('sweet,', 3), ('lasting;', 1), ('perfume', 2), ('suppliance', 1), ('minute;', 1), ('more.', 8), ('so?', 7), ('crescent', 1), ('grow', 7), ('thews', 1), ('bulk;', 1), ('temple', 1), ('waxes,', 1), ('inward', 3), ('service', 4), ('soul', 21), ('wide', 3), ('withal.', 4), ('perhaps', 4), ('loves', 3), ('soil', 2), ('cautel', 1), ('besmirch', 1), ('virtue', 10), ('will;', 1), ('greatness', 1), (\"weigh'd,\", 2), ('own;', 1), ('himself', 10), ('birth.', 1), ('unvalued', 1), ('persons', 1), ('carve', 1), ('himself,', 3), ('choice', 6), ('depends', 2), ('safety', 3), (\"circumscrib'd\", 1), ('voice', 5), ('yielding', 1), ('whereof', 1), ('head.', 5), ('fits', 2), ('wisdom', 6), ('place', 5), ('saying', 1), ('deed;', 1), ('weigh', 2), ('loss', 1), ('honour', 5), ('sustain', 1), ('credent', 1), ('songs,', 1), ('chaste', 3), ('open', 2), (\"unmast'red\", 1), ('importunity.', 1), ('keep', 17), ('rear', 1), ('affection,', 2), ('shot', 5), ('danger', 2), ('desire.', 1), ('chariest', 1), ('maid', 3), ('prodigal', 2), ('enough', 5), ('unmask', 1), ('beauty', 4), ('moon.', 2), ('scopes', 1), ('calumnious', 1), ('strokes.', 1), ('canker', 2), ('galls', 2), ('infants', 1), ('spring', 2), ('buttons', 1), (\"disclos'd,\", 2), ('morn', 1), ('liquid', 1), ('contagious', 1), ('blastments', 1), ('imminent.', 1), ('wary', 2), ('then;', 2), ('lies', 6), ('fear.', 2), ('rebels,', 1), ('none', 9), ('near.', 1), ('effect', 4), ('lesson', 1), ('watchman', 1), ('ungracious', 1), ('pastors', 1), ('steep', 1), ('thorny', 1), ('way', 8), ('whiles,', 1), (\"puff'd\", 1), ('reckless', 1), ('libertine,', 1), ('primrose', 1), ('path', 1), ('dalliance', 1), ('treads', 1), ('recks', 1), ('rede.', 1), ('not!', 1), ('long.', 2), ('double', 6), ('blessing', 4), ('grace;', 1), ('occasion', 3), ('smiles', 1), ('second', 10), ('leave.', 4), ('here,', 12), ('aboard,', 2), ('shame!', 3), ('wind', 10), ('shoulder', 2), ('sail,', 2), ('for.', 6), ('there-', 2), ('thee!', 2), ('few', 2), ('precepts', 1), ('character.', 2), ('tongue,', 3), (\"unproportion'd\", 1), ('act.', 2), ('familiar,', 1), ('means', 13), ('vulgar:', 1), ('hast,', 1), ('adoption', 1), ('tried,', 1), ('grapple', 2), ('hoops', 1), ('steel;', 1), ('dull', 5), ('palm', 2), ('entertainment', 4), (\"new-hatch'd,\", 1), (\"unfledg'd\", 1), ('comrade.', 1), ('beware', 2), ('entrance', 1), ('quarrel;', 1), ('in,', 4), (\"bear't\", 1), ('opposed', 1), ('thee.', 9), ('every', 8), ('voice;', 1), (\"man's\", 5), ('censure,', 1), ('reserve', 1), ('judgment.', 1), ('costly', 1), ('habit', 4), ('purse', 2), ('buy,', 1), (\"express'd\", 1), ('fancy;', 1), ('rich,', 1), ('gaudy;', 1), ('apparel', 1), ('proclaims', 2), ('station', 2), ('select', 1), ('generous,', 2), ('that.', 9), ('neither', 6), ('borrower', 1), ('lender', 1), ('be;', 2), ('loan', 1), ('loses', 1), ('friend,', 4), ('borrowing', 1), ('dulls', 1), ('edge', 2), ('husbandry.', 1), ('above', 2), ('all-', 2), ('self', 1), ('true,', 2), ('follow,', 2), ('canst', 3), ('false', 6), ('man.', 6), ('humbly', 5), ('leave,', 1), ('invites', 1), ('go,', 13), ('servants', 1), ('tend.', 1), ('remember', 8), ('said', 8), (\"lock'd,\", 1), ('yourself', 8), ('key', 1), ('please', 9), ('marry,', 13), ('bethought!', 1), ('given', 10), ('private', 1), ('audience', 3), ('free', 8), ('bounteous.', 1), ('so-', 1), ('put', 24), ('caution-', 1), ('understand', 7), ('clearly', 1), ('behooves', 1), ('between', 15), ('truth.', 1), ('many', 17), ('tenders', 2), ('affection', 1), ('affection?', 1), ('pooh!', 1), ('green', 1), ('girl,', 1), ('unsifted', 1), ('perilous', 1), ('circumstance.', 1), ('tenders,', 1), ('call', 22), ('them?', 3), ('think,', 5), ('you!', 2), ('baby', 2), (\"ta'en\", 2), ('pay,', 1), ('sterling.', 1), ('tender', 4), ('dearly,', 1), ('(not', 2), ('crack', 1), ('phrase,', 3), ('running', 1), ('thus)', 1), (\"you'll\", 3), ('fool.', 1), (\"importun'd\", 1), ('honourable', 2), ('fashion.', 1), ('fashion', 5), ('to,', 2), ('to!', 2), ('speech,', 5), ('holy', 2), ('vows', 2), ('heaven.', 3), ('springes', 1), ('catch', 2), ('woodcocks!', 1), ('blood', 9), ('lends', 1), ('tongue', 6), ('vows.', 1), ('blazes,', 1), ('daughter,', 2), ('light', 6), ('heat,', 2), ('extinct', 1), ('promise,', 1), ('a-making,', 1), ('fire.', 3), ('scanter', 1), ('maiden', 2), ('presence.', 1), ('set', 22), ('entreatments', 1), ('higher', 1), ('rate', 1), ('command', 4), ('parley.', 1), ('him,', 27), ('young,', 1), ('larger', 1), ('tether', 1), ('few,', 1), ('vows;', 1), ('brokers,', 1), ('dye', 1), ('investments', 1), ('show,', 2), ('mere', 3), ('implorators', 1), ('unholy', 1), ('suits,', 1), ('breathing', 2), ('sanctified', 1), ('pious', 3), ('bawds,', 1), ('beguile.', 1), ('all:', 1), ('plain', 1), ('terms,', 2), ('slander', 1), ('moment', 2), ('leisure', 2), ('words', 14), ('talk', 2), (\"to't,\", 1), ('ways.', 2), ('obey,', 3), ('iv.', 4), ('air', 4), ('bites', 1), ('shrewdly;', 1), ('cold.', 1), ('nipping', 1), ('eager', 2), ('air.', 3), ('hour', 5), ('now?', 6), ('lacks', 1), ('struck.', 2), ('indeed?', 1), ('not.', 13), ('draws', 2), ('near', 9), ('held', 2), ('wont', 3), ('walk.', 1), ('flourish', 3), ('trumpets,', 1), ('pieces', 1), ('off.', 5), ('mean,', 6), ('wake', 1), ('takes', 7), ('rouse,', 1), ('keeps', 4), ('wassail,', 1), (\"swagg'ring\", 1), ('upspring', 1), ('reels,', 1), ('drains', 1), ('draughts', 1), ('rhenish', 2), ('kettledrum', 1), ('bray', 1), ('triumph', 1), ('pledge.', 1), ('custom?', 1), (\"is't;\", 1), ('mind,', 3), ('manner', 1), ('born,', 1), ('custom', 7), ('breach', 1), ('observance.', 1), ('heavy-headed', 1), ('revel', 1), ('east', 1), ('west', 1), ('makes', 17), (\"traduc'd\", 1), (\"tax'd\", 1), ('nations;', 1), ('clip', 1), ('drunkards', 1), ('swinish', 1), ('phrase', 5), ('addition;', 1), ('achievements,', 1), (\"perform'd\", 1), ('height,', 1), ('pith', 3), ('marrow', 1), ('attribute.', 1), ('chances', 2), ('men', 9), ('vicious', 1), ('mole', 1), ('birth,-', 1), ('guilty,', 2), ('since', 15), ('choose', 4), ('origin,-', 1), (\"o'ergrowth\", 1), ('complexion,', 1), ('breaking', 1), ('pales', 1), ('forts', 1), ('reason,', 2), (\"o'erleavens\", 1), ('plausive', 1), ('manners,', 1), ('carrying,', 1), ('stamp', 2), ('defect,', 2), (\"nature's\", 2), ('livery,', 2), (\"fortune's\", 5), ('star,', 1), ('virtues', 2), ('else-', 1), ('pure', 2), ('grace,', 3), ('infinite', 4), ('undergo-', 1), ('general', 6), ('censure', 3), ('corruption', 1), ('fault.', 1), ('dram', 1), (\"e'il\", 1), ('substance', 2), ('often', 3), ('dout', 1), ('scandal.', 1), ('comes!', 1), ('angels', 2), ('ministers', 1), ('defend', 3), ('us!', 1), ('goblin', 1), (\"damn'd,\", 1), ('bring', 12), ('airs', 1), ('blasts', 1), ('hell,', 5), ('intents', 1), ('charitable,', 1), (\"com'st\", 1), ('questionable', 1), ('shape', 3), ('royal', 3), ('burst', 3), ('ignorance,', 1), (\"canoniz'd\", 1), ('bones,', 3), ('hearsed', 1), ('death,', 11), ('cerements;', 1), ('sepulchre', 1), ('quietly', 1), (\"inurn'd,\", 1), (\"op'd\", 1), ('ponderous', 1), ('marble', 1), ('jaws', 1), ('mean', 4), ('thou,', 4), ('corse,', 1), ('complete', 1), ('steel,', 2), ('revisits', 1), ('glimpses', 1), ('moon,', 2), ('making', 3), ('hideous,', 1), ('fools', 1), ('horridly', 2), ('shake', 2), ('disposition', 3), ('beyond', 2), ('reaches', 1), ('souls?', 1), ('wherefore?', 1), ('do?', 3), ('beckons', 2), ('impartment', 1), ('desire', 3), ('alone.', 2), ('courteous', 1), ('action', 7), ('waves', 3), ('removed', 1), ('means!', 1), ('speak.', 6), ('follow', 15), ('fear?', 1), (\"pin's\", 1), ('fee;', 1), ('soul,', 9), ('immortal', 1), ('itself?', 1), ('tempt', 3), ('flood,', 1), ('summit', 2), ('cliff', 1), ('beetles', 1), ('base', 3), ('sea,', 2), ('horrible', 1), ('deprive', 1), ('sovereignty', 1), ('draw', 9), ('madness?', 1), ('puts', 4), ('toys', 1), ('desperation,', 1), ('motive,', 1), ('brain', 2), ('fadoms', 1), ('roar', 1), ('beneath.', 1), ('still.', 1), ('on.', 9), ('off', 12), ('hands!', 1), (\"rul'd.\", 1), ('fate', 1), ('cries', 5), ('petty', 2), ('artire', 1), ('hardy', 1), ('nemean', 1), (\"lion's\", 1), ('nerve.', 1), ('[ghost', 1), ('beckons.]', 1), (\"call'd.\", 1), ('unhand', 1), ('gentlemen.', 3), ('lets', 3), ('me!-', 1), ('away!-', 1), ('waxes', 1), ('desperate', 4), ('imagination.', 1), ('follow.', 3), ('fit', 8), ('after.', 2), ('issue', 2), ('wail', 1), ('come?', 1), ('rotten', 2), ('direct', 4), ('v.', 3), ('another', 8), ('fortifications.', 1), ('whither', 1), ('wilt', 8), ('lead', 4), ('further.', 1), (\"sulph'rous\", 1), ('tormenting', 1), ('flames', 2), ('render', 1), ('alas,', 9), ('ghost!', 1), ('pity', 3), ('lend', 4), ('serious', 1), ('hearing', 3), ('unfold.', 1), ('hear.', 5), ('revenge,', 2), ('shalt', 5), ('what?', 2), (\"doom'd\", 1), ('certain', 3), ('day', 11), (\"confin'd\", 1), ('fast', 2), ('fires,', 1), ('crimes', 3), ('done', 7), ('days', 4), ('burnt', 1), (\"purg'd\", 1), ('forbid', 2), ('secrets', 1), ('prison', 3), ('house,', 1), ('could', 30), ('tale', 4), ('lightest', 1), ('harrow', 1), ('freeze', 1), ('stars,', 2), ('start', 4), ('spheres,', 1), ('knotted', 1), ('combined', 1), ('locks', 1), ('part,', 4), ('hair', 1), ('end', 11), ('quills', 1), ('fretful', 1), ('porpentine.', 1), ('eternal', 2), ('blazon', 1), ('ears', 4), ('blood.', 4), ('list,', 3), ('list!', 1), ('didst', 4), ('love-', 2), ('revenge', 5), ('unnatural', 2), ('murther.', 2), ('murther?', 1), ('murther', 6), ('foul,', 2), ('is;', 3), ('strange,', 1), ('unnatural.', 1), (\"know't,\", 1), ('i,', 14), ('wings', 1), ('swift', 2), ('meditation', 1), ('love,', 13), ('sweep', 2), ('revenge.', 3), ('apt;', 1), ('duller', 1), ('shouldst', 2), ('fat', 5), ('weed', 1), ('rots', 1), ('ease', 1), ('lethe', 1), ('wharf,', 1), ('sleeping', 3), ('orchard,', 2), ('serpent', 2), ('stung', 1), ('forged', 1), ('process', 1), ('rankly', 1), (\"abus'd.\", 1), ('youth,', 2), ('sting', 2), ('wears', 2), ('crown.', 1), ('prophetic', 1), ('soul!', 3), ('uncle?', 1), ('incestuous,', 2), ('adulterate', 1), ('beast,', 2), ('witchcraft', 2), ('wit,', 3), ('traitorous', 1), ('gifts-', 1), ('wit', 2), ('gifts,', 1), ('seduce!-', 1), ('won', 1), ('shameful', 1), ('lust', 1), ('seeming-virtuous', 1), ('falling-off', 1), ('dignity', 1), ('went', 5), ('vow', 2), ('decline', 1), ('wretch', 3), ('natural', 4), ('gifts', 2), ('mine!', 1), ('virtue,', 2), ('never', 24), (\"mov'd,\", 1), ('lewdness', 1), ('court', 4), ('lust,', 1), ('radiant', 1), ('angel', 3), (\"link'd,\", 1), ('sate', 2), ('celestial', 1), ('bed', 3), ('prey', 1), ('garbage.', 1), ('scent', 1), ('brief', 2), ('be.', 6), ('always', 1), ('afternoon,', 1), ('secure', 2), ('stole,', 1), ('juice', 1), ('cursed', 4), ('hebona', 1), ('vial,', 1), ('porches', 1), ('pour', 1), ('leperous', 1), ('distilment;', 1), ('holds', 4), ('enmity', 1), ('quicksilverr', 1), ('courses', 1), ('gates', 1), ('alleys', 1), ('body,', 1), ('sudden', 5), ('vigour', 1), ('posset', 1), ('curd,', 1), ('droppings', 1), ('milk,', 1), ('thin', 2), ('wholesome', 6), ('mine;', 1), ('instant', 4), ('tetter', 1), (\"bark'd\", 1), ('about,', 2), ('lazar-like,', 1), ('vile', 5), ('loathsome', 1), ('crust', 1), ('smooth', 2), ('body.', 4), ('sleeping,', 1), ('crown,', 4), (\"dispatch'd;\", 1), ('cut', 2), ('blossoms', 1), ('sin,', 1), (\"unhous'led,\", 1), ('disappointed,', 1), (\"unanel'd,\", 1), ('reckoning', 1), ('made,', 1), ('sent', 12), ('account', 1), ('imperfections', 1), ('horrible!', 3), ('thee,', 8), ('couch', 2), ('luxury', 1), ('damned', 6), ('incest.', 1), ('howsoever', 1), ('pursuest', 1), ('act,', 4), ('taint', 1), ('contrive', 2), ('aught.', 2), ('thorns', 1), ('bosom', 2), ('lodge', 1), ('prick', 1), ('her.', 6), ('glowworm', 1), ('matin', 1), ('gins', 1), ('uneffectual', 1), ('adieu,', 3), ('adieu!', 3), ('host', 1), ('heaven!', 3), ('else?', 3), ('couple', 1), ('hell?', 1), ('hold,', 3), ('heart!', 1), ('sinews,', 1), ('old,', 1), ('stiffly', 1), ('ghost,', 3), ('seat', 1), ('distracted', 2), ('globe.', 1), ('yea,', 4), ('table', 4), ('wipe', 2), ('trivial', 1), ('fond', 1), ('records,', 1), ('saws', 1), ('books,', 1), ('pressures', 1), ('past', 1), ('observation', 1), ('copied', 1), ('commandment', 3), ('book', 1), ('volume', 1), ('brain,', 2), (\"unmix'd\", 1), ('baser', 2), ('matter.', 6), ('pernicious', 1), ('woman!', 1), ('villain,', 2), ('smiling,', 1), ('villain!', 4), ('tables!', 1), ('smile,', 2), ('villain;', 1), ('least', 1), ('sure', 7), ('[writes.]', 1), ('uncle,', 1), ('are.', 2), ('word:', 1), (\"'adieu,\", 1), (\"me.'\", 1), (\"sworn't.\", 1), ('(within)', 3), ('hamlet!', 6), ('him!', 6), ('illo,', 1), ('ho,', 7), ('hillo,', 1), ('boy!', 1), ('bird,', 1), ('news,', 1), ('wonderful!', 1), ('reveal', 1), ('then?', 5), ('secret?', 1), (\"there's\", 18), ('neer', 1), ('villain', 3), ('dwelling', 1), (\"he's\", 10), ('arrant', 2), ('knave.', 2), ('needs', 7), ('grave', 5), ('right!', 3), ('circumstance', 3), ('part;', 1), ('desires', 3), ('desire,', 2), ('pray.', 2), ('wild', 2), ('whirling', 1), ('words,', 3), ('sorry', 2), ('offend', 1), ('heartily;', 1), ('heartily.', 1), ('offence,', 1), ('saint', 3), ('patrick,', 1), ('is,', 7), ('offence', 5), ('too.', 5), ('vision', 1), (\"o'ermaster't\", 1), ('may.', 2), ('friends,', 6), ('scholars,', 1), ('request.', 1), (\"swear't.\", 1), ('lord-', 4), ('faith.', 3), ('sword.', 6), ('sworn,', 1), ('already.', 3), ('sword,', 7), ('indeed.', 6), ('under', 5), ('stage.', 2), ('swear.', 5), ('aha', 1), ('boy,', 1), (\"say'st\", 1), ('truepenny?', 1), ('on!', 2), ('cellarage.', 1), ('propose', 1), ('oath,', 2), ('swear', 4), ('[beneath]', 3), ('hic', 1), ('et', 1), ('ubique?', 1), ('shift', 1), ('hither,', 4), ('lay', 9), ('heard:', 1), ('said,', 4), ('mole!', 1), ('fast?', 2), ('worthy', 1), ('pioner!', 1), ('remove,', 1), ('friends.\"', 1), ('wondrous', 3), ('strange!', 1), ('stranger', 1), ('welcome.', 4), ('earth,', 4), ('dreamt', 1), ('philosophy.', 1), ('never,', 2), ('help', 5), ('mercy,', 1), ('odd', 2), (\"soe'er\", 1), ('myself', 6), ('(as', 9), ('hereafter', 1), ('antic', 1), ('on),', 1), ('times', 7), ('seeing', 3), ('shall,', 5), ('arms', 4), (\"encumb'red\", 1), ('thus,', 3), ('head-shake,', 1), ('pronouncing', 1), ('doubtful', 1), (\"'well,\", 1), (\"know,'\", 1), (\"'we\", 1), ('could,', 2), (\"would,'\", 1), (\"'if\", 1), (\"speak,'\", 1), (\"'there\", 1), (\"might,'\", 1), ('ambiguous', 1), ('out,', 5), ('aught', 6), ('me-', 2), ('mercy', 2), ('need', 3), ('[they', 1), ('swear.]', 1), ('rest,', 2), ('perturbed', 1), ('spirit!', 1), ('you;', 10), ('express', 3), ('friending', 1), ('willing,', 2), ('lack.', 1), ('together;', 1), ('fingers', 4), ('lips,', 1), ('joint.', 1), ('spite', 1), ('born', 1), ('together.', 2), ('polonius', 3), ('reynaldo.', 3), ('money', 2), ('notes,', 1), ('rey.', 13), ('will,', 9), (\"marvell's\", 1), ('wisely,', 1), ('inquire', 1), ('behaviour.', 1), ('intend', 1), ('said.', 2), ('enquire', 1), ('danskers', 1), ('paris;', 1), ('how,', 1), ('means,', 5), ('keep,', 2), ('company,', 1), ('expense;', 1), ('finding', 3), ('encompassment', 1), ('drift', 3), ('son,', 5), ('nearer', 2), ('demands', 2), ('touch', 4), (\"'twere,\", 2), ('distant', 1), ('knowledge', 1), ('him;', 5), (\"'i\", 3), (\"him.'\", 1), ('reynaldo?', 1), (\"'and\", 1), (\"but,'\", 1), (\"'not\", 1), (\"if't\", 3), ('addicted', 1), (\"so';\", 1), ('forgeries', 1), ('please;', 2), ('dishonour', 2), ('him-', 1), ('heed', 2), ('that;', 1), ('wanton,', 1), ('wild,', 2), ('usual', 1), ('slips', 1), ('companions', 1), ('noted', 1), ('liberty.', 1), ('gaming,', 2), ('drinking,', 1), ('fencing,', 1), ('swearing,', 2), ('quarrelling,', 1), ('drabbing.', 1), ('far.', 1), ('charge.', 1), ('scandal', 1), ('incontinency.', 1), ('meaning.', 1), ('breathe', 3), ('faults', 2), ('quaintly', 1), ('taints', 1), ('liberty,', 3), ('flash', 1), ('outbreak', 1), ('fiery', 3), ('savageness', 1), ('unreclaimed', 1), ('assault.', 1), ('wherefore', 2), (\"here's\", 8), ('drift,', 1), ('fetch', 2), ('warrant.', 1), ('laying', 2), ('slight', 1), ('sullies', 1), (\"soil'd\", 1), ('working,', 2), ('party', 1), ('converse,', 1), ('having', 2), ('prenominate', 1), (\"assur'd\", 1), ('closes', 2), ('consequence:', 1), (\"'good\", 2), (\"sir,'\", 1), (\"'friend,'\", 1), (\"'gentleman'-\", 1), ('according', 2), ('addition', 1), ('country-', 1), (\"'a\", 14), ('this-', 2), ('does-', 1), ('say?', 2), ('mass,', 4), ('something!', 1), (\"'closes\", 2), (\"consequence,'\", 1), (\"'friend\", 1), (\"so,'\", 2), (\"gentleman.'\", 1), (\"consequence'-\", 1), ('marry!', 1), ('thus:', 3), ('gentleman.', 5), ('yesterday,', 1), (\"t'other\", 1), ('such;', 1), ('gaming;', 1), (\"o'ertook\", 1), (\"in's\", 5), ('rouse;', 1), ('falling', 1), (\"tennis';\", 1), ('perchance,', 1), (\"sale,'\", 1), ('videlicet,', 1), ('brothel,', 1), ('forth.', 1), ('now-', 1), ('bait', 1), ('falsehood', 1), ('carp', 1), ('truth;', 1), ('reach,', 1), ('windlasses', 1), ('assays', 1), ('bias,', 1), ('indirections', 1), ('directions', 1), ('out.', 4), ('former', 2), ('lecture', 1), ('advice,', 2), ('have.', 1), (\"b'\", 4), (\"wi'\", 3), ('ye,', 1), ('ye', 2), ('well!', 1), ('[going.]', 1), ('observe', 3), ('inclination', 2), ('ply', 1), ('music.', 3), ('farewell!', 2), ('ophelia?', 4), ('matter?', 3), ('affrighted!', 1), ('sewing', 1), ('closet,', 1), ('doublet', 1), (\"unbrac'd,\", 1), ('hat', 1), ('head,', 2), ('stockings', 1), (\"foul'd,\", 1), (\"ungart'red,\", 1), ('down-gyved', 1), ('ankle;', 1), ('shirt,', 1), ('knees', 1), ('knocking', 1), ('piteous', 3), ('purport', 1), ('loosed', 1), ('horrors-', 1), ('mad', 11), ('love?', 3), ('truly', 5), ('he?', 2), ('took', 4), ('wrist', 1), ('hard;', 1), ('length', 2), ('arm,', 3), ('brow,', 1), ('falls', 3), ('perusal', 1), ('last,', 2), ('shaking', 1), ('waving', 1), (\"rais'd\", 1), ('sigh', 2), ('profound', 2), ('shatter', 1), ('bulk', 1), ('being.', 1), ('over', 5), (\"turn'd\", 4), (\"seem'd\", 2), (\"o'\", 10), ('doors', 3), ('bended', 1), ('ecstasy', 2), ('violent', 4), ('property', 4), ('fordoes', 1), ('leads', 1), ('undertakings', 1), ('passion', 6), ('afflict', 1), ('natures.', 1), ('sorry.', 1), ('late?', 1), ('lord;', 9), ('command,', 2), ('repel', 1), ('letters', 6), ('denied', 1), ('access', 1), ('mad.', 4), ('judgment', 4), ('quoted', 1), (\"fear'd\", 1), ('trifle', 1), ('meant', 3), ('wrack', 1), ('thee;', 1), ('beshrew', 1), ('jealousy!', 1), ('proper', 2), ('age', 8), ('ourselves', 9), ('opinions', 1), ('younger', 1), ('lack', 5), ('discretion.', 2), ('known;', 1), ('close,', 1), ('move', 5), ('grief', 8), ('hide', 4), ('hate', 1), ('utter', 1), ('love.', 6), ('rosencrantz', 16), ('cum', 1), ('aliis.', 1), ('guildenstern.', 10), ('moreover', 1), ('provoke', 1), ('hasty', 1), ('sending.', 1), ('transformation.', 1), ('sith', 3), ('exterior', 1), ('resembles', 1), ('was.', 2), ('of.', 2), ('entreat', 3), ('clays', 1), ('brought', 5), (\"neighbour'd\", 1), ('haviour,', 1), ('vouchsafe', 3), ('rest', 9), ('time;', 1), ('companies', 1), ('pleasures,', 1), ('gather', 2), ('glean,', 1), ('unknown', 1), ('afflicts', 1), (\"open'd,\", 1), ('remedy.', 1), (\"talk'd\", 2), ('living', 2), ('whom', 6), ('adheres.', 1), ('gentry', 1), ('expend', 1), ('awhile', 2), ('supply', 1), ('profit', 2), ('hope,', 3), ('visitation', 2), ('receive', 7), ('thanks', 2), ('remembrance.', 2), ('ros.', 45), ('majesties', 2), ('might,', 2), ('sovereign', 3), ('pleasures', 1), ('entreaty.', 1), ('guil.', 29), ('ourselves,', 1), ('bent,', 1), ('feet,', 1), ('commanded.', 1), ('thanks,', 3), ('guildenstern', 6), ('rosencrantz.', 2), ('instantly', 1), ('changed', 1), ('son.-', 2), ('heavens', 2), ('presence', 2), ('practices', 1), ('pleasant', 1), ('helpful', 1), ('amen!', 1), ('[with', 4), ('attendants].', 3), ('ambassadors', 2), ('joyfully', 1), (\"return'd.\", 1), ('news.', 1), ('assure', 1), ('liege,', 2), ('think-', 1), ('hunts', 1), ('trail', 2), ('policy', 1), (\"us'd\", 1), ('do-', 1), ('found', 4), ('cause', 11), ('lunacy.', 1), ('that!', 1), ('admittance', 1), ('fruit', 2), ('feast.', 1), ('thyself', 1), ('in.', 6), ('[exit', 11), ('polonius.]', 3), ('tells', 1), ('gertrude,', 9), (\"son's\", 1), ('distemper.', 1), ('main,', 1), (\"o'erhasty\", 1), ('marriage.', 1), ('sift', 1), ('friends.', 3), ('brother', 3), ('norway?', 1), ('greetings', 1), ('desires.', 1), ('first,', 2), ('levies;', 1), ('preparation', 1), ('polack,', 1), ('into,', 1), ('highness;', 1), ('whereat', 1), (\"griev'd,\", 1), ('sickness,', 1), ('age,', 1), ('impotence', 1), ('falsely', 1), ('borne', 3), ('hand,', 3), ('sends', 4), ('arrests', 1), ('he,', 7), ('brief,', 2), ('obeys,', 1), ('receives', 1), ('rebuke', 1), ('fine,', 2), ('assay', 2), ('majesty.', 3), ('whereon', 5), ('overcome', 1), ('gives', 7), ('three', 9), ('thousand', 10), ('crowns', 1), ('annual', 1), ('fee', 1), ('commission', 2), ('employ', 1), ('levied', 1), ('polack;', 1), ('entreaty,', 1), ('shown,', 1), ('pass', 5), ('dominions', 1), ('enterprise,', 1), ('regards', 1), ('allowance', 2), ('therein', 1), ('down.', 4), ('likes', 3), ('well;', 1), (\"consider'd\", 1), ('read,', 3), ('answer,', 3), ('business.', 2), ('meantime', 1), ('thank', 9), ('well-took', 1), ('labour.', 1), ('rest;', 1), ('feast', 2), ('welcome', 5), ('home!', 1), ('ended.', 1), ('expostulate', 1), ('nothing', 19), ('waste', 1), ('therefore,', 1), ('brevity', 1), ('tediousness', 1), ('limbs', 1), ('outward', 2), ('flourishes,', 1), ('brief.', 1), ('it;', 6), ('define', 1), ('madness,', 4), ('mad?', 2), ('matter,', 3), ('art.', 2), ('mad,', 3), ('true:', 1), ('pity;', 1), ('true.', 2), ('foolish', 3), ('figure!', 1), ('farewell', 1), ('grant', 1), ('then.', 3), ('remains', 2), ('effect-', 1), ('rather', 3), ('defective', 1), ('cause.', 1), ('remains,', 1), ('remainder', 1), ('thus.', 2), ('perpend.', 1), ('(have', 1), ('mine),', 1), ('obedience,', 2), ('mark,', 1), ('gather,', 1), ('surmise.', 1), ('[reads]', 1), ('letter.', 1), (\"'to\", 1), ('celestial,', 1), (\"soul's\", 1), ('idol,', 1), ('beautified', 1), (\"ophelia,'-\", 1), ('ill', 5), ('phrase;', 1), (\"'beautified'\", 1), ('phrase.', 1), ('[reads.]', 2), (\"'in\", 1), ('white', 4), ('bosom,', 1), ('these,', 2), (\"&c.'\", 1), ('her?', 3), ('awhile.', 3), ('faithful.', 1), (\"'doubt\", 1), ('fire;', 2), ('sun', 5), ('move;', 1), ('liar;', 1), (\"'o\", 1), ('numbers;', 1), ('reckon', 1), ('groans;', 1), ('best,', 2), ('adieu.', 1), (\"'thine\", 1), ('evermore,', 1), ('lady,', 7), ('machine', 1), (\"hamlet.'\", 3), ('shown', 1), ('me;', 4), ('above,', 1), ('solicitings,', 1), ('place,', 2), ('ear.', 4), (\"receiv'd\", 3), ('faithful', 2), ('honourable.', 1), ('fain', 4), ('prove', 2), ('wing', 1), (\"perceiv'd\", 1), ('me),', 1), (\"play'd\", 3), ('desk', 1), ('book,', 2), ('winking,', 1), ('mute', 1), ('dumb,', 1), ('idle', 2), ('sight?', 2), ('think?', 1), ('round', 6), ('mistress', 2), ('bespeak:', 1), (\"'lord\", 1), ('prince,', 3), ('star.', 1), (\"be.'\", 1), ('prescripts', 1), ('gave', 8), ('her,', 6), ('lock', 2), ('herself', 5), ('resort,', 1), ('admit', 2), ('tokens.', 1), ('fruits', 1), ('repulsed,', 1), ('short', 3), ('make,', 2), ('sadness,', 1), ('fast,', 1), ('thence', 4), ('weakness,', 1), ('lightness,', 1), ('declension,', 1), ('madness', 12), ('raves,', 1), ('mourn', 1), ('time-', 1), ('that-', 1), ('positively', 1), (\"''tis\", 1), (\"prov'd\", 2), ('otherwise.?', 1), ('know.', 2), ('[points', 1), ('shoulder]', 1), ('otherwise.', 1), ('circumstances', 1), ('hid,', 1), ('hid', 1), ('centre.', 1), ('try', 5), ('further?', 1), ('four', 5), ('hours', 1), ('lobby.', 2), ('loose', 1), ('behind', 5), ('arras', 5), ('encounter.', 1), (\"fall'n\", 2), ('thereon', 1), ('assistant', 1), ('farm', 2), ('carters.', 1), ('reading', 1), ('book.', 1), ('sadly', 1), ('reading.', 1), ('away,', 2), ('board', 1), ('presently.', 3), ('hamlet?', 6), ('god-a-mercy.', 1), ('fishmonger.', 2), ('honest,', 3), ('sir.', 14), ('goes,', 1), (\"pick'd\", 1), ('ten', 4), ('thousand.', 1), ('breed', 1), ('maggots', 1), ('dog,', 1), ('kissing', 1), ('carrion-', 1), ('daughter?', 1), ('conception', 1), ('blessing,', 1), ('conceive.', 1), (\"to't.\", 3), ('harping', 1), ('daughter.', 4), ('first.', 2), ('gone,', 6), (\"suff'red\", 1), ('extremity', 1), ('again.-', 1), ('words.', 1), ('matter', 12), ('slanders,', 1), ('sir;', 8), ('satirical', 1), ('rogue', 2), ('grey', 1), ('beards;', 1), ('faces', 1), ('wrinkled;', 1), ('purging', 2), ('thick', 2), ('amber', 1), ('plum-tree', 1), ('gum;', 1), ('plentiful', 1), ('hams.', 1), ('powerfully', 1), ('potently', 1), ('believe,', 1), ('honesty', 4), ('down;', 2), ('yourself,', 3), ('if,', 2), ('crab,', 1), ('backward.', 1), ('method', 1), (\"in't.-\", 1), ('grave?', 2), ('pregnant', 2), ('replies', 1), ('are!', 1), ('happiness', 1), ('hits', 1), ('sanity', 1), ('prosperously', 1), ('delivered', 1), ('suddenly', 1), ('meeting', 1), ('daughter.-', 1), ('cannot,', 1), ('anything', 3), ('withal-', 1), ('except', 3), ('tedious', 2), ('fools!', 1), ('polonius]', 2), ('save', 5), ('sir!', 3), ('[polonius].', 2), ('friends!', 2), ('dost', 14), ('guildenstern?', 1), ('rosencrantz!', 1), ('lads,', 1), ('both?', 1), ('indifferent', 3), ('children', 1), ('earth.', 1), ('happy', 3), ('over-happy.', 1), ('cap', 2), ('button.', 1), ('soles', 1), ('shoe?', 1), ('neither,', 2), ('waist,', 1), ('favours?', 1), ('privates', 1), ('we.', 1), ('secret', 2), ('parts', 3), ('fortune?', 1), ('o!', 1), ('true!', 2), ('strumpet.', 1), ('none,', 1), (\"world's\", 2), ('honest.', 1), ('near!', 1), ('particular.', 1), ('deserved', 1), ('fortune', 4), ('hither?', 2), ('prison,', 1), (\"denmark's\", 3), ('prison.', 2), ('one.', 5), ('one;', 2), ('confines,', 1), ('wards,', 1), ('dungeons,', 1), ('worst.', 1), ('either', 6), ('bad', 5), ('ambition', 4), ('narrow', 1), ('mind.', 1), ('bounded', 1), ('nutshell', 1), ('count', 3), ('space,', 1), ('dreams.', 1), ('dreams', 2), ('ambition;', 1), ('merely', 1), ('shadow', 1), ('dream.', 1), ('shadow.', 2), ('truly,', 1), ('airy', 1), ('quality', 3), (\"shadow's\", 1), ('beggars', 1), ('bodies,', 1), ('monarchs', 1), (\"outstretch'd\", 1), ('heroes', 1), (\"beggars'\", 1), ('shadows.', 1), ('court?', 1), ('fay,', 1), ('reason.', 1), ('wait', 2), ('matter!', 2), ('servants;', 1), ('dreadfully', 1), ('attended.', 1), ('beaten', 1), ('friendship,', 1), ('occasion.', 1), ('beggar', 2), ('am,', 1), ('thanks;', 2), ('sure,', 2), ('halfpenny.', 1), ('for?', 2), ('inclining?', 1), ('visitation?', 1), ('deal', 1), ('justly', 3), ('anything-', 1), ('purpose.', 2), ('for;', 1), ('kind', 10), ('confession', 3), ('looks,', 2), ('modesties', 1), ('craft', 1), ('colour.', 1), ('end,', 2), ('conjure', 1), ('rights', 2), ('fellowship,', 1), ('consonancy', 1), ('ever-preserved', 1), ('proposer', 1), ('withal,', 1), ('no.', 3), ('[aside', 6), ('guildenstern]', 2), ('nay', 4), ('why.', 1), ('anticipation', 1), ('prevent', 1), ('discovery,', 1), ('moult', 1), ('feather.', 1), ('late-', 1), ('not-', 1), ('mirth,', 1), ('forgone', 1), ('exercises;', 1), ('heavily', 1), ('sterile', 1), ('promontory;', 1), ('canopy,', 1), ('brave', 2), (\"o'erhanging\", 1), ('firmament,', 1), ('majestical', 1), ('roof', 1), ('fretted', 1), ('golden', 3), ('fire-', 1), ('appeareth', 1), ('pestilent', 2), ('congregation', 1), ('vapours.', 1), ('man!', 1), ('reason!', 1), ('faculties!', 1), ('moving', 1), ('admirable!', 1), ('angel!', 1), ('apprehension', 2), ('world,', 4), ('paragon', 1), ('animals!', 1), ('quintessence', 1), ('dust?', 1), ('delights', 2), ('woman', 3), ('stuff', 2), ('thoughts.', 2), ('laugh', 4), (\"'man\", 1), (\"me'?\", 1), ('lenten', 1), ('players', 15), ('coted', 1), ('way,', 1), ('hither', 2), ('service.', 3), ('plays', 1), ('welcome-', 1), ('tribute', 1), ('adventurous', 1), ('knight', 1), ('foil', 1), ('target;', 1), ('lover', 1), ('gratis;', 1), ('humorous', 1), ('peace;', 1), ('clown', 1), ('lungs', 1), ('tickle', 1), ('sere;', 1), ('lady', 4), ('freely,', 2), ('blank', 1), ('verse', 1), ('halt', 1), ('fort.', 6), ('they?', 1), ('tragedians', 1), ('city.', 1), ('travel?', 1), ('residence,', 1), ('reputation', 1), ('profit,', 1), ('inhibition', 1), ('innovation.', 1), ('estimation', 1), ('city?', 1), (\"follow'd?\", 1), ('rusty?', 1), ('endeavour', 1), ('wonted', 2), ('pace;', 1), ('eyrie', 1), ('children,', 1), ('eyases,', 1), ('cry', 4), ('tyrannically', 1), (\"clapp'd\", 1), ('berattle', 1), ('stages', 1), ('(so', 1), ('them)', 1), ('wearing', 1), ('rapiers', 2), ('afraid', 1), ('goosequills', 1), ('scarce', 2), ('thither.', 1), ('children?', 1), ('maintains', 1), (\"'em?\", 2), ('escoted?', 1), ('pursue', 2), ('longer', 3), ('sing?', 1), ('afterwards,', 1), ('themselves', 5), ('better),', 1), ('writers', 1), ('wrong', 3), ('exclaim', 1), ('succession.', 1), ('sides;', 1), ('nation', 2), ('sin', 1), ('tarre', 1), ('controversy.', 1), ('while,', 1), ('argument', 2), ('unless', 2), ('poet', 1), ('player', 2), ('cuffs', 1), ('question.', 2), ('possible?', 2), ('throwing', 1), ('brains.', 1), ('boys', 1), ('carry', 3), ('away?', 1), ('hercules', 2), ('load', 1), ('strange;', 1), ('mows', 1), ('lived', 1), ('twenty,', 1), ('forty,', 1), ('fifty,', 1), ('hundred', 1), ('ducats', 2), ('apiece', 1), ('picture', 1), ('little.', 2), (\"'sblood,\", 2), ('natural,', 1), ('philosophy', 1), ('hands,', 4), ('appurtenance', 1), ('ceremony.', 1), ('comply', 2), ('garb,', 1), ('lest', 4), ('extent', 1), ('(which', 1), ('fairly', 1), ('outwards)', 1), ('yours.', 3), ('uncle-father', 1), ('aunt-mother', 1), (\"deceiv'd.\", 1), ('north-north-west.', 1), ('southerly', 1), ('hawk', 1), ('handsaw.', 1), ('gentlemen!', 2), ('hark', 1), ('guildenstern-', 1), ('too-', 1), ('hearer!', 1), ('swaddling', 1), ('clouts.', 1), ('them;', 2), ('child.', 1), ('prophesy', 2), ('it.-', 1), ('right,', 2), ('monday', 1), ('morning;', 1), ('twas', 1), ('roscius', 1), ('actor', 2), ('rome-', 1), ('actors', 2), ('buzz,', 1), ('buzz!', 1), ('honour-', 1), ('ass-', 1), ('tragedy,', 2), ('comedy,', 2), ('history,', 1), ('pastoral,', 1), ('pastoral-comical,', 1), ('historical-pastoral,', 1), ('tragical-historical,', 1), ('tragical-comical-historical-pastoral;', 1), ('individable,', 1), ('poem', 1), ('unlimited.', 1), ('seneca', 1), ('heavy,', 1), ('plautus', 1), ('light.', 1), ('only', 6), ('men.', 1), ('jephthah,', 2), ('judge', 3), ('israel,', 1), ('hadst', 3), ('thou!', 1), (\"'one\", 1), ('more,', 7), ('loved', 2), (\"well.'\", 1), ('jephthah?', 1), ('follows', 2), (\"'as\", 1), ('lot,', 1), (\"wot,'\", 1), (\"'it\", 1), ('pass,', 1), (\"was.'\", 1), ('row', 1), ('chanson', 1), ('more;', 2), ('abridgment', 1), ('five', 2), ('masters;', 1), ('all.-', 2), ('well.-', 1), ('friends.-', 1), ('friend?', 2), (\"valanc'd\", 1), ('last.', 1), (\"com'st'\", 1), (\"to'\", 1), ('denmark?-', 1), ('mistress?', 1), (\"by'r\", 2), ('ladyship', 1), ('altitude', 1), ('chopine.', 1), ('uncurrent', 1), ('gold,', 1), (\"crack'd\", 1), ('ring.-', 1), ('masters,', 1), (\"to't\", 4), ('french', 4), ('falconers,', 1), ('fly', 4), ('see.', 6), ('speech', 8), ('straight.', 4), ('taste', 1), ('quality.', 1), ('passionate', 2), ('speech.', 2), ('1.', 6), ('once,', 1), ('acted;', 1), ('once;', 1), ('play,', 4), ('remember,', 1), (\"pleas'd\", 2), ('million,', 1), (\"'twas\", 3), ('caviary', 1), ('general;', 1), ('others,', 1), ('judgments', 2), ('matters', 1), ('cried', 2), ('mine)', 1), ('digested', 1), ('scenes,', 1), ('modesty', 3), ('cunning.', 1), ('sallets', 1), ('lines', 2), ('savoury,', 1), ('indict', 1), ('author', 2), ('affectation;', 1), (\"call'd\", 1), ('method,', 1), ('handsome', 1), ('fine.', 1), (\"in't\", 2), ('chiefly', 1), (\"lov'd.\", 1), (\"aeneas'\", 1), ('dido,', 1), ('thereabout', 1), ('especially', 1), ('speaks', 4), (\"priam's\", 1), ('slaughter.', 1), ('memory,', 3), ('begin', 1), ('line-', 1), ('see:', 1), (\"'the\", 5), ('rugged', 2), ('pyrrhus,', 2), ('hyrcanian', 1), (\"beast-'\", 1), ('so;', 1), ('begins', 1), ('pyrrhus:', 1), ('arms,', 1), ('black', 5), ('resemble', 1), ('couched', 1), ('ominous', 1), ('horse,', 1), ('complexion', 1), (\"smear'd\", 1), ('heraldry', 1), ('dismal.', 1), ('foot', 1), ('total', 1), ('gules,', 1), (\"trick'd\", 1), ('mothers,', 1), ('daughters,', 1), ('sons,', 1), ('impasted', 1), ('parching', 1), ('streets,', 1), ('tyrannous', 1), (\"lord's\", 1), ('roasted', 1), ('wrath', 1), (\"o'ersized\", 1), ('coagulate', 1), ('gore,', 1), ('carbuncles,', 1), ('hellish', 1), ('pyrrhus', 4), ('grandsire', 1), ('priam', 2), (\"seeks.'\", 1), ('proceed', 1), ('fore', 1), ('spoken,', 1), ('accent', 2), (\"'anon\", 1), ('finds', 3), ('striking', 1), ('greeks.', 1), ('antique', 2), ('rebellious', 2), ('falls,', 2), ('repugnant', 1), ('command.', 1), ('unequal', 1), (\"match'd,\", 1), ('drives,', 1), ('rage', 2), ('strikes', 1), ('wide;', 1), ('whiff', 1), ('sword', 4), ('unnerved', 1), ('falls.', 2), ('senseless', 2), ('ilium,', 1), ('seeming', 1), ('feel', 1), ('blow,', 1), ('flaming', 2), ('stoops', 1), ('base,', 2), ('hideous', 1), ('crash', 1), ('prisoner', 1), (\"pyrrhus'\", 3), ('lo!', 1), ('declining', 1), ('milky', 1), ('reverend', 1), ('priam,', 1), ('stick.', 1), ('painted', 2), ('tyrant,', 1), ('stood,', 2), ('neutral', 1), ('storm,', 1), ('heavens,', 2), ('rack', 1), ('bold', 2), ('speechless,', 1), ('orb', 1), ('below', 2), ('hush', 1), ('death-', 2), ('anon', 3), ('thunder', 1), ('rend', 1), ('region;', 1), ('after', 12), ('pause,', 1), ('aroused', 1), ('vengeance', 1), ('sets', 2), ('new', 3), ('awork;', 1), (\"cyclops'\", 1), ('hammers', 1), ('fall', 5), (\"mars's\", 1), ('armour,', 1), (\"forg'd\", 1), ('proof', 3), ('eterne,', 1), ('remorse', 1), ('bleeding', 1), ('priam.', 1), ('strumpet', 1), ('fortune!', 1), ('gods,', 1), ('synod', 1), ('power;', 1), ('spokes', 2), ('fellies', 1), ('wheel,', 2), ('bowl', 1), ('nave', 1), ('hill', 1), ('low', 1), ('fiends!', 1), (\"barber's,\", 1), ('beard.-', 1), ('jig', 1), ('bawdry,', 1), ('sleeps.', 2), ('hecuba.', 1), (\"'but\", 1), ('mobled', 2), (\"queen-'\", 1), (\"queen'?\", 1), ('good!', 1), (\"'mobled\", 1), (\"queen'\", 1), (\"'run\", 1), ('barefoot', 1), (\"threat'ning\", 1), ('bisson', 1), ('rheum;', 1), ('clout', 1), ('diadem', 2), ('robe,', 1), ('lank', 1), (\"o'erteemed\", 1), ('loins,', 1), ('blanket,', 1), ('alarm', 1), ('caught', 2), ('up-', 1), ('seen,', 3), ('venom', 1), (\"steep'd\", 1), ('treason', 3), (\"pronounc'd.\", 1), ('gods', 1), ('sport', 3), ('mincing', 1), (\"husband's\", 2), ('limbs,', 1), ('clamour', 1), ('(unless', 1), ('mortal', 5), ('all)', 1), ('milch', 1), ('burning', 2), (\"gods.'\", 1), (\"whe'r\", 1), ('colour,', 1), ('more!', 4), ('soon.-', 1), (\"bestow'd?\", 1), ('hear?', 3), (\"us'd;\", 1), ('abstract', 1), ('chronicles', 1), ('epitaph', 2), ('live.', 1), ('desert.', 1), ('bodykins,', 1), ('better!', 1), ('desert,', 1), ('scape', 2), ('whipping?', 1), ('dignity.', 1), ('deserve,', 1), ('merit', 2), ('bounty.', 1), ('play', 18), ('to-morrow.', 1), ('[except', 1), ('first].', 1), (\"gonzago'?\", 1), (\"ha't\", 1), ('to-morrow', 3), ('need,', 1), ('study', 1), ('dozen', 2), ('sixteen', 1), ('insert', 1), (\"in't,\", 3), ('not?', 4), ('player.]', 1), ('ye!', 1), ('[exeunt', 6), ('peasant', 2), ('slave', 3), ('i!', 4), ('monstrous', 1), ('fiction,', 1), ('passion,', 4), ('force', 2), ('conceit', 3), ('visage', 3), (\"wann'd,\", 1), ('distraction', 1), ('aspect,', 1), ('broken', 1), ('function', 1), ('suiting', 1), ('forms', 1), ('conceit?', 1), ('nothing!', 2), ('hecuba!', 1), ('hecuba', 1), ('hecuba,', 1), ('weep', 2), ('cue', 1), ('have?', 2), ('drown', 5), ('stage', 2), ('cleave', 1), ('horrid', 2), ('speech;', 1), ('appal', 1), ('free,', 2), ('confound', 2), ('ignorant,', 1), ('amaze', 1), ('faculties', 1), ('ears.', 3), ('muddy-mettled', 1), ('rascal,', 1), ('peak', 1), ('john-a-dreams,', 1), ('unpregnant', 1), ('cause,', 4), (\"damn'd\", 4), ('defeat', 2), ('made.', 1), ('coward?', 1), ('calls', 4), ('villain?', 1), ('breaks', 1), ('pate', 4), ('across?', 1), ('plucks', 2), ('tweaks', 1), ('nose?', 1), ('lie', 8), ('lungs?', 1), ('ha?', 2), (\"'swounds,\", 2), (\"pigeon-liver'd\", 1), ('gall', 2), ('oppression', 1), ('bitter,', 1), ('fatted', 1), ('region', 1), ('kites', 1), (\"slave's\", 1), ('offal.', 1), ('bloody', 6), ('bawdy', 1), ('remorseless,', 1), ('treacherous,', 1), ('lecherous,', 1), ('kindless', 1), ('vengeance!', 1), ('ass', 3), ('brave,', 1), (\"murther'd,\", 1), ('prompted', 1), ('(like', 1), ('whore)', 1), ('unpack', 1), ('a-cursing', 1), ('drab,', 1), ('scullion!', 1), (\"upon't!\", 1), ('foh!', 1), ('brain!', 1), ('hum,', 1), ('creatures,', 1), ('sitting', 1), ('cunning', 3), ('presently', 2), (\"proclaim'd\", 1), ('malefactions;', 1), ('murther,', 1), ('miraculous', 1), ('organ,', 2), ('uncle.', 2), ('looks;', 2), ('tent', 1), ('quick.', 1), ('blench,', 1), ('course.', 1), ('devil;', 1), ('devil', 6), ('pleasing', 1), ('shape;', 1), ('weakness', 1), ('melancholy,', 1), ('potent', 2), ('spirits,', 1), ('abuses', 1), ('damn', 1), ('grounds', 1), ('relative', 1), (\"play's\", 1), ('conscience', 5), ('lords.', 1), ('confusion,', 1), ('grating', 1), ('harshly', 1), ('turbulent', 1), ('dangerous', 4), ('lunacy?', 1), ('confess', 4), ('feels', 1), ('distracted,', 1), ('forward', 1), ('sounded,', 1), ('crafty', 1), ('aloof', 1), ('well?', 2), ('forcing', 1), ('disposition.', 1), ('niggard', 1), ('question,', 2), ('pastime?', 1), (\"o'erraught\", 1), ('way.', 2), ('joy', 5), ('court,', 1), ('already', 2), ('order', 2), (\"beseech'd\", 1), ('content', 2), (\"inclin'd.\", 1), ('drive', 2), ('purpose', 6), ('delights.', 1), ('too;', 3), ('closely', 1), ('accident,', 1), ('affront', 1), ('(lawful', 1), ('espials)', 1), ('bestow', 4), ('unseen,', 1), ('encounter', 1), ('frankly', 2), (\"behav'd,\", 1), ('affliction', 2), ('suffers', 3), ('wish', 3), ('beauties', 1), ('wildness.', 1), ('hope', 5), ('honours.', 1), ('queen.]', 1), ('here.-', 1), ('gracious,', 1), ('ourselves.-', 1), ('ophelia]', 1), ('read', 2), ('exercise', 2), ('loneliness.-', 1), ('blame', 1), (\"prov'd,\", 1), (\"devotion's\", 1), ('sugar', 1), ('himself.', 5), ('smart', 1), ('lash', 1), ('conscience!', 1), (\"harlot's\", 1), ('cheek,', 1), ('beautied', 1), (\"plast'ring\", 1), ('art,', 1), ('ugly', 1), ('helps', 1), ('deed', 7), ('word.', 3), ('heavy', 4), ('burthen!', 1), ('coming.', 2), ('withdraw,', 1), ('polonius].', 1), ('be-', 1), ('question:', 1), ('nobler', 1), ('suffer', 3), ('slings', 1), ('arrows', 1), ('outrageous', 1), ('troubles,', 1), ('opposing', 1), ('die-', 2), ('sleep-', 2), ('sleep', 4), ('heartache,', 1), ('shocks', 1), ('heir', 1), ('consummation', 1), ('devoutly', 1), (\"wish'd.\", 1), ('sleep.', 3), ('dream:', 1), ('rub!', 1), ('shuffled', 1), ('coil,', 1), ('pause.', 2), ('respect', 2), ('calamity', 1), ('life.', 6), ('whips', 2), ('scorns', 1), (\"oppressor's\", 1), ('proud', 2), ('contumely,', 1), ('pangs', 1), (\"despis'd\", 1), (\"law's\", 1), ('delay,', 1), ('insolence', 1), ('office,', 1), ('spurns', 2), ('patient', 2), ('unworthy', 2), ('quietus', 1), ('bare', 1), ('bodkin?', 1), ('fardels', 1), ('bear,', 1), ('grunt', 1), ('sweat', 2), ('weary', 1), (\"undiscover'd\", 1), ('country,', 1), ('bourn', 1), ('traveller', 1), ('returns-', 1), ('puzzles', 1), ('ills', 1), ('others', 2), ('of?', 1), ('cowards', 1), ('hue', 1), ('resolution', 1), ('sicklied', 1), ('thought,', 3), ('enterprises', 1), ('regard', 1), ('currents', 2), ('turn', 5), ('awry', 1), ('action.-', 1), ('soft', 3), ('now!', 3), ('ophelia!-', 1), ('nymph,', 1), ('orisons', 1), ('sins', 1), (\"rememb'red.\", 1), ('remembrances', 1), ('yours', 2), ('longed', 1), ('re-deliver.', 1), ('right', 4), ('breath', 5), (\"compos'd\", 1), ('rich.', 1), ('again;', 3), ('rich', 1), ('wax', 2), ('givers', 1), ('unkind.', 1), ('ha,', 1), ('ha!', 2), ('honest?', 1), ('fair?', 1), ('lordship?', 1), ('fair,', 4), ('beauty.', 1), ('beauty,', 1), ('commerce', 1), ('honesty?', 1), ('truly;', 1), ('sooner', 2), ('transform', 1), ('bawd', 1), ('translate', 1), ('likeness.', 1), ('paradox,', 1), ('proof.', 2), (\"believ'd\", 1), ('inoculate', 1), ('stock', 1), ('relish', 2), ('deceived.', 1), ('nunnery!', 1), ('breeder', 1), ('sinners?', 1), ('accuse', 1), ('proud,', 1), ('revengeful,', 1), ('ambitious;', 1), ('offences', 1), ('beck', 1), ('imagination', 3), ('shape,', 1), ('fellows', 3), ('crawling', 1), ('heaven?', 2), ('knaves', 1), ('all;', 2), ('ways', 1), ('nunnery.', 2), (\"where's\", 2), ('home,', 1), ('shut', 1), ('fool', 4), ('nowhere', 1), ('house.', 1), ('heavens!', 3), ('plague', 1), ('dowry:', 1), ('ice,', 1), ('snow,', 2), ('escape', 2), ('calumny.', 1), ('marry', 2), ('fool;', 1), ('wise', 1), ('monsters', 1), ('nunnery,', 2), ('go;', 1), ('quickly', 1), ('heavenly', 2), ('powers,', 1), ('restore', 1), ('paintings', 1), ('too,', 5), ('enough.', 1), ('face,', 2), ('yourselves', 1), ('another.', 3), ('jig,', 1), ('amble,', 1), ('lisp;', 1), ('nickname', 1), ('creatures', 2), ('wantonness', 1), ('ignorance.', 1), ('moe', 1), ('marriages.', 1), ('already-', 1), ('live;', 1), (\"o'erthrown!\", 1), (\"courtier's,\", 1), (\"scholar's,\", 1), (\"soldier's,\", 1), ('expectancy', 1), ('rose', 4), ('glass', 2), ('mould', 1), ('form,', 1), (\"observ'd\", 1), ('observers-', 1), ('quite,', 1), ('quite', 3), ('down!', 1), ('ladies', 1), ('deject', 1), ('wretched,', 2), (\"suck'd\", 2), ('honey', 1), ('music', 2), ('vows,', 2), ('bells', 1), ('jangled,', 1), ('tune', 2), ('harsh;', 1), (\"unmatch'd\", 1), ('feature', 1), ('blown', 1), ('blasted', 1), ('ecstasy.', 1), ('woe', 5), ('see!', 1), ('affections', 1), ('tend;', 1), ('spake,', 1), (\"lack'd\", 1), ('little,', 1), ('madness.', 3), ('melancholy', 1), ('brood;', 1), ('hatch', 1), ('disclose', 1), ('danger;', 1), ('prevent,', 1), ('quick', 6), ('determination', 1), ('down:', 1), ('speed', 3), ('england', 7), ('demand', 2), ('neglected', 2), ('tribute.', 1), ('haply', 3), ('seas,', 1), ('countries', 1), ('different,', 1), ('variable', 2), ('objects,', 1), ('expel', 2), ('something-settled', 1), ('brains', 2), ('origin', 1), ('commencement', 1), ('sprung', 1), ('love.-', 1), ('fit,', 3), ('grief.', 1), (\"plac'd\", 2), ('conference.', 1), ('send', 4), ('confine', 1), ('think.', 1), ('ones', 2), (\"unwatch'd\", 1), ('hall', 2), (\"pronounc'd\", 1), ('trippingly', 1), ('mouth', 2), ('town', 1), ('crier', 1), ('lines.', 1), ('gently;', 1), ('torrent,', 1), ('tempest,', 1), ('say)', 1), ('whirlwind', 1), ('acquire', 1), ('beget', 1), ('temperance', 1), ('smoothness.', 1), ('offends', 1), ('robustious', 1), ('periwig-pated', 1), ('tear', 2), ('tatters,', 1), ('rags,', 1), ('split', 1), ('cars', 1), ('groundlings,', 1), ('part)', 1), ('capable', 1), ('inexplicable', 1), ('noise.', 1), (\"whipp'd\", 1), (\"o'erdoing\", 1), ('termagant.', 1), ('out-herods', 1), ('herod.', 1), ('avoid', 2), ('player.', 2), ('warrant', 3), ('tame', 1), ('neither;', 1), ('tutor.', 1), ('suit', 2), ('word,', 2), ('action;', 1), ('special', 3), ('observance,', 1), (\"o'erstep\", 1), ('nature:', 1), ('overdone', 1), ('playing,', 2), ('mirror', 1), ('nature;', 2), ('feature,', 1), ('scorn', 1), ('image,', 1), ('pressure.', 1), ('overdone,', 1), ('tardy', 2), ('unskilful', 1), ('laugh,', 2), ('judicious', 1), ('grieve;', 1), (\"o'erweigh\", 1), ('theatre', 1), ('others.', 3), ('praise,', 1), ('highly', 1), ('profanely),', 1), ('christians,', 1), ('christian,', 1), ('pagan,', 1), ('strutted', 1), ('bellowed', 1), ('journeymen', 1), ('men,', 2), ('imitated', 1), ('humanity', 1), ('abominably.', 1), (\"reform'd\", 1), ('indifferently', 1), ('reform', 1), ('altogether!', 1), ('clowns', 1), ('quantity', 3), ('barren', 1), ('spectators', 1), ('necessary', 2), ('considered.', 1), ('villanous', 1), ('pitiful', 1), ('ready.', 2), ('work?', 1), ('haste,', 1), ('hasten', 1), ('just', 2), (\"e'er\", 1), ('conversation', 1), (\"cop'd\", 1), ('flatter;', 1), ('advancement', 1), ('revenue', 1), ('feed', 4), ('clothe', 1), (\"flatter'd?\", 1), ('candied', 1), ('lick', 1), ('absurd', 1), ('pomp,', 1), ('crook', 1), ('hinges', 1), ('knee', 1), ('thrift', 1), ('fawning.', 1), ('distinguish,', 1), ('election', 3), ('scald', 1), ('herself.', 1), ('one,', 1), (\"suff'ring\", 1), ('nothing;', 1), ('buffets', 1), ('rewards', 1), ('blest', 1), ('commingled', 1), ('pipe', 1), ('finger', 1), ('please.', 1), (\"passion's\", 1), ('slave,', 1), ('wear', 4), (\"heart's\", 1), ('core,', 1), ('circumstance,', 1), ('death.', 7), ('prithee,', 2), ('seest', 1), ('afoot,', 1), ('comment', 1), ('occulted', 1), ('guilt', 3), ('unkennel', 1), ('imaginations', 1), (\"vulcan's\", 1), ('stithy.', 1), ('heedful', 1), ('note;', 1), ('rivet', 1), ('join', 2), ('seeming.', 1), ('steal', 1), ('detecting,', 1), ('pay', 3), ('theft.', 1), ('trumpets', 2), ('kettledrums.', 1), ('danish', 5), ('march.', 1), ('attendant,', 1), ('guard', 2), ('carrying', 1), ('torches.', 1), ('idle.', 1), ('fares', 2), ('excellent,', 1), ('faith;', 1), (\"chameleon's\", 1), ('dish.', 1), ('eat', 5), (\"promise-cramm'd.\", 1), ('capons', 1), ('mine.', 2), ('now.', 4), ('university,', 1), ('accounted', 1), ('actor.', 1), ('enact?', 1), ('enact', 1), ('caesar;', 1), (\"kill'd\", 4), ('capitol;', 1), ('brutus', 1), ('brute', 1), ('kill', 4), ('capital', 2), ('calf', 1), ('patience.', 1), ('mother.', 9), ('metal', 1), ('attractive.', 1), ('king]', 1), ('lap?', 2), ('[sits', 1), (\"ophelia's\", 1), ('feet.]', 1), ('country', 1), ('matters?', 1), ('nothing,', 2), (\"maids'\", 1), ('legs.', 1), ('merry,', 1), ('i?', 1), ('jig-maker!', 1), ('merry?', 1), ('cheerfully', 2), (\"'s\", 1), ('hours.', 1), ('months,', 1), ('sables.', 1), ('die', 3), ('ago,', 1), ('forgotten', 1), ('yet?', 1), ('outlive', 1), ('half', 4), ('year.', 3), ('build', 1), ('churches', 1), ('hobby-horse,', 1), (\"'for\", 1), ('hobby-horse', 1), (\"forgot!'\", 1), ('hautboys', 1), ('enters.', 1), ('lovingly;', 1), ('embracing', 1), ('kneels,', 1), ('protestation', 1), ('up,', 3), ('declines', 1), ('neck.', 1), ('lays', 1), ('bank', 1), ('flowers.', 1), ('asleep,', 1), ('leaves', 3), ('fellow,', 1), ('kisses', 2), ('pours', 2), ('poison', 6), (\"sleeper's\", 1), ('returns,', 1), ('action.', 1), ('poisoner', 2), ('mutes,', 1), ('condole', 1), ('carried', 1), ('wooes', 1), ('gifts;', 1), ('harsh', 2), ('unwilling', 1), ('accepts', 1), ('miching', 1), ('malhecho;', 1), ('mischief.', 1), ('belike', 2), ('imports', 4), ('prologue.', 1), ('fellow.', 2), ('counsel;', 1), (\"they'll\", 1), ('meant?', 1), (\"asham'd\", 1), (\"he'll\", 1), ('shame', 5), ('means.', 1), ('naught,', 1), ('naught!', 1), ('pro.', 1), ('stooping', 1), ('clemency,', 1), ('beg', 5), ('patiently.', 1), ('[exit.]', 2), ('prologue,', 1), ('posy', 1), ('ring?', 1), (\"woman's\", 1), ('[two', 1), ('as]', 1), ('thirty', 3), (\"phoebus'\", 1), ('cart', 1), ('wash', 2), (\"tellus'\", 1), ('orbed', 1), ('ground,', 2), ('dozed', 1), ('moons', 1), ('borrowed', 1), ('sheen', 1), ('twelve', 2), ('thirties', 1), ('been,', 1), ('hearts,', 1), ('hymen', 1), ('unite', 1), ('comutual', 1), ('sacred', 1), ('bands.', 1), ('journeys', 1), ('moon', 1), ('done!', 1), ('me!', 4), ('late,', 1), ('distrust', 1), ('distrust,', 1), ('discomfort', 1), ('must;', 1), (\"women's\", 1), ('quantity,', 1), ('aught,', 1), ('extremity.', 1), ('know;', 2), (\"siz'd,\", 1), ('great,', 2), ('littlest', 1), ('doubts', 1), ('fear;', 1), ('fears', 2), ('shortly', 4), ('operant', 1), ('powers', 2), ('functions', 1), ('do.', 2), ('behind,', 1), (\"honour'd,\", 1), (\"belov'd,\", 1), ('husband', 6), ('thou-', 1), ('rest!', 2), ('breast.', 1), ('accurst!', 1), ('wed', 1), ('killed', 1), ('wormwood,', 1), ('wormwood!', 1), ('instances', 1), ('respects', 1), ('bed.', 3), ('determine', 1), ('break.', 1), ('birth,', 1), ('validity;', 1), ('unripe,', 1), ('sticks', 1), ('tree,', 1), ('fill', 1), ('unshaken', 1), ('mellow', 1), ('debt.', 1), ('propose,', 1), ('ending,', 1), ('lose.', 1), ('enactures', 1), ('destroy.', 1), ('revels,', 1), ('lament;', 1), ('joys,', 1), ('grieves,', 1), ('slender', 1), ('accident.', 2), ('aye,', 1), ('fortunes', 2), ('change;', 1), ('prove,', 1), ('fortune,', 3), ('favourite', 1), ('flies,', 1), (\"advanc'd\", 1), ('enemies;', 1), ('tend,', 2), ('want', 2), ('hollow', 1), ('try,', 1), ('directly', 2), ('seasons', 1), ('enemy.', 2), ('orderly', 1), ('begun,', 1), ('wills', 1), ('contrary', 1), ('run', 1), ('devices', 1), ('overthrown;', 1), ('ours,', 2), ('ends', 1), ('own.', 2), ('wed;', 1), ('food,', 1), ('light,', 1), ('repose', 1), ('desperation', 1), ('trust', 2), (\"anchor's\", 1), ('scope,', 1), ('opposite', 1), ('blanks', 1), ('destroy,', 1), ('hence', 3), ('lasting', 1), ('strife,', 1), ('widow,', 1), ('wife!', 1), ('deeply', 1), ('sworn.', 1), ('dull,', 1), ('beguile', 1), ('rock', 1), ('[he]', 1), ('mischance', 2), ('twain!', 1), ('play?', 2), ('protest', 1), ('methinks.', 1), (\"she'll\", 2), ('argument?', 1), (\"in't?\", 2), ('no!', 2), ('jest,', 2), ('jest;', 1), ('world.', 2), (\"mousetrap.'\", 1), ('how?', 1), ('tropically.', 1), ('vienna.', 1), ('gonzago', 1), (\"duke's\", 1), ('name;', 1), ('wife,', 2), ('baptista.', 1), ('anon.', 1), ('knavish', 2), ('work;', 2), ('majesty,', 2), ('souls,', 2), ('touches', 1), (\"gall'd\", 1), ('jade', 1), ('winch;', 1), ('withers', 1), ('unwrung.', 1), ('lucianus.', 1), ('lucianus,', 1), ('chorus,', 1), ('interpret', 1), ('puppets', 1), ('dallying.', 1), ('keen,', 1), ('keen.', 1), ('cost', 2), ('groaning', 1), ('edge.', 1), ('better,', 1), ('worse.', 1), ('husbands.-', 1), ('begin,', 3), ('murtherer.', 1), ('pox,', 1), ('damnable', 1), ('faces,', 1), ('begin!', 1), ('croaking', 1), ('raven', 1), ('bellow', 1), ('luc.', 1), ('apt,', 1), ('drugs', 1), ('agreeing;', 1), ('confederate', 1), ('season,', 1), ('creature', 2), ('seeing;', 1), ('mixture', 1), ('rank,', 2), ('midnight', 1), ('weeds', 3), ('collected,', 1), (\"hecate's\", 1), ('ban', 1), ('blasted,', 1), ('infected,', 1), ('magic', 1), ('dire', 1), ('usurp', 1), ('immediately.', 1), ('poisons', 1), (\"for's\", 2), ('estate.', 2), (\"name's\", 1), ('gonzago.', 1), ('story', 1), ('extant,', 1), ('written', 1), ('italian.', 1), ('murtherer', 2), ('gets', 1), (\"gonzago's\", 1), ('wife.', 1), ('rises.', 1), ('frighted', 1), ('fire?', 1), ('light!', 1), ('lights,', 2), ('lights!', 1), ('strucken', 1), ('deer', 1), ('weep,', 1), ('hart', 1), ('ungalled', 1), ('sleep:', 1), ('runs', 2), ('forest', 1), ('feathers-', 1), ('turk', 1), ('me-with', 1), ('provincial', 1), ('roses', 1), (\"raz'd\", 1), ('shoes,', 1), ('fellowship', 1), ('players,', 1), ('sir?', 6), ('share.', 1), ('damon', 1), ('dear,', 1), ('realm', 1), ('dismantled', 1), ('jove', 2), ('himself;', 3), ('reigns', 1), ('very,', 1), ('very-', 1), ('pajock.', 1), (\"rhym'd.\", 1), (\"ghost's\", 1), ('pound!', 1), ('perceive?', 1), ('poisoning?', 1), ('aha!', 1), ('music!', 2), ('recorders!', 2), ('perdy.', 1), ('history.', 1), ('sir-', 1), ('him?', 1), ('retirement,', 1), ('marvellous', 1), (\"distemper'd.\", 1), ('drink,', 5), ('choler.', 2), ('richer', 2), ('signify', 2), ('doctor;', 1), ('purgation', 1), ('plunge', 1), ('wildly', 2), ('affair.', 2), ('tame,', 2), ('pronounce.', 1), ('courtesy', 1), ('breed.', 1), ('commandment;', 1), ('pardon', 4), ('cannot.', 3), ('answer;', 1), (\"wit's\", 1), (\"diseas'd.\", 1), ('command;', 2), ('rather,', 2), ('says:', 1), ('behaviour', 1), ('amazement', 2), ('admiration.', 1), ('wonderful', 1), ('stonish', 1), ('mother!', 4), ('sequel', 1), ('heels', 3), ('admiration?', 1), ('impart.', 1), ('closet', 2), ('trade', 2), ('us?', 1), ('pickers', 1), ('stealers!', 1), ('distemper?', 1), ('surely', 1), ('bar', 1), ('door', 2), ('deny', 2), ('griefs', 1), ('friend.', 1), ('advancement.', 1), ('succession', 1), ('denmark?', 2), (\"'while\", 1), ('grass', 1), (\"grows'-\", 1), ('proverb', 1), ('musty.', 1), ('recorders.', 1), ('withdraw', 1), ('you-', 2), ('toil?', 1), ('bold,', 1), ('unmannerly.', 1), ('pipe?', 2), ('easy', 1), ('lying.', 1), ('govern', 1), ('ventages', 1), ('thumbs,', 1), ('eloquent', 1), ('stops.', 1), (\"utt'rance\", 1), ('harmony.', 1), ('skill.', 1), ('stops;', 1), ('pluck', 3), ('mystery;', 1), ('lowest', 1), ('compass;', 1), ('music,', 1), ('easier', 1), ('instrument', 2), ('fret', 1), ('bless', 3), ('yonder', 2), ('cloud', 1), ('camel?', 1), ('camel', 1), ('weasel.', 2), (\"back'd\", 1), ('whale.', 2), ('by-and-by.-', 1), ('bent.-', 1), ('by-and-by.', 2), (\"'by-and-by'\", 1), ('easily', 1), ('said.-', 1), ('hamlet.]', 2), ('witching', 1), ('churchyards', 1), ('yawn,', 1), ('breathes', 1), ('contagion', 1), ('quake', 1), ('nero', 1), ('firm', 1), ('bosom.', 1), ('cruel,', 2), ('unnatural;', 1), ('daggers', 2), ('hypocrites-', 1), ('somever', 1), ('shent,', 1), ('seals', 1), ('consent!', 1), ('safe', 2), ('range.', 1), ('prepare', 3), ('forthwith', 1), ('dispatch,', 1), ('along', 1), ('estate', 1), ('endure', 1), ('hazard', 1), ('hourly', 1), ('lunacies.', 1), ('provide.', 1), ('religious', 1), ('bodies', 3), ('single', 2), ('peculiar', 1), ('strength', 1), ('noyance;', 1), ('weal', 1), ('rests', 1), ('many.', 1), ('cesse', 1), ('dies', 2), ('alone,', 1), ('gulf', 1), ('massy', 1), ('highest', 1), ('mount,', 1), ('huge', 1), ('lesser', 1), (\"mortis'd\", 1), (\"adjoin'd;\", 1), ('small', 1), ('annexment,', 1), ('consequence,', 1), ('attends', 1), (\"boist'rous\", 1), ('ruin.', 1), ('sigh,', 2), ('groan.', 1), ('arm', 1), (\"th',\", 1), ('speedy', 1), ('voyage;', 1), ('fetters', 1), ('free-footed.', 1), ('closet.', 2), ('convey', 1), ('process.', 1), ('tax', 1), ('home;', 1), ('wisely', 1), ('partial,', 1), (\"o'erhear\", 1), ('vantage.', 1), ('liege.', 1), ('smells', 1), ('heaven;', 2), ('primal', 1), ('eldest', 1), ('curse', 1), (\"upon't,\", 1), ('murther!', 2), ('sharp', 1), ('stronger', 4), ('defeats', 1), ('intent,', 1), ('bound,', 1), ('pause', 1), ('neglect.', 1), ('thicker', 1), ('rain', 1), ('snow?', 1), ('whereto', 3), ('serves', 2), ('confront', 1), ('offence?', 2), ('prayer', 2), ('twofold', 1), ('force,', 1), ('forestalled', 1), ('fall,', 2), (\"pardon'd\", 2), ('down?', 1), ('past.', 1), ('serve', 2), ('turn?', 1), (\"'forgive\", 1), (\"murther'?\", 1), (\"possess'd\", 1), ('effects', 1), ('murther-', 1), ('ambition,', 1), ('retain', 1), ('corrupted', 1), (\"offence's\", 1), ('gilded', 1), ('shove', 1), ('justice,', 1), ('prize', 1), ('buys', 1), ('law;', 1), ('above.', 1), ('shuffling;', 1), (\"compell'd,\", 1), ('teeth', 1), ('forehead', 2), ('faults,', 1), ('evidence.', 1), ('rests?', 1), ('repentance', 1), ('can.', 1), ('repent?', 1), ('wretched', 2), ('state!', 1), ('death!', 1), ('limed', 1), ('struggling', 1), (\"engag'd!\", 1), ('help,', 6), ('angels!', 1), ('assay.', 1), ('bow,', 1), ('stubborn', 1), ('knees;', 1), ('strings', 1), ('sinews', 1), ('new-born', 1), ('babe!', 1), ('kneels.', 1), ('pat,', 1), ('praying;', 1), (\"do't.\", 3), (\"reveng'd.\", 1), (\"scann'd.\", 1), ('kills', 3), ('sole', 1), ('hire', 1), ('salary,', 1), ('revenge!', 2), ('grossly,', 1), ('bread,', 1), ('broad', 2), ('blown,', 1), ('flush', 1), ('may;', 1), ('audit', 1), ('stands,', 1), ('knows', 2), (\"reveng'd,\", 1), ('seasoned', 1), ('passage?', 1), ('hent.', 1), ('drunk', 1), ('asleep;', 1), ('rage;', 1), ('pleasure', 2), ('bed;', 2), ('salvation', 1), (\"in't-\", 1), ('trip', 1), ('kick', 1), ('goes.', 1), ('stays.', 1), ('physic', 1), ('prolongs', 1), ('sickly', 2), ('days.', 1), ('[rises]', 1), ('below.', 1), (\"queen's\", 1), ('home', 2), ('pranks', 1), ('with,', 2), (\"screen'd\", 1), ('heat', 1), ('here.', 1), ('withdraw;', 1), ('[polonius', 1), ('hides', 1), ('arras.]', 1), ('forgot', 2), ('rood,', 1), ('so!', 2), ('(would', 1), ('so!)', 1), ('budge', 1), ('inmost', 1), ('[behind]', 2), ('help!', 1), ('[draws]', 1), ('rat?', 1), ('ducat,', 1), ('[makes', 1), ('and]', 2), ('slain!', 1), ('done?', 2), ('rash', 1), ('deed-', 1), ('bad,', 1), ('[lifts', 1), ('sees', 2), ('rash,', 2), ('intruding', 1), ('fool,', 1), ('better.', 1), ('fortune.', 2), (\"find'st\", 1), ('busy', 1), ('danger.', 1), ('wringing', 1), ('hinds.', 1), ('wring', 1), ('penetrable', 1), ('stuff;', 1), (\"braz'd\", 1), ('bulwark', 1), ('sense.', 3), (\"dar'st\", 1), ('wag', 1), ('noise', 7), ('rude', 2), ('blurs', 1), ('blush', 1), ('modesty;', 1), ('hypocrite;', 1), ('innocent', 1), ('blister', 1), ('there;', 2), (\"dicers'\", 1), ('oaths.', 1), ('contraction', 1), ('religion', 1), ('rhapsody', 1), ('words!', 1), (\"heaven's\", 1), ('glow;', 1), ('solidity', 1), ('compound', 1), ('tristful', 1), ('doom,', 1), ('thought-sick', 1), ('ay', 2), ('roars', 1), ('loud', 2), ('thunders', 1), ('index?', 1), (\"th's\", 1), ('picture,', 1), ('counterfeit', 1), ('presentment', 1), ('brothers.', 1), ('seated', 1), ('brow;', 1), (\"hyperion's\", 1), ('curls;', 1), ('front', 1), ('mars,', 1), ('threaten', 1), ('herald', 1), ('mercury', 1), ('lighted', 1), ('heaven-kissing', 1), ('hill:', 1), ('combination', 1), ('seal', 1), ('assurance', 2), ('husband.', 1), ('follows.', 1), ('husband,', 1), (\"mildew'd\", 1), ('blasting', 1), ('eyes?', 1), ('mountain', 3), ('feed,', 1), ('batten', 1), ('moor?', 1), ('love;', 1), ('heyday', 1), (\"it's\", 1), ('humble,', 1), ('waits', 1), ('judgment;', 1), ('step', 2), ('sense', 8), ('motion;', 1), (\"apoplex'd;\", 1), ('err,', 1), ('ecstacy', 1), (\"ne'er\", 2), (\"thrall'd\", 1), (\"reserv'd\", 1), ('difference.', 1), (\"was't\", 2), (\"cozen'd\", 1), ('hoodman-blind?', 1), ('feeling,', 1), ('feeling', 2), ('smelling', 1), ('sans', 1), ('mope.', 1), ('blush?', 1), ('mutine', 1), (\"matron's\", 1), ('melt', 1), ('proclaim', 2), ('compulsive', 1), ('ardour', 1), ('charge,', 3), ('frost', 1), ('actively', 1), ('burn,', 1), ('panders', 1), (\"turn'st\", 1), ('grained', 1), ('spots', 1), ('tinct.', 1), ('enseamed', 1), (\"stew'd\", 1), ('corruption,', 2), ('honeying', 1), ('nasty', 1), ('sty!', 1), ('twentieth', 1), ('tithe', 1), ('precedent', 2), ('vice', 3), ('kings;', 1), ('cutpurse', 1), ('rule,', 1), ('shelf', 1), ('precious', 2), ('stole', 2), ('pocket!', 1), ('nightgown.', 1), ('shreds', 1), ('patches!-', 1), ('hover', 1), ('wings,', 1), ('guards!', 1), ('figure?', 1), ('mad!', 1), ('chide,', 1), (\"laps'd\", 1), ('important', 1), ('acting', 1), ('command?', 1), ('say!', 1), ('forget.', 1), ('whet', 1), ('blunted', 1), ('sits.', 1), ('fighting', 2), ('weakest', 1), ('strongest', 1), ('works.', 1), ('lady?', 2), ('vacancy,', 1), ('encorporal', 1), ('discourse?', 1), ('peep;', 1), ('soldiers', 2), ('alarm,', 1), ('bedded', 1), ('hairs,', 1), ('excrements,', 1), ('end.', 4), ('beat', 1), ('flame', 2), ('distemper', 1), ('sprinkle', 1), ('cool', 1), ('patience!', 1), ('look?', 1), ('glares!', 1), (\"conjoin'd,\", 1), ('preaching', 1), ('stones,', 1), ('capable.-', 1), ('convert', 2), ('stern', 1), ('effects.', 1), ('colour-', 1), ('there!', 1), ('steals', 1), (\"liv'd!\", 1), ('portal!', 1), ('coinage', 1), ('brain.', 1), ('bodiless', 1), ('creation', 1), ('ecstasy?', 1), ('pulse', 1), ('temperately', 1), ('healthful', 1), (\"utt'red.\", 1), ('test,', 1), ('reword;', 1), ('gambol', 1), ('from.', 1), ('flattering', 1), ('unction', 2), ('trespass', 1), ('speaks.', 1), ('skin', 1), ('film', 1), ('ulcerous', 1), ('whiles', 1), ('mining', 1), ('within,', 1), ('infects', 1), ('unseen.', 1), ('repent', 1), ('past;', 1), ('come;', 1), ('spread', 2), ('compost', 1), ('ranker.', 1), ('forgive', 1), ('virtue;', 1), ('fatness', 1), ('pursy', 1), ('beg-', 1), ('curb', 1), ('woo', 1), ('cleft', 1), ('twain.', 1), ('worser', 1), ('purer', 1), ('half,', 1), ('night-', 1), (\"uncle's\", 1), ('monster,', 1), ('custom,', 1), ('habits', 1), ('evil,', 1), ('likewise', 1), ('frock', 1), ('aptly', 1), ('refrain', 1), ('easiness', 1), ('next', 3), ('abstinence;', 1), ('easy;', 1), ('[master]', 1), ('devil,', 1), ('potency.', 1), ('night;', 1), ('desirous', 1), ('blest,', 1), ('repent;', 1), ('punish', 1), ('scourge', 2), ('minister.', 1), ('kind;', 1), ('begins,', 1), ('worse', 2), ('behind.', 1), ('lady.', 1), ('do:', 1), ('bloat', 1), ('pinch', 1), ('wanton', 2), ('cheek;', 1), ('mouse;', 1), ('pair', 2), ('reechy', 1), ('kisses,', 1), ('paddling', 1), ('neck', 2), ('fingers,', 1), ('ravel', 1), ('essentially', 1), ('craft.', 1), ('sober,', 1), ('wise,', 1), ('paddock,', 1), ('bat,', 1), ('gib', 1), ('concernings', 1), ('hide?', 1), ('despite', 1), ('secrecy,', 1), ('unpeg', 1), ('basket', 2), (\"house's\", 1), ('top,', 1), ('birds', 1), ('fly,', 1), ('famous', 1), ('ape,', 2), ('conclusions,', 1), ('creep', 1), (\"assur'd,\", 1), ('england;', 2), ('alack,', 3), ('forgot!', 1), ('concluded', 1), (\"seal'd;\", 1), ('schoolfellows,', 1), ('adders', 1), (\"fang'd,\", 1), ('mandate;', 1), ('marshal', 1), ('knavery.', 1), ('enginer', 1), ('hoist', 1), ('petar;', 1), (\"'t\", 1), ('delve', 1), ('yard', 1), ('mines', 1), ('blow', 2), ('line', 1), ('crafts', 1), ('meet.', 4), ('packing.', 1), ('lug', 1), ('guts', 2), ('neighbour', 1), ('room.-', 1), ('night.-', 1), ('counsellor', 1), ('secret,', 1), ('grave,', 1), ('peating', 1), ('tugging', 1), ('sighs.', 1), ('heaves', 1), ('translate;', 1), ('son?', 1), ('while.', 1), ('guildenstern.]', 1), ('to-night!', 1), ('gertrude?', 1), ('contend', 1), ('mightier.', 1), ('stir,', 1), ('rapier,', 1), ('rat,', 1), (\"rat!'\", 1), ('brainish', 1), ('unseen', 1), ('deed!', 1), ('liberty', 1), ('threats', 1), (\"answer'd?\", 1), ('laid', 6), ('providence', 2), ('short,', 1), (\"restrain'd,\", 1), ('haunt', 1), ('owner', 1), ('disease,', 1), ('divulging,', 1), ('gone?', 1), ('apart', 1), (\"kill'd;\", 1), ('ore', 1), ('among', 1), ('mineral', 1), ('metals', 1), ('pure.', 1), ('weeps', 1), ('done.', 4), ('mountains', 1), ('ship', 1), ('hence;', 1), ('skill', 2), ('excuse.', 1), ('guildenstern!', 2), ('both,', 1), ('aid.', 1), ('slain,', 1), (\"dragg'd\", 1), ('out;', 1), ('chapel.', 2), ('[rosencrantz', 1), ('guildenstern].', 1), ('untimely', 1), ('[so', 1), ('slander-]', 1), ('diameter,', 1), ('level', 2), ('blank,', 1), ('transports', 1), ('poisoned', 1), ('shot-', 1), ('miss', 1), ('hit', 2), ('woundless', 1), ('air.-', 1), ('discord', 1), ('dismay.', 1), ('passage', 2), ('safely', 1), (\"stow'd.\", 1), ('noise?', 1), ('body?', 1), ('compounded', 1), ('dust,', 1), ('kin.', 1), (\"'tis,\", 1), ('counsel,', 1), ('besides,', 1), ('demanded', 1), ('sponge,', 3), ('replication', 1), ('soaks', 1), ('countenance,', 1), ('rewards,', 1), ('authorities.', 1), ('officers', 1), ('corner', 1), ('jaw;', 1), (\"mouth'd,\", 1), ('swallowed.', 1), (\"glean'd,\", 1), ('squeezing', 1), ('dry', 2), ('sleeps', 2), ('thing-', 1), ('fox,', 1), ('loose!', 1), (\"lov'd\", 4), ('multitude,', 1), ('judgment,', 1), ('eyes;', 2), (\"offender's\", 1), ('offence.', 1), ('sending', 1), ('deliberate', 1), ('diseases', 1), ('appliance', 1), (\"reliev'd,\", 1), (\"befall'n?\", 1), (\"bestow'd,\", 1), ('without,', 2), ('guarded,', 1), ('pleasure.', 2), ('supper.', 1), ('supper?', 1), ('where?', 2), ('eats,', 1), ('eaten.', 1), ('convocation', 1), ('politic', 1), ('worms', 1), ('worm', 2), ('emperor', 1), ('diet.', 1), ('maggots.', 1), ('lean', 1), ('service-', 1), ('dishes,', 1), ('table.', 2), ('alas!', 1), ('fish', 2), ('worm.', 1), ('progress', 1), ('beggar.', 1), ('thither', 2), ('messenger', 2), ('nose', 1), ('stair,', 1), ('attendants.]', 2), ('deed,', 1), ('especial', 1), ('safety,-', 1), ('dearly', 1), ('grieve', 1), ('done,-', 1), ('quickness.', 1), ('bark', 1), ('ready', 1), ('associates', 1), ('everything', 2), ('bent', 1), ('england.', 3), ('england?', 2), (\"knew'st\", 1), ('purposes.', 1), ('cherub', 1), ('england!', 2), ('wife', 1), ('flesh;', 1), ('foot;', 1), ('aboard.', 1), ('delay', 1), ('leans', 1), ('england,', 3), (\"hold'st\", 1), ('aught,-', 1), ('thereof', 1), ('cicatrice', 1), ('raw', 1), ('red', 1), ('awe', 2), ('pays', 1), ('homage', 1), ('us,-', 1), ('mayst', 1), ('process,', 1), ('congruing', 1), ('effect,', 2), ('hectic', 1), ('rages,', 1), ('cure', 1), (\"howe'er\", 1), ('haps,', 1), ('joys', 1), ('begun.', 1), ('army', 2), ('captain,', 1), ('greet', 1), ('license', 1), ('craves', 1), ('conveyance', 1), (\"promis'd\", 2), ('kingdom.', 2), ('rendezvous.', 1), ('eye;', 1), ('capt.', 7), ('softly', 1), ('captain].', 1), ('[guildenstern,]', 1), ('these?', 1), (\"purpos'd,\", 1), ('poland.', 1), ('commands', 1), ('fortinbras.', 3), ('poland,', 2), ('frontier?', 1), ('addition,', 1), ('gain', 2), ('patch', 2), ('ground', 2), ('name.', 1), ('ducats,', 1), ('five,', 1), ('yield', 2), ('ranker', 1), ('rate,', 1), ('sold', 1), ('fee.', 1), ('polack', 2), (\"garrison'd.\", 1), ('souls', 1), ('twenty', 2), ('debate', 1), ('straw.', 1), ('imposthume', 1), ('wealth', 1), ('peace,', 1), ('breaks,', 1), ('dies.-', 1), (\"will't\", 1), ('before.', 1), ('occasions', 1), ('spur', 1), ('market', 1), ('feed?', 1), ('large', 1), ('discourse,', 1), ('looking', 1), ('after,', 1), ('capability', 1), ('godlike', 1), ('fust', 1), (\"unus'd.\", 1), ('bestial', 1), ('oblivion,', 1), ('craven', 1), ('scruple', 1), ('precisely', 1), ('event,-', 1), (\"quarter'd,\", 1), ('coward,-', 1), (\"thing's\", 1), (\"do,'\", 1), ('strength,', 1), ('examples', 1), ('exhort', 1), ('mass', 1), ('led', 1), ('delicate', 2), ('divine', 1), (\"puff'd,\", 1), ('mouths', 1), ('invisible', 1), ('event,', 1), ('exposing', 1), ('unsure', 1), ('dare,', 1), ('eggshell.', 1), ('rightly', 1), ('argument,', 1), ('greatly', 1), ('quarrel', 1), ('straw', 1), (\"honour's\", 1), ('stake.', 1), (\"klll'd,\", 1), (\"stain'd,\", 1), ('excitements', 1), ('imminent', 1), ('fantasy', 1), ('trick', 2), ('fame', 2), ('beds,', 1), ('fight', 2), ('plot', 1), ('numbers', 1), ('tomb', 1), ('continent', 2), ('slain?', 1), ('forth,', 1), ('bloody,', 1), ('worth!', 1), ('gent.', 2), ('importunate,', 1), ('distract.', 1), ('mood', 1), ('pitied.', 1), ('tricks', 1), ('hems,', 1), ('beats', 1), ('enviously', 1), ('straws;', 1), ('doubt,', 1), ('unshaped', 1), ('hearers', 1), ('collection;', 1), ('aim', 1), ('botch', 1), ('thoughts;', 1), ('winks', 1), ('nods', 1), ('gestures', 1), ('unhappily.', 1), ('spoken', 1), ('with;', 1), ('strew', 1), ('conjectures', 1), ('ill-breeding', 1), ('minds.', 1), ('gentleman.]', 1), (\"sin's\", 1), ('is)', 1), ('amiss.', 2), ('artless', 1), ('jealousy', 1), ('spills', 1), ('fearing', 1), ('spilt.', 1), ('ophelia', 2), ('distracted.', 1), ('beauteous', 1), ('(sings)', 9), ('true-love', 2), ('one?', 1), ('cockle', 1), ('bat', 1), (\"and'\", 1), ('staff', 1), ('sandal', 1), ('shoon.', 1), ('song?', 1), ('mark.', 4), ('gone;', 1), ('grass-green', 1), ('turf,', 1), ('stone.', 1), ('ophelia-', 1), ('shroud', 1), ('snow-', 1), ('larded', 2), ('flowers;', 1), ('bewept', 1), ('showers.', 1), ('pretty', 2), ('dild', 1), ('owl', 1), (\"baker's\", 1), ('are,', 1), ('table!', 1), ('this;', 1), ('ask,', 1), ('this:', 1), (\"valentine's\", 1), ('bedtime,', 1), ('window,', 1), ('valentine.', 1), (\"donn'd\", 1), (\"clo'es\", 1), (\"dupp'd\", 1), ('chamber', 1), ('door,', 1), ('maid,', 3), ('departed', 1), ('ophelia!', 2), ('la,', 1), ('[sings]', 3), ('gis', 1), ('charity,', 1), (\"do't\", 2), ('blame.', 2), ('quoth', 1), (\"'before\", 1), ('tumbled', 1), (\"wed.'\", 1), ('answers:', 1), (\"'so\", 1), (\"'a'\", 1), ('sun,', 1), (\"bed.'\", 1), ('thus?', 2), ('patient;', 1), ('cold', 2), ('counsel.', 1), ('coach!', 1), ('ladies.', 2), ('close;', 1), ('horatio.]', 2), ('springs', 1), ('sorrows', 1), ('spies.', 1), ('battalions!', 1), ('slain;', 2), ('next,', 2), ('remove;', 1), ('people', 1), ('muddied,', 1), ('unwholesome', 1), ('whispers', 1), (\"polonius'\", 1), ('greenly', 1), ('hugger-mugger', 1), ('inter', 1), ('divided', 1), ('fair-judgment,', 1), ('pictures', 1), ('beasts;', 1), ('containing', 1), ('buzzers', 1), ('infect', 1), ('feeds', 1), ('wonder,', 2), ('clouds,', 2), ('speeches', 1), ('necessity,', 1), (\"beggar'd,\", 1), ('stick', 2), ('person', 2), ('arraign', 1), (\"murd'ring\", 1), ('piece,', 1), ('places', 1), ('give,', 2), ('superfluous', 1), ('within.', 2), ('switzers?', 1), ('door.', 2), ('messenger.', 2), ('mess.', 4), ('lord:', 1), ('ocean,', 1), ('overpeering', 1), ('eats', 1), ('flats', 1), ('impetuous', 1), ('riotous', 1), (\"o'erbears\", 1), ('offices.', 1), ('rabble', 1), ('antiquity', 1), ('forgot,', 1), ('known,', 1), ('ratifiers', 1), ('props', 1), (\"'choose\", 1), ('we!', 1), (\"king!'\", 2), ('caps,', 1), ('tongues', 2), ('applaud', 1), (\"'laertes\", 1), ('cry!', 1), ('counter,', 1), ('dogs!', 1), ('broke.', 1), ('king?-', 1), ('sirs,', 1), ('staid', 1), ('without.', 1), ('in!', 1), ('followers.]', 1), ('father!', 1), ('calmly,', 1), ('drop', 1), ('calm', 2), ('bastard;', 1), ('cuckold', 1), ('brands', 1), ('harlot', 1), ('unsmirched', 1), ('brows', 1), ('rebellion', 1), ('giantlike?', 1), ('gertrude.', 3), ('person.', 1), ('divinity', 2), ('hedge', 1), ('peep', 1), ('would,', 2), ('acts', 1), (\"incens'd.\", 2), ('fill.', 1), ('dead?', 1), ('juggled', 1), ('with:', 1), ('allegiance!', 1), ('blackest', 1), ('profoundest', 1), ('pit!', 1), ('damnation.', 1), ('negligence,', 1), ('comes;', 1), (\"reveng'd\", 1), ('throughly', 1), ('certainty', 1), ('swoopstake', 1), ('foe,', 1), ('winner', 1), ('loser?', 1), ('enemies.', 1), ('ope', 1), (\"life-rend'ring\", 1), ('pelican,', 1), ('repast', 1), ('child', 1), ('guiltless', 1), ('sensibly', 1), ('pierce', 1), ('within:', 1), (\"'let\", 1), (\"in.'\", 1), ('brains!', 1), ('seven', 1), ('burn', 1), ('eye!', 1), ('paid', 1), ('weight', 1), ('beam.', 1), ('may!', 1), ('possible', 2), (\"maid's\", 1), ('wits', 2), ('life?', 1), ('fine', 7), ('instance', 1), ('bore', 4), (\"barefac'd\", 1), ('bier', 1), ('(hey', 1), ('non', 1), ('nony,', 2), ('hey', 1), ('nony)', 1), (\"rain'd\", 1), ('tear.', 1), ('dove!', 1), ('wits,', 1), ('persuade', 1), ('sing', 4), (\"'a-down\", 1), ('a-down,', 1), (\"a-down-a.'\", 1), ('wheel', 1), ('becomes', 3), ('steward,', 1), (\"master's\", 1), (\"nothing's\", 1), ('rosemary,', 1), ('remember.', 2), ('pansies,', 1), ('document', 1), ('madness!', 1), ('fitted.', 1), ('fennel', 1), ('columbines.', 1), ('rue', 2), ('herb', 1), ('sundays.', 1), ('difference!', 1), ('daisy.', 1), ('violets,', 1), (\"wither'd\", 1), ('died.', 1), ('bonny', 1), ('robin', 1), ('joy.', 1), ('affliction,', 1), ('itself,', 1), ('turns', 1), ('prettiness.', 1), ('again?', 2), ('dead;', 2), ('deathbed;', 1), ('flaxen', 1), ('poll.', 1), ('moan.', 1), (\"'a'mercy\", 1), ('christian', 4), ('god.', 1), (\"wi',\", 1), ('god?', 1), ('commune', 1), ('right.', 2), ('apart,', 1), ('collateral', 1), (\"touch'd,\", 1), ('satisfaction;', 1), ('patience', 3), ('jointly', 1), ('labour', 1), ('due', 1), ('content.', 1), ('obscure', 1), ('funeral-', 1), ('trophy,', 1), ('hatchment', 1), ('rite', 1), ('formal', 1), ('ostentation,-', 1), ('heard,', 3), (\"call't\", 1), ('shall;', 1), ('axe', 1), ('fall.', 1), ('vi.', 1), ('servant.', 1), ('seafaring', 1), ('attendant.]', 2), ('greeted,', 1), ('sailors.', 1), ('sailor.', 2), (\"an't\", 1), ('letter', 1), ('sir,-', 1), ('ambassador', 1), ('england-', 1), ('(reads', 1), ('letter)', 1), (\"'horatio,\", 1), (\"overlook'd\", 1), ('pirate', 1), ('appointment', 1), ('chase.', 1), ('compelled', 1), ('valour,', 1), ('boarded', 1), ('got', 2), ('clear', 1), ('ship;', 1), ('became', 1), ('prisoner.', 1), ('dealt', 1), ('thieves', 1), ('mercy;', 1), ('did:', 1), ('sent,', 1), ('repair', 2), ('dumb;', 1), ('am.', 1), (\"'he\", 1), ('knowest', 1), ('letters,', 2), ('speedier', 1), ('vii.', 1), ('acquittance', 1), ('seal,', 1), ('knowing', 2), ('slain', 1), ('pursued', 1), ('appears.', 1), ('proceeded', 1), ('feats', 1), ('crimeful', 1), ('safety,', 1), ('wisdom,', 1), ('else,', 1), ('mainly', 1), (\"stirr'd\", 1), ('reasons,', 2), ('perhaps,', 1), ('seein', 1), (\"unsinew'd,\", 1), ('strong.', 1), ('myself,-', 1), ('plague,', 1), ('which,-', 1), (\"she's\", 2), ('conjunctive', 1), ('moves', 2), ('sphere,', 1), ('public', 1), ('gender', 1), ('dipping', 1), ('turneth', 1), ('wood', 1), ('stone,', 1), ('graces;', 1), ('arrows,', 1), ('slightly', 1), (\"timber'd\", 1), ('wind,', 1), ('reverted', 1), (\"aim'd\", 1), ('driven', 1), (\"desp'rate\", 2), ('praises', 1), ('challenger', 1), ('mount', 1), ('perfections.', 1), ('flat', 2), ('shook', 1), ('danger,', 1), ('pastime.', 1), ('ourself,', 1), ('imagine-', 1), ('letters.', 1), ('news?', 1), ('hamlet:', 1), ('majesty;', 1), ('say;', 1), ('claudio;', 1), (\"[reads]'high\", 1), ('mighty,-you', 1), ('naked', 1), ('kingly', 1), ('(first', 1), ('asking', 1), ('thereunto)', 1), ('recount', 1), ('return.', 1), (\"'hamlet.'\", 1), ('mean?', 1), ('back?', 1), ('abuse,', 1), ('thing?', 1), ('hand?', 1), (\"'naked!'\", 1), ('postscript', 1), (\"'alone.'\", 1), ('advise', 1), ('warms', 1), ('sickness', 1), ('teeth,', 1), (\"'thus\", 1), ('didest', 1), (\"thou.'\", 1), ('otherwise?),', 1), (\"rul'd\", 1), (\"o'errule\", 1), ('checking', 1), ('voyage,', 1), ('undertake', 2), ('exploit', 1), ('ripe', 1), ('device,', 1), ('fall;', 1), ('uncharge', 1), ('practice', 2), (\"rul'd;\", 1), ('devise', 1), ('organ.', 1), ('travel', 1), ('hearing,', 1), ('shine,', 1), ('envy', 2), ('regard,', 1), ('unworthiest', 1), ('siege.', 1), ('riband', 1), ('youth-', 1), ('needfull', 1), ('careless', 1), ('livery', 1), ('settled', 1), ('sables', 1), ('weeds,', 1), ('graveness.', 1), ('gentleman', 5), ('normandy.', 1), (\"serv'd\", 1), ('against,', 1), ('french,', 1), ('horseback;', 1), ('gallant', 1), (\"in't.\", 2), ('grew', 1), ('seat,', 1), ('doing', 1), ('horse', 2), (\"incorps'd\", 1), (\"demi-natur'd\", 1), ('beast.', 1), (\"topp'd\", 1), ('forgery', 1), ('tricks,', 1), ('did.', 1), ('norman', 1), (\"was't?\", 1), ('norman.', 1), ('lamound.', 1), ('same.', 1), ('broach', 1), ('gem', 1), ('nation.', 1), ('masterly', 1), ('defence,', 1), ('rapier', 2), ('especially,', 1), (\"'twould\", 1), ('sight', 3), ('match', 1), ('scrimers', 1), ('swore', 1), ('guard,', 1), (\"oppos'd\", 1), ('envenom', 1), ('painting', 1), ('sorrow,', 1), (\"heart,'\", 1), ('ask', 1), ('begun', 2), ('passages', 1), ('proof,', 1), ('qualifies', 1), ('spark', 1), ('fire', 1), ('wick', 1), ('snuff', 1), ('abate', 1), ('goodness', 1), ('goodness,', 1), ('growing', 1), ('plurisy,', 1), ('too-much.', 1), ('would;', 1), (\"'would'\", 1), ('changes,', 1), ('abatements', 1), ('delays', 1), ('tongues,', 1), ('accidents;', 1), (\"'should'\", 1), ('spendthrift', 1), ('hurts', 2), ('easing.', 1), ('ulcer!', 1), ('back.', 1), ('words?', 1), ('church!', 1), ('sanctuarize;', 1), ('bounds.', 1), ('close', 1), ('chamber.', 1), ('home.', 1), ('praise', 1), ('excellence', 2), ('varnish', 1), ('frenchman', 1), ('wager', 4), ('heads.', 2), ('remiss,', 1), ('contriving,', 1), ('peruse', 1), ('foils;', 1), ('shuffling,', 1), ('unbated,', 1), ('practice,', 1), (\"do't!\", 1), ('anoint', 1), ('bought', 1), ('mountebank,', 1), ('dip', 1), ('knife', 1), ('cataplasm', 1), ('rare,', 1), ('collected', 1), ('simples', 1), (\"scratch'd\", 1), ('contagion,', 1), ('slightly,', 1), ('convenience', 1), ('shape.', 1), ('performance.', 1), (\"assay'd.\", 1), ('project', 1), ('second,', 1), ('cunnings-', 1), (\"ha't!\", 1), ('motion', 1), ('dry-', 1), ('bouts', 1), ('end-', 1), (\"prepar'd\", 1), ('chalice', 1), ('nonce;', 1), ('sipping,', 1), ('chance', 1), (\"venom'd\", 1), ('stuck,', 1), ('there.-', 1), ('noise,', 1), ('queen?', 2), ('tread', 1), (\"another's\", 1), ('heel,', 1), (\"sister's\", 1), (\"drown'd,\", 2), (\"drown'd!\", 1), ('willow', 1), ('aslant', 1), ('brook,', 1), ('hoar', 1), ('glassy', 1), ('stream.', 1), ('fantastic', 1), ('garlands', 1), ('crowflowers,', 1), ('nettles,', 1), ('daisies,', 1), ('purples,', 1), ('liberal', 2), ('shepherds', 1), ('grosser', 1), ('name,', 1), ('maids', 1), ('pendant', 1), ('boughs', 1), ('coronet', 1), (\"clamb'ring\", 1), ('hang,', 1), ('envious', 1), ('sliver', 1), ('broke,', 1), ('weedy', 1), ('trophies', 1), ('weeping', 1), ('brook.', 1), ('clothes', 1), ('mermaid-like,', 1), ('chaunted', 1), ('snatches', 1), ('tunes,', 1), ('incapable', 1), ('distress,', 1), ('indued', 1), ('element;', 1), ('garments,', 1), (\"pull'd\", 1), ('melodious', 1), ('muddy', 1), (\"drown'd?\", 1), (\"drown'd.\", 1), ('water', 5), ('tears;', 1), ('trick;', 1), ('holds,', 1), ('blaze', 1), ('folly', 1), ('douts', 1), ('churchyard.', 1), ('spades', 1), ('pickaxes].', 1), ('clown.', 33), ('burial', 1), ('wilfully', 1), ('seeks', 1), ('salvation?', 1), ('other.', 13), ('crowner', 1), ('burial.', 3), (\"drown'd\", 2), ('defence?', 1), ('se', 1), ('offendendo;', 1), ('else.', 1), ('point:', 1), ('wittingly,', 1), ('argues', 1), ('act;', 1), ('branches-it', 1), ('perform;', 1), ('argal,', 3), ('wittingly.', 1), ('goodman', 1), ('delver!', 1), ('water;', 1), ('man;', 1), ('nill', 1), ('goes-', 1), ('drowns', 1), ('shortens', 1), ('law?', 1), (\"is't-\", 1), (\"crowner's\", 1), ('quest', 1), ('law.', 1), (\"ha'\", 1), (\"an't?\", 1), ('gentlewoman,', 1), (\"say'st!\", 1), ('folk', 1), (\"count'nance\", 1), ('even-christen.', 1), ('spade!', 1), ('ancient', 1), (\"gard'ners,\", 1), ('ditchers,', 1), ('grave-makers.', 1), (\"adam's\", 1), ('profession.', 1), ('gentleman?', 1), ('heathen?', 1), ('scripture?', 1), ('scripture', 1), ('adam', 1), (\"digg'd.\", 1), ('dig', 2), ('answerest', 1), ('thyself-', 1), ('builds', 2), ('mason,', 2), ('shipwright,', 2), ('carpenter?', 2), ('gallows-maker;', 1), ('frame', 1), ('outlives', 1), ('tenants.', 1), ('gallows', 3), ('ill.', 1), ('built', 1), ('church.', 1), ('unyoke.', 1), ('tell!', 1), ('tell.', 1), ('afar', 2), ('cudgel', 1), ('mend', 1), ('pace', 1), ('beating;', 1), (\"ask'd\", 1), (\"grave-maker.'\", 1), ('houses', 1), ('lasts', 1), ('doomsday.', 1), ('yaughan;', 1), ('stoup', 1), ('liquor.', 1), ('clown.]', 1), ('[clown', 1), ('digs', 1), ('sings.', 1), ('sweet;', 1), ('contract-', 1), ('o-', 1), ('for-', 1), ('a-', 3), ('behove,', 1), ('nothing-', 1), ('business,', 1), ('sings', 1), ('grave-making?', 1), ('easiness.', 1), ('employment', 1), ('daintier', 1), ('stealing', 1), ('steps', 1), ('clawed', 1), ('clutch,', 1), ('shipped', 1), ('intil', 1), ('such.', 1), ('[throws', 1), ('skull.]', 3), ('skull', 4), ('knave', 3), ('jowls', 1), ('ground,as', 1), (\"cain's\", 1), ('jawbone,', 1), ('politician,', 1), (\"o'erreaches;\", 1), ('circumvent', 1), ('morrow,', 1), (\"lord?'\", 1), ('such-a-one,', 1), (\"prais'd\", 2), (\"such-a-one's\", 1), ('it-', 1), (\"worm's,\", 1), ('chapless,', 1), (\"knock'd\", 1), ('mazzard', 1), (\"sexton's\", 1), ('spade.', 1), ('revolution,', 1), (\"see't.\", 1), ('bones', 1), ('breeding', 1), ('loggets', 1), ('ache', 1), (\"on't.\", 1), ('pickaxe', 1), ('spade,', 2), ('shrouding', 1), ('sheet;', 1), ('pit', 2), ('clay', 2), ('guest', 2), ('throws', 1), ('[another', 1), ('skull].', 1), ('lawyer?', 1), ('quiddits', 1), ('quillets,', 1), ('cases,', 1), ('tenures,', 1), ('tricks?', 1), ('knock', 1), ('sconce', 1), ('dirty', 1), ('shovel,', 1), ('battery?', 1), ('hum!', 1), ('buyer', 1), ('statutes,', 1), ('recognizances,', 1), ('fines,', 2), ('vouchers,', 1), ('recoveries.', 1), ('recovery', 1), ('recoveries,', 1), ('dirt?', 1), ('vouchers', 1), ('vouch', 1), ('purchases,', 1), ('breadth', 1), ('indentures?', 1), ('conveyances', 1), ('box;', 1), ('inheritor', 1), ('jot', 1), ('parchment', 1), ('sheepskins?', 1), ('calveskins', 1), ('sheep', 1), ('calves', 1), (\"grave's\", 1), ('sirrah?', 1), ('mine,', 2), ('liest', 2), (\"on't,\", 1), ('thine.', 1), ('quick;', 1), ('liest.', 1), ('lie,', 2), ('neither.', 1), ('woman,', 1), ('absolute', 2), ('is!', 2), ('card,', 1), ('equivocation', 1), ('undo', 1), ('years', 1), ('picked', 1), ('toe', 1), ('heel', 1), ('courtier', 1), ('kibe.-', 1), ('grave-maker?', 1), ('year,', 1), ('overcame', 1), ('since?', 1), ('born-', 1), ('because', 1), ('or,', 1), ('why?', 1), ('strangely,', 1), ('say.', 1), ('strangely?', 1), ('losing', 1), ('wits.', 1), ('ground?', 1), ('sexton', 1), ('boy', 1), ('years.', 2), ('rot?', 1), ('pocky', 1), ('corses', 1), ('now-a-days', 1), ('eight', 1), ('year', 1), ('nine', 2), ('tanner', 1), ('another?', 1), (\"tann'd\", 1), ('while;', 1), ('decayer', 1), ('whoreson', 1), ('lien', 1), ('three-and-twenty', 1), ('whoreson,', 1), (\"fellow's\", 1), ('was?', 1), ('pestilence', 1), ('rogue!', 1), (\"pour'd\", 1), ('flagon', 1), ('skull,', 2), (\"yorick's\", 1), ('jester.', 1), ('[takes', 1), ('yorick!', 1), ('fancy.', 1), ('tunes.', 1), ('abhorred', 1), ('gorge', 1), ('rises', 1), ('hung', 1), ('lips', 1), (\"kiss'd\", 1), ('oft.', 1), ('gibes', 1), ('gambols?', 1), ('songs?', 1), ('flashes', 1), ('merriment', 1), ('roar?', 1), ('grinning?', 1), ('chap-', 1), (\"fall'n?\", 1), (\"lady's\", 1), ('chamber,', 1), ('paint', 1), ('inch', 1), ('thick,', 1), ('thing.', 1), ('alexander', 5), ('earth?', 1), ('smelt', 1), ('pah!', 1), ('[puts', 1), ('return,', 1), ('trace', 2), ('dust', 3), ('stopping', 1), ('bunghole?', 1), ('consider', 2), ('curiously,', 1), ('jot;', 1), ('enough,', 1), ('likelihood', 1), ('died,', 1), ('buried,', 1), ('returneth', 1), ('dust;', 1), ('earth;', 2), ('loam;', 1), ('loam', 1), ('(whereto', 1), ('converted)', 1), ('beer', 1), ('barrel?', 1), ('imperious', 1), ('caesar,', 1), ('clay,', 1), ('hole', 1), ('wall', 1), (\"winter's\", 1), ('flaw!', 1), ('aside!', 1), ('king-', 1), ('[priests', 1), ('with]', 1), ('coffin', 1), ('[in', 1), ('procession],', 1), ('courtiers.', 1), ('follow?', 1), ('maimed', 1), ('rites?', 1), ('betoken', 1), ('fordo', 1), ('[retires', 1), ('ceremony', 2), ('youth.', 1), ('obsequies', 1), (\"enlarg'd\", 1), ('warranty.', 1), ('doubtful;', 1), (\"o'ersways\", 1), ('order,', 1), ('unsanctified', 1), (\"lodg'd\", 1), ('trumpet.', 1), ('charitable', 1), ('shards,', 1), ('flints,', 1), ('pebbles', 1), ('thrown', 2), (\"allow'd\", 1), ('virgin', 1), ('crants,', 1), ('strewments,', 1), ('bringing', 1), ('profane', 1), ('requiem', 1), ('peace-parted', 1), ('souls.', 1), ('unpolluted', 1), ('violets', 1), ('spring!', 1), ('churlish', 1), ('priest,', 1), (\"minist'ring\", 1), ('howling.', 1), ('sweets', 1), ('sweet!', 1), ('[scatters', 1), ('flowers.]', 1), (\"hop'd\", 1), ('bride-bed', 1), (\"deck'd,\", 1), (\"strew'd\", 1), ('grave.', 2), ('treble', 2), ('ingenious', 1), (\"depriv'd\", 1), ('of!', 1), ('leaps', 1), ('pile', 1), (\"o'ertop\", 1), ('pelion', 1), ('skyish', 1), ('blue', 1), ('olympus.', 1), ('[comes', 1), ('forward]', 1), ('emphasis?', 1), ('conjures', 1), (\"wand'ring\", 1), ('wonder-wounded', 1), ('hearers?', 1), ('[leaps', 1), ('[grapples', 1), (\"pray'st\", 1), ('throat;', 1), ('splenitive', 1), ('dangerous,', 1), ('hand!', 1), ('thein', 1), ('asunder.', 1), ('quiet.', 1), ('[the', 2), ('attendants', 2), ('grave.]', 1), ('until', 1), ('eyelids', 1), ('wag.', 1), ('theme?', 1), ('forty', 1), ('brothers', 1), ('(with', 1), ('love)', 1), ('sum.', 1), ('forbear', 1), (\"thou't\", 1), (\"woo't\", 5), ('weep?', 1), ('fight?', 1), ('thyself?', 1), ('esill?', 1), ('crocodile?', 1), ('whine?', 1), ('outface', 1), ('leaping', 1), ('prate', 1), ('mountains,', 1), ('millions', 1), ('acres', 1), ('singeing', 1), ('zone,', 1), ('ossa', 1), ('wart!', 1), (\"thou'lt\", 1), ('rant', 1), ('thou.', 1), ('madness;', 1), ('anon,', 1), ('female', 1), ('dove', 1), ('couplets', 1), ('drooping.', 1), ('may,', 1), ('cat', 1), ('mew,', 1), ('dog', 1), ('day.', 1), ('laertes]', 1), ('strengthen', 1), (\"night's\", 1), ('push.-', 1), ('monument.', 1), ('see;', 1), ('proceeding', 1), ('circumstance?', 1), ('mutinies', 1), ('bilboes.', 1), ('rashly-', 1), ('rashness', 1), ('indiscretion', 1), ('plots', 2), ('pall;', 1), ('learn', 1), ('ends,', 1), ('rough-hew', 1), ('will-', 1), ('certain.', 1), ('cabin,', 1), ('sea-gown', 1), (\"scarf'd\", 1), ('dark', 1), (\"grop'd\", 1), (\"finger'd\", 1), ('packet,', 1), ('withdrew', 1), ('(my', 1), ('forgetting', 1), ('manners)', 1), ('unseal', 1), ('grand', 1), ('commission;', 3), ('found,', 1), ('knavery!),', 1), ('exact', 1), ('several', 1), ('sorts', 1), ('health,', 1), (\"england's\", 1), ('hoo!', 1), ('bugs', 1), ('goblins', 1), ('life-', 1), ('supervise,', 1), ('bated,', 1), ('axe,', 1), ('leisure.', 1), ('proceed?', 1), ('benetted', 1), ('villanies,', 1), ('brains,', 1), ('sat', 1), (\"devis'd\", 1), ('wrote', 1), ('fair.', 1), ('statists', 1), ('baseness', 1), ('write', 1), (\"labour'd\", 1), ('learning;', 1), (\"yeoman's\", 1), ('wrote?', 1), ('earnest', 1), ('conjuration', 1), ('tributary,', 1), ('flourish,', 1), ('peace', 2), ('wheaten', 1), ('garland', 1), ('comma', 1), (\"'tween\", 1), ('amities,', 1), ('such-like', 1), (\"as's\", 1), ('view', 1), ('contents,', 1), ('debatement', 1), ('further,', 1), ('less,', 2), ('shriving', 1), (\"allow'd.\", 1), (\"seal'd?\", 1), ('ordinant.', 1), ('signet', 1), ('purse,', 1), ('model', 1), ('seal;', 1), ('folded', 1), (\"subscrib'd\", 1), (\"gave't\", 1), ('impression,', 1), ('safely,', 1), ('changeling', 1), ('known.', 1), ('sea-fight;', 1), ('sequent', 1), ('employment!', 1), ('conscience;', 1), ('insinuation', 1), ('grow.', 1), ('incensed', 1), ('points', 1), ('mighty', 1), ('opposites.', 1), (\"thinks't\", 1), ('upon-', 1), (\"whor'd\", 1), ('mother;', 1), (\"popp'd\", 1), ('hopes;', 1), ('angle', 1), (\"coz'nage-\", 1), ('perfect', 1), ('quit', 2), ('arm?', 1), ('evil?', 1), ('short;', 1), ('interim', 1), (\"'one.'\", 1), ('sorry,', 1), ('portraiture', 1), ('his.', 1), ('favours.', 1), ('bravery', 1), (\"tow'ring\", 1), ('passion.', 1), ('here?', 2), ('osr.', 25), ('lordship', 4), ('horatio]', 2), ('waterfly?', 1), ('hamlet]', 3), ('gracious;', 1), ('fertile.', 1), ('beasts,', 1), ('crib', 1), ('chough;', 1), ('spacious', 1), ('possession', 1), ('dirt.', 1), ('leisure,', 1), ('diligence', 1), ('spirit.', 2), ('bonnet', 1), ('use.', 1), ('lordship,', 1), ('hot.', 1), ('cold;', 1), ('northerly.', 1), ('sultry', 1), ('complexion.', 1), ('exceedingly,', 1), ('sultry,', 1), (\"'twere-\", 1), ('how.', 1), ('bade', 1), ('matter-', 1), ('[hamlet', 1), ('hat.]', 1), ('newly', 1), ('laertes;', 1), ('differences,', 1), ('society', 1), ('showing.', 1), ('feelingly', 1), ('card', 1), ('calendar', 1), ('gentry;', 1), ('definement', 1), ('perdition', 1), ('though,', 1), ('inventorially', 1), ('dozy', 1), ('arithmetic', 1), ('yaw', 1), ('sail.', 1), ('verity', 1), ('extolment,', 1), ('article,', 1), ('infusion', 1), ('dearth', 1), ('rareness', 1), ('diction', 1), ('semblable', 1), ('mirror,', 1), ('umbrage,', 1), ('infallibly', 1), ('concernancy,', 1), ('wrap', 1), ('rawer', 1), ('hor', 1), ('tongue?', 1), ('really.', 1), ('nomination', 1), ('empty', 1), (\"all's\", 2), ('spent.', 1), ('ignorant-', 1), ('ignorant', 1), ('is-', 1), ('compare', 1), ('excellence;', 1), ('weapon;', 1), ('imputation', 1), ('meed', 1), ('unfellowed.', 1), ('weapon?', 1), ('dagger.', 1), ('weapons-', 1), (\"wager'd\", 1), ('six', 4), ('barbary', 2), ('horses;', 1), (\"impon'd,\", 2), ('poniards,', 1), ('assigns,', 2), ('girdle,', 1), ('hangers,', 1), ('carriages,', 3), ('fancy,', 1), ('responsive', 1), ('hilts,', 1), ('conceit.', 1), ('carriages?', 1), ('edified', 1), ('margent', 1), ('hangers.', 1), ('germane', 1), ('sides.', 2), ('hangers', 1), ('horses', 1), ('swords,', 1), ('liberal-conceited', 1), ('carriages:', 1), ('bet', 1), ('danish.', 1), ('passes', 1), ('exceed', 1), ('hits;', 1), ('nine,', 1), ('trial', 1), ('trial.', 1), ('hall.', 2), ('foils', 3), ('brought,', 1), ('win', 2), ('can;', 1), ('hits.', 1), ('redeliver', 1), ('lordship.', 1), ('yours,', 1), ('osric.]', 1), ('turn.', 1), ('lapwing', 1), ('shell', 1), ('dug', 1), ('bevy', 1), ('drossy', 1), ('dotes', 1), ('encounter-', 1), ('yesty', 1), ('collection,', 1), ('carries', 1), (\"fann'd\", 1), ('winnowed', 1), ('opinions;', 1), ('trial-the', 1), ('bubbles', 1), ('commended', 1), ('brings', 1), ('attend', 1), ('constant', 1), ('purposes;', 1), ('fitness', 1), ('speaks,', 1), ('ready;', 1), ('whensoever,', 1), ('provided', 1), ('able', 1), ('instructs', 1), ('lord.]', 1), ('wager,', 1), ('continual', 1), ('practice.', 1), ('odds.', 2), ('-', 1), ('foolery;', 1), ('gaingiving', 1), ('woman.', 1), ('dislike', 1), ('anything,', 1), ('forestall', 1), ('fit.', 1), ('whit,', 1), ('defy', 1), ('augury;', 1), ('sparrow.', 1), (\"come',\", 1), ('now;', 1), ('come:', 1), ('readiness', 1), ('leaves,', 1), ('betimes?', 1), ('gauntlets.', 1), ('flagons', 1), ('wine', 2), (\"laertes'\", 1), (\"hamlet's.]\", 1), ('pardon,', 1), ('wrong;', 1), (\"pardon't,\", 1), (\"punish'd\", 1), ('distraction.', 1), ('honour,', 1), ('exception', 1), ('roughly', 1), ('awake,', 1), (\"wrong'd\", 1), ('denies', 1), ('faction', 1), (\"wrong'd;\", 1), ('audience,', 1), ('disclaiming', 1), (\"purpos'd\", 1), ('evil', 1), ('generous', 1), ('arrow', 1), ('hurt', 1), ('satisfied', 1), ('case', 1), ('aloof,', 1), ('reconcilement', 1), ('elder', 1), ('masters', 1), (\"ungor'd.\", 1), (\"offer'd\", 1), ('embrace', 2), ('foils.', 1), ('foil,', 1), ('ignorance', 1), ('darkest', 1), ('bad.', 1), ('foils,', 1), ('osric.', 2), ('wager?', 1), ('odds', 1), ('weaker', 1), ('side.', 1), ('both;', 1), (\"better'd,\", 1), ('heavy;', 1), ('length?', 1), ('stoups', 1), ('hit,', 2), ('exchange,', 1), ('battlements', 1), ('ordnance', 2), ('cup', 1), ('union', 2), ('successive', 1), ('kings', 1), ('crown', 1), ('worn.', 1), ('cups;', 1), ('kettle', 1), ('cannoneer', 1), ('cannons', 1), (\"'now\", 1), ('begin.', 1), ('judges,', 1), ('judgment!', 1), ('palpable', 1), ('hit.', 2), ('drink.', 2), ('pearl', 1), ('thine;', 1), ('health.', 1), ('[drum;', 1), ('sound;', 1), ('[within].', 1), ('cup.', 2), ('bout', 1), ('first;', 1), ('(they', 1), ('play.)', 1), ('touch,', 1), ('touch;', 1), (\"confess't.\", 1), ('win.', 1), ('fat,', 1), ('scant', 1), ('breath.', 1), ('napkin,', 1), ('rub', 1), ('brows.', 1), ('carouses', 1), ('madam!', 1), ('drinks.', 1), (\"poison'd\", 1), ('cup;', 1), ('late.', 2), ('madam;', 1), ('face.', 1), (\"think't.\", 1), ('conscience.', 1), ('third,', 1), ('laertes!', 1), ('dally.', 1), ('afeard', 1), ('[laertes', 2), ('wounds', 2), ('scuffling,', 1), ('rapiers,', 1), ('[and', 1), ('laertes].', 1), ('them!', 1), ('bleed', 1), ('woodcock', 1), ('springe,', 1), ('treachery.', 1), ('sounds', 1), ('bleed.', 1), ('drink!', 2), (\"poison'd.\", 2), ('[dies.]', 1), ('villany!', 1), (\"lock'd.\", 1), ('treachery!', 1), ('falls.]', 1), ('medicine', 1), ('treacherous', 1), ('unbated', 1), (\"envenom'd.\", 1), ('rise', 1), (\"envenom'd\", 1), ('too?', 1), ('venom,', 1), ('work.', 1), ('treason!', 2), ('hurt.', 1), (\"murd'rous,\", 1), ('dane,', 1), ('potion!', 1), ('dies.', 3), (\"serv'd.\", 1), (\"temper'd\", 1), ('exchange', 1), ('forgiveness', 1), ('chance,', 1), ('mutes', 1), ('sergeant,', 1), ('arrest)', 1), (\"liv'st;\", 1), ('aright', 1), ('unsatisfied.', 1), ('liquor', 1), ('left.', 1), (\"th'art\", 1), ('go!', 1), (\"ha't.\", 1), ('wounded', 1), ('(things', 1), ('standing', 1), ('unknown)', 1), ('absent', 1), ('felicity', 1), ('pain,', 1), ('story.', 1), ('[march', 2), ('within.]', 2), ('conquest', 1), ('volley.', 1), (\"o'ercrows\", 1), ('lights', 1), ('dying', 1), ('occurrents,', 1), ('solicited-', 1), ('silence.', 1), ('cracks', 1), ('flights', 1), ('drum', 1), ('ambassadors,', 1), ('drum,', 1), ('colours,', 1), ('see?', 1), ('cease', 1), ('search.', 1), ('quarry', 1), ('havoc.', 1), ('cell', 1), ('princes', 1), ('bloodily', 1), ('ambassador.', 1), ('dismal;', 1), ('affairs', 1), ('bearing', 1), (\"fulfill'd\", 1), ('thanks?', 1), ('ability', 1), ('since,', 1), ('wars,', 1), (\"arriv'd,\", 1), ('placed', 1), ('view;', 1), ('unknowing', 1), ('about.', 1), ('carnal,', 1), ('acts;', 1), ('accidental', 1), ('judgments,', 1), ('casual', 1), ('slaughters;', 1), ('deaths', 1), ('cause;', 1), ('upshot,', 1), ('purposes', 1), ('mistook', 1), (\"inventors'\", 1), ('deliver.', 1), ('noblest', 1), ('audience.', 1), ('claim', 1), ('vantage', 1), ('invite', 1), ('also', 1), (\"perform'd,\", 1), ('minds', 1), ('errors', 1), ('happen.', 1), ('captains', 1), ('stage;', 1), ('likely,', 1), ('royally;', 1), (\"soldiers'\", 1), ('rites', 1), ('war', 1), ('loudly', 1), ('bodies.', 1), ('field', 1), ('shoot.', 1), ('marching;', 1), ('peal', 1)])\n",
            "[('the', 1083), ('and', 939), ('to', 727), ('of', 670), ('a', 540), ('i', 523), ('my', 519), ('you', 433), ('in', 420), ('ham.', 358)]\n"
          ]
        }
      ]
    }
  ]
}