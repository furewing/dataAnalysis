{
  "nbformat": 4,
  "nbformat_minor": 0,
  "metadata": {
    "colab": {
      "provenance": [],
      "authorship_tag": "ABX9TyPZyorJvsuGJiJPxl1koZoq",
      "include_colab_link": true
    },
    "kernelspec": {
      "name": "python3",
      "display_name": "Python 3"
    },
    "language_info": {
      "name": "python"
    }
  },
  "cells": [
    {
      "cell_type": "markdown",
      "metadata": {
        "id": "view-in-github",
        "colab_type": "text"
      },
      "source": [
        "<a href=\"https://colab.research.google.com/github/furewing/dataAnalysis/blob/main/7%EC%9D%BC%EC%B0%A8_%ED%8C%8C%EC%9D%B4%EC%8D%AC%EA%B8%B0%EC%B4%88_%ED%8C%8C%EC%9D%BC_%EC%9E%85%EC%B6%9C%EB%A0%A5.ipynb\" target=\"_parent\"><img src=\"https://colab.research.google.com/assets/colab-badge.svg\" alt=\"Open In Colab\"/></a>"
      ]
    },
    {
      "cell_type": "markdown",
      "source": [
        "# 6. 파일 입출력"
      ],
      "metadata": {
        "id": "JGkAgv2Dmdjn"
      }
    },
    {
      "cell_type": "markdown",
      "source": [
        "## 6-1.TXT"
      ],
      "metadata": {
        "id": "RUnoTo5gmhTC"
      }
    },
    {
      "cell_type": "markdown",
      "source": [
        "### 파일 입출력"
      ],
      "metadata": {
        "id": "AyPb_wdkmvCy"
      }
    },
    {
      "cell_type": "code",
      "execution_count": null,
      "metadata": {
        "id": "CdqR_qI5jwUz"
      },
      "outputs": [],
      "source": [
        "#파일 쓰기\n",
        "f = open(\"./새파일.txt\", 'w')\n",
        "for i in range(1,12):\n",
        "  data = \"%d 번째 줄입니다.\\n\" % i\n",
        "  f.write(data)\n",
        "f.close()"
      ]
    },
    {
      "cell_type": "code",
      "source": [
        "#파일 읽기(readline)\n",
        "f = open(\"./새파일.txt\", 'r')\n",
        "while True:\n",
        "  line = f.readline()\n",
        "  if not line:\n",
        "    break\n",
        "  print(line.strip()) # \\n 제거\n",
        "f.close()"
      ],
      "metadata": {
        "colab": {
          "base_uri": "https://localhost:8080/"
        },
        "id": "DiPauQEXnb7i",
        "outputId": "5595f3b1-bce9-4a36-c69f-6b77976ed5fc"
      },
      "execution_count": null,
      "outputs": [
        {
          "output_type": "stream",
          "name": "stdout",
          "text": [
            "1 번째 줄입니다.\n",
            "2 번째 줄입니다.\n",
            "3 번째 줄입니다.\n",
            "4 번째 줄입니다.\n",
            "5 번째 줄입니다.\n",
            "6 번째 줄입니다.\n",
            "7 번째 줄입니다.\n",
            "8 번째 줄입니다.\n",
            "9 번째 줄입니다.\n",
            "10 번째 줄입니다.\n",
            "11 번째 줄입니다.\n"
          ]
        }
      ]
    },
    {
      "cell_type": "code",
      "source": [
        "#파일 읽기(readlines)\n",
        "f = open(\"./새파일.txt\", 'r')\n",
        "lines = f.readlines()\n",
        "#print(lines) # -> ['1 번째 줄입니다.\\n', '2 번째 줄입니다.\\n', '3 번째 줄입니다.\\n', '4 번째 줄입니다.\\n', '5 번째 줄입니다.\\n', '6 번째 줄입니다.\\n', '7 번째 줄입니다.\\n', '8 번째 줄입니다.\\n', '9 번째 줄입니다.\\n', '10 번째 줄입니다.\\n', '11 번째 줄입니다.\\n']\n",
        "for line in lines:\n",
        "  print(line.strip())\n",
        "f.close()"
      ],
      "metadata": {
        "colab": {
          "base_uri": "https://localhost:8080/"
        },
        "id": "gVeuUSfpo5_g",
        "outputId": "e283cdf5-4058-4d36-9718-58130336b156"
      },
      "execution_count": null,
      "outputs": [
        {
          "output_type": "stream",
          "name": "stdout",
          "text": [
            "['1 번째 줄입니다.\\n', '2 번째 줄입니다.\\n', '3 번째 줄입니다.\\n', '4 번째 줄입니다.\\n', '5 번째 줄입니다.\\n', '6 번째 줄입니다.\\n', '7 번째 줄입니다.\\n', '8 번째 줄입니다.\\n', '9 번째 줄입니다.\\n', '10 번째 줄입니다.\\n', '11 번째 줄입니다.\\n']\n",
            "1 번째 줄입니다.\n",
            "2 번째 줄입니다.\n",
            "3 번째 줄입니다.\n",
            "4 번째 줄입니다.\n",
            "5 번째 줄입니다.\n",
            "6 번째 줄입니다.\n",
            "7 번째 줄입니다.\n",
            "8 번째 줄입니다.\n",
            "9 번째 줄입니다.\n",
            "10 번째 줄입니다.\n",
            "11 번째 줄입니다.\n"
          ]
        }
      ]
    },
    {
      "cell_type": "code",
      "source": [
        "#파일 읽기(read)\n",
        "f = open(\"./새파일.txt\", 'r')\n",
        "data = f.read()\n",
        "print(data)\n",
        "f.close()"
      ],
      "metadata": {
        "colab": {
          "base_uri": "https://localhost:8080/"
        },
        "id": "Kzmyl7MMpJ4i",
        "outputId": "a7ece4e0-d4b4-4113-850a-0d7e353fdc1e"
      },
      "execution_count": null,
      "outputs": [
        {
          "output_type": "stream",
          "name": "stdout",
          "text": [
            "1 번째 줄입니다.\n",
            "2 번째 줄입니다.\n",
            "3 번째 줄입니다.\n",
            "4 번째 줄입니다.\n",
            "5 번째 줄입니다.\n",
            "6 번째 줄입니다.\n",
            "7 번째 줄입니다.\n",
            "8 번째 줄입니다.\n",
            "9 번째 줄입니다.\n",
            "10 번째 줄입니다.\n",
            "11 번째 줄입니다.\n",
            "\n"
          ]
        }
      ]
    },
    {
      "cell_type": "markdown",
      "source": [
        "### with 문 사용하기\n",
        "- with 문\n",
        "- with문 블록 범위를 벗어나면 자동으로 파일 객체 닫기 처리가 됨\n"
      ],
      "metadata": {
        "id": "w3ltu6rrrYUm"
      }
    },
    {
      "cell_type": "code",
      "source": [
        "# f.close()를 사용하지 않아도 with문 블록 범위를 벗어나면 자동으로 파일 객체가 닫혀진다.\n",
        "with open(\"./test.txt\", 'w') as f:\n",
        "  f.write(\"사랑해요, 파이썬!\")"
      ],
      "metadata": {
        "id": "xLXDtiHorUk-"
      },
      "execution_count": null,
      "outputs": []
    },
    {
      "cell_type": "code",
      "source": [
        "#with 문 파일 쓰기\n",
        "with open(\"./test.txt\", 'w') as f:\n",
        "  for i in range(1,11):\n",
        "    data = \"%d 번째 줄입니다.\\n\" % i\n",
        "    f.write(data)"
      ],
      "metadata": {
        "id": "9FfS5P8NsAwF"
      },
      "execution_count": null,
      "outputs": []
    },
    {
      "cell_type": "code",
      "source": [
        "#with 문 파일 쓰기\n",
        "with open(\"./test.txt\", 'r+') as f:\n",
        "  data = f.read()\n",
        "  print(data)\n",
        "  data = data.replace(\"줄\", \"사람\")\n",
        "  print(data)\n",
        "  f.write(data)\n",
        "  print(\"end\")\n"
      ],
      "metadata": {
        "colab": {
          "base_uri": "https://localhost:8080/"
        },
        "id": "V-uzk51dsM18",
        "outputId": "39eeb70a-f86d-403d-d57c-2cacb652f267"
      },
      "execution_count": null,
      "outputs": [
        {
          "output_type": "stream",
          "name": "stdout",
          "text": [
            "1 번째 줄입니다.\n",
            "2 번째 줄입니다.\n",
            "3 번째 줄입니다.\n",
            "4 번째 줄입니다.\n",
            "5 번째 줄입니다.\n",
            "6 번째 줄입니다.\n",
            "7 번째 줄입니다.\n",
            "8 번째 줄입니다.\n",
            "9 번째 줄입니다.\n",
            "10 번째 줄입니다.\n",
            "\n",
            "1 번째 사람입니다.\n",
            "2 번째 사람입니다.\n",
            "3 번째 사람입니다.\n",
            "4 번째 사람입니다.\n",
            "5 번째 사람입니다.\n",
            "6 번째 사람입니다.\n",
            "7 번째 사람입니다.\n",
            "8 번째 사람입니다.\n",
            "9 번째 사람입니다.\n",
            "10 번째 사람입니다.\n",
            "\n",
            "end\n"
          ]
        }
      ]
    },
    {
      "cell_type": "markdown",
      "source": [
        "### os 모듈: 디렉터리 & 파일 관련 함수"
      ],
      "metadata": {
        "id": "wuCeulmdmut7"
      }
    },
    {
      "cell_type": "code",
      "source": [
        "import os\n",
        "\n",
        "os.chdir('/content')\n",
        "print(f\"현재위치: {os.getcwd()}\")\n",
        "print(f\"현재위치 파일/폴더 목록: {os.listdir()}\")\n"
      ],
      "metadata": {
        "colab": {
          "base_uri": "https://localhost:8080/"
        },
        "id": "dncpztt_ssJ4",
        "outputId": "c427bfb3-c316-444b-d245-87c9f4d0e4b8"
      },
      "execution_count": null,
      "outputs": [
        {
          "output_type": "stream",
          "name": "stdout",
          "text": [
            "현재위치: /content\n",
            "현재위치 파일/폴더 목록: ['.config', 'test.txt', '새파일.txt', 'sample_data']\n",
            "현재위치 파일/폴더 목록: ['.config', 'test.txt', '새파일.txt', 'sample_data']\n"
          ]
        }
      ]
    },
    {
      "cell_type": "code",
      "source": [
        "os.chdir('../')"
      ],
      "metadata": {
        "id": "Keplm4aCuIaO"
      },
      "execution_count": null,
      "outputs": []
    },
    {
      "cell_type": "markdown",
      "source": [
        "### os.remove() : 파일 삭제"
      ],
      "metadata": {
        "id": "4laiiZLQugJN"
      }
    },
    {
      "cell_type": "code",
      "source": [
        "import os\n",
        "\n",
        "file = \"./새파일.txt\"\n",
        "if os.path.isfile(file):\n",
        "  os.remove(file)\n",
        "  print(f\"'{file}' 파일이 삭제되었습니다.\")\n",
        "else:\n",
        "  print(f\"'{file}' 파일이 존재하지 않습니다.\")\n"
      ],
      "metadata": {
        "colab": {
          "base_uri": "https://localhost:8080/"
        },
        "id": "m8ja5s5_udUW",
        "outputId": "f6b956e7-0064-4daf-a71e-ebb7b44b7c61"
      },
      "execution_count": null,
      "outputs": [
        {
          "output_type": "stream",
          "name": "stdout",
          "text": [
            "./새파일.txt 파일이 존재하지 않습니다.\n"
          ]
        }
      ]
    },
    {
      "cell_type": "code",
      "source": [
        "# sample.txt 신규 생성하고, 생성한 파일에 1~100사이의 임의의 정수를 10개를 출력하세요.\n",
        "import random\n",
        "\n",
        "f = open('./sample.txt', 'w')\n",
        "mlist = random.sample(range(1,100), 10)\n",
        "f.write(str(mlist))\n",
        "f.close()"
      ],
      "metadata": {
        "id": "a-WanmvWv1zd"
      },
      "execution_count": null,
      "outputs": []
    },
    {
      "cell_type": "code",
      "source": [
        "# sample.txt 신규 생성하고, 생성한 파일에 1~100사이의 임의의 정수를 10개를 출력하세요.\n",
        "import random\n",
        "\n",
        "f = open('./sample.txt', 'w')\n",
        "for _ in range(10):\n",
        "  n = str(random.randint(1,100))\n",
        "  f.write(n+'\\n') # 문자열 사용 가능\n",
        "f.close()\n",
        "\n",
        "f = open('./sample.txt', 'r')\n",
        "print(f.read())\n",
        "f.close()"
      ],
      "metadata": {
        "colab": {
          "base_uri": "https://localhost:8080/"
        },
        "id": "sObdhMqYxM-l",
        "outputId": "b11cec33-59a4-48d4-b2f4-933b1f267d6f"
      },
      "execution_count": null,
      "outputs": [
        {
          "output_type": "stream",
          "name": "stdout",
          "text": [
            "83\n",
            "24\n",
            "36\n",
            "19\n",
            "23\n",
            "85\n",
            "36\n",
            "76\n",
            "31\n",
            "43\n",
            "\n"
          ]
        }
      ]
    },
    {
      "cell_type": "code",
      "source": [
        "#파일 읽기(readlines)\n",
        "f = open(\"./sample.txt\", 'r')\n",
        "data = [int(line) for line in f.readlines()]\n",
        "hap = sum(data)\n",
        "\n",
        "print(f'총합은 {hap}입니다.')\n",
        "print(f'평균은 {hap/len(data)}입니다.')\n",
        "f.close()"
      ],
      "metadata": {
        "colab": {
          "base_uri": "https://localhost:8080/"
        },
        "id": "Fqu-OwKAy-MY",
        "outputId": "d0b5c712-d139-47c9-f5de-349751f7b355"
      },
      "execution_count": null,
      "outputs": [
        {
          "output_type": "stream",
          "name": "stdout",
          "text": [
            "총합은 456입니다.\n",
            "평균은 45.6입니다.\n"
          ]
        }
      ]
    },
    {
      "cell_type": "code",
      "source": [
        "#파일 읽기(readlines)\n",
        "with open(\"./sample.txt\", 'r') as f:\n",
        "  data = [ int(line) for line in f.readlines() ]\n",
        "  hap = sum(data)\n",
        "  avg = hap / len(data)\n",
        "  content =f'{data}\\n의 총합은 {hap}입니다.\\n 평균은 {avg}입니다.'\n",
        "  print(content)\n",
        "\n",
        "with open(\"./result.txt\", 'w') as f:\n",
        "  f.write(content)"
      ],
      "metadata": {
        "colab": {
          "base_uri": "https://localhost:8080/"
        },
        "id": "FE1iBOE20MF3",
        "outputId": "b4759920-f00f-4bda-fd2c-967be7ea83e8"
      },
      "execution_count": null,
      "outputs": [
        {
          "output_type": "stream",
          "name": "stdout",
          "text": [
            "[83, 24, 36, 19, 23, 85, 36, 76, 31, 43]\n",
            "의 총합은 456입니다.\n",
            " 평균은 45.6입니다.\n"
          ]
        }
      ]
    },
    {
      "cell_type": "markdown",
      "source": [
        "### (article.txt)파일을 읽어 딕셔너리 key에 해당하는 단어를 value값으로 대체 하여 (result2.txt) 파일에 출력하세요."
      ],
      "metadata": {
        "id": "nuBpk4l-ribU"
      }
    },
    {
      "cell_type": "code",
      "source": [
        "dicText = {\n",
        "'13':'20',\n",
        "'토트넘':'맨체스터유나이티드',\n",
        "'해리 케인':'박지성',\n",
        "'손흥민':'이승우'\n",
        "}\n",
        "\n",
        "with open(\"./article.txt\", 'r') as f:\n",
        "  f.read()\n",
        "\n"
      ],
      "metadata": {
        "id": "-bNgVKnNrefM",
        "outputId": "714cfc20-ef1c-40a6-885e-526e2cca1568",
        "colab": {
          "base_uri": "https://localhost:8080/"
        }
      },
      "execution_count": 8,
      "outputs": [
        {
          "output_type": "stream",
          "name": "stdout",
          "text": [
            "〈(런던〈영국〉=연합뉴스) 사커봇 = 잉글랜드 프리미어리그 토트넘이 해리 케인의 결승골에 힘입어 레스터를 꺾었다. 토트넘은 13일(한국시간) 영국 런던 웸블리 스타디움에서 열린 2017-2018 잉글랜드 프로축구 프리미어리그 최종라운드 레스터와 홈 경기에서 5-4로 승리했다.\n",
            " \n",
            "  토트넘은 전반 4분 먼저 실점했다. 리야드 마레즈의 어시스트를 제이미 바디가 헤딩 슈팅으로 토트넘의 골문을 열었다. 3분 뒤 토트넘의 해리 케인이 동점골을 뽑아냈다. 9분 뒤 리야드 마레즈의 슈팅이 골문 안으로 들어가며 레스터는 다시 리드를 잡았다.(중략)\n",
            " \n",
            "  손흥민은 무사 시소코의 교체 선수로 그라운드를 밟았다. 토트넘은 남은 시간을 잘 막아내며 승점 3점을 추가했다. 손흥민은 교체 출전 기회를 얻었지만 공격 포인트를 기록하지 못했다. 토트넘은 이날 펼쳐진 경기에서 승리를 거두며 3경기 연속 무승의 부진을 끊었다. robot@yna.co.kr〉\n"
          ]
        }
      ]
    }
  ]
}