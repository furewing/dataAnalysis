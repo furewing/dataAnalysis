{
  "nbformat": 4,
  "nbformat_minor": 0,
  "metadata": {
    "colab": {
      "provenance": [],
      "toc_visible": true,
      "authorship_tag": "ABX9TyPzgr/K/Gzw8dejJlGZdvjp",
      "include_colab_link": true
    },
    "kernelspec": {
      "name": "python3",
      "display_name": "Python 3"
    },
    "language_info": {
      "name": "python"
    }
  },
  "cells": [
    {
      "cell_type": "markdown",
      "metadata": {
        "id": "view-in-github",
        "colab_type": "text"
      },
      "source": [
        "<a href=\"https://colab.research.google.com/github/furewing/dataAnalysis/blob/main/2%EC%9D%BC%EC%B0%A8_%ED%8C%8C%EC%9D%B4%EC%8D%AC%EA%B8%B0%EC%B4%88_%EB%AC%B8%EC%9E%90%EC%99%80_%EB%AC%B8%EC%9E%90%EC%97%B4.ipynb\" target=\"_parent\"><img src=\"https://colab.research.google.com/assets/colab-badge.svg\" alt=\"Open In Colab\"/></a>"
      ]
    },
    {
      "cell_type": "code",
      "execution_count": 3,
      "metadata": {
        "colab": {
          "base_uri": "https://localhost:8080/"
        },
        "id": "t84veK_DB6IN",
        "outputId": "943ac954-5d6a-4c95-fa42-a78aec1e0640"
      },
      "outputs": [
        {
          "output_type": "stream",
          "name": "stdout",
          "text": [
            "정수를 입력하세요(1~9): 7\n",
            "7 + 77 + 777 = 861\n"
          ]
        }
      ],
      "source": [
        "# 실습문제 숫자 입력 받아 계산하기\n",
        "a = input('정수를 입력하세요(1~9): ')\n",
        "a1 = int(a)\n",
        "a2 = int(a*2)\n",
        "a3 = int(a*3)\n",
        "sum1 = a1 + a2 + a3\n",
        "print(f'{a1} + {a2} + {a3} = {sum1}')"
      ]
    },
    {
      "cell_type": "code",
      "source": [
        "#문자열을 숫자로 인식하고 계산하는 함수\n",
        "eval('7 + 77 + 777')\n",
        "calc = f'{a} + {a*2} + {a*3}'\n",
        "print(f'{calc} = {eval(calc)}')"
      ],
      "metadata": {
        "id": "Y5wS9VfGI6_q"
      },
      "execution_count": null,
      "outputs": []
    },
    {
      "cell_type": "code",
      "source": [],
      "metadata": {
        "id": "-0xKmVPANTTZ"
      },
      "execution_count": null,
      "outputs": []
    },
    {
      "cell_type": "markdown",
      "source": [
        "# 1. 파이썬 자료형과 연산자"
      ],
      "metadata": {
        "id": "YQ40eh7JOoQc"
      }
    },
    {
      "cell_type": "markdown",
      "source": [
        "## 문자와 문자열"
      ],
      "metadata": {
        "id": "unG8K9UmI6CN"
      }
    },
    {
      "cell_type": "code",
      "source": [
        "#큰 따옴표(or 작은따옴표)로 표시\n",
        "a = '사과'\n",
        "print(a)\n",
        "a = \"사과\"\n",
        "print(a)\n",
        "a = \"Yes, I cant't.\"\n",
        "print(a)\n",
        "a = '\"사과가 정말 맛있지?\"라고 이야기 했습니다.'\n",
        "print(a)\n"
      ],
      "metadata": {
        "colab": {
          "base_uri": "https://localhost:8080/"
        },
        "id": "5-ld45oIPDY0",
        "outputId": "56217031-2bbe-4040-e3aa-a9d729c98699"
      },
      "execution_count": 6,
      "outputs": [
        {
          "output_type": "stream",
          "name": "stdout",
          "text": [
            "사과\n",
            "사과\n",
            "Yes, I cant't.\n",
            "\"사과가 정말 맛있지?\"라고 이야기 했습습니다.\n"
          ]
        }
      ]
    },
    {
      "cell_type": "code",
      "source": [
        "# 한 줄 이상 문자 -> 따옴표 3개 사용\n",
        "menu = ''' #맛 카페 메뉴판\n",
        "- 아메리카노 : 3000원\n",
        "- 카페라떼   : 4000원\n",
        "- 카페모카   : 4000원'''\n",
        "\n",
        "coffee = input(f'{a}\\n주문하실 메뉴를 골라주세요: ')\n",
        "print(f\"{'-'*30}\\n주문하신 메뉴는 '{coffee}'입니다.\")"
      ],
      "metadata": {
        "colab": {
          "base_uri": "https://localhost:8080/"
        },
        "id": "2VajriMlNG8a",
        "outputId": "5e81880f-5ba2-4748-c9a2-a66acdabdb95"
      },
      "execution_count": 21,
      "outputs": [
        {
          "output_type": "stream",
          "name": "stdout",
          "text": [
            " #맛 카페 메뉴판\n",
            "- 아메리카노 : 3000원\n",
            "- 카페라떼   : 4000원\n",
            "- 카페모카   : 4000원\n",
            "주문하실 메뉴를 골라주세요: 카페 라떼\n",
            "------------------------------\n",
            "주문하신 메뉴는 '카페 라떼'입니다.\n"
          ]
        }
      ]
    },
    {
      "cell_type": "code",
      "source": [
        "!pip install gTTS\n"
      ],
      "metadata": {
        "colab": {
          "base_uri": "https://localhost:8080/"
        },
        "id": "Fv8jv8GXVbo7",
        "outputId": "07f651d2-7c6f-43c0-c0dd-6fe8bc978639"
      },
      "execution_count": 18,
      "outputs": [
        {
          "output_type": "stream",
          "name": "stdout",
          "text": [
            "Collecting gTTS\n",
            "  Downloading gTTS-2.5.1-py3-none-any.whl (29 kB)\n",
            "Requirement already satisfied: requests<3,>=2.27 in /usr/local/lib/python3.10/dist-packages (from gTTS) (2.31.0)\n",
            "Requirement already satisfied: click<8.2,>=7.1 in /usr/local/lib/python3.10/dist-packages (from gTTS) (8.1.7)\n",
            "Requirement already satisfied: charset-normalizer<4,>=2 in /usr/local/lib/python3.10/dist-packages (from requests<3,>=2.27->gTTS) (3.3.2)\n",
            "Requirement already satisfied: idna<4,>=2.5 in /usr/local/lib/python3.10/dist-packages (from requests<3,>=2.27->gTTS) (3.6)\n",
            "Requirement already satisfied: urllib3<3,>=1.21.1 in /usr/local/lib/python3.10/dist-packages (from requests<3,>=2.27->gTTS) (2.0.7)\n",
            "Requirement already satisfied: certifi>=2017.4.17 in /usr/local/lib/python3.10/dist-packages (from requests<3,>=2.27->gTTS) (2024.2.2)\n",
            "Installing collected packages: gTTS\n",
            "Successfully installed gTTS-2.5.1\n"
          ]
        }
      ]
    },
    {
      "cell_type": "code",
      "source": [
        "# TTS는 텍스트를 음성으로 읽어주는 것\n",
        "from gtts import gTTS\n",
        "from IPython.display import Audio\n",
        "\n",
        "# eng_wav = gTTS('Hello World!')\n",
        "# eng_wav.save('eng.wav')\n",
        "#kor_wav = gTTS('안녕 세상아!', lang = 'ko')\n",
        "kor_wav = gTTS(menu, lang = 'ko') #-> 위의 카페 메뉴\n",
        "kor_wav.save('kor.wav')\n",
        "\n",
        "display(Audio('kor.wav', autoplay=True))"
      ],
      "metadata": {
        "colab": {
          "base_uri": "https://localhost:8080/",
          "height": 74
        },
        "id": "0GNY6cITSJiV",
        "outputId": "1a02efb7-62ba-4de6-9dc0-a862cd5178b5"
      },
      "execution_count": 22,
      "outputs": [
        {
          "output_type": "display_data",
          "data": {
            "text/plain": [
              "<IPython.lib.display.Audio object>"
            ],
            "text/html": [
              "\n",
              "                <audio  controls=\"controls\" autoplay=\"autoplay\">\n",
              "                    <source src=\"data:audio/x-wav;base64,//NExAASYKIoAHpGTCNACg0RcyFmW/Y1eCAIChAgQIECBGjRowMDAwMDAAAAAAAAAAAQ4cW4Pg+DgIBgoGAO/l3rf/oWD4Pg+aBAEAQDB8uJ31f//8EFHAjRnHgVyxme//NExAkR+KI0AMmGTLMCxHR5hazgvTi+goQRPxNIU75hg+IGDxcuAYUESqHlGC63OEhRL2FVrvZbD998A1zZBj3Ia0UT0O/Fv0Os1B8ASafQZ7////zkuSgC8jGuNgBA//NExBQV2rJ0AGhQuQjJE8gUl7it0eE4IFK9+RcYHlSLi4v+HYRjXLP4IFEGGTFPZApabvzenCU9poKJxTxW73FPaPzcfLHwMBEch9uMfAEVQNf///////687kdSzU29//NExA8V+wKYADhQudPufJZI9BsQ7qWxiQ4sZKKFxIhInDxA8RIYGhhhaB2yLR6TcVyUbdIowwUogt1Pkt7S6mt7lx6cKP0Gi9pabumk2o+Eq6shDoBC//////////jz//NExAoTopKsAAhMuf/+fxsQ9xHLZ95pmZe2eOJW8WS0WSNIJDIlAIFhY/kplyiO1Ct57OTwwxDHssnFk2d2utVl1Pzpnx8+hZhaeXP8IsPwui///////y/7WXdoG+p7//NExA4Vira0AAhSufH1KOZfnCENfY8wbTTZcsl1qR5jJyvkWVTKplRRdykT/c3UCknOuOSV9psvnkN1FGFeOTg77k9vG4RTiojcrAI2xDw6d8gpzVUv40MeX9Oi//Se//NExAoVKtK4AAiMuexr+lr7PqgQEuv61++S/2vvzbGD5AWYOc5NHSLV5n9c1lMSvNkjePpbZcW3qWk6k1Z+527rS/d57V/+7VeHNT0lO+KJaN1M+A2yqtx10ASACA1H//NExAgTYXKsAHmKlOuFQ2OKvfHI4yCGiglE5Dd36jr1mL7xJ+umhFfnlqiVfdRIhhI1WXl23mo70EwCFzhoS1qBoriUNeuHfbhoSgKzt/pw1qrcoZkAagFamC3hVEEi//NExA0VKVqsAMvQlFwofQQhmcgcEtgmaGp4Yai3gmabtHLolM4LolcthQClwLlsf76Ii1uuzqcDwJowgBBNvXZE1x/DfN/N8IOdgDVU79Trv9Bwhd84VBJQZ4Laatc6//NExAsR+Xa8AMPKlNFSa3kH4E9WGIuY+rjLWsYRSz4KFONGsI+qqVN63yxY+GXQMeUAxVUCLUFtTam0Lx2Q5YgVomLSn7lfX9bQEIgqOsiYqjApBdAaU0HTU1uogAi3//NExBYSKW68AIYOlDBTC/hNrRs6fQiDzFsrlY4agXn7nf+5aeKOVdo0CZUKPluZz9DWqSfJ0HDoZs/v7P+7Vd6oQuUibUqIeuZUmQx0gzlwDahDmfBXwrpI3Zm8d4XV//NExCASeWq0AMPKlJvH8ofztVN9Txf22L++tQfoZ5ACFqACPUYLZuhsxrF1EhZxjh0s////0KGGEyzo3Byb7InDQbC0HkcmHxmG1irhduJbjXYYsI0ms3QcqrYEPZW5//NExCkRYWaQAMvElFyHM1c5rq0a2a4/MaUrdKlEhhJSgnf//ylCsem6jScoqIjQ10MEhJN9Kgw4FoFlqCEiAxxZM05aNohkbS/ExsfazFZ0k78SrHLP8pv33mi1gkgg//NExDYRaQJ0AOPGcGYLg1ivXSVCblPFf////M1/XaBAKfmHiUyuIKDxlAW8kQmUCdISdniSjzccMnyi0lbWpvBc8//965k0z7zEGdN8YzueOg8BhQg321/7v/+HH0qo//NExEMSiQZ8ANvMcBqNKy//+/Sq1NofHwQ8Bx4KGg0T8yHQB87sDFe451rbZXEMo01lSKnOIuO6XbKfF/wl4W7k0YQPRgttJhJQMI5TyX6v//X6l+hwpbUYQzOclIoB//NExEsQqQaEANvMcGzwcLzCofaoPCGyvJ80K5apU3+E7DLpIdJSWl0v9z6lsGfmUznfgX2x1MQHTA3GvXsFkwSewnM9gt//8wNUhXtLNq0nQAgJDxOsRkQeFLnJbDwj//NExFsRoQ6AAOMMcIEhrmexG1erVeakZci6WdnvJOwZ9kc9m4+11vsVsGosg+H9pSCsEQo//u3////7/6lkTDxGiG2x62lBTB1NaLRACEmXgLEmmg4HSTSMMBH/ijY3//NExGcRMQqAAOPMcK5gYAGkX6qgCmL/qPpbvwxU3NxWnw3zGn3zdrTtTEN7ThiOUfmGIu0ZaD/w93j1xYX3Jp2oatzQXHzoTRg9KYwGiwe+gwCiRu+qdAs+NsFxJvdo//NExHUV2WaEAN4MlWHhCBMGjKCcqERQOI2C95xVIYrUpMKZFicQR0U4vxNfnfl17czP4U8j+hYvK/pxz7n8wEhouAUDE/Px3cWCHAkKjN059EvVO8eD+6nMla+OgYf///NExHAfaXqQAN6YlMSHA//8XUNLvB9RxLdNpX+EBc/R5WGjMawqzYMFDwadJCw0VyGAZtGU+042VJwJQIRyTEOEJ8aKU61TKMJ+dRrnMVO3MwwezlWJd9/MvjlFrd79//NExEUh4lKYANaUuFX+yy/uDKLb0PH3oCjRPHTwwGtgUGqDSLZwDg0cRwUDhAAgYpcyv//Tn5tiDv/+tmMZyNAnCLwOHC4fpRF1UEG0ppXVccAfBxS0CC4dSWnM0Xnk//NExBAWWXawAMYWlK6SgZ2EPodU0uKt8tyQ7r1zbgibOypPG5g7lXtPe/cg5nL++b+nX3yX3RPmRQi0i2nELef83WpM9aj7cUt1zuHl/7//95l5FjFKyqplBO4tstVl//NExAkTKXK0AMPKlFmByHBRx7fBIE7mRYSRb0W2fkZVNF4RreAU2tlEt7XbjvCzjwPxV43j6jMOC6iYZIOz5ca0aPuBqBKgWOW5H/6f+1VN/xUJ/NUdwxDm4bSJppKx//NExA8TkXKsAMPKlGdWuBNAvn6lLa65flrR2uHyxYoJKsNZpk20k3DcCP9wdcPPVFU2HSRaoRAtHSZpnrqapaq0RLDSf/0f+yVRWtWGXwM7cBWtopJczzpUo/OU4yU9//NExBMRqQaIAMsYcGUgHi+ZPdCewLoyS9VKYwGR8WgKkYvG5NrjX7b5zPrM7WuPZ7NfWnf13FnnaRF////LHlpMEw4EL6HZFiHBx3JZDHRQLQNlxgFND2ssVWGJaSN8//NExB8QeQZQANvecNqZzropisO1bzPFxmLbfx66/rr4+JZvCZouP5IqWhP/1//TS2EAMwNg2PEFGEfkHmVvq1NCWDS2qN5J/a+Z3jdySSQoKs1EFUjChJzHQWYJk+mu//NExDARmKJAANJMTIc9yCTRkmv2+jLfYtwHsQcknLdt7f0qpAM9lAPtA1iYqY52//PSJ1LaKDcF4uZEue7zAuWUKEIW8PeSIldERC93Qvun6J/7oiCEL6iF8QQgfY8m//NExDwSoY5YAMIGlEsv9OUIK5FY8Hyhc/r+mm7i35TORya1/OXtzP9V5Y4kSBiW0SJVVUpQICHPOiAHCgmj7KsFBQCjVuA2WUHZGJVpiU6eYWHHiv9u155bp68Snfb///NExEQRKOpcAMGGcF0ghE7gaY1FjNJ2kyWCXQdQYMFF03PT2M1bsvaQ0KgsaywcLuSlZjU80RsETXNKuWtJGv65i6lZnT9Oj/pVEEJh2GEHG1E3Hr0c3uU8+9W/LeEo//NExFIPELJEAMjGTMP7nl34ToUADhkcachmqXe5DWX+jvRNWOO0nXw+PlVp0o7OWVSw+6Prvb/rlGDgRtMkoR+VpmAjCNaxtvyuRjTpE+piXHcMwRUTyGXS+ZE4TgYp//NExGgQQIpAAVkYAAJcG64Kkgw2xHAb7QQxOwwBZZcUQdisXT/5bLiDE+tM1Nzaj/KaRmgxw2qdI+YHv+xfKJ8zQPF9Z4zMiUJ6pf/91IbIMn7Keiikmy1f/+9SmM0z//NExHog0xKIAZiIAXNG/M6ay6swfJWOsCGTg2RcQLiAFAYk5Rjx6UBaoxqkebMFAxBh8SRPhqNp7utZWWq+WrQDCVoYLyPrEVB5ZDjEIzUfSirRCQXq8b5nG9bm6LnY//NExEkcgXagAdrAAHJtw5HnT2NYUn8w/m+577vCn1N2qtPG7fd552/E///94WGhxiHD2X/pjE6SuBges+Bo41eLkSmaCwGTs4IYlRvgQipnyt4WUQXDqYkOycKhuFEy//NExCob4XqsAMZSlENXcu1crJ56PQJaoJ21qzZymmaGmViyJUKkAhiJiVtCfchfib4pRklcpLoolB2iwkRHBRG0cC8//7P5QPCoMHg+ZNIkfqWPX1ghf8iqoBudWPyo//NExA0V6XK0AMYWlCom0uCGXLywK7J2hT5zqkgY3TodGzzzxKTy6927kTzuT2GpV38Szc23HOR5PtDEzzZ9wv8cXWl7j9Wt2ifcYmlnv//6bcroRU9PSstI7gMVyHC3//NExAgR+WKwAMYKlbXm0fYPkpf9T0rRCc/OIpi3PWNukhLnSogEpzjJF1V9vzj+F/d2i/XP9bh7Enw8o0CK4ey9qtQ2jOJHI4sTDk2UtKMb01h0uGvsIauKBgoZB5FZ//NExBMRwW6MAMvElH+wWUqwgyOfKZmlVsVFCFHEX0mARpmQqPBZYGq6xbNa/6xqz5jOAqAlQytM9Wq3rrea4CYuqY4KCsaZMXDIYJGT1KxCALMPBHhj6PsxPn6lLIlK//NExB8SCWJUANvOlbErnKDFmfPYLckhbjnWU7audaz/bf+NdqzZQuC0HJ96JVv6WnHKOoDSqjAgwMZB0xs8zngzBxhCgDUtp8AGrUZ09EsofbLukHMFQwMBE1E1dRqC//NExCkR6Ko8AOMGTCWBjwvFEDgaALlICQqRHQ1liNa3FkxdvZq7rlkdrFUGRmbgwqex2wtiDTJdB0hlM3L69Lqky72/1J95R6Xhta2rC7ftS3F2benNoYzrrobWqB9v//NExDQOgFpAAVoQAOllxi99yJF7+pQGDhvNzgQHWDd1qP+4T2vY/ET9CVfsiE5E/9JmBjTLBo30vn/98rELY4Bkh9BVCvmb//+4R8wY1QK5/ObKp2///GtOMasFzq6k//NExE0gem6AAZp4AGqQxZ3sb////3pnfibp7Wy8b6TM2///////TGcfM8LV7S5raSLd/dh/o9TQZhsxUUEkCGQwGSGEUxfFfGiu1Y2XV8TcW0OLMrq7tPXNZhS75bIP//NExB4Q0VacAc9AAB4rZaB6wgmjB6qa5WKiwgBEILiq/K313PN3freSKjH/q6LVf+VqmXRQEHXq5m7oT1xRNcjyxKWVcoSWja6+befp/Ts452fNzhQ+VAOO1M3zQRhA//NExC0RKVKsAMMGlAAzjwImj+hf8TNIVPgic/////L///c8pd1GlnGJF8l6tDzReDh8arrbRHCW0yHlDM3rNMk8f3ciEFBMHeXURdIc1BaFj6zI2eXUHa8d/d+/4j80//NExDsSIWK4AMtSlL1bVY3fSy7///////6lxyfUPAhMqLAWNtuRQ9v1PbgWHtUhvP+Y15l5R5SfpIQbkwCS+xFGugF3PCEWIBoYYoE+KtS2Zmn0PqRSOvwftcqqqRlr//NExEUP4Va8AMrOlSqymuv333H1ZepPtDucML9P3D+DN5M/s+tVd7b1dugfTFkqUFRWRJwKNYIYgWUTO164O+/2HvPXRtWq8TWr///////9Cd0iHM5ynnqAgeDdtNIl//NExFgSgVK0AMPWlLZRn5mQ2YuDvr2rWMvtZbrdrj2AtR4YrVpuB1SBcrPFwSSyck6sqyatWHbutCrdXhBTGwVbgaS9ZcZUoaGkS2uDQJ+ShYpoWKq7QdsZev2DeZ9Z//NExGERoP6wAMvYcW+vxF1eTd57UbLe50t5/jhhp8LPbEY6w0GTpcLImE83c91/Lbr/cyKvtKoblsejAQaTKKUadli+1TzDSBYmlwAhqI2ZUQ+DMu2zaNDa+dJCqsQl//NExG0RwVq0AMvSlU2JQkAQAJ1s8PE6gmQIZIjA83K5RlLN/2vCvVd8klJwO3q3wZITRrl/1e2yE7jQGjWEUgXMqCmSZNLHyhvX/TlkTVV7p4lOcHUOjw5W0PdXxF7G//NExHkSAUqwAMpSlcmoalq4JXOqRcSIuajJr5j4ZQUbgGcWcpcgYkrYBhMHlhHE5KxLQliM2q6zZHy5R1OroDVOwgxcWnAbWLoEYvOeQyzzkdAbGNDKOjrjjv687Hpw//NExIQPgPawAMJYcKV2XGCT0aLzAFI34FEYIYuUTgjAFrs2OBvEEyMgurq7Y+eKvwnhytRWFWiSLIosS0vtHhFgJItfaNY/1oLBd3///1ialTAIRAQnOGn4wAHCV0ES//NExJkRoOqYANPYcWF1GFhnAoWBwsSlL0dnchyvk/tu5rC52igalFEfXk2FW9dTzt1dq8pLMVVLDiNiCb6kLS5C2nK357/9elUwxdzh5DMrGcx/OzJVQMs2ozcQDE4M//NExKUQ4OJ8ANsMcDBYtMYA4xyNjIwaHhC36rIWWkYcPo4zYdhQESMOOUmjcUC/JckCUNzMYVYb6jMfymSiB5RGKKJ8JwkpKgkhU2jN0DREvlpot3ZF1JfKZUgUDNMl//NExLQSkNpsAVxYANBbVV+g22YIMmkb7f///7qoLupjT//y4WGE1SqsDVSyZtSiO8yMlegEEzOjAcO085q4tRNevInNxIkaGg+iSJUsjsHeouFwcwmjcZ0cZAhyRnBX//NExLwg0nJkAZxoAAlSfIGTBUC5kOOIkI6DHwwOGLAJ4Mih6xBE063FAmKSLGQPYyBJl41OH1MzOqZGbtmRmXDJFStf//of/////1N3/////26DOyCaBswqiLXTkOTm//NExIshCyKgAZmIAQvALYoBTIIbkDIiLKNLCP8vJ7Za/FeUyetG90tHWJBAvEYuj4cLSwkh2mZEKZCCVJ4VYA+BVBzR/E0Nz4X0eITEkxAgb4fxNFJEByszSN0zFMyQ//NExFkgyvakAdloAS4bFwumBMM0S+Mgejmhq6k0LN///////spS6mVtrX//+6tW1alJui5xk9XKkB639GVF+YcC46UlQL/geApNQHPeFGzJ621jfreWJp7drjxmZ4pm//NExCgYuWasAMPYlHVxjHgrxVn4Qoh+J5SOjcskhtcH49NGDrC2X+ysuTD+uMsnb0JbZ6LoRI////91PzrdqCqnssFBU9ZSuPWYF48fDQa89oiRDgHenVC7kWnNHTEr//NExBgXAWaoAMsSlJKbqrftX/vM9tOZcsmTpQRHYcRUIJKGTSxuKxPIbRRBsdJSuRRSkz8h4XU5J+bBt5DGmiz////2d5RdH5IYbBcCgQDqlrlGUjCzqASlApiMBSJ4//NExA8SaVKcANMQlKvtMep31swBVmkT0z04/hWYrBTelrrbzR8dA2Rsu5ZV2qw2DU0kForMc1/DV9xeq5RxaL////W7//yNhlO4wDDjCgICwCMjngxMBp0wKI0NtJHP//NExBgSEP6IAOPMcCCcrO9LR4X489RnflntabfmanmVkUBYtnMum9Ger73JssiVN6mUUf6P/62f84tjelXKZFcwOUw6KABLZJkyQMfnsABvseiRC21HfHbrKlD9c/pM//NExCIRWT6cANJQcIcOKBBFVotuxklB45QiSKFsj2ko5FDRg4Pjv////0YYpT/DCrUtCqY4JN5lUjNnW/nQoG3fIB+xmusb9InUln8PWTN+7f0hjvcdQMNPO2aTv2pT//NExC8SiUKkANJYcI9jueq1rVXrN/aNZrKuE5XuyRN/////jsj/x9XcoQRnREOPKgImfynGQSoKUsE/ZL/F/TMekcOvPRhiyMxCIToZByRaR6qH+uIOkTOlJ/vK9b1Y//NExDcR+TaoANJScEetBUw2JUf////XSPYVa7/SxlSMpzhz2zIsXGhF9ohEIubrfya1JAn3FYBwAksDU9gePiRG8n4Hzi1KIKdP8fP9fHtrQJat/////////+lVqzIP//NExEIRemKoANIKuEfb+tWgmQRAN9BJhpiSZsl40pdsQiwgy/w6nqGUiq6WRGJxZKwfDwUSalEkpG+sDm2cnLxly5H2RIyUlt9bCKiweUOf////6w6JRmsdBFkmZzgB//NExE8SANqQANMMcAgxE1N+hwM8q+bC5QYDMiEKCVJFQwTdFuS5ophHIlQFyY0Ocm5mYZDJtmOqzkpHSOlFl22O6lM/aD06Tsyrvg0Hf/0KMFTTSw8xjqOVBDBBMGBC//NExFoSmS5cANvGcKYiBlovQwaPvF+W9YWK33QiJQuJQcMgJGKqRRaLiAre6fkLl1MHLhFC0Rvo+///7//01U+ErwSiIBylQW9cj1JpAGA6GG/7l33aYTzEvqApywSj//NExGIQSFpEAVsYAMYM4aF8HMfB2Bdfl9Ombifl8Mw9SU/NDBAwGEPDafNy8M47P6F0ES+UCXPuCsGZRHz/01vZ5mPQuOZFcosc//emnN30GrNTWxkPRFRq5p//6kE6//NExHMgCyp0AZloAApCpCgh03XnnSTMNRsqiAPUgJPvyLamEQiLX30Yozq86r7Q2pnO4wNGZU1+5KKCJjlVJfivQlwhxLwpayvcTvmbvrbz903veYMT7gV1CfZ1qNJv//NExEUZKXaMAdh4AFJvf/3alo0NlpjM/f6MNopVqqQ7oZ1j+g39zA4hZK1FggoAkxTnHAwcQUHBgsCkSiaYYiSkwFJ1KTFxFu6HRAYUATGHBiQ4BdACjXvI3PMhF6ce//NExDMd+XaUAN4YlCSsxib6Uc/GO81hhuvbz5/cb+mO5CUjBxkhhWrWHa9qL7Nx3lu/6sWVaMFmwORxccBB3+UF0k12M3O7IgGhh5zWsV/VHP7eP86XaBSkdUyuHuqL//NExA4ToXK0AMYKlC1TUdAMMidNQLcvdTvtamV1zvGYMVxzeO33kn/5j/+98T47EDVBqhMxjiBsWoN3HUGZDsrliYdKf+i25v+ySdFK/k0chncCQBzOVURrVcdDXDzh//NExBIVKmK0AMvEuHrVVC6KnEheJ9HfGzBMZ1c3xSs2RDl5GX9/ryxv3+vAr8U34Ft5Y4tRTwhqFaEKygRocrHart////u3//+lFLGNFE38bZyT8Ti4jDMlpGljRGH5//NExBASaW6oANPGlHlyYFoiyWOqnFF2pEFqqJidJi9tOlFq7ApZvHm3i2+jEDY87gvQc4gF4Y+ifvmvWbgrgC4l////b0qllSIJ4VA5V0wERKFR+molY5AyhI005SoZ//NExBkSWQ6MANvScDJGHDPiE5X0+3ptLzDIQa8Q81ls5b9yE/Wfz28TikRCZNh9lXFVis6zv///7On6MzWCkBBkTkZferXTKMeXUjXXChEtyPMQnfj6/7L6KUMmuWK2//NExCISoQqEAVtgAHT1nOuWWwTQld/RU93Y2a0tTc2+N0lw6jgaRnCRqMKVftv///6Ef/lVKqgP6LBwf+QHHeKUZhzALPLwmueuR+ZEFxUgzZLBVY8Jm4oghcc8A+Cv//NExCocymqkAZmIAIXPrKxE0R/D4xS5aD6BfsN/D5C+7JSLmZ0vsWiPGYLpNu6R7L7rIubx4LpZHMLh7+np2oIUC4SBv/1/6Df////1f5mBP//uRwwqIwV4ggnQ0jCL//NExAkT2RrIAY94AJk8Yke2IzaISwpRoqh8umQvB4JUfpholC1WeTxjP08Velhbk3a87zG553kDFKYpWkDD/e75+85piSKEy4EYpBs8k8DTfb0VwxE/VpI0JerOGmrc//NExAwSWQLEAc94AMqsNFYJCfCgHSWwsKIYXyvVxkH6dB7kyWzia7NW4W9x/nW43t8VpX49M6lrD0CIRpJNgwDYbLEXPf////0quxkuiEQ/RczZGohOVW8IAhUgRJbB//NExBURuQ7AAU94AZbaZTYXxNn+1osYzSBsOZDE2xw5X2K7vqlsVzvVN5rnfpa9rR5ZMCT4UmaAFcGyEZv1WBJhqqLNQ7InK4aVORJXT+uKNDaQ2rPRE0HML5vOqpFm//NExCEaWXK4AZjAALJdpSpSoCjftgkWHQgwL7w4W5Swga3OU9LfpKTWf8tVt2bNaxTyabt5278kv71qVRGW0udyxUsz97m8tZWsMq1allN4H08q/UrTxKKxkqFm2exa//NExAoSoWK4Adh4AbuTVbrizGBrifUqbo4zpQfNS+zBcpNhnTQYMrAzQneabxbG/f43jfvrPxv5rnWYNZrYtjfxbG/vWayZoy+a0vGqwiZ0oRkAIAJtxUB65VfqBJjE//NExBIQ0PacAMvGcKiXF+Q6DhdOTcrnJ83Mp0kCOLRpKqIBDggHMmOS+ekBm4uhuDmeJMT+RFpYq5v///pqVWFip5qKoBDiO2MQng6BFBgOufA14G2RxhP65mcoFz0i//NExCEQmNqIANPGcBolGxMbO7FhQOiBIFHJWyJICEiQBDGrGf0f///+oXCYUTXjdgT4JGJ3GqIkAw4smx2cTQKRFqudcoW4SOEWelY+7RHmXkBPkBEFBI2kSIxWbwgj//NExDEQuPKkAMvScTSVXJ74gijJ55/m/f6/MfhHHv4ksN4rjgRpF0cSuGon+LEqtJNtqPnMnlWaVZrayjtWVSwrj5RccQIFlgDji0gHULRKoSCkMrCRZd8qdm57+1ke//NExEESSVqwAMMSle69So9Scmnz1f2nYUp5Sj2J1jIKPIoBRpyqhy2n65ZKPpTub60uL6SJ+4WhuQRPJGFVEKF6yJiIVIDEJN3k7hd1Xv5c41DI90Bz///////+paks//NExEoR4V64AMLSlBhCOtMlohLhxLwAq5m063m8VHyhovzs/9n3u5SfqLyVmTx7GmAPggFqwJJawpMqMS6SAGtFiNMi7i/u9vt5O8Hq6bMqJawy9aC8cYSADEEk8YQT//NExFURSVK0AVhYAQXAQ5xeczQBVEzZx2nOMu6JMLK2n+wtrS17qiTdQyFmVqiRpJRoCbKNRFuSD3LWpWFDfSEbo9KhbsQWp9bOdxc61fcaMnv8f5//82Chg+WKnfrD//NExGIcGWKAAZt4AMaOHCRFtI3/7XX7//rylRxwWoJIxrDA5kNA4GkLSgNdZwbJuquxqhfeVoj17sl1Y3NysfQmNqgtcOLW8RwZVXGcJXN5OhR1s8NNi3CGIxleRcWp//NExEQiEeqUAZp4AB1IyOr3umyFtrymsyeuJr0eRL+E8fs8N5S38eHJK6n1qkbwKSX+8W/xbefuIkwBBURE1vHMpOHaUtY93uFGA+su/jjS1ZpwiWxW+kJJEQ16vqVq//NExA4SqVKoAdlIAMufdtstzn/b/d/87X7vPP/b7vTMaGWQUA0BkhDdKtXav6+a3SIgRsEEcUnBHDUcGxXCQoVwEVf//////Hr7BV4SamipkRJSJSsWaxeme+uUZmfo//NExBYR2VKkAMtYlL0Xr1aD2alk4/D8HCiJqDJYpiYZm7H6x+sZAnNaQ9TflZeXL3JCJZCCjV//////+ZGVynTB4SjmTPQHiniBjI8VCL6Ugo2yNSduHLyvv/+zWtWp//NExCERqUKYAMmQcLJNUIQRCoDgsxQsSKqKm5JqlHMLHM2wqqmqpIqAi3/X////yv9aa0FlTKvChgcmGIv9E6aFP7OgKOElb5nK3zP2s/rF8chyHoKgsHqrMXDNdRAs//NExC0Q2QpkAMlQcHFhKmoKlXWXeQKuUDXtlflf97f3fpJVbEZQhHCdpiAOVQQwcmYs1hYsviuY03Mbmp5Hhy9nN35nz92zcqLSJA1UiCbQA9EUhpRYysFXSKREy6SF//NExDwSiNJEANmMcBsWr/r2C9PaLLWiW//0KjCgYwWsPAHRYHDgkQA7JWSvrlA26LC/ZuYU+tTvMO49NmdkyR6mlQ4avnH3KJjhWfRtW4ptrWt2tGz2f5aV9FU1kHgC//NExEQPyKJAAVsQAC+g7KkzredypAoFDv5XTpaF3GyDjoFwBYcDYMABqnwxINcrCfwT2BgwBwQDdL5MIIIQ9AOME/ClBkP7u6kByRcZPFA3Mf6C3TspMnBzCLkWNSc///NExFciAxZkAZiYAfTJ+p65ZIYIUFyFQWMsqMP/++ru5cUbvTTQZaSCm//9TWdNNlK9RfLaJUJspkKRiGZiCFgImjRIWUIIBkS4rHgjvNso0iSwUAvcD0KYQvEI0Xp4//NExCISGZ6gAcZAABl3MT9bvzE/zVQnz/13GrxX8T13Pcckhk+UTbpq/Un9Ep63urchalOQATQsx64RoOEKyzizBleKAgIWmSx22nSU5KBQpEIBUJFTSKREiQsxlNmT//NExCwSmQaYAHpScEr98rnCb81jDyFY7goDZ48sUe9qxrWCst/f2zom4rWGXLN71YVDE5IfbyXtweWkOdnDjTc6sjnXJhUb05L7LHQ98xrgGgARA/Qgdu8xb0lfMrZd//NExDQSmPqoAMPQcLigogRBCt78u+HyAgaOMHw8K////OUKyesLAkoVW2sASPBg845D9NzZJGKFxLv6P9KRyfxdvHavRqwl1ykKQIcuLX1TX7MZ7M7lEuFGFEOVEf/7//NExDwSMWawAMPElM1nUZA+JBVT////t6LNPQ4AXIGrIuwKjeBrS5GpTBcF5SMGM2GlaFGX3VaaYZap8zFEc5kq2XGc63jPt+t9mLRhQCsDI0+/+v8Mp5VGFEGGu/////NExEYR6W6kAMvGlP9VdEZ0OkkVcOd1YYpFbohNZkNHN+dHWBDgY6P65B+P8sU9OTMwEYObFlS0OFSpUapBcDiQahQac7+kikJlv////ap3TAwgHqRg4Ob+OBwGCmuM//NExFEQQPqMAMsGcAhFHzCwG2wmulwPR4KrYLKipWHG5Tm8ZRXm7FAP5Cj6RTu6mPWBs4JwVBjXdTZnp1f///76Vbg6mN1KOn0okS1lt0lVM1NzPHLUnCoVj8l6AXLm//NExGMRUQaAANsGcLpUQlfKzvRvmWh7xuIIjyB7tmfd9uV5T+OncEMUPb47Pt9Q8V/Yv8f5FZocTMIaADbrlQoVcHV2pFVEu9AAlHBgVLCWgx+NOgxR62XLwIiQTAEj//NExHARkPKUAMvMcYnJuh+Zhm/Ovz51sdLzzfCJy8OdYeYJva/O86VOdqW+6pHy00wOG1VjW6SKs1FBwNo4AtenUduEIIQ9M1MI9sjDmPpG5fDWe5zoLc2uXNja5chm//NExHwSAPaYAM4McdaMwcDSKVjTjxdAbEaFWuU3////65SShBc2OmXzDpKTJiQcBLkZo+9yVKtanbV3aHkT7ixokEyeVRXCa5WBx58iRSm973pSXc5rWiwVEpp7wmZS//NExIcSQPKYAM4GcJjrW////e0/FbylYPDM2NYiccYFq/WFIoTSzQmG6AyUWVRXGtlkc2k1AQqiUS7P4d+/y5956e0267Uq5Wlo9+U4Is/ZR3hFLv//+0pCrQqwtLqa//NExJERwHqYAM4wSCoiagUvPUt/DCCf8ww0KjH8NaZoLCvWzBhRKsGMB3FhL8CdRr6E9aqy+hovua//tYLJ1pQtXPnv///WIA2HEhskTof1VayHo3SOphIRUCXqlORI//NExJ0SKSaUANYEcMiB4rFAdu9SdI7QEoQ4kRBgl4N0VxCodHQ0AG1/q/xOIpgbal1t7xYKnf///yA5blEnJSrq0SkySvRZsQnnZVVHnKeglqXHOcJuzW1HyJBq40yN//NExKcRSH6UAM4eSIupvUKZFC+y/K0NQDwOOdenHVcUWKBcwGxxoXOpDmTDgLHn/NWf/1LLoVTSSMOFRc1VpVbwkaFIIkDMWCXMShVikw1KA+MDsiQnCAaXqoFK2aLo//NExLQQWG6UAM5eKFRFfEVseTc243+YoqL7aYvX2KDppAswPCU6cHAHUARhb7JF4///ctDlc9oVUxMNlTZgAwZWMzBTZAkoJjFQhZhQViwCHAKXwNAWmitRBQGliEgX//NExMUUCHaIANZwSORXwtOFLuYm51d0LMgpBWy6lsr+udkO/PY/DWnGyPkN16Y3yJUYdXTRKx7Wf/YNZQp9zIuk0YEMZHDC1gHSRfZxmvF1NQG0CqJM+L8EOAIghEot//NExMcTEI6EANYeTByeuHXusgNhWBXeKiqyRLgqNFF1MAR7QoM3bHTv//+entUMNzDpAz8fBwiYyHIczDgtORtwBgIJm2gsiQACOTEQQGlmsC5oxQpUSn0mhWPTZcmW//NExM0V2WJwANyGlBN015yzNaFEUfezoQU2KOOhP19///+ZMORTPbYzoWHiOHWHtZqRwwxSIqYyevQjsbSMcGhq8upPhqBSICa4cMSKmDRW4MkQwYJBbOjoH/0V+1N3//NExMgQ+HJoANvYSPqp/v/Uz1oxo/NgiSbNMLDHvcZs0qyjmMWWmQ0FURmS3IlLu4tFpww7aNo65MoKUADd6SQ4QY8FwMIQMdAYuxBIAsFyTQ6aalT4xIs5fKrdo7zi//NExNcR8HJEANpYST546T9/cTWVa9pKH0gg4OTGL9nlNKuZZZAmBMEYCAgIFAwgSZBkZCCtKd0sP5VLOqpkKaQrZVG1jmeoDIubQQyyvDlJn+9tueRfX3OoUe/enpfO//NExOIQqKYwANpGTL+YT2p5rP/c1l3rbfy/mioGas61alUFLM+IaYk3GUe/Ox4dOaKOrMl8WUg+ShrwP5txMzKs2dEq3hMhSYcJ+zIo52h7AtPCngrOveX/YGMqt3YO//NExPIVsRogANmGcFKz7pUjfFPdiyJp/mj7iPje7KoGU/qapanJlYts1gKyoyh5sZVLuqFcFHcEf4PStmQ4cqaWLIUhFmWnmCaI+kPCQ056E3lF81IP/9u3jkzZsXe7//NExO4V8RoQAMDGcYbE/9nqfLz3b07TCvszVQZp1LrvVnSwcrxuOwWGEOmYImUzDCZj6aBIcdDMiUUssU2uQIMmUU1EVAcjpxtfyWFVBaBu+O7/g0Q/7Ibq4Bcx7vdf//NExOkVUUoMAJmGlV/+19/f797z7PfCfTAGa9lKUtSKC03C14D9h55DUAl6a0htEwgSmU7GibrcXEEmRLQVu4eUxIxGJIFoOZKQsIgfarV++Jkeie7GpK4Yrv/9zIi1//NExOYTiW4QAJjGlZJHOvAXMZ5fa1lj7ckY+bcGaoUdb7OmcktkZHIPOQXul0dGDmBA91scxSuIkzc45qkVAQgdyiX6qMwHRnpJzqaiiMKaYJJeBVKZNixxg8ihDGh2//NExOoUOUYMAJjGcbomLQocWsBxqw6dL5JKBmle2zJtRc75rXuJ/+jIR0+1ewmyz3nX1QzUrVSp4ghc1MJqEBDZTcTif/gcO8l3ISISUC4Oc7Wf2hNuJXPgUGqcY4b+//NExOwVeYIMAJjGla5PLJfnP0x/das/1f6ah5UKRVVOqteyCzYt6z42yLuJdTEOKBm6SaYUMFN+RERtyThLap5T8NQEaVMmbLdV5vmdXdXbX3/eajW6vIVo8k9xgUhc//NExOkUKaYMAJiGlNa47/Ntl1SH6bf2rwQca6UErt/o0o2KCqfoL1L0G1OXPNiSavNaKi+xj3dQ7SkyMTGSgm+k7lmCMqsCho+EehIQJOdRZei/22YeL3fdeB/0/b+2//NExOsVGY4MAJmGleaxK/Xz+TWnd9fqWn/mtSIGaVRdVS9dA3Ut2pucJmhJXVzZTAVciHhSCr46nCyBswjr7kcoIllI7OZnmdHIsTDzO9ERjuzupVNWr0fLO7WZu69///NExOkWgbYIAKDMlU2dizJyF3XJd1fXYzJBH8AJXax5BlGd01p7ruqcpbobsZ4pDJCt9XpeY9d6lmjLbO6teZjbPbd3QLiqTYUCJEDEAC4DkhWeW84TIlg5UjQgNuZF//NExOIS6SIQAJjGcZbXDc29dTi29bJsR0rQVQZrZBVbVIIuiwQJHIXz+oT0qjuHjMxU3ymaZqIBjWoZzV0OIGZeGD0MtJcqVN9XTBCV2omO5GRKm+bvtFzhit87uhv5//NExOkVut4MAJjEuevq9++Q9udl9BOzTPX/fioKRVO10HW6VGfWmqMfLK2Mc2Dcp1lWc1sqVEhB+YSKDJ2jtd6mii2x5BLhHsiocYmWE+Qn8gQInInRAQdCT8lVfN30//NExOUTcSYQAJjMcJoU+JlNzR++pJc3e5TV+kVNCsP6dv/NSpesBGu8nQZLupqkp+K3UrSOHc+LnATuMHcEwl4jVoJtVbktOFUDB2Au5xLTtjh9+c7t3uze5z7fIPk9//NExOoUyZIMAJjGlT0u7Ftzds/gOxb+2ev/33s/30fmCqWrRZ09kHRSLKruTq1o7djUaC53INhEvc2PhXly8jwgaspGR1stLyLSyQgQLhg2lpQmdW2gWQlVCkU41x5J//NExOkYKv4IAKGGuKxjkjUYGJnHHGMo3DoGabbqd6DFRkJpmVyDKSw2VGrCOkCpot3XP9O2VLwVfprbIgCamdt9eKbHZ6a6lrMdibXWM5eIrc5rf+Xo8KXOfq9Rr3Xe//NExNsSOKIQAJjGTVcn2ol+86pde13WuziQCtKD1Opl6mT0IjcKt5BuSCBhbBTdlU/ME9XId0Rz/Bw3N4ZAkEpohHSwUGyaOjMFoDAkOyYZrq87r2ih9hmv++v7Bqic//NExOUS8X4QAJjGlPyauJG4cJb//kA5rW4lf8kGaQX6el1d1/NZnbderwPaO2beQz2vMSagxYfd0DNlBYIyPZQDBBUSz5dlyIjhCgYvWALmpiELdh5zRjtzNS8uV3dW//NExOwVAYYMAJjMla1r5mbzMcalvpS//Sf3XInecQZpbUFoMzdPYKgUO9MKZGhWE3BIoWKmg5DtTLYDejuaXK7i7CyWB86PR3pfHPGpDkxBYKl3hrR1xrlcrwejcdcR//NExOsVOXoMAJjGla309W/q8sHv97/UnXq/dZ8ohtU3HPKWNOJO28dWO4Z57rcyjAfgrCOw7E6i55J4pU46h81yw20a20uJ3iRfubvS+oMle6jikqHtej0O+5iZFU6S//NExOkVMX4MAJmGlVUq8vOp3oztTarortnap6ortqz2I06fpe7crTyJv0a4REIBBTqLmjwFdl1Lj2gpNnDj62ErlcBYZiWvjK5/iu7d7rz16eWLJpZWb7Jj6Yu7J7DT//NExOcU0QYMAJjGcbJ7HwqDxhRw29pwmXeIwODhOBIPgT5w+SBFrLlB404LFDkZKDUoU+YftW2xq3EKalMA8o1af5yveu37e/5Wu8hgPQ9AWIcwYJKk+h5kEWpJxqHk//NExOYYaxoYAMIEvBhI8sa5VvLj6a130/5t7IqH+vnuf//EO2XZCPcS6d+DU49tn2HRJ7AIWFmIbZ7IH1DaZD6CKvU2Q91l5HiCGGKstP4YhBYWA9uMMm9Jk2gulA9B//NExNcYEP4sANMMcGIRCyjR6HRVE0B29n/bp7gVoFg3lZzGNm7PIn/rMZ+Up49Z9/83/x/jX/pT4+Mw7R7/FMMDzOsSPMQY1pokCJiWO1RIFOiEZznQ9RwJHlWCDHfv//NExMkfSxpIANIMvNXsisiSUcD/J2+V86QLAxoeh5f3xbzj3vMBfOcuaMP9NkoDAQBb1MoFYzqxkHIHQaD2PlYJB1/2/pzKYxnmY6mPVgIljAD8s/4tdZHr/X195+s7//NExJ4fwx54AGhevcfFPvcS+t6rDx9V3b/UrE5xoLjAbGTdHdoUDbY8YtubHIr3SmbycNcWRMri2lWmK1P9vQmVpWl89GE4Sflsgk1OYxTcOdVm+cysOllGWqy/F6NA//NExHIhGyaIAChevOV0cR/FuFxOsmBkJ8UgecKLDooYCzLP3dIFBSX4rAz4rgxcDi3StxJBBbmEJMIImgjhOcumRfm8LLL/Kenpndn8nZYtU/OEWd8eVmsGz/ZXMtba//NExEAhqx6YAEDYvTePLDXFK5OV10DcwnJ8WWCe6qpFzMS6HiTJ0JQvV/rbVTQrkglFRYDY5JRgZn4xOVUQjEQd1J+tErdHcvjjxDaAaDE3KztVBB0JO8MNQi2KxhBN//NExAwS4YKwABjElAMDA2cnF+CJqR6V0MvtRbq536vtPdlee+n77tpUcSBQERa6+pnulgqAoiJCgG4iLA0tipVxoQkY86wJhofDQFVqfEgABgCIgF4lBYHKGQc59q8n//NExBMVOYaoAHvGlG7cgqCwJ1MDEVnOw6I58oXRHHWh/ZWxxkzrWafFue0eGlEBtMwZhjCkTlsQFSX8vqo5sQTBhCAwbe3V1s//l0H+KtXGZG1SBK3cQjxppSHA7mQl//NExBEWSWq0AMYMlI1MVSzRMSUvUivUsryXjCIm5KXdNKWQbzpoBl+spz9Z2/xMvyZmUXrHIXWE9kQM/T/8dv/yCHLTaTCCz6P/n1f9R80CQsKEBlX9QSK/gG1tZmrb//NExAoQkV68AMPKlNCucPUpQPUwFUhvu431CE2i2iHFfqafeG5y+I3/t+j7tm0fGC2JiuX9RWg9nEQWIf///5GlTxd6VabBTM4ysJ/K3PeAVLN24tEV7HYGaFc0TPb8//NExBoScRKUANPScGl1XDeHC7iPiwZqcJt4er2Q7+7fR/9VBXTl+s7pE7kWhUBCpaJRMBAKI1L////HrX/S/GQYxz0NlBlwvKYgOLOnZaRC7US41rQHwZxuFd2lDq9G//NExCMRMRaQANsQcAf5qIQXjKNfGH24snJlcm7E1XmS4cu0m/87Pf6P/ta7/kVuLwgYANd8jUARd9QIgkDGsMDSYJtTgrzCAKDK9irHzCneb6shdcMx0MZuAlgjmCYs//NExDERMQqIANsGcDqSByw4JkB23/K0EPO//iE8N/+hZCucUKDTN02gTUCNxTAkvzDwEKkjlYdojLAVEZ69FwOg0GwVOsEMFQ0th0QnVPiIPHbFHvVrckVcLJeoU6v7//NExD8R2F58AN4YKMAsfSPX8UCtSqIxgCyNkdSP/////////5v4x/fe/8RdtER4yM/vfdxCEQ+5cZzwdOye7Gft9jwQACGw5OSdR+5O8uoITsOZOggQhl3KwRAwAIEE//NExEoVcxqkAGhMvTlEPz9iGgg9voIgIu8Jx182XavCcfwVH//mcC5f5eRIxmMiNzMjBv6fx9w/mmV1BkYYyjV6gcLsD1uXMaPmjHeE4tkd1NZGHu1Qq9pfsU24EJ7A//NExEchKx6wAEBevH9lJI+VEyPUMd6rp4bg5afVYYdHrlBXUNkswM0ZQqNVQFbFJk1qdqcGiAdqsisbW7U76OsSPI7hEyptMcdF65wiQpsx7KBzTOJAfkYc5+v/5jMk//NExBUSksrEAAhEud/0aQWY0MKDIVBUMBGlKQ4CyTKj7psZ+jylmq2YylT9jOn5jUNQxjS3qoCQCFRESYad0V+qVfmEXzbhA079zzY1jwKpWXjZPcpmzNQBMA76xC2F//NExB0UoWqkAMsElICQG9T0uspepBzvVmzVptk1KpWTfRLEdSgpWd3t65RIUSCAgkePCV0Gvxwd89/2OLo6kC/+ldRm0bXwQdL2wA5GrKiUEUGdao7aWNmlE1DqcnIM//NExB0Yom6sAMvKuPp1OBLq6Js8bUPyHq7PF8O399/53/f+lfim80fRYLGxMNAMQYOAguogIj0D4gw0eKHD490Iv/+3/////9Z2E53EACa//pXl+HTjETwtwERN36oV//NExA0ViWKwAM4MlDxY29BAgBgXCYFlRaozh1q9VaDrYLAJm2a8XnfwpO7p+fq7j9e1rKS332jf4SwEBUTSYThACXzyVFIBWECyJukTDP///+uYUdSq19Md2ctxgkaO//NExAkSSV6sAMvGlMnwNIF5eKPJrOWh9l6qvIK3V6Ewj4HrPq6/Ez27Xh4+YVvm3oZjinscgCUHE7l4QCWghXKWzHgJKPKf////ysrV/LhyNE6DtDoAPObtKdGQgr9s//NExBIR4TqUANvQcKYRjRoQTkF6fB9754RbHsRVdsGoEtdItCVfbxDWGGxiGvA22DD9Ax40dqb42r1uX///92v+leU6dhyTylhK33GnORLIMgFHk2EAQyCdxL1OxD4b//NExB0SgTKYANvMcCGOyZWNhCoWGxK9g3ZlNA38pHwMdgTe+eATWETjjlfq8E/ZMwJktW8n////6vvRs+ppz8UeCJ9hARmSfKAYoixyJj05zBvnktkJC79umhGGeUCe//NExCYSAUakANYMcMF7y87E94pPsj2XnlD8/ecg7q/fPzMdFPyhinE7P///+mn8IJG0Mg0WBREb5HwIMg7QqQSpegktpA9KnbOc2ArN5Tr6VxINS3uJF6iCwXIxbJ0Q//NExDESWUasANYGcF3qwsULgJz1c6IQgwhDEA8fEr/////QfSrWcQA5zZvaUUT25SDR4TcqAqbVOsa/YRmWawkoTDlZBE01GVeFPRcSbK+KUPlJYadYPdNUoYdQTSCw//NExDoRST60AMvKcLmQCz////NCqX1VVf1Kzevb+wg2JLdtAAtz+QUHDTyj3F95DjxdhOGkFJh01b0R+1T/wv5P/J6LjWorQse0Eeg/GvY+NbAXg1v///9qo557/o9T//NExEcR+V6wAMvKlFZrDXKQzWkQtbOWCsiD2aNyMnCEmnbkp3FvEhLFtX2g+DFzkgqpa18cKGJFuaQxiilvVu1mpWldnGpcaqVO5Y9sgqoGiN//////RVZi2oIAJkqF//NExFISaQqcANvScLwQMSDcOPzSmumIgbWjPVFu4kkHJgn85eJB8kWtVahxNNq8Vala0unL2glqV/BAieSBk6JLiPRZcyvX//9H/YkablADZDE8miUTJBaYLAE46ZiE//NExFsSOPaMAOPScAkUtRweylO70d54xd21tq38N0+9fV8m3jvhbymQgIZHiOEDBn/1dn//1jksmmTnj02GW/MBEj4t0HWJIImEhhfctYYECmGBa/SNMKkcVpOBFxuV//NExGUQqPKIAOPQcK4lpNq16atZSsVuuylpCgE669T52r6slrFSv//1A10KZUHEpkQgcizCz0YeNNXdOfaarcyarLaLHsptU1/Gls5Z4qVDSbPsndLfRlIOAlb//9Cp//NExHUQWOJ8ANsEcBCanf/0Sqix5gw88RHmAdt2+1tVE4M47gYcYh81zQ2W4NH3NNSEiHcmYMXBcZZEojwK8amxcJwLUhtQY3DmCyAOlGoQFbvi2DjIoZlwbZuXjY0///NExIYRqOpUAVsQAFuXDc2Y+XTyRir+Zrc0rQWXDE1NT5EP+QA0MkXZSdMolYuGZsgk///00/vzA+m6Zoxh//965p3/OIImRqSJiS6qqzyWp5lpcu8XAZ7Dj6CgI8kl//NExJIfyw6UAY+QAWucDCFLWfJELrkUfZ3WjywjZrQwBcIbGIeeTpMF4btLiJdrf/q+fwHD5f+0OfUBDHV7xN+//z/ffpE938TsavjUiQLyGhL///SlKBXXd49fpsfv//NExGUYsW6kAdl4AAaxnokEqfTlmpHiluDnYqjOB5NefQtxTVktENZx9AMNoNCIRoHczUPkOppteYRi1qUU311ddO+lgxiQgkLbjCKdX9Ldv3rYsvzDuQmbjx2qMama//NExFUYWXKsAM4YlFqDj//rp8YumLpc3VXWMqAe5FxD5vLtKTAvWxQteoMxHi14cLj2cCEECbbogM5TJYre7dTyt7fHH+yH9TP/eLyqZLCiKYCpGYSqc8zHOXxOSlSi//NExEYVeXqwAMYOlKDQk0Msj/fot1WXLo9Fv9bdxopiZNw2xNjlOvhTWNsDQyhXBAdVudd4J/ORPb9tBWb6XGh7szGuZzXfu0X6pt/TPKls3HrqA5nG2rUfO16PUW0G//NExEMTAXqwAMYOlFkKlqf///9X6Ks0nufT7FFAZ+dTmjKZSYUriMsQ5vLazltZFcvmiyHMjh9D+fJN4czk1xcxcRq0fWzbOkehjasJB5wFHEVDKX/9H0FjiIdgrJUR//NExEoSKW6QAMvKlIMyg0zQA668MbKDL8Zqv0RCTHAXyhuBcbG8jsn6ocN6hgXP1yencS7ogOpHSsLj/r//51rosrOIgCBSorX/+xmh1o0OitAcWTEBkzEUPH1giSRo//NExFQRuWZYANPKlXgcGWv7Gp6lqzNLd5jTW6XHHK1l1rwoCRplpiWdwJTwAtFxdpN7gzDrFxUq2rZ9/6LTyW7K/EPfIU6Xff1VeBA0GHveIpxfLfXgeQQmhYvWTl31//NExGASmKY8AVtIAOSv3ymm4+AkgXjyXUgkaDDDIAo3y4SgwhqfAbACgBNyspf03NzA0BUBaB5kwdSb/PKoppsJyOdY/mw9Bs/+n3oTg9Dg9yaQzNv/1qag6mKaC6Ky//NExGghQyJgAZloAVZwwHoOQZSBmn//9AwLlk3d/0S+ZFE0ZjI6bOcbEgCAsqGZtdyhRGFumklgsTjMclMXdV1d+/fsOSqlSo7h3AgmosYQxUQsqJuXggi0bCaT3NNP//NExDYREVaUAc9YAImY4+b/+naioVFi4DT6VVtOUIg5w4pQrWotAAAluRKKsTxUAAOFz4aLLqyxjIYzheb2dPPaOz+x4FB4jhfyixZr6hZU/VNe292vnwQGgh4DHABf//NExEQSkQqcANLYcP//7ru5RNWYo5cetS66WADyYpLBX7nWIhDfY4e/dr5s7Mt9MKrJT/9jVePYZjrE0a1cE16GZgOcVAOhCc7dO9/Ixmj5C5LngGKv///p////9Kqv//NExEwSiU6wAMMMlEUTPZYTGSqRyYoWzIEKiJoFC1iUnRLE7rbS1xyi5irXv8jSvDWXyoK1Ikef46w4novXtONrm1y5ukUYSjqZV7UjWtySzgos5mlwVKWtckVMZEh0//NExFQRAP60AMMYcVX4EEfr45ixR7KaNVt1GxnEN7tqZogiBlM8TCEDIBQMqPVy4pESI0h2S0gkUhZzotCO6h5ep//+8KWGkMFGa6ZaI8bCqRIi8DNISJEF0HqQsXa6//NExGMSQOqgAMPSccJBYaJiK+60JDIoAY4E5b47fq395tUmwOFweqozx+7+NZuz/MaMggzpj9+HatzBJCBrooBvnTYg2hcwtGLBR0UFIOdSXTilqnGOCwKtjwlEY5rK//NExG0RkU6kAMMMlBo/z/LgwKpj3iHnV7R+4PMLkE0cP0VCZ99zy3zM5R4euSUq/BN0N8SsheZhoKYjQM0dIiqqN9RaRbK/VLIlbIt6oG9OkHOkV9IMy5ZX+qRIWo1I//NExHkSEVK0AMPKlDq5TMOQI9AVB318Z93/t+3bfrTvXsxwzVXUdSUoSEcpeq3bYXOEIlEnAGpnUG1IlsqHTnrCq0jo0y0ux4uirhpFzs977Ga5jWg6xF1F1aLSe8C0//NExIMSCVa4AHvMlYt7WLFh8FmlQ2AA01n//6K1uOAeEwWnDC1hnaYeAlEHAGT8IU0xL4Ux1Q6aQmWo6qkRNEIpxDbAmQ0mSgkNBR9QFCQ9wZiJCj3ohoKs9P///1Hu//NExI0SoQK0AMPecKVFQ9UjCIWHFUDnWBAMEoSWPK5gIKo7plTO0eaPty/dk5ZpclsVAGfm5KNZcZbUvXjl4iniJLSzRL7yslWdEuw8lwT/8SoKCYygNTipjMLhowAG//NExJUQoK6gAMPSTMMPpgoDq6d5kShZN8nwdqNi6QfdKm8jmBSYsJiTQS5hhlxiUC0oZDbDWC50kfy7V3u///Sp7aoQPBohwcWSEAyZIahBy/zuw6IgfKgnqSbBiAKE//NExKURKQZgAMsScKYRxCxQUBhYVBIaeWcQRWlB4EbElgTYwLgooeRO0S6VIMEGPvxNuR/uPaav/6IC7jjQClMn6FAt/UF1wEBomebSmokJDAzMnhusEwWLKGhgUFTQ//NExLMQ8J5EAOJMTPFyE8THiUAyA0CEXv2ky8iyQVRjT/WrZSLD0vapahWTlW2fdqylC9RwnAqJ4Y5AwiwsWOwvGcIC4MjwwTUlQAuixh21rKTR/elG5VNM0pl0VUOj//NExMIScHI8ANpGSFgqTKpedCKjUBizCamySUD8uwUWnRTmVC1B1QjN5po1qZl+53WOX2t556qngZCzUDw42KhcUO09F9PQtPF7de0Wl1mO2+o5Z3JcAFpdFhu4vddu//NExMsSqII4ANJGSNwRNDZyuAoJIQIMF+OreRlxZuUY92/wgPLl8IQPcFmJ4F4BIAlRLvBVhsBcCWDdCtC9gI/4VALgPMNgLAApAcgAPBCiX/iNksUCTLSUD2NQ2EYv//NExNMROEo8AMiGJIw38+YEofMCUJAaTQqJQolMl/+SBKKMDRk1mpELylLSoGP/5umi8vpHhMzIlCmYJmS0VqJI1G41b//1MouMgzlxF3MzfQSZakknKjI3P2pmIWOu//NExOEPsFJEAVoAAIWcFBTbFCxhqHAI8xjxpkH1RZ3RodvCatkj97EWVU6UzizwXq6ZGViemiwznQoh9ElP1xYhjAqDiXbAFYD8F8qGeyrmrqyKXKFucSO0GWWOLHp7//NExPUnOyJ4AZpoAGbRYVr0fywomp4GlY6jPP/o/0fEr/CzvRZ9B/9FSo67IISSgcHgJBDyD6jAWBnGVJCjAceTw8vGRQRWvvv2tD+7E/tngtqXypUcpjqlD5FaI8Bx//NExKsdWXqoAZl4AAYzGIZUfDTEIQ1OaM2WBiZjgfE7blEp2Jjxtjri+Y+sx86ntErVbnePp043NkSKw7ur/+3+YO//+86gOmiyE6BqpkUa9X5NkDgAsE3sdAxsNAau//NExIgc+XagAdp4ALEZSegJIO04MLjrsUmLr2n2l8dfzkZe+jZlLGirCTDmEwwEIW8GhQxW9ADEi2wDvVLCXhsLkOlUDhH+1pJghvHGI55fQJKRYj/L6I1XcWBjjI5e//NExGchQYacANYelMJWGqlZAWY8uAUIDWu/+7+4AC4cM//U14jBVFwuBKByzGxGj5QNzTyGIlpLhB6RXwCMnvZK0tp2bfq9K3szfS3hJOR6z8Mwus6+b0LD9UVTycEV//NExDUc+X6cAM4elLxyOrthbUL+pfSWMQiqFJIH+2SoVNDS8RvmzJ9xfubybxLvzeR/VEvk8eEjM49PT/9f7ZkuJaf/uigEDSwY0sZUFjM2lBNSrAC9aYcK20AKt6pC//NExBQTwXq0AMPQlEszfqktfGxquYW7ybjvYESE1J1hhE5ULQ+bhFcgQSRRCHCEGgcqjx0n////3c20uVTSezv///9X//tq+6UHjAwJgsbceHH3RWrKPWW4Aqdm6NhC//NExBgR4Wq0AMMOlKUj1qZ6a9tJr0Cdl8iqQ2MoHXCpVBhhSYgTkTyyEEHLOyfem9dnnHjYuHSP///+utNVSAg0avBjyzduGmQMpEECQaA1SpTN5bC5jeuzX2pZyn01//NExCMQ0PqwAMMScSM4TDoEBKJpZy7VR6dJIzvxClyxc9/2vbuA1TleT3f+6uO8DiLaKo2zuUKlnXyCACCQug0eEq5yc8jcrqtliu14drksQBUGmk1Ysa2yiczNbDy6//NExDIRYQKsAHpScNZR6HtShrBRpx6TpZou64t///jajojy1ELyTHQUeB3nxmU9WgA7JoD0RCtEyNatrUrq2//bd7zVSQJ4JG1zUNk4iZSyJyTmlNNnZ6PWWWbFzqxh//NExD8RMP6gAMLMcK6jv///ounZqg2X9MQ0SZfJ+nKwcJiQmHaskO4DwIpaokbXNf/7sxqP7xRIGI+tyUpCgUPDQECoKmRKzH1gERDxNJEVdR7///yNMNYj0f4FYRjw//NExE0Q6NaEAMrMcBl3U2AKCKitQS/OHlqdzhJIBBTyRnfj5r1CyKm8iwlB0IiaJID5yr4Yk2yavY6XOQkOpVRGhtJI94HDbv/////+tRIFM5hh89DCNVFo8Ts0Nmzt//NExFwSoQ5EANmQcGYXgtBC81CcIPDFpd3Roh1lfIUUKcaFpMhZLPgwSNXTTSITIHD40VU8/Vou136Rb9BbtX+1Xj8rUhoEZLOYFm7qwFJa1mznYHFJqPFIOypx1TOd//NExGQSaPosANmGcKTjjitZmpsrGuxrqJUShIuea8keLNInrSWd21N3xkX+5fqFFM+sWs6P6ChjgwxCpbcEiIy1qgqNEY5YEEC1LmXhkogU3qYFzblvnrLWNONcHDw7//NExG0RAOYoAMmGcD6bNtdWB2Grr3pbolXLyzha703LOLRVCudfKaskExYQHiBByByAhIA1AZQHxO9oPnAy8qA1kzJdIbnROSLgQYsXAogZJ5mt6lpWESz1M3M1x80L//NExHwPyEoYAMBGJE5PM/ShioWVBiJd9SFFkHUznz0HN5gdpBrK6uIoQEKhG+sCdOm+NI4OQd7Z3WnKOREZj0O/CjgWw6O/sa5plspOkEoexqUPpG5nufSVE4eeIMqp//NExI8Q0EYUAJBEJMPPKWH3JDUum0dEmCWtU8TJsioGIkV/UktnQZMzQHh0JXptXrI4J4CSgxxlGFq+FFgikYOFljkIpep4OQkBExqGHPlQE1QJSGGpqi2C+hwa0qRl//NExJ4XWtYIAKDGuZl5ln7+fMi1hzuYPmZRbMQalz9vWVpJ3kMrS5COXYeFagZpC9q1LSrTa27mlfnm20pqxZq7B9hpVVVdgoNz0Zq50BQx1FoRuRuSF7LxM5El5mQI//NExJMYExIIAKDGuY1Irvnr70tXKnrhNert7EdtEP9PAl761Vz//S217l5Oc8bVCqdNTqUqvOv9fvQSfOMSV6HuJfLM5piSP7chJiGVl6dgNO04pShS3lPnE+Yur0/O//NExIUVCg4MAJjGmZaFN+3ck05P6jbsr9fb1h/4yYrfz0bWv/LcCbtx7+oGdXQ8E8E3wm0axpf4ZvMflcmBDgrDYHDRYwPccLhA6wL1jhc2w7RGTzEuAbjh2uBTOh1y//NExIMTqZIQAJjGlcbQso8Q7H0YvjFh0y1qhlUGU66tknUo7q+VJ2W7oRJSmwkhfkZmp0QhrSKrcp+N5PAZOckzw5HEPMq2LXHc6aQGCiJ8LPnVKfa5bSjFjUgE1RNr//NExIcQyMIUAJBGTJNQssQJZVKEYTSqBlNDum6SelwydsirKdqZtnCGZXKmuMSx0zUHg78OGSIcqDEi5WTO40xHrq5Uc/P4uKtTrnFIpCg+vCjD/Usk+dDe2yO3H3/7//NExJYTSYoQAJjGlD//ntonJAZLT6TKp9GV+R/aFRVKx1EILPPO8UoP0lyYay06dAvm6ayDnAg0eHln3ov/GNPN6x+h0vVPaTf/2db/k+xvcGpNt0W+6vq8a9YKoXrs//NExJsTgV4QAJjGlbrZaaz52TiH5kb0kMIo2Kh5QU5klN1SOxIDRm03OG2DJ7F+5lvmedDLr6SmTf2QEQ5ytL5BVqkjVCjQyq9D2uJva17iaijaxRSCdQZT69dbVLSz//NExKASQOoQAJjGcTH0nmcMpX8wRFK2aykG6xSlrzSzPqgyxDhQBuEBlBUJCRAxROtFlrnAWuhs0uw2MFiQqOsLYHcpbHJzg8qPaqgGU2XVUqtSjG3+idje1M/VYxKX//NExKoTmb4QAJjGlJK7hJJj9JLnxC7c3uDGM+IpElbakbaJfhM1BOx06Om1pfh++atQpZP+3f+uO+/WnZOfa3ne9pskMu7qBlFKdfrZ3W/C2JmP1mTgiYpsRkCosw45//NExK4SATIQAJjGcNQm4RckGaoUY+wGU5dC3GgIlDUJe6aco0gWHaHkBTapg0alTGiyKn1raKh8k/Q2pgRqBlNVF7KRTdZ78srNhVQYPiCLhw26VBqEh7x+eqEZ7HTJ//NExLkTaZoQAJjGlcjCln6ZvAywn/KqLcMAQPqaHxYXw88mNReAiqLN1DGJIKiQqExZR5mw01AxWaoK5s1N1J11R0UkQHjaO1MkzzfH2hW2wzpISKRPJVyWU88bSGWk//NExL4SUVoQAJjGlECiMCiFKSx2jawiTSUPCJVc+NfVXc1dt6Ecg25o68A1CoCLl4uIp2eQAIEKMxX0s4JoktYx48yKHHY3nGAjaBU7aNbPImWz4Ot7nrnontW32a7r//NExMcToXoQAJjGlH2Od7v/Rv+0gVU/v9X/9+Z/u5rX/E4qNguOQsTbaE1HtavnhrL9YzKBhtZApnrzbpNuCxju+22mc6iCFYBpNCOzpshcqOegxSjrPfRTjEyHBYvT//NExMsRGT4UAJBGcESuI3PpBoRr+GYMJrchtEb1b6PNaVnwL2evQ7fkPe+hn9o3lB8xB4F4FflPLIMmLFV/IOiAlXrFx9AMA4QtmAUEnlBRLrk0yj1kHLBmlK3e9btD//NExNkSSHoUAJhESby7dP5GO0VsOp9yRIlst/3g9zHUVXfX//5hJPboXAyv89yn/gYeXZs7fKf/4C/tc+ruRlYkuGUAt5RUkZ3cobD+5Tlu3VrRk6LQMxwrfETql6B3//NExOIYOZoYANJGleXKVUm5fEswXtGDiE5bzOPXm2V0UFbtv3xhhjnWZMIfHfVbsEM22F6TSh0CuTgqC9jCbRd58e7b455PfjodDL1mzXKIIOex4QXr/feE02Qh9Bya//NExNQYeSooANpMcRnaIvIf3fuz6vlEM/hAmTPsIx9DI4y3Opbd/Vjv/Yx33WNlw5saLLOkTCLCIzZyYS5n1VCWl3fDZIW2Uh6cUiK4ZV3JAuZlBRUn6hiu4Vt+Gt6u//NExMUhOwY4ANMMuN3LIVZIeXJ1lDFOtqFw9rQfS4rEYXNrKwjQgIIMQr9QjnCyNvRQwm9O0Z9ZhGtkFSlsiNqNtromIQFGSVbXbHovoBlSWPj/M0albV+d2c5HI5DS//NExJMf6xpQAMjSvSMm72yas3QimP9lfRj6oLNneu07M3+ZYWdOsUgmL4K32XIH2KZ06xV59VkrD2Oz8C84UMHCx1YeMrGAOJS352je0n+zVsSDRKflImWME46HqMQC//NExGYhwyZoAHiYvCvlTrFjHb3CQCByW1sJbP14frKg3bLg9kpKWhEJYVkt/gyW/6JKS98TfeRnuyuh0ZVf2PI1T4AXZ7e3p0V/8zMzOz9u2bvzjhXP1956fyOZ+czf//NExDIdSxqUAECYvb9u3Yml9n7If7TrVaO32DRJ1179077cGL+wrm69ZiSNseCeNYHyeoXrDAln68qLRzEcik+4jxPGDZUaSHJ+vHCFO9PVkZVN474br78vaEJwNw4o//NExA8V2xKsADDKuJPRKZR530MvtmSEhdfTvu5knUiN9PsZt5AmJFRylY0vTvT/ZTXtKzymcurFQysljRIyI5pnOWJOxBY5kFpSlLEjGehTWMdpg8qQu4OcnwYCEKQ0//NExAoUMTKoAHsMcBGMDRHPiQWUY4AcAgrCc6Dw7LZSPB0cEsrBscjjtIW9IzsWY1a1b9iDLhpvp9tmW307GsjkHQ1HlgbAoLOUG68Z/soI9CZK1jNj93ersKqdbdxY//NExAwUgYa8AMPKlHVgGmvqboLdShtBMsyeDjfPC5FYxDTPKSQllFMjcSpya8GfEPPyPSKYxnYfGhqIHxdRexGS1O9zvtI9BRnHEwx//+5moanMgp4CdDyIrHkGyzxh//NExA0VEYrAAHvMlExZwuQf0EmQicSzxVwT9KTKJODdT1VjcX5RUw42w+mrbWp3+d87SWedo4eqTL7u7szP3duzvNNlZ8SOWGAkb//2rSV6CiUjasMEO4aDTTiwzfww//NExAsSERq0AMvWcOpA0MDqiPlKXFx6dcexM16vY2o27H6CK0RAASFOB6XhE7y32/Dv/dFoucqdaw2PA19XrcQ//ypFZ0Su92RqKpQjfPS0FQGScEHJzRGYVWgOWEBF//NExBUQWQ54AMvOcO70hzNVqn1CfbtauLbhKYXA9ExcFomDRpqElVtWvVu2s4q0NP//4d//K5H9FSV+ErMxsiOJjTMg0YAS8qMzBn3bSbZCpbGq7LZ29cpstX87+VJv//NExCYSmKJEAVtgANUvFouiAMDI+qsXEz2XHiq2xKCgUNHVHKDn+Q33/of6/Vj/RUotOV7TTElDQYpvkv1jn3v/hz9BtSrr3MDT/1Ju6C//22f/31y+bFwwY3C0f8uM//NExC4dkypkAZhoAKqqsMIOQYwXQFsEiPQYQKn/+pDYxU6E8spiZhqC9kmOQJ4UAHQBBA8ATP//6aDObHkEK1oceRKFwcgwgVMWwyAuAXdIOQPAYer////////0/ozn//NExAoUSt68AcAoAetSRAOEnGBwow7rGChR7EGh8QAdHCwcJg4EFBcKFSi4fMQTCQYgCCo0guKLdCq6j3IcTHmGiaHD4vIZiLQUlFA4wkheMReAVf5yPL//1/////8q//NExAsRctLMAAhKuf/9M54DjzMedHHipjs6CxqmOXMchniRjGMctjGUrFDosY07IZTG2mrMZ/N1lYaQzlFXIodYo2L0xL5doIADxTIUGFiaDHaEBgiMWaVEIJvYvOrR//NExBgRUaq0ABlKlBZm02p/6Kwsgkpf+WaxyqodDwDAYyoYpTPKUVZFtxUFTqRf89+yt3zrclflZZXGXoCj4uVVjEDNAg9BhAx70YOw1VUiSoMoTQMBWsykNBdjfDoY//NExCUSWT6oAMvKcGtZsqIEAQCFpVchKEb6uhM7yNGBwiMiDBRABESjmGPO///+TUrKVkgjFeITZKmenhwmfXgUxvHAaZVYagfVyGCCpacQVGRcpjZYwIjUT5ro0DWt//NExC4SiVa0AMQGlC8ui/D0PSG4brKTgRuKV2WEKyYTD5R////+xMZV7ZZeLomhUgMGSq2OiG86nYq7JTgqp2sXdZ2fD68cOp7CDhccuc3XG/Sb+f+XXQVz66NR0EAK//NExDYSQWqwANPKlMgRacWVUsK4UPoDXEq3f///9OmHFKB2WBUDTSQQCBcQVTAglS16gBMLFDDZDlQg+XzxSQ6MKknVIYwxnNrZVASfhPHy/d7eZlVtM0zJIqiRnikt//NExEASESagANPMcZN1l35eFLAvFYwrCYNXj6QlyFToIi3nHAkSV3WfEEo4zl8azCHA2vHOLlSxnhdzhonI+ls05Wpsx5+rN9LZYYV564reRfWxvXKetykq1Oxv+lWk//NExEoSETaMANvScJcADM6QKTgTmDnKnayYIXDwhgEDPOIBNhXqqKdDxIsbPBJfHNFbyxK9nYBcEB9EizAqSOzA3pRrQaCxRhzFK9DgfGmRAQiDQqkrCxo+AFfj0BGm//NExFQSKQ6UANvGcCVkyYNIGXju2D1k7SYc9ASeMgjwOgyy+idc1EbeW6PDUVtnjGqSqYjiJ7C5xMmbNldxB1S16/////SqpoBFXjvjfqIHWBIYgILVL4MGGqochkEA//NExF4RcTqgANYKcIEjiPz5TQVEDsQLXYJF+x6xvh6iC34Zan1PL2L3Mh+q+r6u8AzDoIAMkIAkGf////QLVd1GRnidA8yCGWTyEcDQJy+AQU7RxQ/xeSF1BWRF0DDJ//NExGsSiTakAM4GcKM5IgFdV4cf30T2if7/rf136nm/C9irCIz9ngrVMskUnehHEHf///8Y5Cr786P2yC0iAi3IWYl8IzJAuNLExIQeDZg/dkxPJImJMBxogZAhyCpd//NExHMSiWKwAMvGlHpGmaaGtMzb0FvBuyiNMzzDtUmFPgmpzP///2svFf5GwWL64AwYUKf9VQFFf9jb25VhBbbPp3ZfaK5Jkjq4Hlqymn9HH+Pryf8VzitUoVITJu1H//NExHsRgU60AMxElMurYiyILYk8Sd////uENauSAk+h8UkqsYeNGeAiZwhAk5wwGUUdX6Twdqy+G82bVqBo+hvmJjW1Tghazi35T/m8pH7VbyKCawiHF+bagFfMAY8A//NExIgQ2WqwANPKlIPCV6P//9v2WO6jasobIAMedf6QTGTAY5DqjGEyzJY4bPZW050xugVMPQxyt3I23qifhMlbNhw3l5fyrdcsC1axCXiGZuwdnjIaxpNiDDjkSp39//NExJcT2QaQANvScPrU67qVv52XvOkD86r//Mi57k/kkiY8CFWOx5R081PmbwkEF0MorZlshi1pcOW9dEQDnMBwtDys82diISP5lxcuxK/hcnvwiOWFBKMMo1zdWYsZ//NExJoXyW58AOPWlLYKanbi3lbtnvf3p3pIs2pEUSdhXclny63z+v//+roNMz3CSi9UJAJDv/0qmHTMAEY4GpzEQCWAMAD8xoEYUYACQQSrigZY0CYTZraS8y5zWHZi//NExI0ZWjp4AOYEuI18Rt+q88q4+8d9jdTuDmn0PoXA8BayMYvAKkrG7+BTl3/Uh8RB4ChgelG5xWpgb0GWrB0KkYICmEjQ0hNETiCoIiM6NF3dR3q70sRitympq3cZ//NExHoVEPZ8AOPScI2pS8vzIZ0dOYUkkHW1PEXsR+VxKCs7//2Sp2HeSjHlXOBj8cVpqM7GXDoDoMIQw5YY4GtmUgDBduPzdVuzaJWePFiAoCGIOCGa9yBQfSDTBwkd//NExHgQsOJoAVsQALe+UXU16zJ5NrpJaYY2FlnvbDmR7ba3Z9bm3MRu7h3Nz3U7Z5us8pMG6Uvq+2S1FttdVzw3OWmfizn26ymd8cX7L+Kn0z6DeVov7mvWSVNLAet7//NExIgiAwY4AZxYAXyRQiMX8V/aPSQ7AimPHTahcEmMIOAlBGBPgnyQl4noLMOQJQ4N4AjAApBwBUgJ8cYjSFBbjBpF8um43mBsSam/TQNFrMzZC7IIM+tSOasSZ1aR//NExFMhoxKUAY9oANROIJzRb0LlRJmY8EklqWfNkTqNSlf/76DrqqVsgtaCnQffdTf5m6CDpGhRNFfoqukkbKqbghNI4IwMMikQjlaMLXkXtCJlyl9TdZj0uAI5EJDs//NExB8ZOXagAdl4AJFb41pAWx60QIyTSSJUjrSijFzhwEQ44uu7dsdW8s+obPb5c5n6vnuwTbxreb7/1vN4/28z9y7gw4+aQP///TlxcYLXNx/d2gMsr3qzsWv1h0FJ//NExA0UiXq0AMPWlEijagznGFoFppoZ88dGpvc4HNnkAUHdF86q9dOGqvv4UTWlwifppUzWGa7zd/C97P172e8/byhKGuunHcB///9A8pFbNSreVMDMy3Sf9THaac7g//NExA0T4Xq0AMYMlKyos0WIrCr2DX65ggVa0rOy6zSIrQVLsm1tdtXv1Feflz2Izy/2A0eDkknG53qnr+/rlV4anK/MNktJHmv///ddpprfxMA6ten65lJDbALUMJKq//NExBAR+XKwAMPKlPbNwC6jqHbEw2HeyygyUpDfiYuN30X7VuswvjwdcSeqOqC045yBdFM9W+rUNqWhmUOirTv///vVlL0FU6eaCPCWFKfnWFImkQVuSKy9ozQ/hDmQ//NExBsSeWqIANPElNJVNrgh05dQByMZQqUnKgjbgxItfb+1t2t5jKVroYpShgLq1//0yo4Z7////iIqiYcNQwEHCywrSgFFAXVg5+ZUw6VqUtq3QzpdvFE+mbmJVNz2//NExCQSSV5QAOPKlRNoto6XBTnC91C3vVf/69mlZq1KygKHXKMM62V/7GcwkLB5YYvVQEmIhQKGM6cfRgGrTLItxfh4IVO026GxK6XOxT1dazrb6MfhSRQ6TugXQ4Ap//NExC0SiJ48AVwwAGFSQ0Es6uPK3BEirSV1q7qZhKT70MT09jKP2f/1KpaHgzYnBMccg6KJF7Wpf4QoQH1ealbbuQcdlrMQnYnZxA+vOm8eCJuX03d6T1KOEoPQYQ90//NExDUc+wpIAZpoAWplXePQ8tM4aKar2vXNjA0TTkov1/b6y4UEUXTXUvrfdWtL1IKQai63WU00yUWx9/t+/+1TdtnHoWLLgAYsHxXJQyzJChPHFXx2xnb43h0LGsQ7//NExBQXOW6QAY94AHhPIhRq+Pn6xaSZ/479i96UzBUbnRsgItmcXm/qPvw540L5XSsVM1Lf/4+s+/YL43rDYuBH5UcUmHgucAzN6POjb6UGRfd//zJ/0fU519GISSD8//NExAoRmWaYAdhAAEYhEudyUwPL7Ne/Vl8oi0ze1Ww1uqlD5EA5b7pB4jNTDBaJJQRM8QZAsOBWtbemlOv6+uqa1pRmExChXVWZszoF0KwvdFzn96okGIc+Gx0OgPh3//NExBYRmU6sAMrOlM0ZyyPf2hVSVn5gxtpgAe5cUDpxwQFpwrdxMEiXP25nP62H35f////cUOB///7FuSqrp4QDCvXKIEQPMhgJA29mzMlqgbyiCOW2z7S3cfDE67ZA//NExCISYVK0AMpMlEywYFYqSPBSyZ3gLMJHBC5fa24pvWtcbuUU8wYJgbYb///////+LKrHTcDuCl8EqDPzK10IXTheGx9hgT1RXMt19bt22WHYD8MC4cjDwahCKwxR//NExCsP4T6sAMsQcNFlWKyaJHJQ82uP//ueLVRUrIz2qqjxgzccpe3SWBMFesEhkJoTWSVrF0RCjpEsW3FRXYVVBbBumSwMsFHNo5/RssbVnUmS9DjgYgSsRgbLN82d//NExD4R8PaMANPMcG7////igu1q/66aeEcug7PXGKHhiQLWHA5K6TMzQrn4cNC+AxltFk2zDbrYZoz9axDa9qxq2bnHYNQxpTGoNIUywIqzPTdt/v/b///mSLL0VcaA//NExEkRiQaEANvScFPAdqfsQMkz4kFjDJG6gEaUylGOoEmI2hZuBgRGxW3gQfd5/E0He3MXMVF+PbOqA9MGBCTIYSz9byf///+pZBXNyAbaXMKgTPolahCHNiKIAZm2//NExFUQUPqQANPQcCsJDSHdzQxoGIQyKKaAXEqMYi5MFZMxMUE11r/7JXNmy3GGB1bf/3oY4kjaz///+PEen/1akLkZMjLY4IVIl5c00CRexi6qOjtjgRS5Mhy+ATEB//NExGYSOUqUANQElCIBaABbRcpDRzSNJ5IzZl//+rfzUxxk//0kGjzAUABRjv///rLmYXfT/MiBVV8gIGZCgg+I6ZqiZCKCgNvTPJwUkLrrQfFMYJ8JQeACYAkgUImZ//NExHASWVKMANTKlAWWpqSdHr///5Sl7//6GlEwrSyf///lnrPHSwNaHlkqA0wAQzgxdKwwnYFhaZCDY4BFN30QFBAGa0sZuotoYGA+E8AAwB0TY5qzEurSUtklspHu//NExHkRMVqEANNElLsr/R+X6Xl9Wq3oGFPLft/////oMMQR6rN0nyIuMDFigoLfKuTsfFrjlASZiRKxMYKJAqKJZ2Y884WqGs7CNLdJ/d9SLbUEObXBkQw0l4w0rimw//NExIcSAVJkAOQElM7v/2er6AIDzDqPOFlwMMRgwYgYMS12abbu9AwgaEqswcZDgiOj7yX7z6edBOPKIHxjWuWOa0owGywqL2GLG07v2J9vvQKMT///1BgEbfubSM5K//NExJIRQRJAANmGcFqulkmpcVAlmGfrCI2o55RhxmUKaChZNAQQKAMcnSyl0sI3LuSLNlhYeRmRdSBt7+3Mmej/TG01//tqMQkAWc4RNilLeykWXLdymq1975qkpJYC//NExKAROMY8AODGcARIAMJAiBwwYOnyJt+pShlKlO08oGFoTl36QwvylTn7VJ1BgQJArFRPZ7V4rqk4DoXrOfVIrD/0lOaysc/7dhMaAK4ucg5XCx4BZC/QTTWOYIUF//NExK4QwI44ANJGTCgpcAyCfwDuF1/u50vm42CIiiEHHf+y3ZUroGCJwv/0GnzA0TOl0vHz5RLP/L5uX0zcnELk6WxZRAxky6cKxe//Qa/ocuuUXYwPMs4pP//0G1ut//NExL4R8Fo8AVoYAI0b9iLopkEJI+UymqRqE4HiyE9T0ZnbqmEa8cfVz/cI92yrbFaoC8xMR+PVOdwuhPkSpR+s6FMiPgq9gRDS5TJra73I8llkpBf08CHrEbWbQcev//NExMkg0xZ8AZiIAfTUTH+IcOkDxPSskbwfLiWZ9SWLItSVgzV+IN9azrdpdZgX1vEbPzveN4z8f/P3nON/Vsf/H/rX61aFO/L7ZM6yY0AQzlnB165GfusxBiEGJeKe//NExJghgqqIAc94AXAVxAIassb1OI0u5pqAxJrNllQoTPPE7Um/TSrZsvaV1mSWaEPdRVZPKEgQCKYdbzCrN1EejTP42ZlCoHSKAAyRnRC7Pf/rOwAB4IBEkz9qKqy0//NExGUYkWqQAMvQlE/JmDI7B6jyoBowjogBXaFIkkEl09I4AXuhbLoShky3VVUzo0hwXoyFc1xBG1+gdO4+9nkXr0tHTVtV+6bmrIlGAYUBEeVuk36b5T7r61ug+JuR//NExFUaSYKUAM4MlNqKNuvyhVjP/6w/vokgCVLgl/VL1fmjqv4HI46Qd8qIjUGFk5QIXjRWqgQEaRDd2XJsSZeMDtlZzSDJYDSla8/7CJRM0W5ZYqz+db7u5M1HyTI0//NExD4XqXagAMYQlLEEHEAxA7IoiKPu9beOH61t2xCpzsGDi9//939Y2j/XQvzLqYxEmJg5WnipbRINl1BANAO9YP00HjmqLJZtJ8sMJGjJEJE7ySZIxv98upsf9w6m//NExDIQgQq0AMPWccUjDipY6+/bf+2qeVsgcyfzAOapTAIHRmzNRNpi7NdAl8o0Qba0epYIpys6lVjktIQrRes6ytyPbwaZruuPnVXXvnfKqQoK4CwyUityS5W5IFxY//NExEMRoW6wAHvGlVjsMbrVcEDeeaHp32j3trxxp0up8hK5sAoON9BDWaKJwNXd+XRBwZxsDTmDKwbpfNa8Xz7f91x7WWaWPk+GI8+EY8+HgoSARfd///8dxmipaPNV//NExE8SOR6sAMYQcFZKrPZf1o1Zoso8EZQtjCfjooi46cWpUIhmcltk+eaZt7m9v9/69t/+u+7kFnCHDYJCoxsMQppRAQdwQs4ZFlr////0qu1Sya4aoc2kgmexguWv//NExFkSiY6oAMPElIr1qGgbUACWPAfGYhCCafNsPRLgmsNWMmpbz////lqzhhZEFmFMi1dBTIpQpCByhRBiJCxn///JNK1+EQz25bmwhw3GqPnFpRPspVzQAPhMYjcZ//NExGER6YKkAMLElNFjx6M9sklxBgdBkzNnqL02u+f///q0zlAF2GGKrV1LMZREWURKh2Ehas6n///R/+tJQwZw7/wS7MKCAS+YEvxGktilILPQhlIAIsMgSYfGJEjD//NExGwSgY58AMrKlCZeiGgUYQWQWMuX1bo9e1E+gDAUOirfApkc/bp///8r/+IlKnCiQhEAQMXgWevdfHFmYKlkoiKBlkdXVc16euKWJS60g0kimWmiR4fadiEQJYtq//NExHURITJQANJKcMYeDLaqXV3VE3bkZb395FPRJFUpR3Jd3j0D4GEp3HUESvySW0IwYOjCg8LAY+GUxQRJF3VGzDps6dFGAJL3Plr6rBLyNG3zCMRJ3I9bKs7WrsW4//NExIMSMJ4oAMJSTK6tKgZzL1260KQHpkpKem0I0C0ardi42xwnshT6dBFQ28kaOINCatFLix++4EU++6ypaRwznRjBau+4kv0vbKHlgNI9dQZRdBdbXVWl4/c0cTQs//NExI0PGGIgAHjGKIes2HWYeIufHMHsZS8wWchnm1LnKxMqzxqHSoKyYVU9IgChsPxgDcg7EIDkrUsNIe/5J5kUzvYxrEKfQgZJTdb31qdm98lToYtYbymJg9VxydBC//NExKMQWPoUAJDGcCHmJrDWrDy2JzIkaLXX1t6UMVxDMqPCC3AdRq47UPabjF9bW4208aErazB1hhYuqV1h/JUGaX3bSWdRmi3X5NwzoykCcPSwhTtPtSijawymbUAI//NExLQSaVoQAJjGlDsJtGMUg4xwp/KM5gj+mOHY3fdkNWImK5F5yXufr7k2UaG7l87Syy+LnYPREocOETro0djwukDJBnPX/vqqHJ9RD2XOZvf4KwrFXEb1swqg+OPh//NExL0SqYYQAJjGlEcXAK3CoIGSCAHJmRorKn61j4q9pJO15SP5nQtHVuvrGGVG310KBmbP6FHUSnnDf3/Myt0HzHhsx00M2KmTTPl0yL0wxZEf6s52kKApkN72Gliq//NExMUVwn4MAJjGuMtSOQFH7r1CsjerQ+Xyi0OFkZ5lj95uBktdVlLrqRjdmRzKNXyykH2Nj+QQTl/FPkBLHOYauey5GynntGpBIeEMcPtFBcJQgI8FU25/MvGTCzVq//NExMEQGO4UAJCGcFil0tA6SJlRdbi7J2yuBmqDqUiqy1u5tZftPR0JVBKODW8EutUFKK3HUUaGMkMlMkNuZ6CVMO6J6XJ7u4lZVXjNEYAA+/FZRjLsMNd/6nbv/zbW//NExNMQ8WIUAJDGlLGMv/6+t1eK98JzuV/2igpFaglZdSLpJnlLNX3V9TfGBBBRksOLOIEAQgSw8E8aqcJXQwbiWCjJqHqZr0SxwS4kLTGeLzD2Fc3sJbTMvIvyZcuk//NExOIScXoQAJjGlExzBAyLoeEvJHzzL1fnwHlM1/jg+n++O/iw7VUGcvVVsya8qZnnp/IxC8rnXW5ng3/SdOTLzKFW7ODQ35981ywRkSIJ4LGDCWFxUXRGydFKm69X//NExOsU4XIMAJjGlZDYtwbAGx6DpJxGkXUGIkVPWzsrRTOImeYfY/d1zap/UT2qb4DJ3cozGZXrbMO272qeIhQiiaasZE1pwQgcPFRwYMsoq1Rn6UblXbpT9E4iF7Fk//NExOoXysYIAKDGuURdakWdTkv3J5VxzPLMORhpq1dSbWxtOgZRatl1PW66kPo7oQysyFM6IeZXAjO9X06eWs0amamZlD2Xdi+eTGxNtGf/LS4xGy1ZNzkisu8Bse0g//NExN0Q4WoUAJDGlCYXcOmk1ruvZUlAEPGe9kumCuE1qNHNy+ks+eTtmZYoIooOudEIDOxQlNXqQwqg1xoTmrkZmOqKdstlMgdGK7g0hJDuGa11AFfHtXruK2Pl9hws//NExOwXaroIAKGGuTPdT1+fSP3tr/Nj1Nfx/NFsfMlHfuo9JjsWJRVBmAwM2WApvl+vUELc1h8kTWcpisvsmDCOAbC+sM7uCdwY4RYZDThIIeuCXAAgPCQ3fi/EV2+B//NExOES8aIQAJlGlHgAd4Pt6Pe9E8H+Aot3sm5Fr9r4qrzed7Xv97f/N93+fGfzbjFyqDQpBq5mSNEw1XpnNp6tTCxEImAA4XLFiNDJb7pxyttDszEnXwORP9yxyrFd//NExOgV0XYMAJjGle/3aOXfy8N/tfFnsHA+aKGsI1c5e8Fi4AbtesMfChXzMpof5xFdELzc1u7i/8IgI9Hl3tVREbc8qT4DL2VyPM3v1Qa0A0BG/Y1V1Iui1I1MCAlx//NExOMYMR4YAMpGceZglsHy4R3dqCKmILeBCr6fAD55TNKT19veZ7fn6blf27/y5f702znXvr/02W7OUmjDm3zDhRW+r35xZP1XsHAkLVc3m9236ddyZSHl6B2Ry2Eh//NExNUcKkYkAOMGuWQbq9OzMzEAsOXxDEszPzgmUOKMLHMQiZCNAGA7ADH8AD0JgAg75rIyfyAilfjHl+XzkD4wF+flvbWvn//FL5xq2vj5zvfzJExCmx93j0h1w8eM//NExLchcxZUAJjYuRVueQdKR7uGztUOR3Budb5FnOmEIjQ36rx3zJDXKuRk8BDHioTnR65Ujs/GU50PQhlZ0QrE4jJkQY4n4vzoJWONyVJB1ApDhKdDA6Faon4aCwS///NExIQgOxp8AFBevfRvUy2GigMYwUnTWAG3RGVFASno/lB9elP/nGLap/inpApr/Wd6tXe/nOazzQIeXbk2YhXg3tBs5ZjS18c/Fan2eM0t8BSuUZwYefCiKxohrb6H//NExFYgYyKMADhevBThdMqsfsLgikQkla1PSfogjLkfqPJeWwoTwIWhilVZBjvJmc6AUZqoWxwqguJX+PHe1+HSQrBj/VzJP7TcWyU1PZCf8sk/iE7hwM3hfz//+I3f//NExCcZ8xqgABjQvSw/cgui+R6v9xxx1zrzG+XbOqnJoowi4EM3FBG5bvvoWEE22UfJ+DaxUQAlaVBa1DCzAsShymsYYcaOPNmA+Kuaxx4SnHdBYAHDXBIDZYusNnKd//NExBIXEaaoABpGlSYI2wukK0k2E0dwVqsu5SKClzWIbJ+cDouuxO8+5nmuaFEQ8M4BQQzlgo/UD4PNy/zX+VdLzs2XzOkbU6yD48GpdS5a/+zBXgvxavqiIieLL6CH//NExAgUAYKsAMPGlCV1HgUEkMSUAX5GBgASkcP8BzK8v4h6PayFksnUBWKFiQyLOxz0lvSlsXvnc23NzMObB30SRJJXpf/fP/NZCDAlMln///7C6PycITHheKHaWbzU//NExAsTcYq4AMvKlOPgpfNRjAG1TkTED0/MEwI70dDp8XY+uui52kPryr8fHcP4HlerMotUIbBlBXE3lepMumr5HQzRIdFP+v/1LsMj3l7MI2QHiDDH20eGVl34jWqh//NExBAQuRLAAHvWcJK3GLsU3imT6H9G7VLjALH2hQScrPTasSrXC/tqUY4nhWIUTWeVJXlrZ4Sigr//6v9j09QWiedT69GfrFopYhirDDo9DdkpADD9wTD9qY+syY/h//NExCASARaoAMsQcNLozkFtBKPFhKEK0IQjTr/7Mu3DNr7McoKiF1T8jq1nv/7r0kfXDRIRhAlGZwuZWURTpEVQKsMcIAgZq1du5JaR8GdS27LcZZd72o1p0q1YDZ8S//NExCsR6KpkANYYTMAURc1aCQboWAiISe46oOmE7vlmKlf/+Vq+pA9aRpO2eMIVByYvUX9KBCXVIAKBnQEj6867m13ybXKWLhyRVAyQDaxWi5RdJLJCNJFE20kKG0X7//NExDYR8KZEANMQTPvUjf6IsQoA/06xxMm+3rS/rlB0UEDoc////FfOlf7wiSk8ve7vy/wiNXLpN0KUgoYW8VT+iCg2xcemQYg08XIFEksXcXoseKKfAhhceDQ0XPuK//NExEETouZ4ADgQubgUp5LPtD7QyvHyHzj6Bkv////+D/H//N/8AAICGMf0zD3nd2yuqf6938B5RToezwjkTiGHnhgbYzUoEiLmspxQTNhwF/S7aqF9pUBP0KQxCGR0//NExEUhAx6YABBevc6nFfGOu1txjE8TRc3OinUdplY6XESJWEqCUJdRzN75dranUbCtuCfj9gZKeRgZMtSxIciPT78v51zrtyeQJ68CjG1/cvf//9f//xv/D/74c4we//NExBQWkxq8AAhQvItDbMHVmSVbmyzEuYjiMLzAjDpHHlF4hD+lpVQVPJQoqaOOmFaVaTjUOGlGCMxClyMFBKaYC0GwuY+k2Mo7NHk9Gu3qhyIqRu6srlBHntBkffaD//NExAwTqs68ABBKuXtEboaZf//QyRv/llFxAREw4FuIkuCocAVVjkmUq5UQPXzGFqFUzs3dzFTpKrKjt1Y2WZ6KKlMUxbpo4iqC7u7rD+3LAoAzw015YmXNEUu1zK44//NExBARSV6oAHpKlGYIBDKLlo7SZuCk4Pd/f+qxqVbbGf/lbYSnKhnrRUpKoqQJAZAUHLBItlkK8rqu9X9X7lf0Ks5cIwQbMMqKSyUESXhL+kgYaGulEi4lPLTAgrK4//NExB0WuWqgANYMlDOlv5iVpbsuvNiLQSWtMTteakM5a3U/VJj9e3z2zf/3uXbaQnYCHoEGoHkzMPaM6d7d3qZwEP///71nz7Ax3JnjI00H4CAgpK2wgBAYFlag7JdB//NExBUU6WqsANPMlIgp602DER0pvk1cVwJNPg5I3Y1Mrqzxa6vryf4n+8y/4fvs6mYcBIJamXJdTiFyBF/Q8sBSLmf///3OceQfQqscSVPICPwGPJS6SDoTQpURtKve//NExBQRiQawAMvMcC5KJtLdPtvVM1T+VramHKzGNRki7lV9nKnHZvv1v/nmsNEY1JUiecWJER4KkG////6lVb0NAQwPUH1mBVBLPVhGABB7WYGOJtX0Ob3ExWFJsUsN//NExCASGQqQANvMcF0ZrVqGtqcRzOHKSGDk4pNLMal07pIqZZM7EepAKRUSYq0AZ36v//0KcJKk3Is+QsucaRm1NHUQnFeq3voqLsZwHgHhIEnrrI0OBpGpHwkybY0T//NExCoSIQqMANMScJVNthSOtpW1GnqJW0gRroiAHDszqc2jmweQ2f///qqPJlmPU5d0VATawpPoqjo0Qy8LArrqUrm4cixCPtiThi9WRy3k3iD4hx13MXInnUUz+axJ//NExDQSmQaMANvScAZFSSSuJtQQ/BNzq02eZ8WtZZu///01pWqGQ4I/CrM1ghZYFYo+qyhUg+4B+TeQKtUD4V6HiZwWAkysAOFs/IDxWM1xKmjRUZvoba2o3Wzrz3e9//NExDwSiPaQANPScBpFgWSQf79tWz///4c0qvjxgxxUKziTsUDFKQxWRq1NtKaOBQkWZhL6jOJE/CfTpCoWaymljlLuvidpy2I3ItZ7kU7IQKFDCiSI2c7IKBcLvthB//NExEQSWS6gAM4KcI/////itdPWWeh8QPfteCzaoZF/Qu8mSiAgbKWdXIfgWJrOmhEJs821K7F7Fjuetaf6Ns2diHDikFggXFGlgIBxgsdNAMWT////oqXKQEbZwRSe//NExE0RYQKwAMYEcHb5tUG409BwCmiBRO2hPaizhXsrcBz2nuyvEwkVUX9Yl8ss4CBUkMsiknCy+JzyswjuVaOTUGTCgREaNv////2UKtkAk6UdAcWQKRlitMoh5yAK//NExFoSCTqsAMYGcCYpSFyE8FiP1hUpzKMlRjHESUUwn7mxzvY9Q+RDLlqVc559rSTUp1KNhR6nHHKd////0apLQSOSsEts8dV2GdrDsKgYFSp2dQR/I1sfRGar67ET//NExGQQ+I6sAMPeTOJarTFVTJiBaBrOs6zrNcWwZDEcjOzs9yDFYqf/0dJnMDUUIy40r///9RZQ5aUg6BvIKWAHmGHAtsBopFYxydmb8MBW7AJvgCUoWU6FEirQFdZu//NExHMTIW6gAMPElIqdgHyjT9Z49I2cem8emL9fWyTEeR5FkcRYKi87Z//37u///ljkhKnRLk3///zomLKDupbhgtYduLmSnR75SYkQGiH4sBGAjqNxjYkni0qYfwaw//NExHkWeYZ8ANPMlIR3CcDBTBgPJgt+k7HCgGI1HiCq++/XYZtex1D6i9h45yh8McEQHCRu/qvX6UrVlY6iZN////1KFjNNAEmhSbGAiYRpCIiM7Am/FgKdHjl3XdvU//NExHIWOZJwANsKlMWwqPwGnAEXR1OWa7u/k+c1Jqyt53b1va9jqcc5Th4XFh6AyCw0CixFWv1r//VlYRG7////7FJN4RngajDh2GMQwTBDuydPNrxMYPLyerhbQCIU//NExGwT6YZ4ANsKlBWLRAWru683zNlmpysVRUva7N2pocqjVDtDlUROIiYSEgGFB////rOqspRMIwpsQNQgfJhQvJk4dOBa6amrWhKHhmZGCQXryqQR1LRELyoyftr0//NExG8SYY50ANsKleTsiQ6ELJjDG1ONy90DVnZ2Bh8Yj1P9QWB4cFg0GjJH///VU6GRcctHwWAIOGIjGRmcXKzrScCLRhMyhiqUA4OtNNWtv8t2WVFXAZzlsRTTbMqF//NExHgR+P5sANsGcEPNJiQGAyX5encrV3z9Pmipf6oZBxhcXHGT0YBBBhsCAoPUbusOd2W2LaiTioqfszpqT+t+gsmgQ45c4dWTLzm1WS8zLUcjJHCx6HUBpZGGiNKG//NExIMQmQpcAOJKcRVHHK7aakZCrTSyDFqG0OAeWsRTj0T1Jkw8ki4woiWNGA6EgMAGoEQAIILOGDY5Yqi9ixY8VcpouY3lTVyNexOu/qTc1G/Mr/9lxKoLwISAOTac//NExJMRUQ5AAOGMcOl6bCiVYMDQKJxwEQZgI3SmKEM95YcmYxpRNPEw4XtHDioLUM6nD7Gp0PorUswBT1wq3eysk/ZJxLRyLo4V2aoF4GaNy6ijZqEmNQTDEFEIKDkb//NExKARUGY0ANMMKHdSMKBmtKh3dXVfhZwAksti8k4kCYgZBB5JYGS0tvVfrtH3PFIqKLd0prNvSxy0OYtpsXYpkJUGUp36Gp98IyIfs9V8KVYXaYEZW4mrtZwF9G2g//NExK0RsMIoAHiGTHaTW6YRe70YNnM13BAp6Z8whGyl4tvv/+9fG4+D61Xm/pf+2Yt1/Mnf/2Q70gZmr+5ik47kRGaDYNPkhRXPHvdnPrO8bhnDK5OGzizwbSBhMoke//NExLkSaOIUAJDEcA7JFzx06xVYzMtS+0UOt2UORsUjHNLj3IolaDReBkn/2XqKlmb61SjGPCmx24oohBRbGSIcuo6k6k51J+YgMmvm8hh0DAiLC5smlBopEgtmV1jw//NExMISKNYQAJjGceqT5/MLTjG3auuFBavWUgrTRrRfTZbq3IkbORhAozlLMSMjiEDhFZlmOGPmiCCVlLnWtITKfeoZuRkmUI5leupimJUO/f/yt+cnTTzp59z0ZzJ7//NExMwQsSYUAJBGcORnU+WZH9BGqpaFRql4vTSlqgrSpTrZttE2CEd3CtlDV3VzFCKFFjZKTzdeAktd6qGO4NG9M8UUsy0fM1pkWPC2nGYXZpX0zOI/9FLjtfH/P7GL//NExNwRMVoQAJjGlA3Wt8XNPfLMae/92/9Ov+U/KgrRba7LRQukaZIUQJH0i26EOIInMYEEahXzOg1dtzRoxEi+jCzEiD2UuqMq9h6xSyo6EaPKLmtxKu7mw3wA0Zw7//NExOoVgqoMAJjGuZtb//nx/O2/bUqb9v6g9qEj2sMqBlPfrVqWpnFzLxZ2aEpnd2l03Y4u27Wm/ZD/3ZWCDcwZq1Il1PamuLEaWNCqjYGWF5Qao+ajQDQ1SO0chTDj//NExOcUkZoMAJjGlZKoxhMhex64JG0kVwpEdrsykHZJU/3MfH1RdI6grKpJNJAmzCnzVwx0GMz4e6OBJwyhpuggMGEYWec6TCIa7upCRnPZiDgpwt5fYzWef0IfsQRF//NExOcVEYoMAJjGlVgpfRNZzxc/Bh7r1vJH9mxd2V7oHOeNCpUHQSe6kWSMG5I01gOmZH5qYdTJHjgyIzvskQ83KnhMXfJbBwsvuy2+MIyzMs2udo57ev0W1lZRZ81v//NExOUSuYIQAJjGlGDfYL2tNspt0tbhu+q3Nc4/26vFqgqXrUpBVexzifn7E3CJ7obCT+w3OFA512Y2Ivmr8uAqFVWkyOQ6iF6naQVw+ZxITQLDQ0sRNYxyUMUGSkXX//NExO0XghIIAKGGma22WrsmaGRr3pF3sJUGKkFNqrooOx1FHlurl8ucTwWd9o8KanFcjDF5m6+PSgz3mtj5pQribFRBlECzoKCwYpCD0EJKoRKRwJhUBgiQa0W8QGaZ//NExOIUCP4QAJjGcebrS7Mi708zJc0tJjdNGdmCnnEvlno2szY+X6E5Bo+s1QZSktb1Xq8U9c1WLT1weSKrsXFUWInMYnDxZwEcjyH3tJA/BtagaWLOLC4EHhsAHlAi//NExOQSqYIQAJjGlBs+LNSmN2loqJLgO+/A2xRRx7U9xwi01elaBlFN6nrSqNYh310N3JXqvOhMiSaXE3ttOVE077tbj9t1liVa3hu7/xbzuYVBjUYaGSSmO96Z9vla//NExOwZkv4EAKGGuaurf/m347vZd3M/9diLWMk8Tf4Btd1N1QrX0WWo7VaPwFM0OA99B0cZwjAwYQVbhx+PML1FOA02hx0IQOeHGswyVPX5/HAKvPeyO/1lTKHoPd4///NExNgS6TIQAJjGcI3PxmLxz86ee7K3P07dLGN//lofu/oGUfr62Uio09YTm/Wd0MjD09HI8G3DYSuH/OZrbF0DcsIGUK7cJi6RNm7xRPAFILyp8KNugqy2PrUwaTSS//NExN8UCXIQAJjMlTU41lDwkKPeMDguYTYs5I0K1VdtbvQTo+syATrEG2ExjTgahhyKpDp9U+c79rVy3ZnPnTrA8vW/vxsO+Xts2Hmiv9E5lxx9+6weq/zvW2Z9ziRA//NExOEUOTYMAJjGcZtff0Kl+abrlvzil5qzJFy8NQZq6LboaluXnoXOJYwW/q+bsKOIyG5E6MiIHgpA1/Z0JiU4DIVaj6PwiJDWsrkyFUNlHv93c94ay8yhZHZ7enmZ//NExOMTKYIQAJjGlPwvLdciG/FDqd7eFS/o3dqf3n+9KgZlWvddR0SU4fTfLPMcHMrVIzF2WXVqgmka9XyTQqgYYRag5pFhMRWFiRJhWZNj3NchKjq2kSKQqp05RCNW//NExOkVIXoMAJjMlRdbdNmaLwYiQVskpSl0HP0jgq4amO4WMRhKHiwMaoILBs4KsJDMJUq4/XajBiSOYcQ62UMJwwGFsMzxa4zC5imKFu6ZeeYtvjGWfnnO/5eW7QhF//NExOcVSn4MAJjGuf6UmZ9O9zll8vkXU/vdugin1U2qBlGVpe6WYKxPm9eMfEJyL6qKx0M0hdbdWMn+mOw3kThw4z8eGWrnmJoSQKhgXg+ISymFZVplTFlZxddHISag//NExOQQ+SYUAJDEcN3NQHVj0MpqFXMlBopVBmq0VU9VKx1NavdYHZuhpDZ3MNhTrCCPYO6Wc/shUdF0MqlCJChSlR0PkId8eg1mvKPQyoiNyuhxXQiXr1YpVouuuu+2//NExPMYCv4IAKDGuarqvRTI3r0oxnQ9bx3G85JMFQZpN9alNZBaZseOubamMQVVORXOBLrHPAKpw6q4UxxQSQIIOk0CpRNhrnAZjRNM2CrsRI90LLOFiyErzRJiBUCl//NExOUTCWIQAJjGlJ5Ueyom6xjrEihlRxc+gqWpNeITSgZSt6SrIMrNaISEYVP34+uwRRoO6WFEQFf4sJPNent6ZKtFy5z1OUGOa0qAVKa1BiVWjNtCLdKRVgswdqA9//NExOsVkuoMAJjKuYZ3haH3hoQwAo3nilUGaf10FXmWJLcjIWq0Ok7zyNhLCxxwy2EG2Ttwseb1evvqpnyVVlTX77B8THf37kjD5m6traHZJCU/LLu9t8m3Or7zN2Jz//NExOcVWb4MAJjGlD7U/zL3qWuj+uX3TyoEFYA7cMRuct0Vu1ZtY01XVW5hsJwlhL4DWjmm5sy7bNVrydctss2wSfnJf1+8ZjNWUuUgo0z2MlLjZUvLKHKcAjpe0/h5//NExOQSiV4QAJjGlOTbeqrSyPyNqW1X4esba/6l9P9qXWwy0W01CHDZJwcaUaVSok6DoSC5jo6WyyyhgoIE5mkFRWKiokfQFBaLCxF0FhcRu+sUbizMsLitYqSegGRQ//NExOwUqVIMAJjMlUj8WxYX//FRbUpMQU1FMy4xMDCqqqqqqqqqqqqqqqqqqqqqqqqqqqqqqqqqqqqqqqqqqqqqqqqqqqqqqqqqqqqqqqqqqqqqqqqqqqqqqqqqqqqq//NExOwX6t4EAMGGuaqqqqqqqqqqqqqqqqqqqqqqqqqqqqqqqqqqqqqqqqqqqqqqqqqqqqqqqqqqqqqqqqqqqqqqqqqqqqqqqqqqqqqqqqqqqqqqqqqqqqqqqqqqqqqq//NExN8QmHWkAHoGSKqqqqqqqqqqqqqqqqqqqqqqqqqqqqqqqqqqqqqqqqqqqqqqqqqqqqqqqqqqqqqqqqqqqqqqqqqqqqqqqqqqqqqqqqqqqqqqqqqqqqqqqqqqqqqq\" type=\"audio/x-wav\" />\n",
              "                    Your browser does not support the audio element.\n",
              "                </audio>\n",
              "              "
            ]
          },
          "metadata": {}
        }
      ]
    },
    {
      "cell_type": "code",
      "source": [
        "### + 기호 : 문자열을 합쳐서 출력"
      ],
      "metadata": {
        "id": "L7uhwuTselKk"
      },
      "execution_count": null,
      "outputs": []
    },
    {
      "cell_type": "code",
      "source": [
        "print('Hello'+'world')\n",
        "print('Hello','world','!')"
      ],
      "metadata": {
        "id": "YDRfUbABetTF"
      },
      "execution_count": null,
      "outputs": []
    },
    {
      "cell_type": "code",
      "source": [
        "### '*'기호 : 반복의 의미"
      ],
      "metadata": {
        "id": "QMo2mXgsfFCF"
      },
      "execution_count": null,
      "outputs": []
    },
    {
      "cell_type": "code",
      "source": [
        "print('반짝'*2, ' 눈이 부셔'*2, '노'*5)\n",
        "print('*'*50)"
      ],
      "metadata": {
        "colab": {
          "base_uri": "https://localhost:8080/"
        },
        "id": "a1R7jKCAfLEM",
        "outputId": "83db9f28-d464-45aa-d170-38ee4aa91aff"
      },
      "execution_count": 24,
      "outputs": [
        {
          "output_type": "stream",
          "name": "stdout",
          "text": [
            "반짝반짝  눈이 부셔 눈이 부셔 노노노노노\n",
            "**************************************************\n"
          ]
        }
      ]
    },
    {
      "cell_type": "code",
      "source": [
        "print(\"Mary's cosmetics\")\n",
        "print('박씨가 소리질렀다. \"도둑이야!\".')\n",
        "print(\"안녕하세요.\\n오늘\\t날씨가\\t\\t좋습니다.\")"
      ],
      "metadata": {
        "colab": {
          "base_uri": "https://localhost:8080/"
        },
        "id": "yq06Rm2wfbT1",
        "outputId": "a1950124-3e61-4da7-a78f-8d6435fd9df4"
      },
      "execution_count": 25,
      "outputs": [
        {
          "output_type": "stream",
          "name": "stdout",
          "text": [
            "Mary's cosmetics\n",
            "박씨가 소리질렀다. \"도둑이야!\".\n",
            "안녕하세요.\n",
            "오늘\t날씨가\t\t좋습니다.\n"
          ]
        }
      ]
    },
    {
      "cell_type": "markdown",
      "source": [
        "## 문자열 인덱싱과 슬라이싱"
      ],
      "metadata": {
        "id": "uDqArVUff6X-"
      }
    },
    {
      "cell_type": "markdown",
      "source": [
        "### 문자열에서 자주 사용하는 함수"
      ],
      "metadata": {
        "id": "Y0PUX2hUkn6_"
      }
    },
    {
      "cell_type": "code",
      "source": [
        "a = 'Life is too short!'\n",
        "print(f\"문자열 개수 세기 : {a.count('o')}\")\n",
        "print(f\"문자열 위치 :  : {a.find('f')}\") # 없으면 -1 리턴\n",
        "print(f\"문자열 위치 :  : {a.index('f')}\") # 없으면 오류\n",
        "b='*'\n",
        "print(f\"문자열 삽입 :  : {b.join(a)}\")   #a에 b 삽입\n",
        "print(f\"문자열 변환 :  : {a.replace('Life','Your leg')}\") #문자열 대체\n",
        "print(f\"문자열 나누기  : {a.split()}\") #공백으로 분리해서 리스트형으로 변환\n",
        "print(f\"문자열 나누기  : {a.split('is')}\")"
      ],
      "metadata": {
        "colab": {
          "base_uri": "https://localhost:8080/"
        },
        "id": "q2s_kmPtgRyK",
        "outputId": "227aeb42-efe3-432e-9ba1-9c070920df75"
      },
      "execution_count": 30,
      "outputs": [
        {
          "output_type": "stream",
          "name": "stdout",
          "text": [
            "문자열 개수 세기 : 3\n",
            "문자열 위치 :  : 2\n",
            "문자열 위치 :  : 2\n",
            "문자열 삽입 :  : L*i*f*e* *i*s* *t*o*o* *s*h*o*r*t*!\n",
            "문자열 변환 :  : Your leg is too short!\n",
            "문자열 나누기 :  : ['Life', 'is', 'too', 'short!']\n",
            "문자열 나누기 :  : ['Life ', ' too short!']\n"
          ]
        }
      ]
    },
    {
      "cell_type": "code",
      "source": [
        "s = input('문자열을 입력하세요: ')\n",
        "print(f'{s[::-1]}')"
      ],
      "metadata": {
        "colab": {
          "base_uri": "https://localhost:8080/"
        },
        "id": "DPF_3YIGksQ1",
        "outputId": "89df0249-9dea-4ce7-ce5b-b95f3a16b78b"
      },
      "execution_count": 34,
      "outputs": [
        {
          "output_type": "stream",
          "name": "stdout",
          "text": [
            "문자열을 입력하세요: 사랑해요 파이썬!\n",
            "!썬이파 요해랑사\n"
          ]
        }
      ]
    },
    {
      "cell_type": "code",
      "source": [
        "s = input('파일을 입력하세요: ')\n",
        "val = s.split('.')\n",
        "print(f'파일명 : {val[0]}, 확장자 : {val[1]}')"
      ],
      "metadata": {
        "colab": {
          "base_uri": "https://localhost:8080/"
        },
        "id": "LvFI2PpGoFTh",
        "outputId": "e2d71941-52bd-4398-afe1-90d62b42204e"
      },
      "execution_count": 36,
      "outputs": [
        {
          "output_type": "stream",
          "name": "stdout",
          "text": [
            "파일을 입력하세요: test.py\n",
            "파일명 : test, 확장자 : py\n"
          ]
        }
      ]
    },
    {
      "cell_type": "code",
      "source": [
        "meal = 4450\n",
        "tax = 6.75 / 100\n",
        "tip = 15 / 100\n",
        "meal += meal * tax\n",
        "total = meal + (meal*tip)\n",
        "print(f'{round(total, 2): ,}')"
      ],
      "metadata": {
        "colab": {
          "base_uri": "https://localhost:8080/"
        },
        "id": "IJFVPxJOrDaV",
        "outputId": "2a6f0a87-7888-49c8-b5f1-e4571e920f5d"
      },
      "execution_count": 51,
      "outputs": [
        {
          "output_type": "stream",
          "name": "stdout",
          "text": [
            " 5,462.93\n"
          ]
        }
      ]
    },
    {
      "cell_type": "code",
      "source": [
        "### 섭씨 -> 화씨 변환\n",
        "a = input('섭씨온도를 입력하세요(°C): ')\n",
        "f = (9/5)*float(a) + 32\n",
        "print(f'섭씨온도(°C) : {a} 는 화씨온도로 : {f:.2f} (°F)입니다.')"
      ],
      "metadata": {
        "colab": {
          "base_uri": "https://localhost:8080/"
        },
        "id": "7BMxHkROu5il",
        "outputId": "d6122bf4-8649-4330-e3cb-b1814e518737"
      },
      "execution_count": 56,
      "outputs": [
        {
          "output_type": "stream",
          "name": "stdout",
          "text": [
            "섭씨온도를 입력하세요(°C): 55\n",
            "섭씨온도(°C) : 55 는 화씨온도로 : 131.00 (°F)입니다.\n"
          ]
        }
      ]
    },
    {
      "cell_type": "markdown",
      "source": [
        "# 연산자"
      ],
      "metadata": {
        "id": "sqhIbTw7pyRl"
      }
    },
    {
      "cell_type": "markdown",
      "source": [
        "### 파이썬 연산자"
      ],
      "metadata": {
        "id": "P4asks0-zzDk"
      }
    },
    {
      "cell_type": "code",
      "source": [
        "# 산술 연산자\n",
        "print(33 // 5) #몫\n",
        "print(33 % 5)  #나머지"
      ],
      "metadata": {
        "colab": {
          "base_uri": "https://localhost:8080/"
        },
        "id": "S1M6xp92zwJl",
        "outputId": "0105feca-1696-483b-e1f0-4aad4e972fcc"
      },
      "execution_count": 57,
      "outputs": [
        {
          "output_type": "stream",
          "name": "stdout",
          "text": [
            "6\n",
            "3\n"
          ]
        }
      ]
    },
    {
      "cell_type": "code",
      "source": [
        "# 대입 연산자\n",
        "a = a + 1 #  a+= 1 과 같다\n"
      ],
      "metadata": {
        "id": "QINvUbtl0NT2"
      },
      "execution_count": null,
      "outputs": []
    },
    {
      "cell_type": "code",
      "source": [
        "# 관계 연산자(비교 연산자)\n",
        "a = 100\n",
        "print(a > 200)\n",
        "print(a == 100)\n"
      ],
      "metadata": {
        "colab": {
          "base_uri": "https://localhost:8080/"
        },
        "id": "IhHURURu0o-1",
        "outputId": "2ce60a40-ca4d-4192-f545-fbd55f6674d5"
      },
      "execution_count": 65,
      "outputs": [
        {
          "output_type": "stream",
          "name": "stdout",
          "text": [
            "False\n",
            "True\n"
          ]
        }
      ]
    },
    {
      "cell_type": "code",
      "source": [
        "# 논리 연산자\n",
        "a = 100\n",
        "print(a > 100 and a == 100)\n",
        "print(a > 100 or a == 100)\n",
        "print( not(a == 100) )"
      ],
      "metadata": {
        "colab": {
          "base_uri": "https://localhost:8080/"
        },
        "id": "euWkqaO61GSM",
        "outputId": "ae01c605-0ce8-4a8b-8f66-47c241a10ea1"
      },
      "execution_count": 63,
      "outputs": [
        {
          "output_type": "stream",
          "name": "stdout",
          "text": [
            "False\n",
            "True\n",
            "False\n"
          ]
        }
      ]
    },
    {
      "cell_type": "code",
      "source": [
        "# 멤버쉽 연산자\n",
        "fruits = ['사과', '포도', '오렌지', '딸기']\n",
        "print('딸기' in fruits)\n",
        "print('키위' not in fruits)\n",
        "\n",
        "if '딸기' in fruits:\n",
        "    print('딸기는 fruits 안에 있습니다.')\n",
        "else:\n",
        "    print('딸기는 fruits 안에 없습니다.')\n",
        "\n",
        "for fruit in fruits:\n",
        "  print(f'내가 좋아하는 과일 \"{fruit}\"')\n",
        ""
      ],
      "metadata": {
        "colab": {
          "base_uri": "https://localhost:8080/"
        },
        "id": "7NnksjEZ1jnM",
        "outputId": "9542da21-fc0b-4469-8b73-8e2842f67b40"
      },
      "execution_count": 68,
      "outputs": [
        {
          "output_type": "stream",
          "name": "stdout",
          "text": [
            "True\n",
            "True\n",
            "딸기는 fruits 안에 있습니다.\n",
            "내가 좋아하는 과일 \"사과\"\n",
            "내가 좋아하는 과일 \"포도\"\n",
            "내가 좋아하는 과일 \"오렌지\"\n",
            "내가 좋아하는 과일 \"딸기\"\n"
          ]
        }
      ]
    },
    {
      "cell_type": "code",
      "source": [
        "letters = 'Life is too short!'\n",
        "if 'too' in letters:\n",
        "  print(True)\n",
        "else:\n",
        "  print(False)"
      ],
      "metadata": {
        "colab": {
          "base_uri": "https://localhost:8080/"
        },
        "id": "MjD3CpOb2kqt",
        "outputId": "ff8a5178-ca65-4f0f-f1e4-0208a78c1edb"
      },
      "execution_count": 69,
      "outputs": [
        {
          "output_type": "stream",
          "name": "stdout",
          "text": [
            "True\n"
          ]
        }
      ]
    },
    {
      "cell_type": "code",
      "source": [
        "a = int(input('키보드로 동전 교환 금액 입력 : '))\n",
        "a500 = a // 500\n",
        "a -= a500*500\n",
        "a100 = a // 100\n",
        "a -= a100*100\n",
        "a50 = a // 50\n",
        "a -= a50*50\n",
        "a10 = a // 10\n",
        "a -= a10*10\n",
        "a1 = a\n",
        "print('-'*50)\n",
        "print(f'500원짜리 ==> {a500}개')\n",
        "print(f'100원짜리 ==> {a100}개')\n",
        "print(f'50원짜리 ==> {a50}개')\n",
        "print(f'10원짜리 ==> {a10}개')\n",
        "print(f'잔돈 ==> {a1}개')\n",
        "\n"
      ],
      "metadata": {
        "colab": {
          "base_uri": "https://localhost:8080/"
        },
        "id": "d98nmdqx3jgD",
        "outputId": "421768e1-d2c9-4072-f3f0-fe08e7546487"
      },
      "execution_count": 70,
      "outputs": [
        {
          "output_type": "stream",
          "name": "stdout",
          "text": [
            "키보드로 동전 교환 금액 입력 : 4321\n",
            "--------------------------------------------------\n",
            "500원짜리 ==> 8개\n",
            "100원짜리 ==> 3개\n",
            "50원짜리 ==> 0개\n",
            "10원짜리 ==> 2개\n",
            "잔돈 ==> 1개\n"
          ]
        }
      ]
    },
    {
      "cell_type": "code",
      "source": [
        "money = int(input('키보드로 동전 교환 금액 입력 : '))\n",
        "print('-'*50)\n",
        "print(f'500원짜리 ==> {money // 500}개')\n",
        "money %= 500\n",
        "print(f'100원짜리 ==> {money // 100}개')\n",
        "money %= 100\n",
        "print(f'50원짜리 ==> {money // 50}개')\n",
        "money %= 50\n",
        "print(f'10원짜리 ==> {money // 10}개')\n",
        "money %= 10\n",
        "print(f'잔돈 ==> {money}개')\n",
        "\n"
      ],
      "metadata": {
        "colab": {
          "base_uri": "https://localhost:8080/"
        },
        "id": "yXyxOV4Q45W8",
        "outputId": "c50e6c96-1d23-40b1-a83a-35f388ae2087"
      },
      "execution_count": 73,
      "outputs": [
        {
          "output_type": "stream",
          "name": "stdout",
          "text": [
            "키보드로 동전 교환 금액 입력 : 4321\n",
            "--------------------------------------------------\n",
            "500원짜리 ==> 8개\n",
            "100원짜리 ==> 3개\n",
            "50원짜리 ==> 0개\n",
            "10원짜리 ==> 2개\n",
            "잔돈 ==> 1개\n"
          ]
        }
      ]
    }
  ]
}