{
  "nbformat": 4,
  "nbformat_minor": 0,
  "metadata": {
    "colab": {
      "provenance": [],
      "authorship_tag": "ABX9TyN4Ihd1zXzOuwSIoI6142pA",
      "include_colab_link": true
    },
    "kernelspec": {
      "name": "python3",
      "display_name": "Python 3"
    },
    "language_info": {
      "name": "python"
    }
  },
  "cells": [
    {
      "cell_type": "markdown",
      "metadata": {
        "id": "view-in-github",
        "colab_type": "text"
      },
      "source": [
        "<a href=\"https://colab.research.google.com/github/furewing/dataAnalysis/blob/main/5%EC%B0%A8_%ED%8C%8C%EC%9D%B4%EC%8D%AC%EA%B8%B0%EC%B4%88_%EC%8B%A4%EC%8A%B5%EB%AC%B8%EC%A0%9C.ipynb\" target=\"_parent\"><img src=\"https://colab.research.google.com/assets/colab-badge.svg\" alt=\"Open In Colab\"/></a>"
      ]
    },
    {
      "cell_type": "code",
      "execution_count": null,
      "metadata": {
        "id": "IpqUucmFezzI"
      },
      "outputs": [],
      "source": []
    },
    {
      "cell_type": "markdown",
      "source": [
        "## [문제1]반복문을 사용해 1부터 1000까지의 자연수 중 3의 배수의 합을 구해 보자"
      ],
      "metadata": {
        "id": "GiuyFB0Q4zDA"
      }
    },
    {
      "cell_type": "markdown",
      "source": [
        "### for문"
      ],
      "metadata": {
        "id": "WGn-xQX56ZM2"
      }
    },
    {
      "cell_type": "code",
      "source": [
        "tot = 0\n",
        "for i in range(1, 1001):\n",
        "  if (i % 3 == 0):\n",
        "    tot += i\n",
        "\n",
        "print(f'1부터 1000까지의 자연수 중 3의 배수의 합 = ', tot)\n"
      ],
      "metadata": {
        "colab": {
          "base_uri": "https://localhost:8080/"
        },
        "id": "Ddgj6bCe45iI",
        "outputId": "a309ca4e-0639-4f47-d2a4-9b70b4c96988"
      },
      "execution_count": null,
      "outputs": [
        {
          "output_type": "stream",
          "name": "stdout",
          "text": [
            "1부터 1000까지의 자연수 중 3의 배수의 합 =  166833\n"
          ]
        }
      ]
    },
    {
      "cell_type": "markdown",
      "source": [
        "### while문"
      ],
      "metadata": {
        "id": "My--vlSV6dwL"
      }
    },
    {
      "cell_type": "code",
      "source": [],
      "metadata": {
        "id": "MIgLcdD56glw"
      },
      "execution_count": null,
      "outputs": []
    },
    {
      "cell_type": "markdown",
      "source": [
        "### 리스트 컴프리헨션 이용하기"
      ],
      "metadata": {
        "id": "rOUgNuTx6g3d"
      }
    },
    {
      "cell_type": "code",
      "source": [
        "sum([i for i in range(1,1001) if i%3==0 ])"
      ],
      "metadata": {
        "colab": {
          "base_uri": "https://localhost:8080/"
        },
        "id": "IPoS_YFs65Lo",
        "outputId": "21d43a26-a0df-4641-b9a3-4f5463302a27"
      },
      "execution_count": null,
      "outputs": [
        {
          "output_type": "execute_result",
          "data": {
            "text/plain": [
              "166833"
            ]
          },
          "metadata": {},
          "execution_count": 4
        }
      ]
    },
    {
      "cell_type": "markdown",
      "source": [
        "### [문제2]사용자가 숫자를 입력하면 별 모양을 입력한 숫자의 두 배만큼 출력하는 프로그램을 만드세요. 예를 들어 5915를 입력하면 각 행에 10, 18, 2, 10 개의 별을 출력해 보세요.\n"
      ],
      "metadata": {
        "id": "sL3i2Grt6ia2"
      }
    },
    {
      "cell_type": "code",
      "source": [
        "#방법1\n",
        "star_list = list(input('숫자를 여러개 입력하세요: '))\n",
        "for s in star_list:\n",
        "  for i in range(0,int(s)*2):\n",
        "    print('*',end='')\n",
        "  print('')\n",
        "\n"
      ],
      "metadata": {
        "colab": {
          "base_uri": "https://localhost:8080/"
        },
        "id": "Vd1dzWCkG1HB",
        "outputId": "e2c40daf-4f21-4d90-bb95-2086e0508539"
      },
      "execution_count": null,
      "outputs": [
        {
          "output_type": "stream",
          "name": "stdout",
          "text": [
            "숫자를 입력하세요: 1234\n",
            "**\n",
            "****\n",
            "******\n",
            "********\n"
          ]
        }
      ]
    },
    {
      "cell_type": "code",
      "source": [
        "#방법2\n",
        "num = list(input('숫자를 여러개 입력하세요: '))\n",
        "for star in num:\n",
        "  print('*'*int(star)*2)\n",
        "\n"
      ],
      "metadata": {
        "colab": {
          "base_uri": "https://localhost:8080/"
        },
        "id": "eQlI17O6JnhX",
        "outputId": "84e158a3-b7d1-4b80-8c4f-1c6e7f11e5df"
      },
      "execution_count": null,
      "outputs": [
        {
          "output_type": "stream",
          "name": "stdout",
          "text": [
            "숫자를 입력하세요: 1234\n",
            "**\n",
            "****\n",
            "******\n",
            "********\n"
          ]
        }
      ]
    },
    {
      "cell_type": "markdown",
      "source": [
        "### [실습문제3]아래와 같이 구구단을 출력해 보세요."
      ],
      "metadata": {
        "id": "EpINp-6tO2-B"
      }
    },
    {
      "cell_type": "code",
      "source": [
        "# 방법1 : 세로출력\n",
        "\n",
        "for i in range(2,10):\n",
        "  print(f'---{i}단---')\n",
        "  for j in range(1,10):\n",
        "    print(f'{i}*{j}={i*j}')\n"
      ],
      "metadata": {
        "colab": {
          "base_uri": "https://localhost:8080/"
        },
        "id": "-ZuNi2IMO7zf",
        "outputId": "22e6c8d5-fd61-4cb5-f2b0-1e5b3779d4da"
      },
      "execution_count": 2,
      "outputs": [
        {
          "output_type": "stream",
          "name": "stdout",
          "text": [
            "---2단---\n",
            "2*1=2\n",
            "2*2=4\n",
            "2*3=6\n",
            "2*4=8\n",
            "2*5=10\n",
            "2*6=12\n",
            "2*7=14\n",
            "2*8=16\n",
            "2*9=18\n",
            "---3단---\n",
            "3*1=3\n",
            "3*2=6\n",
            "3*3=9\n",
            "3*4=12\n",
            "3*5=15\n",
            "3*6=18\n",
            "3*7=21\n",
            "3*8=24\n",
            "3*9=27\n",
            "---4단---\n",
            "4*1=4\n",
            "4*2=8\n",
            "4*3=12\n",
            "4*4=16\n",
            "4*5=20\n",
            "4*6=24\n",
            "4*7=28\n",
            "4*8=32\n",
            "4*9=36\n",
            "---5단---\n",
            "5*1=5\n",
            "5*2=10\n",
            "5*3=15\n",
            "5*4=20\n",
            "5*5=25\n",
            "5*6=30\n",
            "5*7=35\n",
            "5*8=40\n",
            "5*9=45\n",
            "---6단---\n",
            "6*1=6\n",
            "6*2=12\n",
            "6*3=18\n",
            "6*4=24\n",
            "6*5=30\n",
            "6*6=36\n",
            "6*7=42\n",
            "6*8=48\n",
            "6*9=54\n",
            "---7단---\n",
            "7*1=7\n",
            "7*2=14\n",
            "7*3=21\n",
            "7*4=28\n",
            "7*5=35\n",
            "7*6=42\n",
            "7*7=49\n",
            "7*8=56\n",
            "7*9=63\n",
            "---8단---\n",
            "8*1=8\n",
            "8*2=16\n",
            "8*3=24\n",
            "8*4=32\n",
            "8*5=40\n",
            "8*6=48\n",
            "8*7=56\n",
            "8*8=64\n",
            "8*9=72\n",
            "---9단---\n",
            "9*1=9\n",
            "9*2=18\n",
            "9*3=27\n",
            "9*4=36\n",
            "9*5=45\n",
            "9*6=54\n",
            "9*7=63\n",
            "9*8=72\n",
            "9*9=81\n"
          ]
        }
      ]
    },
    {
      "cell_type": "code",
      "source": [
        "# 방법1 : 가로출력\n",
        "for i in range(0,10):\n",
        "  for j in range(2,10):\n",
        "    if i == 0:\n",
        "      print(f'-{j}단--', end=' ')\n",
        "    else:\n",
        "      print(f'{j}*{i}={j*i:2d}',end=' ')\n",
        "  print()\n"
      ],
      "metadata": {
        "colab": {
          "base_uri": "https://localhost:8080/"
        },
        "id": "mQ_oeW5PPgfc",
        "outputId": "a358fc4d-19dd-4a17-8c35-bccc6565192a"
      },
      "execution_count": 12,
      "outputs": [
        {
          "output_type": "stream",
          "name": "stdout",
          "text": [
            "-2단-- -3단-- -4단-- -5단-- -6단-- -7단-- -8단-- -9단-- \n",
            "2*1= 2 3*1= 3 4*1= 4 5*1= 5 6*1= 6 7*1= 7 8*1= 8 9*1= 9 \n",
            "2*2= 4 3*2= 6 4*2= 8 5*2=10 6*2=12 7*2=14 8*2=16 9*2=18 \n",
            "2*3= 6 3*3= 9 4*3=12 5*3=15 6*3=18 7*3=21 8*3=24 9*3=27 \n",
            "2*4= 8 3*4=12 4*4=16 5*4=20 6*4=24 7*4=28 8*4=32 9*4=36 \n",
            "2*5=10 3*5=15 4*5=20 5*5=25 6*5=30 7*5=35 8*5=40 9*5=45 \n",
            "2*6=12 3*6=18 4*6=24 5*6=30 6*6=36 7*6=42 8*6=48 9*6=54 \n",
            "2*7=14 3*7=21 4*7=28 5*7=35 6*7=42 7*7=49 8*7=56 9*7=63 \n",
            "2*8=16 3*8=24 4*8=32 5*8=40 6*8=48 7*8=56 8*8=64 9*8=72 \n",
            "2*9=18 3*9=27 4*9=36 5*9=45 6*9=54 7*9=63 8*9=72 9*9=81 \n"
          ]
        }
      ]
    },
    {
      "cell_type": "code",
      "source": [
        "for i in range(1, 10):\n",
        "    for j in range(2, 10):\n",
        "        print(f\"{j} x {i} = {j*i:2d}\", end=\" \")\n",
        "    print()\n"
      ],
      "metadata": {
        "id": "8yv2GWPUYjDL"
      },
      "execution_count": null,
      "outputs": []
    },
    {
      "cell_type": "markdown",
      "source": [
        "### [실습문제4] 공이 튕긴 횟수 구하기 (공을 일정 높이에서 떨어뜨리면, 원래 높이의 1/2만큼 튀어 오릅니다. 이를 반복하다가 높이가 0.00001m보다 낮으면 튀어 오르지 않습니다. while문을 이용하여 공이 튀어 오르는 총 횟수를 구하는 프로그램을 만들어 보세요.)"
      ],
      "metadata": {
        "id": "IlNs-bDjYxMX"
      }
    },
    {
      "cell_type": "code",
      "source": [],
      "metadata": {
        "id": "kdRBw8m4Y2RW"
      },
      "execution_count": null,
      "outputs": []
    }
  ]
}