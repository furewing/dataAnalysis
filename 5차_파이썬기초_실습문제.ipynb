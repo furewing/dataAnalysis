{
  "nbformat": 4,
  "nbformat_minor": 0,
  "metadata": {
    "colab": {
      "provenance": [],
      "authorship_tag": "ABX9TyPyc4lNdg0QMo2VpklFZXSO",
      "include_colab_link": true
    },
    "kernelspec": {
      "name": "python3",
      "display_name": "Python 3"
    },
    "language_info": {
      "name": "python"
    }
  },
  "cells": [
    {
      "cell_type": "markdown",
      "metadata": {
        "id": "view-in-github",
        "colab_type": "text"
      },
      "source": [
        "<a href=\"https://colab.research.google.com/github/furewing/dataAnalysis/blob/main/5%EC%B0%A8_%ED%8C%8C%EC%9D%B4%EC%8D%AC%EA%B8%B0%EC%B4%88_%EC%8B%A4%EC%8A%B5%EB%AC%B8%EC%A0%9C.ipynb\" target=\"_parent\"><img src=\"https://colab.research.google.com/assets/colab-badge.svg\" alt=\"Open In Colab\"/></a>"
      ]
    },
    {
      "cell_type": "code",
      "execution_count": null,
      "metadata": {
        "id": "IpqUucmFezzI"
      },
      "outputs": [],
      "source": []
    },
    {
      "cell_type": "markdown",
      "source": [
        "## [문제1]반복문을 사용해 1부터 1000까지의 자연수 중 3의 배수의 합을 구해 보자"
      ],
      "metadata": {
        "id": "GiuyFB0Q4zDA"
      }
    },
    {
      "cell_type": "markdown",
      "source": [
        "### for문"
      ],
      "metadata": {
        "id": "WGn-xQX56ZM2"
      }
    },
    {
      "cell_type": "code",
      "source": [
        "tot = 0\n",
        "for i in range(1, 1001):\n",
        "  if (i % 3 == 0):\n",
        "    tot += i\n",
        "\n",
        "print(f'1부터 1000까지의 자연수 중 3의 배수의 합 = ', tot)\n"
      ],
      "metadata": {
        "colab": {
          "base_uri": "https://localhost:8080/"
        },
        "id": "Ddgj6bCe45iI",
        "outputId": "a309ca4e-0639-4f47-d2a4-9b70b4c96988"
      },
      "execution_count": 5,
      "outputs": [
        {
          "output_type": "stream",
          "name": "stdout",
          "text": [
            "1부터 1000까지의 자연수 중 3의 배수의 합 =  166833\n"
          ]
        }
      ]
    },
    {
      "cell_type": "markdown",
      "source": [
        "### while문"
      ],
      "metadata": {
        "id": "My--vlSV6dwL"
      }
    },
    {
      "cell_type": "code",
      "source": [],
      "metadata": {
        "id": "MIgLcdD56glw"
      },
      "execution_count": null,
      "outputs": []
    },
    {
      "cell_type": "markdown",
      "source": [
        "### 리스트 컴프리헨션 이용하기"
      ],
      "metadata": {
        "id": "rOUgNuTx6g3d"
      }
    },
    {
      "cell_type": "code",
      "source": [
        "sum([i for i in range(1,1001) if i%3==0 ])"
      ],
      "metadata": {
        "colab": {
          "base_uri": "https://localhost:8080/"
        },
        "id": "IPoS_YFs65Lo",
        "outputId": "21d43a26-a0df-4641-b9a3-4f5463302a27"
      },
      "execution_count": 4,
      "outputs": [
        {
          "output_type": "execute_result",
          "data": {
            "text/plain": [
              "166833"
            ]
          },
          "metadata": {},
          "execution_count": 4
        }
      ]
    },
    {
      "cell_type": "markdown",
      "source": [
        "### [문제2]사용자가 숫자를 입력하면 별 모양을 입력한 숫자의 두 배만큼 출력하는 프로그램을 만드세요. 예를 들어 5915를 입력하면 각 행에 10, 18, 2, 10 개의 별을 출력해 보세요.\n"
      ],
      "metadata": {
        "id": "sL3i2Grt6ia2"
      }
    },
    {
      "cell_type": "code",
      "source": [
        "#방법1\n",
        "star_list = list(input('숫자를 여러개 입력하세요: '))\n",
        "for s in star_list:\n",
        "  for i in range(0,int(s)*2):\n",
        "    print('*',end='')\n",
        "  print('')\n",
        "\n"
      ],
      "metadata": {
        "colab": {
          "base_uri": "https://localhost:8080/"
        },
        "id": "Vd1dzWCkG1HB",
        "outputId": "e2c40daf-4f21-4d90-bb95-2086e0508539"
      },
      "execution_count": 13,
      "outputs": [
        {
          "output_type": "stream",
          "name": "stdout",
          "text": [
            "숫자를 입력하세요: 1234\n",
            "**\n",
            "****\n",
            "******\n",
            "********\n"
          ]
        }
      ]
    },
    {
      "cell_type": "code",
      "source": [
        "#방법2\n",
        "num = list(input('숫자를 여러개 입력하세요: '))\n",
        "for star in num:\n",
        "  print('*'*int(star)*2)\n",
        "\n"
      ],
      "metadata": {
        "colab": {
          "base_uri": "https://localhost:8080/"
        },
        "id": "eQlI17O6JnhX",
        "outputId": "84e158a3-b7d1-4b80-8c4f-1c6e7f11e5df"
      },
      "execution_count": 17,
      "outputs": [
        {
          "output_type": "stream",
          "name": "stdout",
          "text": [
            "숫자를 입력하세요: 1234\n",
            "**\n",
            "****\n",
            "******\n",
            "********\n"
          ]
        }
      ]
    }
  ]
}