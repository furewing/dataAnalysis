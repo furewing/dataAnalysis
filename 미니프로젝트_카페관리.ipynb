{
  "nbformat": 4,
  "nbformat_minor": 0,
  "metadata": {
    "colab": {
      "provenance": [],
      "authorship_tag": "ABX9TyP2YH5yZu2E/C/YzqL5PzI6",
      "include_colab_link": true
    },
    "kernelspec": {
      "name": "python3",
      "display_name": "Python 3"
    },
    "language_info": {
      "name": "python"
    }
  },
  "cells": [
    {
      "cell_type": "markdown",
      "metadata": {
        "id": "view-in-github",
        "colab_type": "text"
      },
      "source": [
        "<a href=\"https://colab.research.google.com/github/furewing/dataAnalysis/blob/main/%EB%AF%B8%EB%8B%88%ED%94%84%EB%A1%9C%EC%A0%9D%ED%8A%B8_%EC%B9%B4%ED%8E%98%EA%B4%80%EB%A6%AC.ipynb\" target=\"_parent\"><img src=\"https://colab.research.google.com/assets/colab-badge.svg\" alt=\"Open In Colab\"/></a>"
      ]
    },
    {
      "cell_type": "code",
      "execution_count": 9,
      "metadata": {
        "colab": {
          "base_uri": "https://localhost:8080/"
        },
        "id": "mGUNWFUzhKxm",
        "outputId": "94e6cf98-93d0-4825-85b2-ee21105729e3"
      },
      "outputs": [
        {
          "output_type": "stream",
          "name": "stdout",
          "text": [
            "\n",
            "  ==========================\n",
            "  [커피 관리 프로그램]\n",
            "  1. 메뉴 보기\n",
            "  2. 메뉴 추가\n",
            "  3. 메뉴 삭제\n",
            "  4. 메뉴 변경\n",
            "  5. 종료\n",
            "  ==========================\n",
            "  \n",
            "원하는 메뉴 번호를 선택하세요3\n",
            "삭제할 메뉴를 입력하세요 : 4\n",
            "삭제할 메뉴가 존재하지 않습니다.\n",
            "\n",
            "  ==========================\n",
            "  [커피 관리 프로그램]\n",
            "  1. 메뉴 보기\n",
            "  2. 메뉴 추가\n",
            "  3. 메뉴 삭제\n",
            "  4. 메뉴 변경\n",
            "  5. 종료\n",
            "  ==========================\n",
            "  \n",
            "원하는 메뉴 번호를 선택하세요4\n",
            "1.아메리카노\n",
            "2.카페라떼\n",
            "3.카푸치노\n",
            "변경할 메뉴 번호를 입력하세요 : 5\n",
            "변경할 메뉴 이름을 입력하세요 : 56\n",
            "변경할 메뉴 번호를 잘 못 선택하셨습니다.\n",
            "\n",
            "  ==========================\n",
            "  [커피 관리 프로그램]\n",
            "  1. 메뉴 보기\n",
            "  2. 메뉴 추가\n",
            "  3. 메뉴 삭제\n",
            "  4. 메뉴 변경\n",
            "  5. 종료\n",
            "  ==========================\n",
            "  \n",
            "원하는 메뉴 번호를 선택하세요5\n",
            "카페 관리 프로그램 종료!\n"
          ]
        }
      ],
      "source": [
        "\n",
        "items = [\"아메리카노\", \"카페라떼\", \"카푸치노\"]\n",
        "\n",
        "menu = '''\n",
        "  ==========================\n",
        "  [커피 관리 프로그램]\n",
        "  1. 메뉴 보기\n",
        "  2. 메뉴 추가\n",
        "  3. 메뉴 삭제\n",
        "  4. 메뉴 변경\n",
        "  5. 종료\n",
        "  ==========================\n",
        "  '''\n",
        "\n",
        "def items_chk(item):\n",
        "  return True if items.count(item) > 0 else False\n",
        "\n",
        "\n",
        "def menu_view():\n",
        "  for idx, menu in enumerate(items):\n",
        "    print(f'{idx+1}.{menu}')\n",
        "\n",
        "def menu_add():\n",
        "  item = input('추가할 메뉴를 입력하세요 : ')\n",
        "  items.append(item)\n",
        "\n",
        "def menu_del():\n",
        "  item = input('삭제할 메뉴를 입력하세요 : ')\n",
        "  if items_chk(item):\n",
        "    items.remove(item)\n",
        "  else:\n",
        "    print('삭제할 메뉴가 존재하지 않습니다.')\n",
        "\n",
        "def menu_upt():\n",
        "  menu_view()\n",
        "  item_idx = int(input('변경할 메뉴 번호를 입력하세요 : '))\n",
        "  if item_idx < len(items):\n",
        "    name = input('변경할 메뉴 이름을 입력하세요 : ')\n",
        "    print(f\"'{items[item_idx-1]}' 메뉴의 이름을 '{name}'으로 변경합니다\")\n",
        "    items[item_idx-1] = name\n",
        "  else:\n",
        "    print('변경할 메뉴 번호를 잘 못 선택하셨습니다.')\n",
        "\n",
        "\n",
        "while True:\n",
        "  print(menu)\n",
        "  user_input = input('원하는 메뉴 번호를 선택하세요')\n",
        "  if user_input == '1':\n",
        "    menu_view()\n",
        "  elif user_input == '2':\n",
        "     menu_add()\n",
        "  elif user_input == '3':\n",
        "    menu_del()\n",
        "  elif user_input == '4':\n",
        "    menu_upt()\n",
        "  elif user_input == '5':\n",
        "    print('카페 관리 프로그램 종료!')\n",
        "    break\n",
        "  else:\n",
        "    print('잘 못 선택하셨습니다. 다시 선택해주세요!')\n"
      ]
    },
    {
      "cell_type": "code",
      "source": [],
      "metadata": {
        "id": "mgDkz-qHhg7S"
      },
      "execution_count": null,
      "outputs": []
    }
  ]
}