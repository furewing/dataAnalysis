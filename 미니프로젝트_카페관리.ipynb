{
  "nbformat": 4,
  "nbformat_minor": 0,
  "metadata": {
    "colab": {
      "provenance": [],
      "authorship_tag": "ABX9TyPeXahd2RqMsSU/g9iRuaSA",
      "include_colab_link": true
    },
    "kernelspec": {
      "name": "python3",
      "display_name": "Python 3"
    },
    "language_info": {
      "name": "python"
    }
  },
  "cells": [
    {
      "cell_type": "markdown",
      "metadata": {
        "id": "view-in-github",
        "colab_type": "text"
      },
      "source": [
        "<a href=\"https://colab.research.google.com/github/furewing/dataAnalysis/blob/main/%EB%AF%B8%EB%8B%88%ED%94%84%EB%A1%9C%EC%A0%9D%ED%8A%B8_%EC%B9%B4%ED%8E%98%EA%B4%80%EB%A6%AC.ipynb\" target=\"_parent\"><img src=\"https://colab.research.google.com/assets/colab-badge.svg\" alt=\"Open In Colab\"/></a>"
      ]
    },
    {
      "cell_type": "code",
      "execution_count": null,
      "metadata": {
        "colab": {
          "base_uri": "https://localhost:8080/"
        },
        "id": "mGUNWFUzhKxm",
        "outputId": "94e6cf98-93d0-4825-85b2-ee21105729e3"
      },
      "outputs": [
        {
          "output_type": "stream",
          "name": "stdout",
          "text": [
            "\n",
            "  ==========================\n",
            "  [커피 관리 프로그램]\n",
            "  1. 메뉴 보기\n",
            "  2. 메뉴 추가\n",
            "  3. 메뉴 삭제\n",
            "  4. 메뉴 변경\n",
            "  5. 종료\n",
            "  ==========================\n",
            "  \n",
            "원하는 메뉴 번호를 선택하세요3\n",
            "삭제할 메뉴를 입력하세요 : 4\n",
            "삭제할 메뉴가 존재하지 않습니다.\n",
            "\n",
            "  ==========================\n",
            "  [커피 관리 프로그램]\n",
            "  1. 메뉴 보기\n",
            "  2. 메뉴 추가\n",
            "  3. 메뉴 삭제\n",
            "  4. 메뉴 변경\n",
            "  5. 종료\n",
            "  ==========================\n",
            "  \n",
            "원하는 메뉴 번호를 선택하세요4\n",
            "1.아메리카노\n",
            "2.카페라떼\n",
            "3.카푸치노\n",
            "변경할 메뉴 번호를 입력하세요 : 5\n",
            "변경할 메뉴 이름을 입력하세요 : 56\n",
            "변경할 메뉴 번호를 잘 못 선택하셨습니다.\n",
            "\n",
            "  ==========================\n",
            "  [커피 관리 프로그램]\n",
            "  1. 메뉴 보기\n",
            "  2. 메뉴 추가\n",
            "  3. 메뉴 삭제\n",
            "  4. 메뉴 변경\n",
            "  5. 종료\n",
            "  ==========================\n",
            "  \n",
            "원하는 메뉴 번호를 선택하세요5\n",
            "카페 관리 프로그램 종료!\n"
          ]
        }
      ],
      "source": [
        "\n",
        "items = [\"아메리카노\", \"카페라떼\", \"카푸치노\"]\n",
        "\n",
        "menu = '''\n",
        "  ==========================\n",
        "  [커피 관리 프로그램]\n",
        "  1. 메뉴 보기\n",
        "  2. 메뉴 추가\n",
        "  3. 메뉴 삭제\n",
        "  4. 메뉴 변경\n",
        "  5. 종료\n",
        "  ==========================\n",
        "  '''\n",
        "\n",
        "def items_chk(item):\n",
        "  return True if items.count(item) > 0 else False\n",
        "\n",
        "\n",
        "def menu_view():\n",
        "  for idx, menu in enumerate(items):\n",
        "    print(f'{idx+1}.{menu}')\n",
        "\n",
        "def menu_add():\n",
        "  item = input('추가할 메뉴를 입력하세요 : ')\n",
        "  items.append(item)\n",
        "\n",
        "def menu_del():\n",
        "  item = input('삭제할 메뉴를 입력하세요 : ')\n",
        "  if items_chk(item):\n",
        "    items.remove(item)\n",
        "  else:\n",
        "    print('삭제할 메뉴가 존재하지 않습니다.')\n",
        "\n",
        "def menu_upt():\n",
        "  menu_view()\n",
        "  item_idx = int(input('변경할 메뉴 번호를 입력하세요 : '))\n",
        "  if item_idx < len(items):\n",
        "    name = input('변경할 메뉴 이름을 입력하세요 : ')\n",
        "    print(f\"'{items[item_idx-1]}' 메뉴의 이름을 '{name}'으로 변경합니다\")\n",
        "    items[item_idx-1] = name\n",
        "  else:\n",
        "    print('변경할 메뉴 번호를 잘 못 선택하셨습니다.')\n",
        "\n",
        "\n",
        "while True:\n",
        "  print(menu)\n",
        "  user_input = input('원하는 메뉴 번호를 선택하세요')\n",
        "  if user_input == '1':\n",
        "    menu_view()\n",
        "  elif user_input == '2':\n",
        "     menu_add()\n",
        "  elif user_input == '3':\n",
        "    menu_del()\n",
        "  elif user_input == '4':\n",
        "    menu_upt()\n",
        "  elif user_input == '5':\n",
        "    print('카페 관리 프로그램 종료!')\n",
        "    break\n",
        "  else:\n",
        "    print('잘 못 선택하셨습니다. 다시 선택해주세요!')\n"
      ]
    },
    {
      "cell_type": "markdown",
      "source": [
        "## 영어 단어장 관리 프로그램"
      ],
      "metadata": {
        "id": "TETsgr8bSAux"
      }
    },
    {
      "cell_type": "code",
      "source": [
        "\n",
        "items = [\"아메리카노\", \"카페라떼\", \"카푸치노\"]\n",
        "\n",
        "menu = '''\n",
        "  ==========================\n",
        "  [커피 관리 프로그램]\n",
        "  1. 메뉴 보기\n",
        "  2. 메뉴 추가\n",
        "  3. 메뉴 삭제\n",
        "  4. 메뉴 변경\n",
        "  5. 종료\n",
        "  ==========================\n",
        "  '''\n",
        "\n",
        "def items_chk(item):\n",
        "  return True if items.count(item) > 0 else False\n",
        "\n",
        "\n",
        "def menu_view():\n",
        "  for idx, menu in enumerate(items):\n",
        "    print(f'{idx+1}.{menu}')\n",
        "\n",
        "def menu_add():\n",
        "  item = input('추가할 메뉴를 입력하세요 : ')\n",
        "  items.append(item)\n",
        "\n",
        "def menu_del():\n",
        "  item = input('삭제할 메뉴를 입력하세요 : ')\n",
        "  if items_chk(item):\n",
        "    items.remove(item)\n",
        "  else:\n",
        "    print('삭제할 메뉴가 존재하지 않습니다.')\n",
        "\n",
        "def menu_upt():\n",
        "  menu_view()\n",
        "  item_idx = int(input('변경할 메뉴 번호를 입력하세요 : '))\n",
        "  if item_idx < len(items):\n",
        "    name = input('변경할 메뉴 이름을 입력하세요 : ')\n",
        "    print(f\"'{items[item_idx-1]}' 메뉴의 이름을 '{name}'으로 변경합니다\")\n",
        "    items[item_idx-1] = name\n",
        "  else:\n",
        "    print('변경할 메뉴 번호를 잘 못 선택하셨습니다.')\n",
        "\n",
        "\n",
        "while True:\n",
        "  print(menu)\n",
        "  user_input = input('원하는 메뉴 번호를 선택하세요')\n",
        "  if user_input == '1':\n",
        "    menu_view()\n",
        "  elif user_input == '2':\n",
        "     menu_add()\n",
        "  elif user_input == '3':\n",
        "    menu_del()\n",
        "  elif user_input == '4':\n",
        "    menu_upt()\n",
        "  elif user_input == '5':\n",
        "    print('카페 관리 프로그램 종료!')\n",
        "    break\n",
        "  else:\n",
        "    print('잘 못 선택하셨습니다. 다시 선택해주세요!')\n"
      ],
      "metadata": {
        "id": "mgDkz-qHhg7S",
        "outputId": "307341ce-dfc0-411e-dd4c-048560d66365",
        "colab": {
          "base_uri": "https://localhost:8080/",
          "height": 551
        }
      },
      "execution_count": null,
      "outputs": [
        {
          "name": "stdout",
          "output_type": "stream",
          "text": [
            "\n",
            "  ==========================\n",
            "  [독서 목록 관리 프로그램]\n",
            "  1. 전체 조회\n",
            "  2. 도서 검색\n",
            "  3. 도서 추가\n",
            "  4. 도서 삭제\n",
            "  5. 종료\n",
            "  ==========================\n",
            "  \n",
            "원하는 메뉴(번호)를 선택하세요4\n"
          ]
        },
        {
          "output_type": "error",
          "ename": "TypeError",
          "evalue": "list indices must be integers or slices, not tuple",
          "traceback": [
            "\u001b[0;31m---------------------------------------------------------------------------\u001b[0m",
            "\u001b[0;31mTypeError\u001b[0m                                 Traceback (most recent call last)",
            "\u001b[0;32m<ipython-input-5-c169dbdeeddb>\u001b[0m in \u001b[0;36m<cell line: 38>\u001b[0;34m()\u001b[0m\n\u001b[1;32m     46\u001b[0m     \u001b[0mmenu_add\u001b[0m\u001b[0;34m(\u001b[0m\u001b[0;34m)\u001b[0m\u001b[0;34m\u001b[0m\u001b[0;34m\u001b[0m\u001b[0m\n\u001b[1;32m     47\u001b[0m   \u001b[0;32melif\u001b[0m \u001b[0muser_input\u001b[0m \u001b[0;34m==\u001b[0m \u001b[0;34m'4'\u001b[0m\u001b[0;34m:\u001b[0m\u001b[0;34m\u001b[0m\u001b[0;34m\u001b[0m\u001b[0m\n\u001b[0;32m---> 48\u001b[0;31m     \u001b[0mmenu_del\u001b[0m\u001b[0;34m(\u001b[0m\u001b[0;34m)\u001b[0m\u001b[0;34m\u001b[0m\u001b[0;34m\u001b[0m\u001b[0m\n\u001b[0m\u001b[1;32m     49\u001b[0m   \u001b[0;32melif\u001b[0m \u001b[0muser_input\u001b[0m \u001b[0;34m==\u001b[0m \u001b[0;34m'5'\u001b[0m\u001b[0;34m:\u001b[0m\u001b[0;34m\u001b[0m\u001b[0;34m\u001b[0m\u001b[0m\n\u001b[1;32m     50\u001b[0m     \u001b[0mprint\u001b[0m\u001b[0;34m(\u001b[0m\u001b[0;34m'도서 관리 프로그램 종료!'\u001b[0m\u001b[0;34m)\u001b[0m\u001b[0;34m\u001b[0m\u001b[0;34m\u001b[0m\u001b[0m\n",
            "\u001b[0;32m<ipython-input-5-c169dbdeeddb>\u001b[0m in \u001b[0;36mmenu_del\u001b[0;34m()\u001b[0m\n\u001b[1;32m     24\u001b[0m \u001b[0;34m\u001b[0m\u001b[0m\n\u001b[1;32m     25\u001b[0m \u001b[0;32mdef\u001b[0m \u001b[0mmenu_del\u001b[0m\u001b[0;34m(\u001b[0m\u001b[0;34m)\u001b[0m\u001b[0;34m:\u001b[0m\u001b[0;34m\u001b[0m\u001b[0;34m\u001b[0m\u001b[0m\n\u001b[0;32m---> 26\u001b[0;31m   \u001b[0mprint\u001b[0m\u001b[0;34m(\u001b[0m\u001b[0mbooks\u001b[0m\u001b[0;34m.\u001b[0m\u001b[0mindex\u001b[0m\u001b[0;34m(\u001b[0m\u001b[0mbooks\u001b[0m\u001b[0;34m[\u001b[0m\u001b[0;34m'book_no'\u001b[0m\u001b[0;34m,\u001b[0m \u001b[0;36m1\u001b[0m\u001b[0;34m]\u001b[0m\u001b[0;34m)\u001b[0m\u001b[0;34m)\u001b[0m\u001b[0;34m\u001b[0m\u001b[0;34m\u001b[0m\u001b[0m\n\u001b[0m\u001b[1;32m     27\u001b[0m   \u001b[0;31m# item = input('삭제할 책 관리번호를 입력하세요 : ')\u001b[0m\u001b[0;34m\u001b[0m\u001b[0;34m\u001b[0m\u001b[0m\n\u001b[1;32m     28\u001b[0m   \u001b[0;31m# print(books.index(books['book_no', item]))\u001b[0m\u001b[0;34m\u001b[0m\u001b[0;34m\u001b[0m\u001b[0m\n",
            "\u001b[0;31mTypeError\u001b[0m: list indices must be integers or slices, not tuple"
          ]
        }
      ]
    }
  ]
}