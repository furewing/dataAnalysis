{
  "nbformat": 4,
  "nbformat_minor": 0,
  "metadata": {
    "colab": {
      "provenance": [],
      "toc_visible": true,
      "authorship_tag": "ABX9TyNNxoqbJQfoa+hmwH4dYl8d",
      "include_colab_link": true
    },
    "kernelspec": {
      "name": "python3",
      "display_name": "Python 3"
    },
    "language_info": {
      "name": "python"
    }
  },
  "cells": [
    {
      "cell_type": "markdown",
      "metadata": {
        "id": "view-in-github",
        "colab_type": "text"
      },
      "source": [
        "<a href=\"https://colab.research.google.com/github/furewing/dataAnalysis/blob/main/4%EC%9D%BC%EC%B0%A8_%ED%8C%8C%EC%9D%B4%EC%8D%AC%EA%B8%B0%EC%B4%88_%EC%A1%B0%EA%B1%B4%EB%AC%B8.ipynb\" target=\"_parent\"><img src=\"https://colab.research.google.com/assets/colab-badge.svg\" alt=\"Open In Colab\"/></a>"
      ]
    },
    {
      "cell_type": "markdown",
      "source": [
        "# 4. 파이썬 조건문"
      ],
      "metadata": {
        "id": "pdyHk22ucPAe"
      }
    },
    {
      "cell_type": "markdown",
      "source": [
        "## 1. if 조건문(if만 사용)"
      ],
      "metadata": {
        "id": "GibXhYftcPDF"
      }
    },
    {
      "cell_type": "code",
      "execution_count": null,
      "metadata": {
        "colab": {
          "base_uri": "https://localhost:8080/"
        },
        "id": "pbMT2fonbDsr",
        "outputId": "7408db22-7bc4-4908-ea18-c6ab4bfbb077"
      },
      "outputs": [
        {
          "output_type": "stream",
          "name": "stdout",
          "text": [
            "99는 100보다 작다\n"
          ]
        }
      ],
      "source": [
        "a = 99\n",
        "if a < 100:\n",
        "  print(f'{a}는 100보다 작다')\n",
        "\n"
      ]
    },
    {
      "cell_type": "markdown",
      "source": [
        "## 2. if~ else ~ 조건문"
      ],
      "metadata": {
        "id": "i8-4GE3yctp3"
      }
    },
    {
      "cell_type": "code",
      "source": [
        "a = int(input('숫자를 입력하세요: '))\n",
        "if a < 100:\n",
        "  print(f'{a}는 100보다 작다')\n",
        "else:\n",
        "  print(f'{a}는 100보다 작지 않다')\n",
        "\n"
      ],
      "metadata": {
        "colab": {
          "base_uri": "https://localhost:8080/"
        },
        "id": "msuXhWTnc4-3",
        "outputId": "0ae15332-634d-47fa-e2e8-5c1c46588bfa"
      },
      "execution_count": null,
      "outputs": [
        {
          "output_type": "stream",
          "name": "stdout",
          "text": [
            "숫자를 입력하세요: 100\n",
            "100는 100보다 작지 않다\n"
          ]
        }
      ]
    },
    {
      "cell_type": "markdown",
      "source": [
        "## 3. 중첩 if 조건문(if 문 안에 if문)"
      ],
      "metadata": {
        "id": "Gbx6fqo3czvt"
      }
    },
    {
      "cell_type": "code",
      "source": [
        "a = int(input('숫자를 입력하세요: '))\n",
        "if a < 100:\n",
        "  if a < 50:\n",
        "    print(f'{a}는 50보다 작다')\n",
        "  else:\n",
        "    print(f'{a}는 50보다 크다')\n",
        "else:\n",
        "  if a == 100:\n",
        "    print(f'{a}는 100과 같다')\n",
        "  else:\n",
        "    print(f'{a}는 100보다 크다')\n",
        "\n"
      ],
      "metadata": {
        "colab": {
          "base_uri": "https://localhost:8080/"
        },
        "id": "VvGlYLPHeHuf",
        "outputId": "c2c59ce7-4db5-4b61-9973-85a171f88921"
      },
      "execution_count": null,
      "outputs": [
        {
          "output_type": "stream",
          "name": "stdout",
          "text": [
            "숫자를 입력하세요: 50\n",
            "50는 50보다 크다\n"
          ]
        }
      ]
    },
    {
      "cell_type": "code",
      "source": [
        "a = int(input('숫자를 입력하세요: '))\n",
        "if a % 2 == 0:\n",
        "  print(f'{a}는 짝수')\n",
        "else:\n",
        "  print(f'{a}는 홀수')\n",
        "\n",
        "#-> if문을 한줄로 표현할때\n",
        "print(f'{a}는 짝수') if a%2==0 else print(f'{a}는 홀수')\n"
      ],
      "metadata": {
        "colab": {
          "base_uri": "https://localhost:8080/"
        },
        "id": "DH2LioJeeTCy",
        "outputId": "9ef458e1-9559-4571-bf68-9b1129abba7b"
      },
      "execution_count": null,
      "outputs": [
        {
          "output_type": "stream",
          "name": "stdout",
          "text": [
            "숫자를 입력하세요: 3\n",
            "3는 홀수\n",
            "3는 홀수\n"
          ]
        }
      ]
    },
    {
      "cell_type": "code",
      "source": [
        "import random #난수 발생 모듈\n",
        "\n",
        "print('가위바위보 게임을 시작합니다.')\n",
        "print('-'*40)\n",
        "print('컴퓨터는 정했습니다!')\n",
        "\n",
        "#random.randint(1,10) #1~10 사이의 임의의 수 선택\n",
        "computer = random.choice(['가위','바위','보'])\n",
        "\n",
        "my = input('가위/바위/보 중 하나 입력: ')\n",
        "print(f'computer: {computer}, my:{my}')\n",
        "\n",
        "# 결과 판단하기\n",
        "if computer == my:\n",
        "  print('서로 비겼습니다.')\n",
        "elif computer == '바위' and my == '보':\n",
        "  print('당신이 이겼습니다.')\n",
        "elif computer == '가위' and my == '바위':\n",
        "  print('당신이 이겼습니다.')\n",
        "elif computer == '보' and my == '가위':\n",
        "  print('당신이 이겼습니다.')\n",
        "else:\n",
        "  print('당신이 졌습니다.')\n",
        "\n",
        "# 결과 판단하기\n",
        "if computer == my:\n",
        "  print('서로 비겼습니다.')\n",
        "else:\n",
        "  # 컴퓨터가 이긴 경우\n",
        "  if (computer == '바위' and my == '가위') or \\\n",
        "    (computer == '가위' and my == '보') or \\\n",
        "    (computer == '보' and my == '바위') :\n",
        "    print('컴퓨터가 이겼습니다.')\n",
        "  else:\n",
        "    print('당신이 이겼습니다.')\n"
      ],
      "metadata": {
        "colab": {
          "base_uri": "https://localhost:8080/"
        },
        "id": "dkEfsdW4gHWH",
        "outputId": "a52a90be-ef0a-43f1-be92-def40ddb12b1"
      },
      "execution_count": null,
      "outputs": [
        {
          "output_type": "stream",
          "name": "stdout",
          "text": [
            "가위바위보 게임을 시작합니다.\n",
            "----------------------------------------\n",
            "컴퓨터는 정했습니다!\n",
            "가위/바위/보 중 하나 입력: 가위\n",
            "computer: 바위, my:가위\n",
            "당신이 졌습니다.\n",
            "컴퓨터가 이겼습니다.\n"
          ]
        }
      ]
    },
    {
      "cell_type": "code",
      "source": [
        "a = int(input('변   a의 길이를 입력하세요: '))\n",
        "b = int(input('변   b의 길이를 입력하세요: '))\n",
        "c = int(input('빗변 c의 길이를 입력하세요: '))\n",
        "\n",
        "if c**2 == a**2 + b**2 :\n",
        "  print(f'변a:{a},변b:{b},빗변c:{c} 직각삼각형입니다.')\n",
        "else:\n",
        "  print(f'변a:{a},변b:{b},빗변c:{c} 직각삼각형이 아닙니다.')\n"
      ],
      "metadata": {
        "colab": {
          "base_uri": "https://localhost:8080/"
        },
        "id": "2pVV-_cHpNXG",
        "outputId": "faf446bc-2cc9-4c71-9be1-04a6f450ed01"
      },
      "execution_count": null,
      "outputs": [
        {
          "output_type": "stream",
          "name": "stdout",
          "text": [
            "변 a의 길이를 입력하세요: 3\n",
            "변 b의 길이를 입력하세요: 4\n",
            "변 c의 길이를 입력하세요: 5\n",
            "변a:3,변b:4,변c:5직각삼각형입니다.\n"
          ]
        }
      ]
    },
    {
      "cell_type": "markdown",
      "source": [
        "## 4. 다중 조건문\n",
        "- if ~ else ~ if -> if~ elif~"
      ],
      "metadata": {
        "id": "NitC6eLGyIAN"
      }
    },
    {
      "cell_type": "code",
      "source": [
        "# 나이별 학생 구분하기\n",
        "age = int(input('나이를 입력하세요: '))\n",
        "print(f'당신은 {age}살입니다.')\n",
        "if age < 8:\n",
        "  print('미취학 아동입니다.')\n",
        "elif age < 14:\n",
        "  print('초등학생입니다.')\n",
        "elif age < 17:\n",
        "  print('중학생입니다.')\n",
        "elif age < 20:\n",
        "  print('고등학생입니다.')\n",
        "else:\n",
        "  print('성인입니다.')\n"
      ],
      "metadata": {
        "colab": {
          "base_uri": "https://localhost:8080/"
        },
        "id": "7SDESpXBvSie",
        "outputId": "019435e3-461f-4292-f4c7-ec404b54fc17"
      },
      "execution_count": null,
      "outputs": [
        {
          "output_type": "stream",
          "name": "stdout",
          "text": [
            "나이를 입력하세요: 7\n",
            "미취학 아동입니다.\n",
            "당신은 7살입니다.\n"
          ]
        }
      ]
    },
    {
      "cell_type": "code",
      "source": [
        "# 조건부 표현식\n",
        "score = int(input('점수를 입력하세요 : '))\n",
        "if score >= 80:\n",
        "  message = \"success\"\n",
        "else:\n",
        "  message = \"failure\"\n",
        "\n",
        "#if와 else 문장을 --> 조건부 표현식(conditional expression)으로 변환하기\n",
        "message = \"success\" if score >= 80 else \"failure\"\n",
        "\n",
        "print(f'점수{score}는 {message}')\n"
      ],
      "metadata": {
        "colab": {
          "base_uri": "https://localhost:8080/"
        },
        "id": "qWI8PZqXz0DV",
        "outputId": "328d3f2c-8da3-44cb-ca2b-b154fc3167d8"
      },
      "execution_count": null,
      "outputs": [
        {
          "output_type": "stream",
          "name": "stdout",
          "text": [
            "점수를 입력하세요 : 34\n",
            "점수34는 failure\n"
          ]
        }
      ]
    },
    {
      "cell_type": "code",
      "source": [
        "degree = int(input('온도 입력: '))\n",
        "if degree >= 30:\n",
        "  print('에어컨을 켜세요')\n",
        "elif degree <= 10:\n",
        "  print('난방기를 켜세요')\n",
        "elif degree < 20:\n",
        "  print('내복을 입으세요')\n",
        "else:\n",
        "  print('쾌적한 기온입니다.')\n"
      ],
      "metadata": {
        "id": "HaEY-ie612Z1"
      },
      "execution_count": null,
      "outputs": []
    },
    {
      "cell_type": "code",
      "source": [
        "degree = int(input('온도 입력: '))\n",
        "if degree >= 30:\n",
        "  print('에어컨을 켜세요')\n",
        "else:\n",
        "  if 20 <= degree < 30:\n",
        "    print('쾌적한 기온입니다.')\n",
        "  if degree < 20:\n",
        "    print('내복을 입으세요')\n",
        "  if degree <= 10:\n",
        "    print('난방기를 켜세요')\n"
      ],
      "metadata": {
        "colab": {
          "base_uri": "https://localhost:8080/"
        },
        "id": "1XBdJNay7JO0",
        "outputId": "ada98640-bf4f-4ff4-faee-227544e769a1"
      },
      "execution_count": null,
      "outputs": [
        {
          "output_type": "stream",
          "name": "stdout",
          "text": [
            "온도 입력: 8\n",
            "내복을 입으세요\n",
            "난방기를 켜세요\n"
          ]
        }
      ]
    },
    {
      "cell_type": "code",
      "source": [
        "\n",
        "menu = {'아메리카노':2500, '카페라떼':3000, '카푸치노':3000}\n",
        "\n",
        "menu = '''[커피 자동주문 머신 메뉴]\n",
        "---------------------------\n",
        "-아메리카노는 2500원')\n",
        "-카페라떼는 3000원')\n",
        "-카푸치노는 3000원')\n",
        "입니다. 원하시는 커피종류와 잔수를 입력하세요.\n",
        "---------------------------'''\n",
        "print(menu)\n",
        "\n",
        "coffee1 = int(input('아메리카노 몇잔? '))\n",
        "coffee2 = int(input('카페라떼   몇잔? '))\n",
        "coffee3 = int(input('카푸치노   몇잔? '))\n",
        "sum = coffee1*2500 + coffee2*3000 + coffee3*3000\n",
        "\n",
        "print(f'지불할 총 금액은 {sum:,} 입니다.')\n",
        "imoney = int(input('돈을 넣어주세요: '))\n",
        "change = sum - imoney #거스름돈\n",
        "if sum > imoney:\n",
        "  print(f'금액이 부족합니다. {change:,}원을 넣어주세요.')\n",
        "else:\n",
        "  print(f'거스름돈은 {abs(change):,} 입니다. 커피 맛있게 드세요~')\n",
        "\n",
        "\n",
        "\n"
      ],
      "metadata": {
        "colab": {
          "base_uri": "https://localhost:8080/"
        },
        "id": "e0l8GaGJ2tMX",
        "outputId": "8ed2a318-0ae5-4707-8096-c8605f26e894"
      },
      "execution_count": null,
      "outputs": [
        {
          "output_type": "stream",
          "name": "stdout",
          "text": [
            "[커피 자동주문 머신 메뉴]\n",
            "---------------------------\n",
            "-아메리카노는 2500원')\n",
            "-카페라떼는 3000원')\n",
            "-카푸치노는 3000원')\n",
            "입니다. 원하시는 커피종류와 잔수를 입력하세요.\n",
            "---------------------------\n",
            "아메리카노 몇잔? 2\n",
            "카페라떼   몇잔? 1\n",
            "카푸치노   몇잔? 0\n",
            "지불할 총 금액은 8,000 입니다.\n",
            "돈을 넣어주세요: 1000\n",
            "금액이 부족합니다. 7,000원을 넣어주세요.\n"
          ]
        }
      ]
    },
    {
      "cell_type": "code",
      "source": [
        "\n",
        "menu = {'아메리카노':2500, '카페라떼':3000, '카푸치노':3000}\n",
        "\n",
        "menu1 = '''[커피 자동주문 머신 메뉴]\n",
        "---------------------------\n",
        "-아메리카노는 2500원')\n",
        "-카페라떼는 3000원')\n",
        "-카푸치노는 3000원')\n",
        "입니다. 원하시는 커피종류와 잔수를 입력하세요.\n",
        "---------------------------'''\n",
        "\n",
        "def speaker(stmt):\n",
        "  kor_wav = gTTS(stmt, lang = 'ko') #-> 위의 카페 메뉴\n",
        "  kor_wav.save('kor.wav')\n",
        "  display(Audio('kor.wav', autoplay=True))\n",
        "\n",
        "print(menu1)\n",
        "speaker(menu1)\n",
        "\n",
        "a = int(input('아메리카노 몇잔? '))\n",
        "b = int(input('카페라떼 몇잔? '))\n",
        "c = int(input('카푸치노 몇잔? '))\n",
        "sum = a*2500+b*3000+c*3000\n",
        "sum = a*menu['아메리카노']+b*menu['카페라떼']+c*menu['카푸치노']\n",
        "\n",
        "print(f'지불할 총 금액은 {sum:,} 입니다.')\n",
        "imoney = int(input('돈을 넣어주세요: '))\n",
        "change = sum - imoney #거스름돈\n",
        "if sum > imoney:\n",
        "  print(f'금액이 부족합니다. {change:,}원을 넣어주세요.')\n",
        "else:\n",
        "  print(f'거스름돈은 {abs(change):,} 입니다. 커피 맛있게 드세요~')\n"
      ],
      "metadata": {
        "colab": {
          "base_uri": "https://localhost:8080/"
        },
        "id": "zCC52Oyb8qYl",
        "outputId": "e56b0d90-afc9-4ca0-83f1-7fc742e3bdab"
      },
      "execution_count": null,
      "outputs": [
        {
          "output_type": "stream",
          "name": "stdout",
          "text": [
            "[커피 자동주문 머신 메뉴]\n",
            "---------------------------\n",
            "-아메리카노는 2500원')\n",
            "-카페라떼는 3000원')\n",
            "-카푸치노는 3000원')\n",
            "입니다. 원하시는 커피종류와 잔수를 입력하세요.\n",
            "---------------------------\n",
            "아메리카노 몇잔? 1\n",
            "카페라떼 몇잔? 2\n",
            "카푸치노 몇잔? 3\n",
            "지불할 총 금액은 17500 입니다.\n",
            "돈을 넣어주세요: 20000\n",
            "거스름돈은 2500 입니다.\n"
          ]
        }
      ]
    },
    {
      "cell_type": "code",
      "source": [
        "import time\n",
        "for i in range(1,11):\n",
        "  time.sleep(1) #1초 기다리기\n",
        "  print(i)\n",
        "\n"
      ],
      "metadata": {
        "colab": {
          "base_uri": "https://localhost:8080/"
        },
        "id": "f6uqvX0qBb98",
        "outputId": "d11fce1c-b1e4-4a14-a86f-491896b9ac4e"
      },
      "execution_count": null,
      "outputs": [
        {
          "output_type": "stream",
          "name": "stdout",
          "text": [
            "1\n",
            "2\n",
            "3\n",
            "4\n",
            "5\n",
            "6\n",
            "7\n",
            "8\n",
            "9\n",
            "10\n"
          ]
        }
      ]
    },
    {
      "cell_type": "code",
      "source": [],
      "metadata": {
        "id": "WL9hRLvbA7eb"
      },
      "execution_count": null,
      "outputs": []
    },
    {
      "cell_type": "code",
      "source": [],
      "metadata": {
        "id": "0_zan62vDjyz"
      },
      "execution_count": null,
      "outputs": []
    }
  ]
}