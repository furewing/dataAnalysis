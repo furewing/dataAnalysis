{
  "nbformat": 4,
  "nbformat_minor": 0,
  "metadata": {
    "colab": {
      "provenance": [],
      "authorship_tag": "ABX9TyOddipBL86R9Ax2C9tChX5r",
      "include_colab_link": true
    },
    "kernelspec": {
      "name": "python3",
      "display_name": "Python 3"
    },
    "language_info": {
      "name": "python"
    }
  },
  "cells": [
    {
      "cell_type": "markdown",
      "metadata": {
        "id": "view-in-github",
        "colab_type": "text"
      },
      "source": [
        "<a href=\"https://colab.research.google.com/github/furewing/dataAnalysis/blob/main/1%EC%9D%BC%EC%B0%A8_%ED%8C%8C%EC%9D%B4%EC%8D%AC%EA%B8%B0%EC%B4%88_%EC%9E%90%EB%A3%8C%ED%98%95%EA%B3%BC%EC%97%B0%EC%82%B0.ipynb\" target=\"_parent\"><img src=\"https://colab.research.google.com/assets/colab-badge.svg\" alt=\"Open In Colab\"/></a>"
      ]
    },
    {
      "cell_type": "markdown",
      "source": [
        "#파이썬 기초 - 자료형과 연산 - 실습"
      ],
      "metadata": {
        "id": "A-cDFXiq14qw"
      }
    },
    {
      "cell_type": "code",
      "execution_count": 28,
      "metadata": {
        "colab": {
          "base_uri": "https://localhost:8080/",
          "height": 183
        },
        "id": "B01MbrRgpwhc",
        "outputId": "543a4dc1-ef04-43e5-b710-83995ab5eedd"
      },
      "outputs": [
        {
          "output_type": "error",
          "ename": "TypeError",
          "evalue": "unsupported operand type(s) for +: 'int' and 'str'",
          "traceback": [
            "\u001b[0;31m---------------------------------------------------------------------------\u001b[0m",
            "\u001b[0;31mTypeError\u001b[0m                                 Traceback (most recent call last)",
            "\u001b[0;32m<ipython-input-28-c6700832cf23>\u001b[0m in \u001b[0;36m<cell line: 3>\u001b[0;34m()\u001b[0m\n\u001b[1;32m      1\u001b[0m \u001b[0ma\u001b[0m \u001b[0;34m=\u001b[0m \u001b[0;36m10\u001b[0m\u001b[0;34m\u001b[0m\u001b[0;34m\u001b[0m\u001b[0m\n\u001b[1;32m      2\u001b[0m \u001b[0mb\u001b[0m \u001b[0;34m=\u001b[0m \u001b[0;34m'파이썬'\u001b[0m\u001b[0;34m\u001b[0m\u001b[0;34m\u001b[0m\u001b[0m\n\u001b[0;32m----> 3\u001b[0;31m \u001b[0mprint\u001b[0m\u001b[0;34m(\u001b[0m \u001b[0ma\u001b[0m \u001b[0;34m+\u001b[0m \u001b[0mb\u001b[0m \u001b[0;34m)\u001b[0m\u001b[0;34m\u001b[0m\u001b[0;34m\u001b[0m\u001b[0m\n\u001b[0m",
            "\u001b[0;31mTypeError\u001b[0m: unsupported operand type(s) for +: 'int' and 'str'"
          ]
        }
      ],
      "source": [
        "a = 10\n",
        "b = '파이썬'\n",
        "print( a , b )"
      ]
    },
    {
      "cell_type": "markdown",
      "source": [
        "# ##실습문제[파이썬으로 표현하기]"
      ],
      "metadata": {
        "id": "X6BbhhDl12c_"
      }
    },
    {
      "cell_type": "code",
      "source": [
        "##실습문제[파이썬으로 표현하기]\n",
        "# 1. 파이썬 버전 출력\n",
        "import sys\n",
        "print('---', sys.version)\n",
        "print(sys.version_info)\n",
        "print(sys.api_version)\n",
        "!python -V #!은 외부 명령어 실행\n",
        "sys.version #쉘의 마지막에는 print문을 쓰지않아도 print 사용한 것처럼 실행시킬수 있다.\n"
      ],
      "metadata": {
        "colab": {
          "base_uri": "https://localhost:8080/",
          "height": 108
        },
        "id": "vbo668Pjywtz",
        "outputId": "85829a48-a701-4930-83a8-ac7e623ae5d1"
      },
      "execution_count": 29,
      "outputs": [
        {
          "output_type": "stream",
          "name": "stdout",
          "text": [
            "--- 3.10.12 (main, Nov 20 2023, 15:14:05) [GCC 11.4.0]\n",
            "sys.version_info(major=3, minor=10, micro=12, releaselevel='final', serial=0)\n",
            "1013\n",
            "Python 3.10.12\n"
          ]
        },
        {
          "output_type": "execute_result",
          "data": {
            "text/plain": [
              "'3.10.12 (main, Nov 20 2023, 15:14:05) [GCC 11.4.0]'"
            ],
            "application/vnd.google.colaboratory.intrinsic+json": {
              "type": "string"
            }
          },
          "metadata": {},
          "execution_count": 29
        }
      ]
    },
    {
      "cell_type": "code",
      "source": [
        " # 2. 파이썬 설치 위치\n",
        " import sys\n",
        " print(sys.executable)\n",
        ""
      ],
      "metadata": {
        "colab": {
          "base_uri": "https://localhost:8080/"
        },
        "id": "bWMvuye9y-dr",
        "outputId": "8a449abd-c282-4bcb-b698-b2de900403b8"
      },
      "execution_count": 30,
      "outputs": [
        {
          "output_type": "stream",
          "name": "stdout",
          "text": [
            "/usr/bin/python3\n"
          ]
        }
      ]
    },
    {
      "cell_type": "code",
      "source": [
        " # 3. 현재 실행 위치 위치(물리적 폴더 위치)\n",
        " import os\n",
        " os.getcwd()"
      ],
      "metadata": {
        "colab": {
          "base_uri": "https://localhost:8080/",
          "height": 35
        },
        "id": "2UQTAEEQ0eDo",
        "outputId": "a0387f6e-5460-44c0-9121-2239fb20883b"
      },
      "execution_count": 31,
      "outputs": [
        {
          "output_type": "execute_result",
          "data": {
            "text/plain": [
              "'/content'"
            ],
            "application/vnd.google.colaboratory.intrinsic+json": {
              "type": "string"
            }
          },
          "metadata": {},
          "execution_count": 31
        }
      ]
    },
    {
      "cell_type": "code",
      "source": [
        "#문제1: 10 + 3 x 4 결과 출력\n",
        "print('10 + 3 * 4 =', 10 + 3 * 4)\n",
        "#문제2: 아이폰 15대를 가지고 있다. 아이폰의 가격이 130만원 일 때 총 금액은?\n",
        "print(1300000 * 15)\n",
        "#문제3: 주어진 임의의 자연수가 홀수인지 짝수인지 판별하는 방법은?\n",
        "a = 1\n",
        "if a % 2 == 1:\n",
        "  print('홀수')\n",
        "else:\n",
        "  print('짝수')\n",
        "#문제4: 2x2x2x5x5x5x5x3x3x3x3을 제곱형태로 나타낸 후 그 결과 출력하기\n",
        "print(2**3 * 5**4 * 3**4 )\n"
      ],
      "metadata": {
        "colab": {
          "base_uri": "https://localhost:8080/"
        },
        "id": "yWmKwf0x3EAp",
        "outputId": "686136f8-b6ae-4ff0-9d89-79fbe77411cf"
      },
      "execution_count": 32,
      "outputs": [
        {
          "output_type": "stream",
          "name": "stdout",
          "text": [
            "10 + 3 * 4 = 22\n",
            "19500000\n",
            "홀수\n",
            "405000\n"
          ]
        }
      ]
    },
    {
      "cell_type": "code",
      "source": [
        "x = int(input('number : '))\n",
        "if x % 2 == 1:\n",
        "    print('홀수')\n",
        "else:\n",
        "    print('짝수')\n"
      ],
      "metadata": {
        "colab": {
          "base_uri": "https://localhost:8080/"
        },
        "id": "7Dw5-LrT3T1I",
        "outputId": "9b71b393-ab76-4723-e47c-a911f94c04b6"
      },
      "execution_count": 25,
      "outputs": [
        {
          "output_type": "stream",
          "name": "stdout",
          "text": [
            "number : 11\n",
            "홀수\n"
          ]
        }
      ]
    },
    {
      "cell_type": "code",
      "source": [
        "# if문을 한 줄로 표현할 수 있다.\n",
        "x = int(input('number : '))\n",
        "print('짝수') if x % 2 == 1 else print('짝수')"
      ],
      "metadata": {
        "colab": {
          "base_uri": "https://localhost:8080/"
        },
        "id": "lP58pxsd5pQa",
        "outputId": "10c3ea8d-3c15-43c5-ecff-e315d7e7e4df"
      },
      "execution_count": 26,
      "outputs": [
        {
          "output_type": "stream",
          "name": "stdout",
          "text": [
            "number : 112\n",
            "짝수\n"
          ]
        }
      ]
    },
    {
      "cell_type": "code",
      "source": [
        "# 파이썬 자료형(Data Type)확인 함수 : type()\n",
        "d1 = 123\n",
        "d2 = '123'\n",
        "d3 = [123]\n",
        "d4 = (123,)\n",
        "d5 = {'key':123}\n",
        "d6 = {123}\n",
        "d7 = True\n",
        "print(type(3.14))\n",
        "print(f'{d1}의 자료형: {type(d1)}')\n",
        "print(f'{d2}의 자료형: {type(d2)}')\n",
        "print(f'{d3}의 자료형: {type(d3)}')\n",
        "print(f'{d4}의 자료형: {type(d4)}')\n",
        "print(f'{d5}의 자료형: {type(d5)}')\n",
        "print(f'{d6}의 자료형: {type(d6)}')\n",
        "print(f'{d7}의 자료형: {type(d7)}')\n"
      ],
      "metadata": {
        "colab": {
          "base_uri": "https://localhost:8080/"
        },
        "id": "AJq2mgyV69rQ",
        "outputId": "0f77c739-7de6-4dc3-9f24-68791d5054a6"
      },
      "execution_count": 27,
      "outputs": [
        {
          "output_type": "stream",
          "name": "stdout",
          "text": [
            "<class 'float'>\n",
            "123의 자료형: <class 'int'>\n",
            "123의 자료형: <class 'str'>\n",
            "[123]의 자료형: <class 'list'>\n",
            "(123,)의 자료형: <class 'tuple'>\n",
            "{'key': 123}의 자료형: <class 'dict'>\n",
            "{123}의 자료형: <class 'set'>\n",
            "True의 자료형: <class 'bool'>\n"
          ]
        }
      ]
    },
    {
      "cell_type": "markdown",
      "source": [
        "# 표준 입력과 출력"
      ],
      "metadata": {
        "id": "mXTuCWHVC9bs"
      }
    },
    {
      "cell_type": "code",
      "source": [
        "# 표준 입력과 출력\n",
        "# 문자열 데이터를 숫자(정수)로 변환하기\n",
        "\n",
        "a = input('키보드로 숫자를 입력해 주세요: ')\n",
        "print( type(a) )\n",
        "\n",
        "a = int(a)\n",
        "print(type(a))\n",
        "\n"
      ],
      "metadata": {
        "colab": {
          "base_uri": "https://localhost:8080/"
        },
        "id": "FB0iM4r0-eFI",
        "outputId": "870fbf1e-5699-413c-d1ed-d86f6f759b8e"
      },
      "execution_count": 33,
      "outputs": [
        {
          "output_type": "stream",
          "name": "stdout",
          "text": [
            "키보드로 숫자를 입력해 주세요: 1\n",
            "<class 'str'>\n",
            "<class 'int'>\n"
          ]
        }
      ]
    },
    {
      "cell_type": "code",
      "source": [
        "a = int(input('키보드로 숫자를 입력해 주세요: '))\n",
        "print(type(a))"
      ],
      "metadata": {
        "colab": {
          "base_uri": "https://localhost:8080/"
        },
        "id": "2uk2RVYpDxr1",
        "outputId": "735ea788-208b-41af-a864-a3fc09241826"
      },
      "execution_count": 34,
      "outputs": [
        {
          "output_type": "stream",
          "name": "stdout",
          "text": [
            "키보드로 숫자를 입력해 주세요: 11\n",
            "<class 'int'>\n"
          ]
        }
      ]
    },
    {
      "cell_type": "code",
      "source": [
        "#문자열 포맷팅\n",
        "a = input('키보드로 입력해 주세요: ')\n",
        "#출력 방법1\n",
        "print('변수 a의 값은', a, '입니다')\n",
        "#출력 방법2\n",
        "print('변수 a에 값은 %s 입니다' %a) #%s 문자열, %d 정수, %f 실수\n",
        "#출력 방법3\n",
        "print(f'변수 a에 값은 {a} 입니다') #--> 가장 많이 사용\n"
      ],
      "metadata": {
        "colab": {
          "base_uri": "https://localhost:8080/",
          "height": 390
        },
        "id": "vAnB0h8KEToX",
        "outputId": "78304eaf-db54-4024-8a50-debf82a1c0ac"
      },
      "execution_count": 37,
      "outputs": [
        {
          "output_type": "error",
          "ename": "KeyboardInterrupt",
          "evalue": "Interrupted by user",
          "traceback": [
            "\u001b[0;31m---------------------------------------------------------------------------\u001b[0m",
            "\u001b[0;31mKeyboardInterrupt\u001b[0m                         Traceback (most recent call last)",
            "\u001b[0;32m<ipython-input-37-243c8e5f3f5a>\u001b[0m in \u001b[0;36m<cell line: 2>\u001b[0;34m()\u001b[0m\n\u001b[1;32m      1\u001b[0m \u001b[0;31m#문자열 포맷팅\u001b[0m\u001b[0;34m\u001b[0m\u001b[0;34m\u001b[0m\u001b[0m\n\u001b[0;32m----> 2\u001b[0;31m \u001b[0ma\u001b[0m \u001b[0;34m=\u001b[0m \u001b[0minput\u001b[0m\u001b[0;34m(\u001b[0m\u001b[0;34m'키보드로 입력해 주세요: '\u001b[0m\u001b[0;34m)\u001b[0m\u001b[0;34m\u001b[0m\u001b[0;34m\u001b[0m\u001b[0m\n\u001b[0m\u001b[1;32m      3\u001b[0m \u001b[0;31m#출력 방법1\u001b[0m\u001b[0;34m\u001b[0m\u001b[0;34m\u001b[0m\u001b[0m\n\u001b[1;32m      4\u001b[0m \u001b[0mprint\u001b[0m\u001b[0;34m(\u001b[0m\u001b[0;34m'변수 a의 값은'\u001b[0m\u001b[0;34m,\u001b[0m \u001b[0ma\u001b[0m\u001b[0;34m,\u001b[0m \u001b[0;34m'입니다'\u001b[0m\u001b[0;34m)\u001b[0m\u001b[0;34m\u001b[0m\u001b[0;34m\u001b[0m\u001b[0m\n\u001b[1;32m      5\u001b[0m \u001b[0;31m#출력 방법2\u001b[0m\u001b[0;34m\u001b[0m\u001b[0;34m\u001b[0m\u001b[0m\n",
            "\u001b[0;32m/usr/local/lib/python3.10/dist-packages/ipykernel/kernelbase.py\u001b[0m in \u001b[0;36mraw_input\u001b[0;34m(self, prompt)\u001b[0m\n\u001b[1;32m    849\u001b[0m                 \u001b[0;34m\"raw_input was called, but this frontend does not support input requests.\"\u001b[0m\u001b[0;34m\u001b[0m\u001b[0;34m\u001b[0m\u001b[0m\n\u001b[1;32m    850\u001b[0m             )\n\u001b[0;32m--> 851\u001b[0;31m         return self._input_request(str(prompt),\n\u001b[0m\u001b[1;32m    852\u001b[0m             \u001b[0mself\u001b[0m\u001b[0;34m.\u001b[0m\u001b[0m_parent_ident\u001b[0m\u001b[0;34m,\u001b[0m\u001b[0;34m\u001b[0m\u001b[0;34m\u001b[0m\u001b[0m\n\u001b[1;32m    853\u001b[0m             \u001b[0mself\u001b[0m\u001b[0;34m.\u001b[0m\u001b[0m_parent_header\u001b[0m\u001b[0;34m,\u001b[0m\u001b[0;34m\u001b[0m\u001b[0;34m\u001b[0m\u001b[0m\n",
            "\u001b[0;32m/usr/local/lib/python3.10/dist-packages/ipykernel/kernelbase.py\u001b[0m in \u001b[0;36m_input_request\u001b[0;34m(self, prompt, ident, parent, password)\u001b[0m\n\u001b[1;32m    893\u001b[0m             \u001b[0;32mexcept\u001b[0m \u001b[0mKeyboardInterrupt\u001b[0m\u001b[0;34m:\u001b[0m\u001b[0;34m\u001b[0m\u001b[0;34m\u001b[0m\u001b[0m\n\u001b[1;32m    894\u001b[0m                 \u001b[0;31m# re-raise KeyboardInterrupt, to truncate traceback\u001b[0m\u001b[0;34m\u001b[0m\u001b[0;34m\u001b[0m\u001b[0m\n\u001b[0;32m--> 895\u001b[0;31m                 \u001b[0;32mraise\u001b[0m \u001b[0mKeyboardInterrupt\u001b[0m\u001b[0;34m(\u001b[0m\u001b[0;34m\"Interrupted by user\"\u001b[0m\u001b[0;34m)\u001b[0m \u001b[0;32mfrom\u001b[0m \u001b[0;32mNone\u001b[0m\u001b[0;34m\u001b[0m\u001b[0;34m\u001b[0m\u001b[0m\n\u001b[0m\u001b[1;32m    896\u001b[0m             \u001b[0;32mexcept\u001b[0m \u001b[0mException\u001b[0m \u001b[0;32mas\u001b[0m \u001b[0me\u001b[0m\u001b[0;34m:\u001b[0m\u001b[0;34m\u001b[0m\u001b[0;34m\u001b[0m\u001b[0m\n\u001b[1;32m    897\u001b[0m                 \u001b[0mself\u001b[0m\u001b[0;34m.\u001b[0m\u001b[0mlog\u001b[0m\u001b[0;34m.\u001b[0m\u001b[0mwarning\u001b[0m\u001b[0;34m(\u001b[0m\u001b[0;34m\"Invalid Message:\"\u001b[0m\u001b[0;34m,\u001b[0m \u001b[0mexc_info\u001b[0m\u001b[0;34m=\u001b[0m\u001b[0;32mTrue\u001b[0m\u001b[0;34m)\u001b[0m\u001b[0;34m\u001b[0m\u001b[0;34m\u001b[0m\u001b[0m\n",
            "\u001b[0;31mKeyboardInterrupt\u001b[0m: Interrupted by user"
          ]
        }
      ]
    },
    {
      "cell_type": "code",
      "source": [
        "a = int(input('첫번째 숫자: '))\n",
        "b = int(input('두번째 숫자: '))\n",
        "print('-'*30)\n",
        "print(f'덧셈 : {a} + {b} = {a+b:>10}') #:>10 10자리로 오른쪽 정렬(>)\n",
        "print(f'뺄셈 : {a} - {b} = {a-b:<10}') #:<10 10자리로 왼쪽 정렬(<)\n",
        "print(f'곱셈 : {a} * {b} = {a*b:^10}') #:^10 10자리로 가운데 정렬(^)\n",
        "print(f'몫 : {a} // {b} = {a//b}')\n",
        "print(f'나머지 : {a} % {b} = {a%b}')\n",
        "\n"
      ],
      "metadata": {
        "colab": {
          "base_uri": "https://localhost:8080/"
        },
        "id": "RmY43AR2GOlr",
        "outputId": "518fa751-f349-4fd0-b1e7-e214e0ec2c11"
      },
      "execution_count": 44,
      "outputs": [
        {
          "output_type": "stream",
          "name": "stdout",
          "text": [
            "첫번째 숫자: 12\n",
            "두번째 숫자: 34\n",
            "------------------------------\n",
            "덧셈 : 12 + 34 =         46\n",
            "뺄셈 : 12 - 34 = -22       \n",
            "곱셈 : 12 * 34 =    408    \n",
            "몫 : 12 // 34 = 0\n",
            "나머지 : 12 % 34 = 12\n"
          ]
        }
      ]
    },
    {
      "cell_type": "code",
      "source": [
        "#속력과 거리를 입력 받아 시간을 계산하는 프로그램을 만들어 보세요\n",
        "velocity = input('속력을 입력해 주세요(km/h) : ')\n",
        "distance = input('거리를 입력해 주세요(km) : ')\n",
        "print('-'*30)\n",
        "print(f'속력 : {float(velocity):.1f} km/h ')\n",
        "print(f'거리 : {float(distance)} km ')\n",
        "print(f'시간 : {float(distance) / float(velocity)} h' )\n"
      ],
      "metadata": {
        "colab": {
          "base_uri": "https://localhost:8080/"
        },
        "id": "oDm9P_NgInI6",
        "outputId": "b2d83b92-fea4-42e0-c493-aa31ea8ed05e"
      },
      "execution_count": 53,
      "outputs": [
        {
          "output_type": "stream",
          "name": "stdout",
          "text": [
            "속력을 입력해 주세요(km/h) : 100\n",
            "거리를 입력해 주세요(km) : 340\n",
            "------------------------------\n",
            "속력 : 100.0 km/h \n",
            "거리 : 340.0 km \n",
            "시간 : 3.4 h\n"
          ]
        }
      ]
    },
    {
      "cell_type": "code",
      "source": [
        "### 내장된 수학함수"
      ],
      "metadata": {
        "id": "FCmpxdmOMbom"
      },
      "execution_count": 54,
      "outputs": []
    },
    {
      "cell_type": "code",
      "source": [
        "import math\n",
        "\n",
        "print(f'원주율: {math.pi}')\n",
        "print(f'절대값: {abs(-10)}')\n"
      ],
      "metadata": {
        "colab": {
          "base_uri": "https://localhost:8080/"
        },
        "id": "Nk-hbYdoO0Rh",
        "outputId": "d993f083-61fd-443d-be26-1ceef219dc7c"
      },
      "execution_count": 55,
      "outputs": [
        {
          "output_type": "stream",
          "name": "stdout",
          "text": [
            "원주율: 3.141592653589793\n",
            "절대값: 10\n"
          ]
        }
      ]
    },
    {
      "cell_type": "code",
      "source": [
        "\n",
        "import math\n",
        "r = 4\n",
        "# 문제1: 반지름이 4인 원의 넓이\n",
        "# 원의 넓이 : (반지름)×(반지름)×(원주율)\n",
        "print(f'반지름이 4인 원의 넓이 출력 {round(r**2*math.pi,4)}') # round 로 소수점 4자리까지 나타낼 수 있다\n",
        "print(f'반지름이 4인 원의 넓이 출력 {math.pow(r,2)*math.pi}')\n",
        "#문제2: 3.14 곱하기 2 나누기 7의 값을 반올림하여 계산 결과 출력\n",
        "print(f'{round(3.14 * 2 / 7)}')\n",
        "#문제3: 원주율을 3.14로 만들어서 반지름이 4인 원의 둘레의 길이 출력\n",
        "#원둘레 = 2 * π * 반지름\n",
        "print(f'{2* 3.14 * r}')"
      ],
      "metadata": {
        "colab": {
          "base_uri": "https://localhost:8080/"
        },
        "id": "jkvcBjyhPF2x",
        "outputId": "ff2ff22f-040e-41bb-e274-f8212c1d9c22"
      },
      "execution_count": 64,
      "outputs": [
        {
          "output_type": "stream",
          "name": "stdout",
          "text": [
            "반지름이 4인 원의 넓이 출력 50.2655\n",
            "반지름이 4인 원의 넓이 출력 50.26548245743669\n",
            "1\n",
            "25.12\n"
          ]
        }
      ]
    },
    {
      "cell_type": "code",
      "source": [],
      "metadata": {
        "id": "xv-vtJYwQaXR"
      },
      "execution_count": null,
      "outputs": []
    }
  ]
}