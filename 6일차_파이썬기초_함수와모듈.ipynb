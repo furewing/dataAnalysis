{
  "nbformat": 4,
  "nbformat_minor": 0,
  "metadata": {
    "colab": {
      "provenance": [],
      "authorship_tag": "ABX9TyNYfC9eFbj2D3Cknole8ISw",
      "include_colab_link": true
    },
    "kernelspec": {
      "name": "python3",
      "display_name": "Python 3"
    },
    "language_info": {
      "name": "python"
    }
  },
  "cells": [
    {
      "cell_type": "markdown",
      "metadata": {
        "id": "view-in-github",
        "colab_type": "text"
      },
      "source": [
        "<a href=\"https://colab.research.google.com/github/furewing/dataAnalysis/blob/main/6%EC%9D%BC%EC%B0%A8_%ED%8C%8C%EC%9D%B4%EC%8D%AC%EA%B8%B0%EC%B4%88_%ED%95%A8%EC%88%98%EC%99%80%EB%AA%A8%EB%93%88.ipynb\" target=\"_parent\"><img src=\"https://colab.research.google.com/assets/colab-badge.svg\" alt=\"Open In Colab\"/></a>"
      ]
    },
    {
      "cell_type": "markdown",
      "source": [],
      "metadata": {
        "id": "d0jxTLGJnzpM"
      }
    },
    {
      "cell_type": "markdown",
      "source": [
        "### 난수\n",
        "- 문자열, 리스트, range와 같은 여러 개의 값들(literal)\n",
        "- 5.random.shuffle( )   # 무작위로 섞기\n",
        "- x = [1, 3, 5, 4, 2]\n",
        "- random.shuffle(x)\n",
        "- 6. random.choice( )    # 임의의 값 선택 (중복허용)\n",
        "- random.choice(x)\n",
        "- 7.random.sample( )    # 임의의 값 선택 (중복불허)\n",
        "- random.sample(range(1,46), 6) # range(1,46)값에서 무작위로 6개 추출"
      ],
      "metadata": {
        "id": "gKW6WuE7pK0s"
      }
    },
    {
      "cell_type": "code",
      "execution_count": 25,
      "metadata": {
        "colab": {
          "base_uri": "https://localhost:8080/"
        },
        "id": "Z-XXU8eLntyj",
        "outputId": "fdc618d1-ab90-42fe-f696-3589b85b68a9"
      },
      "outputs": [
        {
          "output_type": "stream",
          "name": "stdout",
          "text": [
            "숫자별 개수: [[20, 12, 14, 18, 15, 20]]\n",
            "가장 많이 나온 주사위 숫자: [1, 6], 횟수: 20\n"
          ]
        }
      ],
      "source": [
        "import random\n",
        "\n",
        "dice = [0,0,0,0,0,0]\n",
        "for i in range(1,100) :\n",
        "  c = random.randint(1,6)\n",
        "  dice[c-1] += 1\n",
        "print(f'숫자별 개수: [{dice}]')\n",
        "\n",
        "maxValue = max(dice)\n",
        "# max_dice = []\n",
        "# for v in dice:\n",
        "#   if v == maxValue:\n",
        "#     max_dice.append(idx+1)\n",
        "# --> 아래의 한 문장으로\n",
        "max_dice = [idx+1 for idx, v in enumerate(dice) if v == maxValue ] #동일한 횟수가 나올때 체크\n",
        "\n",
        "#print(f'가장 많이 나온 주사위 숫자: {dice.index(max(dice))+1}, 횟수: {max(dice)}')\n",
        "print(f'가장 많이 나온 주사위 숫자: {max_dice}, 횟수: {maxValue}')\n"
      ]
    },
    {
      "cell_type": "code",
      "source": [
        "print(f'로또 번호 출력: {sorted(random.sample(range(1,46), 6))}')"
      ],
      "metadata": {
        "colab": {
          "base_uri": "https://localhost:8080/"
        },
        "id": "uOUaaq33sWgd",
        "outputId": "dcb53d46-120e-4ab2-e084-0cc1cf965512"
      },
      "execution_count": 19,
      "outputs": [
        {
          "output_type": "stream",
          "name": "stdout",
          "text": [
            "로또 번호 출력: [12, 23, 27, 28, 33, 45]\n"
          ]
        }
      ]
    },
    {
      "cell_type": "markdown",
      "source": [
        "### 컴프리헨션"
      ],
      "metadata": {
        "id": "dRNrHySPvmRM"
      }
    },
    {
      "cell_type": "code",
      "source": [],
      "metadata": {
        "id": "fg1gp9PuvpAE"
      },
      "execution_count": null,
      "outputs": []
    },
    {
      "cell_type": "markdown",
      "source": [
        "## 5. 함수와 모듈"
      ],
      "metadata": {
        "id": "D5gmd-GczS97"
      }
    },
    {
      "cell_type": "markdown",
      "source": [
        "###"
      ],
      "metadata": {
        "id": "O2-4O9XVzXzT"
      }
    }
  ]
}