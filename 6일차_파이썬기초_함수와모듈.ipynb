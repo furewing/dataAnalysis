{
  "nbformat": 4,
  "nbformat_minor": 0,
  "metadata": {
    "colab": {
      "provenance": [],
      "authorship_tag": "ABX9TyMQdjNs5HOjCZ+ugPuVAffY",
      "include_colab_link": true
    },
    "kernelspec": {
      "name": "python3",
      "display_name": "Python 3"
    },
    "language_info": {
      "name": "python"
    }
  },
  "cells": [
    {
      "cell_type": "markdown",
      "metadata": {
        "id": "view-in-github",
        "colab_type": "text"
      },
      "source": [
        "<a href=\"https://colab.research.google.com/github/furewing/dataAnalysis/blob/main/6%EC%9D%BC%EC%B0%A8_%ED%8C%8C%EC%9D%B4%EC%8D%AC%EA%B8%B0%EC%B4%88_%ED%95%A8%EC%88%98%EC%99%80%EB%AA%A8%EB%93%88.ipynb\" target=\"_parent\"><img src=\"https://colab.research.google.com/assets/colab-badge.svg\" alt=\"Open In Colab\"/></a>"
      ]
    },
    {
      "cell_type": "markdown",
      "source": [],
      "metadata": {
        "id": "d0jxTLGJnzpM"
      }
    },
    {
      "cell_type": "markdown",
      "source": [
        "### 난수\n",
        "- 문자열, 리스트, range와 같은 여러 개의 값들(literal)\n",
        "- 5.random.shuffle( )   # 무작위로 섞기\n",
        "- x = [1, 3, 5, 4, 2]\n",
        "- random.shuffle(x)\n",
        "- 6. random.choice( )    # 임의의 값 선택 (중복허용)\n",
        "- random.choice(x)\n",
        "- 7.random.sample( )    # 임의의 값 선택 (중복불허)\n",
        "- random.sample(range(1,46), 6) # range(1,46)값에서 무작위로 6개 추출"
      ],
      "metadata": {
        "id": "gKW6WuE7pK0s"
      }
    },
    {
      "cell_type": "code",
      "execution_count": null,
      "metadata": {
        "colab": {
          "base_uri": "https://localhost:8080/"
        },
        "id": "Z-XXU8eLntyj",
        "outputId": "fdc618d1-ab90-42fe-f696-3589b85b68a9"
      },
      "outputs": [
        {
          "output_type": "stream",
          "name": "stdout",
          "text": [
            "숫자별 개수: [[20, 12, 14, 18, 15, 20]]\n",
            "가장 많이 나온 주사위 숫자: [1, 6], 횟수: 20\n"
          ]
        }
      ],
      "source": [
        "import random\n",
        "\n",
        "dice = [0,0,0,0,0,0]\n",
        "for i in range(1,100) :\n",
        "  c = random.randint(1,6)\n",
        "  dice[c-1] += 1\n",
        "print(f'숫자별 개수: [{dice}]')\n",
        "\n",
        "maxValue = max(dice)\n",
        "# max_dice = []\n",
        "# for v in dice:\n",
        "#   if v == maxValue:\n",
        "#     max_dice.append(idx+1)\n",
        "# --> 아래의 한 문장으로\n",
        "max_dice = [idx+1 for idx, v in enumerate(dice) if v == maxValue ] #동일한 횟수가 나올때 체크\n",
        "\n",
        "#print(f'가장 많이 나온 주사위 숫자: {dice.index(max(dice))+1}, 횟수: {max(dice)}')\n",
        "print(f'가장 많이 나온 주사위 숫자: {max_dice}, 횟수: {maxValue}')\n"
      ]
    },
    {
      "cell_type": "code",
      "source": [
        "print(f'로또 번호 출력: {sorted(random.sample(range(1,46), 6))}')"
      ],
      "metadata": {
        "colab": {
          "base_uri": "https://localhost:8080/"
        },
        "id": "uOUaaq33sWgd",
        "outputId": "dcb53d46-120e-4ab2-e084-0cc1cf965512"
      },
      "execution_count": null,
      "outputs": [
        {
          "output_type": "stream",
          "name": "stdout",
          "text": [
            "로또 번호 출력: [12, 23, 27, 28, 33, 45]\n"
          ]
        }
      ]
    },
    {
      "cell_type": "markdown",
      "source": [
        "### 컴프리헨션"
      ],
      "metadata": {
        "id": "dRNrHySPvmRM"
      }
    },
    {
      "cell_type": "markdown",
      "source": [
        "## 5. 함수와 모듈"
      ],
      "metadata": {
        "id": "D5gmd-GczS97"
      }
    },
    {
      "cell_type": "markdown",
      "source": [
        "###  암스트롱 수 출력하기\n",
        "- 다음 조건을 참고하여 암스트롱수를 구하는 함수를 만들어  출력하는 프로그램을 만들어 보세요."
      ],
      "metadata": {
        "id": "O2-4O9XVzXzT"
      }
    },
    {
      "cell_type": "code",
      "source": [
        "def is_arm(N):\n",
        "  lst = []\n",
        "  lst = list(map(int,str(N)))\n",
        "  a = 0\n",
        "  for idx, x in enumerate(lst):\n",
        "    a += lst[idx]**3\n",
        "  if a == N:\n",
        "    return True\n",
        "  else:\n",
        "    return False\n",
        "\n",
        "for i in range(100,1000):\n",
        "  if is_arm(i):\n",
        "    print(f\"[{i}] is armstrong number\")\n"
      ],
      "metadata": {
        "id": "fg1gp9PuvpAE",
        "colab": {
          "base_uri": "https://localhost:8080/"
        },
        "outputId": "dfc0e675-f7ca-46db-ca77-9bc963a1d975"
      },
      "execution_count": 17,
      "outputs": [
        {
          "output_type": "stream",
          "name": "stdout",
          "text": [
            "[153] is armstrong number\n",
            "[370] is armstrong number\n",
            "[371] is armstrong number\n",
            "[407] is armstrong number\n"
          ]
        }
      ]
    },
    {
      "cell_type": "code",
      "source": [
        "def is_armstrongNumber(n):\n",
        "  _1, _2, _3 = int(str(n)[0]), int(str(n)[1]), int(str(n)[2])\n",
        "  if _1**3+_2**3+_3**3 == n:\n",
        "    return True\n",
        "  else:\n",
        "    return False\n",
        "\n",
        "for i in range(100,1000):\n",
        "  if is_armstrongNumber(i):\n",
        "    print(f\"[{i}] is armstrong number\")"
      ],
      "metadata": {
        "colab": {
          "base_uri": "https://localhost:8080/"
        },
        "id": "Yno6fyzqVH0f",
        "outputId": "ea413d97-45fa-4549-ab34-67bbaef96362"
      },
      "execution_count": 18,
      "outputs": [
        {
          "output_type": "stream",
          "name": "stdout",
          "text": [
            "[153] is armstrong number\n",
            "[370] is armstrong number\n",
            "[371] is armstrong number\n",
            "[407] is armstrong number\n"
          ]
        }
      ]
    },
    {
      "cell_type": "code",
      "source": [
        "def is_arm(N):\n",
        "  n_10 = N % 100\n",
        "  n_1 = n_10 % 10\n",
        "\n",
        "  return True if (N // 100) **3 + (n_10 // 10) **3 + n_1 ** 3 == N else False\n",
        "\n",
        "for i in range(100, 1000):\n",
        "  if is_arm(i):\n",
        "    print(f\"{i}은 암스트롱수 입니다.\")"
      ],
      "metadata": {
        "colab": {
          "base_uri": "https://localhost:8080/"
        },
        "id": "awwTCK6gZswJ",
        "outputId": "1f61c34b-78a0-4c02-f078-7fab7332bd79"
      },
      "execution_count": 19,
      "outputs": [
        {
          "output_type": "stream",
          "name": "stdout",
          "text": [
            "153은 암스트롱수 입니다.\n",
            "370은 암스트롱수 입니다.\n",
            "371은 암스트롱수 입니다.\n",
            "407은 암스트롱수 입니다.\n"
          ]
        }
      ]
    },
    {
      "cell_type": "code",
      "source": [
        "# 리스트에서 3의 배수만 문자열로 변환하는 프로그램을 lambda와 map을 이용하여 만들어 보세요. myList = [1, 2, 3, 4, 5, 6, 7, 8, 9, 10]\n",
        "myList = [1,2,3,4,5,6,7,8,9,10 ]\n",
        "\n",
        "# func = lambda num : str(num) if num%3==0 else num\n",
        "# myList = list(map(func, myList))\n",
        "myList = list(map(lambda num : str(num) if num%3==0 else num, myList))\n",
        "myList"
      ],
      "metadata": {
        "colab": {
          "base_uri": "https://localhost:8080/"
        },
        "id": "JYU142txTyXQ",
        "outputId": "c93dd2bf-2f0e-4819-8229-3b9ce68351d5"
      },
      "execution_count": 26,
      "outputs": [
        {
          "output_type": "execute_result",
          "data": {
            "text/plain": [
              "[1, 2, '3', 4, 5, '6', 7, 8, '9', 10]"
            ]
          },
          "metadata": {},
          "execution_count": 26
        }
      ]
    },
    {
      "cell_type": "code",
      "source": [
        "# 2개의 리스트에서 동일한 인덱스의 숫자를 곱한 값을 리스트로 출력하는 프로그램을 lambda와 map을 이용하여 만들어 보세요.\n",
        "#[실습문제]\n",
        "#myList1 = [1, 2, 3, 4, 5]\n",
        "#myList2 = [2, 4, 6, 8, 10]\n",
        "\n",
        "myList1 = [1, 2, 3, 4, 5]\n",
        "myList2 = [2, 4, 6, 8, 10]\n",
        "\n",
        "func2 = lambda num : num*2\n",
        "myList = list(map(func2, myList1))\n",
        "print(myList)\n",
        "\n",
        "func1 = lambda x,y: x*y\n",
        "myList = list(map(func1, myList1, myList2))\n",
        "print(myList)\n"
      ],
      "metadata": {
        "colab": {
          "base_uri": "https://localhost:8080/"
        },
        "id": "H4GvS420foYH",
        "outputId": "56e45f44-ad7f-45b5-cb8a-18f9599f802d"
      },
      "execution_count": 29,
      "outputs": [
        {
          "output_type": "stream",
          "name": "stdout",
          "text": [
            "[2, 8, 18, 32, 50]\n",
            "[2, 4, 6, 8, 10]\n"
          ]
        }
      ]
    }
  ]
}